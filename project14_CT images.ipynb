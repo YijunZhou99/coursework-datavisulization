{
 "cells": [
  {
   "cell_type": "code",
   "execution_count": 110,
   "metadata": {
    "collapsed": true
   },
   "outputs": [],
   "source": [
    "\"\"\"\n",
    "Template for week 14 project in Data Visualization\n",
    "\n",
    "Load binary CT data and plot the contours of the resulting volume\n",
    "http://graphics.cs.ucdavis.edu/~okreylos/PhDStudies/Spring2000/ECS277/DataSets.html\n",
    "\"\"\"\n",
    "\n",
    "import struct\n",
    "import numpy as np\n",
    "import plotly.graph_objects as go\n",
    "import plotly.figure_factory as ff\n",
    "import skimage"
   ]
  },
  {
   "cell_type": "code",
   "execution_count": 111,
   "metadata": {
    "collapsed": true
   },
   "outputs": [],
   "source": [
    "# Note that file names are caps-sensitive on Unix\n",
    "PLOTS_PATH = \"plots/\"\n",
    "DATA_PATH = \"data/\"\n",
    "SIMPLE = DATA_PATH + \"simple.vol\"\n",
    "C60_64 = DATA_PATH + \"C60_64.vol\"\n",
    "C60_128 = DATA_PATH + \"C60_128.vol\"\n",
    "FOOT = DATA_PATH + \"Foot.vol\"\n",
    "SKULL = DATA_PATH + \"Skull.vol\"\n",
    "\n",
    "VOLS = {}\n",
    "\n",
    "# Custom colorscale for CT volumes\n",
    "PL_BONE = [\n",
    "    [0.0, 'rgb(0, 0, 0)'],\n",
    "    [0.05, 'rgb(10, 10, 14)'],\n",
    "    [0.1, 'rgb(21, 21, 30)'],\n",
    "    [0.15, 'rgb(33, 33, 46)'],\n",
    "    [0.2, 'rgb(44, 44, 62)'],\n",
    "    [0.25, 'rgb(56, 55, 77)'],\n",
    "    [0.3, 'rgb(66, 66, 92)'],\n",
    "    [0.35, 'rgb(77, 77, 108)'],\n",
    "    [0.4, 'rgb(89, 92, 121)'],\n",
    "    [0.45, 'rgb(100, 107, 132)'],\n",
    "    [0.5, 'rgb(112, 123, 143)'],\n",
    "    [0.55, 'rgb(122, 137, 154)'],\n",
    "    [0.6, 'rgb(133, 153, 165)'],\n",
    "    [0.65, 'rgb(145, 169, 177)'],\n",
    "    [0.7, 'rgb(156, 184, 188)'],\n",
    "    [0.75, 'rgb(168, 199, 199)'],\n",
    "    [0.8, 'rgb(185, 210, 210)'],\n",
    "    [0.85, 'rgb(203, 221, 221)'],\n",
    "    [0.9, 'rgb(220, 233, 233)'],\n",
    "    [0.95, 'rgb(238, 244, 244)'],\n",
    "    [1.0, 'rgb(255, 255, 255)']\n",
    "]\n"
   ]
  },
  {
   "cell_type": "code",
   "execution_count": 112,
   "metadata": {},
   "outputs": [],
   "source": [
    "#########################################################################\n",
    "# Part 1 - Implement Volume class and make_volume()\n",
    "\n",
    "class Volume:\n",
    "    \"\"\"\n",
    "    Container for CT volume data\n",
    "    \"\"\"\n",
    "    \n",
    "    def __init__(self, grid_values, grid_extents=(1, 1, 1)):\n",
    "        \"\"\"\n",
    "        Input: 3D numpy array grid_values, optional tuple grid_extents\n",
    "        that contains extent of grid in each dimension\n",
    "        \n",
    "        Ouput: Object storing grid of scalar data\n",
    "        \"\"\"\n",
    "        self._data = grid_values\n",
    "        self._extents = grid_extents\n",
    "        \n",
    "    \n",
    "    # Implement during Part 3\n",
    "    def plot_volume_contour(self, val, title=\"Contour plot of volume\", plot_edges=True):\n",
    "        \"\"\"\n",
    "        Input: Volume object self, number val, optional string title\n",
    "        \n",
    "        Output: plotly figure corresponding to contour plot of volume using Marching Cubes\n",
    "        with specified value val.  Use grid extents to set aspect ratio.\n",
    "        Also writes HTML to PLOTS_PATH + title + \".html\".\n",
    "        \"\"\"\n",
    "        verts, faces = skimage.measure.marching_cubes_classic(self._data, level=val)\n",
    "   \n",
    "        x_v = verts[:, 0]\n",
    "        y_v = verts[:, 1]\n",
    "        z_v = verts[:, 2]\n",
    "        \n",
    "        fig = ff.create_trisurf(z_v, y_v, x_v, simplices=faces, plot_edges=plot_edges)\n",
    "        \n",
    "        fig.update_layout(width=800, height=800, title=title,\n",
    "                          scene={\"aspectratio\": {\"x\": self._extents[2] / max(self._extents), \n",
    "                                                 \"y\": self._extents[1] / max(self._extents), \n",
    "                                                 \"z\": self._extents[0] / max(self._extents)}}\n",
    "                         )\n",
    "        \n",
    "        fig.write_html(PLOTS_PATH + title + \".html\")\n",
    "    \n",
    "        return fig\n",
    "        \n",
    "    # Implement during Part 4\n",
    "    def plot_volume_slice(self, title):\n",
    "        \"\"\"\n",
    "        Input: Volume object self, optional string title\n",
    "    \n",
    "        Output: plotly figure corresponding to 3D slices of volume \n",
    "        perpendicular to z-axis. The vertical position of this slice \n",
    "        should be controlled by buttons and a slider\n",
    "        Also writes HTML to PLOTS_PATH + title + \".html\".\n",
    "        \"\"\"   \n",
    "        \n",
    "        volume = self._data\n",
    "        r_0, c_0 = volume[0].shape\n",
    "\n",
    "        # Define frames\n",
    "        \n",
    "        nb_frames = len(volume)\n",
    "\n",
    "        fig = go.Figure(frames=[go.Frame(data=go.Surface(\n",
    "            z=(((len(volume)-1)) - k * np.ones((r_0, c_0))), \n",
    "            surfacecolor=np.flipud(volume[((len(volume)-1)) - k]), \n",
    "            cmin=volume.min(), cmax=volume.max()), \n",
    "                                         name=str(k))\n",
    "                                for k in reversed((range(nb_frames)))])\n",
    "        \n",
    "\n",
    "        # Add data to be displayed before animation starts\n",
    "        fig.add_trace(go.Surface(\n",
    "            z=((len(volume)-1)) * np.ones((r_0, c_0)),\n",
    "            surfacecolor=np.flipud(volume[(len(volume)-1)]),\n",
    "            colorscale=PL_BONE, cmin=volume.min(), cmax=volume.max(), \n",
    "            colorbar=dict(thickness=20, ticklen=4)))\n",
    "\n",
    "\n",
    "        def frame_args(duration):\n",
    "            return {\"frame\": {\"duration\": duration}, \n",
    "                    \"mode\": \"immediate\", \n",
    "                    \"fromcurrent\": True, \n",
    "                    \"transition\": {\"duration\": duration, \"easing\": \"linear\"},}\n",
    "\n",
    "        sliders = [{\n",
    "            \"pad\": {\"b\": 10, \"t\": 60}, \"len\": 0.9, \"x\": 0.1, \"y\": 0, \n",
    "            \"steps\": [{\"args\": [[f.name], frame_args(0)], \"label\": str(k), \"method\": \"animate\"}\n",
    "                      for k, f in enumerate(fig.frames)\n",
    "                     ]}]\n",
    "\n",
    "        # Layout\n",
    "        fig.update_layout(\n",
    "            title=title, width=600, height=600,\n",
    "            scene=dict(zaxis=dict(range=[-0.1, nb_frames], autorange=False),\n",
    "                       aspectratio=dict(x=self._extents[2] / max(self._extents),\n",
    "                                        y=self._extents[1] / max(self._extents),\n",
    "                                        z=self._extents[0] / max(self._extents))), \n",
    "            updatemenus=[{\"buttons\": [{\"args\": [None, frame_args(50)], \n",
    "                                       \"label\": \"&#9654;\", \n",
    "                                       \"method\": \"animate\"}, \n",
    "                                      {\"args\": [[None], frame_args(0)], \n",
    "                                       \"label\": \"&#9724;\", \n",
    "                                       \"method\": \"animate\"}], \n",
    "                          \"direction\": \"left\", \n",
    "                          \"pad\": {\"r\": 10, \"t\": 70}, \n",
    "                          \"type\": \"buttons\", \"x\": 0.1, \"y\": 0,}], \n",
    "            sliders=sliders\n",
    "        )\n",
    "\n",
    "        fig.write_html(PLOTS_PATH + title + \".html\")\n",
    "    \n",
    "        return fig"
   ]
  },
  {
   "cell_type": "code",
   "execution_count": 113,
   "metadata": {
    "collapsed": true,
    "tags": [
     "notebook_only"
    ]
   },
   "outputs": [],
   "source": [
    "def test_volume():\n",
    "    \"\"\" Test the Volume class initializer \"\"\"\n",
    "    \n",
    "    Volume(np.array([[[0]]]))\n",
    "    Volume(np.array([[[1, 1], [1, 1]], [[2, 2], [2, 2]], [[3, 3], [3, 3]]]), (3, 2, 2))\n",
    "    \n",
    "test_volume()"
   ]
  },
  {
   "cell_type": "code",
   "execution_count": 114,
   "metadata": {
    "collapsed": true
   },
   "outputs": [],
   "source": [
    "def make_volume(z_coords, y_coords, x_coords, grid_fun):\n",
    "    \"\"\"\n",
    "    Input: Numpy arrays z_coords, y_coords, x_coords,\n",
    "    function grid_fun that takes 3 scalar parameters\n",
    "\n",
    "    Output: Volume object whose grid values as grid_fun(z, y, x)\n",
    "    taken at points of the grid defined by the coordinate arrays\n",
    "    \"\"\"\n",
    "    \n",
    "    y_grid, z_grid, x_grid = np.meshgrid(y_coords, z_coords, x_coords)\n",
    "    grid_val = grid_fun(z_grid, y_grid, x_grid)\n",
    "    \n",
    "    z_extent = max(z_coords) - min(z_coords)\n",
    "    y_extent = max(y_coords) - min(y_coords)\n",
    "    x_extent = max(x_coords) - min(x_coords)\n",
    "    \n",
    "    grid_extent = (z_extent, y_extent, x_extent)\n",
    "    \n",
    "\n",
    "    return Volume(grid_val, grid_extent)"
   ]
  },
  {
   "cell_type": "code",
   "execution_count": 115,
   "metadata": {
    "collapsed": true,
    "tags": [
     "notebook_only"
    ]
   },
   "outputs": [],
   "source": [
    "def test_make_volume():\n",
    "    \"\"\" Test make_volume function \"\"\"\n",
    "\n",
    "    z_values = np.linspace(-3, 3, 7)\n",
    "    y_values = np.linspace(-2, 2, 5)\n",
    "    x_values = np.linspace(-1, 1, 5)\n",
    "    grid_fun = lambda z, y, x: x + y + z\n",
    "    VOLS[\"linear\"] = make_volume(z_values, y_values, x_values, grid_fun)\n",
    "    \n",
    "    z_values = np.linspace(-3, 3, 13)\n",
    "    y_values = np.linspace(-3, 3, 13)\n",
    "    x_values = np.linspace(-3, 3, 13)\n",
    "    grid_fun = lambda z, y, x: z ** 2 + y ** 2 + x ** 2\n",
    "    VOLS[\"spherical\"] = make_volume(z_values, y_values, x_values, grid_fun)\n",
    "    \n",
    "test_make_volume()"
   ]
  },
  {
   "cell_type": "code",
   "execution_count": 116,
   "metadata": {
    "collapsed": true
   },
   "outputs": [],
   "source": [
    "############################################################################\n",
    "# Part 2 - Read binary CT data from a file and create a Volume object\n",
    "\n",
    "\n",
    "def read_volume(vol_name):\n",
    "    \"\"\"\n",
    "    Input: String vol_name \n",
    "    \n",
    "    Output: Volume object read from binary-encoded CT volume data in given file\n",
    "    \n",
    "    NOTE: Use struct module - https://docs.python.org/3/library/struct.html\n",
    "    \"\"\"\n",
    "    with open(vol_name, \"rb\") as table_file:\n",
    "        table_binary = table_file.read()\n",
    "        \n",
    "    shape_fmt = \">4i3f\"\n",
    "    table_shape = struct.unpack_from(shape_fmt, table_binary)\n",
    "#     print(\"Read shape\", table_shape)\n",
    "    \n",
    "    table_size = table_shape[0] * table_shape[1] * table_shape[2]\n",
    "    table_offset = struct.calcsize(shape_fmt)\n",
    "    table_fmt = \">\" + str(table_size) + \"B\"\n",
    "    \n",
    "    table_bytes = struct.unpack_from(table_fmt, table_binary, table_offset)\n",
    "    flat_table = np.array(table_bytes, dtype=np.uint8)\n",
    "    \n",
    "    shape = np.reshape(flat_table, table_shape[:3])\n",
    "    \n",
    "    return Volume(shape, table_shape[4:])"
   ]
  },
  {
   "cell_type": "code",
   "execution_count": 117,
   "metadata": {
    "tags": [
     "notebook_only"
    ]
   },
   "outputs": [
    {
     "name": "stdout",
     "output_type": "stream",
     "text": [
      "(2.0, 3.0, 4.0) \n",
      "\n",
      " [[[ 0  1  2  3]\n",
      "  [ 4  5  6  7]\n",
      "  [ 8  9 10 11]]\n",
      "\n",
      " [[12 13 14 15]\n",
      "  [16 17 18 19]\n",
      "  [20 21 22 23]]]\n"
     ]
    }
   ],
   "source": [
    "def test_read_volume():\n",
    "    \"\"\" Test read_volume() \"\"\"\n",
    "    \n",
    "    # Simple test case to catch transpose errors\n",
    "    simple_vol = read_volume(SIMPLE)\n",
    "    print(simple_vol._extents, \"\\n\\n\", simple_vol._data)\n",
    "    \n",
    "    VOLS[\"C60_64\"] = read_volume(C60_64)    \n",
    "    VOLS[\"FOOT\"] = read_volume(FOOT)\n",
    "    VOLS[\"SKULL\"] = read_volume(SKULL)\n",
    "    \n",
    "test_read_volume()"
   ]
  },
  {
   "cell_type": "markdown",
   "metadata": {},
   "source": [
    "Correct output\n",
    "~~~~\n",
    "(2.0, 3.0, 4.0) \n",
    "\n",
    " [[[ 0  1  2  3]\n",
    "  [ 4  5  6  7]\n",
    "  [ 8  9 10 11]]\n",
    "\n",
    " [[12 13 14 15]\n",
    "  [16 17 18 19]\n",
    "  [20 21 22 23]]]\n",
    "~~~~"
   ]
  },
  {
   "cell_type": "code",
   "execution_count": 118,
   "metadata": {
    "tags": [
     "notebook_only"
    ]
   },
   "outputs": [],
   "source": [
    "################################################################################\n",
    "# Part 3 - Add contour_volume method to the Volume class\n",
    "\n",
    "def test_plot_volume_contour():\n",
    "    \"\"\" Test plot_volume_contour() \"\"\"\n",
    "    \n",
    "    VOLS[\"linear\"].plot_volume_contour(0, \"Contour plot of linear function\")    \n",
    "    VOLS[\"spherical\"].plot_volume_contour(4, \"Contour plot of spherical function\", plot_edges=False)\n",
    "    \n",
    "    VOLS[\"C60_64\"].plot_volume_contour(127, \"Contour plot of C60\")\n",
    "    VOLS[\"FOOT\"].plot_volume_contour(127, \"Contour plot of human foot\")\n",
    "    VOLS[\"SKULL\"].plot_volume_contour(127, \"Contour plot of human skull\")\n",
    "    \n",
    "test_plot_volume_contour()"
   ]
  },
  {
   "cell_type": "markdown",
   "metadata": {},
   "source": [
    "## Links to the 5 triangular meshes produced by `test_plot_volume_contour()`\n",
    "\n",
    "* [Contour plot of linear function](plots/Contour%20plot%20of%20linear%20function.html)\n",
    "* [Contour plot of spherical function](plots/Contour%20plot%20of%20spherical%20function.html)\n",
    "* [Contour plot of C60](plots/Contour%20plot%20of%20C60.html)\n",
    "* [Contour plot of human foot](plots/Contour%20plot%20of%20human%20foot.html)\n",
    "* [Contour plot of human skull](plots/Contour%20plot%20of%20human%20skull.html)"
   ]
  },
  {
   "cell_type": "code",
   "execution_count": 119,
   "metadata": {
    "tags": [
     "notebook_only"
    ]
   },
   "outputs": [],
   "source": [
    "################################################################################\n",
    "# Part 4 - Add plot_volume_slice method to the Volume class\n",
    "\n",
    "def test_plot_volume_slice():\n",
    "    \"\"\" Test plot_volume_slice() \"\"\"\n",
    "    \n",
    "    VOLS[\"linear\"].plot_volume_slice(\"Horizontal slices of linear function\")    \n",
    "    VOLS[\"spherical\"].plot_volume_slice(\"Horizontal slices of spherical function\")\n",
    "    \n",
    "    VOLS[\"C60_64\"].plot_volume_slice(\"Horizontal slices of C60\")\n",
    "    VOLS[\"FOOT\"].plot_volume_slice(\"Horizontal slices of human foot\")\n",
    "    VOLS[\"SKULL\"].plot_volume_slice(\"Horizontal slices of human skull\")\n",
    "    \n",
    "test_plot_volume_slice()"
   ]
  },
  {
   "cell_type": "markdown",
   "metadata": {},
   "source": [
    "### Links to the horizontal slicing of the 5 volumes produced by `test_plot_volume_slice()`\n",
    "* [Horizontal slices of linear function](plots/Horizontal%20slices%20of%20linear%20function.html)\n",
    "* [Horizontal slices of spherical function](plots/Horizontal%20slices%20of%20spherical%20function.html)\n",
    "* [Horizontal slices of C60_64](plots/Horizontal%20slices%20of%20C60.html)\n",
    "* [Horizontal slices of human foot](plots/Horizontal%20slices%20of%20human%20foot.html)\n",
    "* [Horizontal slices of human skull](plots/Horizontal%20slices%20of%20human%20skull.html)"
   ]
  }
 ],
 "metadata": {
  "celltoolbar": "Tags",
  "kernelspec": {
   "display_name": "Python 3 [3.6]",
   "language": "python",
   "name": "python3"
  },
  "language_info": {
   "codemirror_mode": {
    "name": "ipython",
    "version": 3
   },
   "file_extension": ".py",
   "mimetype": "text/x-python",
   "name": "python",
   "nbconvert_exporter": "python",
   "pygments_lexer": "ipython3",
   "version": "3.6.4"
  }
 },
 "nbformat": 4,
 "nbformat_minor": 2
}
