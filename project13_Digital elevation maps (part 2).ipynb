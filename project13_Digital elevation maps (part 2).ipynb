{
 "cells": [
  {
   "cell_type": "code",
   "execution_count": 3,
   "metadata": {
    "collapsed": true
   },
   "outputs": [],
   "source": [
    "\"\"\"\n",
    "Template for week 13 project in Data Visualization\n",
    "\n",
    "Plot various triangulated surfaces of digital elavation model data for Grand Canyon\n",
    "https://pubs.usgs.gov/ds/121/grand/grand.html\n",
    "\"\"\"\n",
    "\n",
    "import numpy as np\n",
    "import matplotlib.pyplot as plt\n",
    "import plotly.graph_objects as go\n",
    "import plotly.figure_factory as ff\n"
   ]
  },
  {
   "cell_type": "code",
   "execution_count": 4,
   "metadata": {
    "collapsed": true
   },
   "outputs": [],
   "source": [
    "# Resource paths\n",
    "PLOTS_PATH = \"plots/\"\n",
    "DATA_PATH = \"data/\"\n",
    "GC_DEM = DATA_PATH + \"gc_dem.tiff\"\n",
    "\n",
    "DEMS = {}\n",
    "\n",
    "# Sub-region of interest defined as numpy slice objects\n",
    "REGION = np.s_[1500:1800, 1300:1600]\n",
    "\n",
    "# Custom colorscale/colormap for elevations\n",
    "ELEV = (\"rgb(5,10,172)\",\n",
    "        \"rgb(34,46,193)\",\n",
    "        \"rgb(63,83,215)\",\n",
    "        \"rgb(92,119,236)\",\n",
    "        \"rgb(134,155,228)\",\n",
    "        \"rgb(190,190,190)\",\n",
    "        \"rgb(220,170,132)\", \n",
    "        \"rgb(230,145,90)\",\n",
    "        \"rgb(213,100,69)\",\n",
    "        \"rgb(195,55,49)\",\n",
    "        \"rgb(178,10,28)\")\n"
   ]
  },
  {
   "cell_type": "code",
   "execution_count": 5,
   "metadata": {
    "collapsed": true
   },
   "outputs": [],
   "source": [
    "###############################################################################\n",
    "# Provided code from Project 12\n",
    "\n",
    "def load_dem(dem_file):\n",
    "    \"\"\"\n",
    "    Input: String dem_file\n",
    "    \n",
    "    Output: Numpy array of integer heights\n",
    "    \n",
    "    NOTE: The loaded height are in decimeters. Divide by 10 to\n",
    "    return integer heights in meters\n",
    "    \"\"\"\n",
    "    gc_image = plt.imread(dem_file)\n",
    "    dem_array = np.array(gc_image) // 10\n",
    "\n",
    "    return dem_array"
   ]
  },
  {
   "cell_type": "code",
   "execution_count": 6,
   "metadata": {
    "collapsed": true
   },
   "outputs": [],
   "source": [
    "def compute_features(dem_array):\n",
    "    \"\"\"\n",
    "    Input: Numpy array dem_array\n",
    "    \n",
    "    Output: Numpy array with boundary rows and columns trimmed\n",
    "    \"\"\"    \n",
    "    float_dem = dem_array.astype(float)\n",
    "    \n",
    "    # Use numpy-friendly operations for speed\n",
    "    horiz_error = float_dem[1 : -1, : -2] - 2 * float_dem[1 : -1, 1 : -1] + float_dem[1 : -1, 2 :]\n",
    "    vert_error = float_dem[: -2, 1 : -1] - 2 * float_dem[1 : -1, 1 : -1] + float_dem[2 :, 1 : -1]\n",
    "    \n",
    "    feature_array = np.abs(horiz_error) + np.abs(vert_error)\n",
    "    return feature_array"
   ]
  },
  {
   "cell_type": "code",
   "execution_count": 7,
   "metadata": {
    "collapsed": true
   },
   "outputs": [],
   "source": [
    "def create_dems():\n",
    "    \"\"\" Create some example dems for testing/plotting \"\"\"\n",
    "    \n",
    "    # Small examples\n",
    "    DEMS[\"2x2\"] = np.array([[1, 2], [3, 4]])\n",
    "    DEMS[\"3x5\"] = np.array([[1, 2, 3], [2, 3, 4], [3, 4, 5], [4, 5, 6], [5, 6, 7]])\n",
    "    \n",
    "    # Medium examples\n",
    "    x_grid, y_grid = np.meshgrid(np.linspace(-1, 1, 9), np.linspace(-1, 1, 9))\n",
    "    ridge1 = np.minimum(x_grid - y_grid, -x_grid + y_grid)\n",
    "    ridge2 = np.minimum(x_grid + y_grid, -x_grid - y_grid)\n",
    "    DEMS[\"ridge\"] = np.maximum(ridge1, ridge2)\n",
    "    \n",
    "    x_grid, y_grid = np.meshgrid(np.linspace(-1, 1, 21), np.linspace(-2, 2, 41))\n",
    "    DEMS[\"error\"] = x_grid ** 2 - y_grid ** 2\n",
    "    \n",
    "    # Flip up/down due to difference in coordinate systems between image and 3D plots\n",
    "    gc_dem = load_dem(GC_DEM)\n",
    "    DEMS[\"region\"] = np.flipud(gc_dem[REGION])\n",
    "\n",
    "create_dems()"
   ]
  },
  {
   "cell_type": "code",
   "execution_count": 8,
   "metadata": {
    "collapsed": true
   },
   "outputs": [],
   "source": [
    "####################################################################\n",
    "# Part 1 - Generate topology of quad mesh for given grid shape\n",
    "\n",
    "def make_quads(grid_shape):\n",
    "    \"\"\"\n",
    "    Input: Tuple grid_shape consisting size of y and x dimensions of grid respectively\n",
    "    \n",
    "    Output: Tuple consisting of 2D array of 2D vertex positions\n",
    "    and list of quads represented as tuples of vertex indices\n",
    "    \n",
    "    NOTE: The ordering of the returned vertex indices must be consistent \n",
    "    with the order returned by the ravel() method\n",
    "    \"\"\"    \n",
    "    position = []\n",
    "    quad = []\n",
    "    \n",
    "    # get the position x,y\n",
    "    for idx_j in range(grid_shape[0]):\n",
    "        for idx_i in range(grid_shape[1]):\n",
    "            position.append([idx_i, idx_j])\n",
    "    \n",
    "    #initialized the grid\n",
    "    grid = np.arange(grid_shape[0] * grid_shape[1]).reshape(grid_shape)\n",
    "\n",
    "    # get the quad using indexing \n",
    "    quad1 = grid[:-1, :-1]\n",
    "    quad2 = grid[:-1, 1::]\n",
    "    quad3 = grid[1::, 1::]\n",
    "    quad4 = grid[1::, :-1]\n",
    "    \n",
    "    #get the number for each quad\n",
    "    for idx_i in range(quad1.shape[0]):\n",
    "        for idx_j in range(quad1.shape[1]):\n",
    "            quad.append((quad1[idx_i][idx_j], quad2[idx_i][idx_j], \n",
    "                         quad3[idx_i][idx_j], quad4[idx_i][idx_j]))\n",
    "    \n",
    "    return (np.array(position), np.array(quad))"
   ]
  },
  {
   "cell_type": "code",
   "execution_count": 9,
   "metadata": {
    "tags": [
     "notebook_only"
    ]
   },
   "outputs": [
    {
     "name": "stdout",
     "output_type": "stream",
     "text": [
      "(array([[0, 0]]), array([], dtype=float64))\n",
      "(array([[0, 0],\n",
      "       [1, 0],\n",
      "       [0, 1],\n",
      "       [1, 1]]), array([[0, 1, 3, 2]]))\n",
      "(array([[0, 0],\n",
      "       [1, 0],\n",
      "       [2, 0],\n",
      "       [0, 1],\n",
      "       [1, 1],\n",
      "       [2, 1]]), array([[0, 1, 4, 3],\n",
      "       [1, 2, 5, 4]]))\n",
      "(array([[0, 0],\n",
      "       [1, 0],\n",
      "       [0, 1],\n",
      "       [1, 1],\n",
      "       [0, 2],\n",
      "       [1, 2]]), array([[0, 1, 3, 2],\n",
      "       [2, 3, 5, 4]]))\n"
     ]
    }
   ],
   "source": [
    "def test_make_quads():\n",
    "    \"\"\" Test make_quads \"\"\"\n",
    "    \n",
    "    print(make_quads((1, 1)))\n",
    "    print(make_quads((2, 2)))\n",
    "    print(make_quads((2, 3)))\n",
    "    print(make_quads((3, 2)))\n",
    "\n",
    "test_make_quads()"
   ]
  },
  {
   "cell_type": "markdown",
   "metadata": {},
   "source": [
    "Correct output\n",
    "~~~~\n",
    "(array([[0, 0]]), [])\n",
    "(array([[0, 0],\n",
    "       [1, 0],\n",
    "       [0, 1],\n",
    "       [1, 1]]), [(0, 1, 3, 2)])\n",
    "(array([[0, 0],\n",
    "       [1, 0],\n",
    "       [2, 0],\n",
    "       [0, 1],\n",
    "       [1, 1],\n",
    "       [2, 1]]), [(0, 1, 4, 3), (1, 2, 5, 4)])\n",
    "(array([[0, 0],\n",
    "       [1, 0],\n",
    "       [0, 1],\n",
    "       [1, 1],\n",
    "       [0, 2],\n",
    "       [1, 2]]), [(0, 1, 3, 2), (2, 3, 5, 4)])\n",
    "~~~~"
   ]
  },
  {
   "cell_type": "code",
   "execution_count": 60,
   "metadata": {
    "collapsed": true
   },
   "outputs": [],
   "source": [
    "##################################################################\n",
    "# Part 2 - Generate triangulations of elevation maps\n",
    "\n",
    "def make_trimesh_fixed(z_grid, diagonal=\"ul_lr\"):\n",
    "    \"\"\"\n",
    "    Input: 2D numpy array z_grid of elevation values, optional string diagonal\n",
    "    that specifies direction of quad diagonal - \"ul_lr\" or \"ll_ur\"\n",
    "    \n",
    "    Output: Tuple consisting of 2D numpy array of 3D vertex positions\n",
    "    and a list of triangles represented as tuples of vertex indices\n",
    "    \"\"\"\n",
    "    \n",
    "    positions, quads = make_quads(z_grid.shape)\n",
    "    \n",
    "    tri = []\n",
    "    verts = []\n",
    "    \n",
    "    idx = 0 \n",
    "    for idx_i in range(z_grid.shape[0]):\n",
    "        for idx_j in range(z_grid.shape[1]):\n",
    "            verts.append([positions[idx][0], positions[idx][1], z_grid[idx_i][idx_j]])\n",
    "            idx += 1\n",
    "            \n",
    "    if diagonal == \"ul_lr\":\n",
    "        for quad in quads:\n",
    "            tri.append((quad[0], quad[1], quad[2]))\n",
    "            tri.append((quad[2], quad[3], quad[0]))\n",
    "    else:\n",
    "        for quad in quads:\n",
    "            tri.append((quad[3], quad[0], quad[1]))\n",
    "            tri.append((quad[1], quad[2], quad[3]))\n",
    "    \n",
    "    return (np.array(verts), np.array(tri))"
   ]
  },
  {
   "cell_type": "code",
   "execution_count": 11,
   "metadata": {
    "tags": [
     "notebook_only"
    ]
   },
   "outputs": [
    {
     "name": "stdout",
     "output_type": "stream",
     "text": [
      "(array([[0, 0, 1],\n",
      "       [1, 0, 2],\n",
      "       [0, 1, 3],\n",
      "       [1, 1, 4]]), array([[0, 1, 3],\n",
      "       [3, 2, 0]]))\n",
      "(array([[0, 0, 1],\n",
      "       [1, 0, 2],\n",
      "       [0, 1, 3],\n",
      "       [1, 1, 4]]), array([[2, 0, 1],\n",
      "       [1, 3, 2]]))\n",
      "(array([[0, 0, 1],\n",
      "       [1, 0, 2],\n",
      "       [2, 0, 3],\n",
      "       [0, 1, 2],\n",
      "       [1, 1, 3],\n",
      "       [2, 1, 4],\n",
      "       [0, 2, 3],\n",
      "       [1, 2, 4],\n",
      "       [2, 2, 5],\n",
      "       [0, 3, 4],\n",
      "       [1, 3, 5],\n",
      "       [2, 3, 6],\n",
      "       [0, 4, 5],\n",
      "       [1, 4, 6],\n",
      "       [2, 4, 7]]), array([[ 0,  1,  4],\n",
      "       [ 4,  3,  0],\n",
      "       [ 1,  2,  5],\n",
      "       [ 5,  4,  1],\n",
      "       [ 3,  4,  7],\n",
      "       [ 7,  6,  3],\n",
      "       [ 4,  5,  8],\n",
      "       [ 8,  7,  4],\n",
      "       [ 6,  7, 10],\n",
      "       [10,  9,  6],\n",
      "       [ 7,  8, 11],\n",
      "       [11, 10,  7],\n",
      "       [ 9, 10, 13],\n",
      "       [13, 12,  9],\n",
      "       [10, 11, 14],\n",
      "       [14, 13, 10]]))\n",
      "(array([[0, 0, 1],\n",
      "       [1, 0, 2],\n",
      "       [2, 0, 3],\n",
      "       [0, 1, 2],\n",
      "       [1, 1, 3],\n",
      "       [2, 1, 4],\n",
      "       [0, 2, 3],\n",
      "       [1, 2, 4],\n",
      "       [2, 2, 5],\n",
      "       [0, 3, 4],\n",
      "       [1, 3, 5],\n",
      "       [2, 3, 6],\n",
      "       [0, 4, 5],\n",
      "       [1, 4, 6],\n",
      "       [2, 4, 7]]), array([[ 3,  0,  1],\n",
      "       [ 1,  4,  3],\n",
      "       [ 4,  1,  2],\n",
      "       [ 2,  5,  4],\n",
      "       [ 6,  3,  4],\n",
      "       [ 4,  7,  6],\n",
      "       [ 7,  4,  5],\n",
      "       [ 5,  8,  7],\n",
      "       [ 9,  6,  7],\n",
      "       [ 7, 10,  9],\n",
      "       [10,  7,  8],\n",
      "       [ 8, 11, 10],\n",
      "       [12,  9, 10],\n",
      "       [10, 13, 12],\n",
      "       [13, 10, 11],\n",
      "       [11, 14, 13]]))\n"
     ]
    }
   ],
   "source": [
    "def test_make_trimesh_fixed():\n",
    "    \"\"\" Test make_trimesh_fixed() \"\"\"\n",
    "    \n",
    "    print(make_trimesh_fixed(DEMS[\"2x2\"]))\n",
    "    print(make_trimesh_fixed(DEMS[\"2x2\"], diagonal=\"ll_ur\"))\n",
    "    print(make_trimesh_fixed(DEMS[\"3x5\"], diagonal=\"ul_lr\"))\n",
    "    print(make_trimesh_fixed(DEMS[\"3x5\"], diagonal=\"ll_ur\"))\n",
    "\n",
    "    make_trimesh_fixed(DEMS[\"ridge\"])\n",
    "    make_trimesh_fixed(DEMS[\"ridge\"], diagonal=\"ll_ur\")\n",
    "    make_trimesh_fixed(DEMS[\"error\"])      \n",
    "    make_trimesh_fixed(DEMS[\"region\"])\n",
    "    \n",
    "\n",
    "test_make_trimesh_fixed()"
   ]
  },
  {
   "cell_type": "markdown",
   "metadata": {},
   "source": [
    "Correct output\n",
    "~~~~\n",
    "(array([[0, 0, 1],\n",
    "       [1, 0, 2],\n",
    "       [0, 1, 3],\n",
    "       [1, 1, 4]]), [(0, 1, 3), (3, 2, 0)])\n",
    "(array([[0, 0, 1],\n",
    "       [1, 0, 2],\n",
    "       [0, 1, 3],\n",
    "       [1, 1, 4]]), [(2, 0, 1), (1, 3, 2)])\n",
    "(array([[0, 0, 1],\n",
    "       [1, 0, 2],\n",
    "       [2, 0, 3],\n",
    "       [0, 1, 2],\n",
    "       [1, 1, 3],\n",
    "       [2, 1, 4],\n",
    "       [0, 2, 3],\n",
    "       [1, 2, 4],\n",
    "       [2, 2, 5],\n",
    "       [0, 3, 4],\n",
    "       [1, 3, 5],\n",
    "       [2, 3, 6],\n",
    "       [0, 4, 5],\n",
    "       [1, 4, 6],\n",
    "       [2, 4, 7]]), [(0, 1, 4), (4, 3, 0), (1, 2, 5), (5, 4, 1), (3, 4, 7), (7, 6, 3), (4, 5, 8), (8, 7, 4), (6, 7, 10), (10, 9, 6), (7, 8, 11), (11, 10, 7), (9, 10, 13), (13, 12, 9), (10, 11, 14), (14, 13, 10)])\n",
    "(array([[0, 0, 1],\n",
    "       [1, 0, 2],\n",
    "       [2, 0, 3],\n",
    "       [0, 1, 2],\n",
    "       [1, 1, 3],\n",
    "       [2, 1, 4],\n",
    "       [0, 2, 3],\n",
    "       [1, 2, 4],\n",
    "       [2, 2, 5],\n",
    "       [0, 3, 4],\n",
    "       [1, 3, 5],\n",
    "       [2, 3, 6],\n",
    "       [0, 4, 5],\n",
    "       [1, 4, 6],\n",
    "       [2, 4, 7]]), [(3, 0, 1), (1, 4, 3), (4, 1, 2), (2, 5, 4), (6, 3, 4), (4, 7, 6), (7, 4, 5), (5, 8, 7), (9, 6, 7), (7, 10, 9), (10, 7, 8), (8, 11, 10), (12, 9, 10), (10, 13, 12), (13, 10, 11), (11, 14, 13)])\n",
    "~~~~"
   ]
  },
  {
   "cell_type": "code",
   "execution_count": 53,
   "metadata": {},
   "outputs": [],
   "source": [
    "def make_trimesh_feature(z_grid):\n",
    "    \"\"\"\n",
    "    Input: 2D numpy array z_grid of elevation values\n",
    "    \n",
    "    Output: Tuple consisting of 2D numpy array of 3D vertex positions\n",
    "    and a list of triangles represented as tuples of vertex indices \n",
    "    for raveled TRIMMED grid\n",
    "    \"\"\"\n",
    "    tri = []\n",
    "    verts = []\n",
    "    \n",
    "    trimmed_grid = z_grid[1:-1, 1:-1]\n",
    "    \n",
    "    positions, quads = make_quads(trimmed_grid.shape)\n",
    "    \n",
    "    # verts \n",
    "    idx = 0 \n",
    "    for idx_i in range(trimmed_grid.shape[0]):\n",
    "        for idx_j in range(trimmed_grid.shape[1]):\n",
    "            verts.append([positions[idx][0], positions[idx][1], trimmed_grid[idx_i][idx_j]])\n",
    "            idx += 1\n",
    "    \n",
    "    #triangles\n",
    "    computed_grid = compute_features(z_grid)\n",
    "    grid_shape = trimmed_grid.shape\n",
    "\n",
    "    idx = 0\n",
    "    for idx_i in range(grid_shape[0] - 1):\n",
    "        for idx_j in range(grid_shape[1] - 1):\n",
    "            diagonal_1 = computed_grid[idx_i][idx_j] + computed_grid[idx_i + 1][idx_j + 1]\n",
    "            diagonal_2 = computed_grid[idx_i][idx_j + 1] + computed_grid[idx_i + 1][idx_j]\n",
    "\n",
    "            if diagonal_1 > diagonal_2:\n",
    "                tri.append((quads[idx][0], quads[idx][1], quads[idx][2]))\n",
    "                tri.append((quads[idx][2], quads[idx][3], quads[idx][0]))\n",
    "            else:\n",
    "                tri.append((quads[idx][3], quads[idx][0], quads[idx][1]))\n",
    "                tri.append((quads[idx][1], quads[idx][2], quads[idx][3]))\n",
    "            idx += 1\n",
    "   \n",
    "    return (np.array(verts), np.array(tri))"
   ]
  },
  {
   "cell_type": "code",
   "execution_count": 11,
   "metadata": {
    "collapsed": true,
    "tags": [
     "notebook_only"
    ]
   },
   "outputs": [],
   "source": [
    "def test_make_trimesh_feature():\n",
    "    \"\"\" Test make_trimesh_feature() \"\"\"\n",
    "\n",
    "    make_trimesh_feature(DEMS[\"ridge\"])\n",
    "    make_trimesh_feature(DEMS[\"error\"])  \n",
    "    make_trimesh_feature(DEMS[\"region\"])\n",
    "    \n",
    "test_make_trimesh_feature()"
   ]
  },
  {
   "cell_type": "code",
   "execution_count": 90,
   "metadata": {},
   "outputs": [],
   "source": [
    "##################################################################################\n",
    "# Part 3 - Plot triangular meshes computed from elevation maps\n",
    "\n",
    "\n",
    "def plot_mesh3d(verts, tris, title=\"3D plot of a triangular mesh\", camera=None):\n",
    "    \"\"\"\n",
    "    Input: 2D numpy array verts of 3D vertex positions, list tris of tuples of vertex indices,\n",
    "    optional string title, optional dictionary camera\n",
    "    \n",
    "    Output: plotly figure corresponing to a triangular mesh created via Mesh3D() \n",
    "    using the colorscale ELEV and the specified camera position. \n",
    "    The aspectio of the 3D plots should be similar that use in plot_elevation().\n",
    "    \"\"\"\n",
    "    np_tris = np.array(tris)\n",
    "    \n",
    "    x_axis = len(verts[:, 0])\n",
    "    y_axis = len(verts[:, 1])\n",
    "    \n",
    "    #compare x and y \n",
    "    min_axis = min(x_axis, y_axis)\n",
    "    x_ratio = x_axis / min_axis\n",
    "    y_ratio = y_axis / min_axis\n",
    "    \n",
    "    data = [go.Mesh3d(x=verts[:, 0], y=verts[:, 1], z=verts[:, 2],\n",
    "                      i=np_tris[:, 0], j=np_tris[:, 1], k=np_tris[:, 2],\n",
    "                      intensity=verts[:, 2], colorscale=ELEV)]\n",
    "    \n",
    "    fig = go.Figure(data=data)\n",
    "    fig.update_layout(width=800, height=800, title=title,\n",
    "                      scene={\"aspectratio\": {\"x\": x_ratio, \"y\": y_ratio, \"z\": 0.1}},\n",
    "                      scene_camera=camera)\n",
    "                     \n",
    "    return fig"
   ]
  },
  {
   "cell_type": "code",
   "execution_count": 91,
   "metadata": {
    "scrolled": true,
    "tags": [
     "notebook_only"
    ]
   },
   "outputs": [
    {
     "data": {
      "application/vnd.plotly.v1+json": {
       "config": {
        "plotlyServerURL": "https://plot.ly"
       },
       "data": [
        {
         "colorscale": [
          [
           0,
           "rgb(5,10,172)"
          ],
          [
           0.1,
           "rgb(34,46,193)"
          ],
          [
           0.2,
           "rgb(63,83,215)"
          ],
          [
           0.3,
           "rgb(92,119,236)"
          ],
          [
           0.4,
           "rgb(134,155,228)"
          ],
          [
           0.5,
           "rgb(190,190,190)"
          ],
          [
           0.6,
           "rgb(220,170,132)"
          ],
          [
           0.7,
           "rgb(230,145,90)"
          ],
          [
           0.8,
           "rgb(213,100,69)"
          ],
          [
           0.9,
           "rgb(195,55,49)"
          ],
          [
           1,
           "rgb(178,10,28)"
          ]
         ],
         "i": [
          0,
          10,
          1,
          11,
          2,
          12,
          3,
          13,
          4,
          14,
          5,
          15,
          6,
          16,
          7,
          17,
          9,
          19,
          10,
          20,
          11,
          21,
          12,
          22,
          13,
          23,
          14,
          24,
          15,
          25,
          16,
          26,
          18,
          28,
          19,
          29,
          20,
          30,
          21,
          31,
          22,
          32,
          23,
          33,
          24,
          34,
          25,
          35,
          27,
          37,
          28,
          38,
          29,
          39,
          30,
          40,
          31,
          41,
          32,
          42,
          33,
          43,
          34,
          44,
          36,
          46,
          37,
          47,
          38,
          48,
          39,
          49,
          40,
          50,
          41,
          51,
          42,
          52,
          43,
          53,
          45,
          55,
          46,
          56,
          47,
          57,
          48,
          58,
          49,
          59,
          50,
          60,
          51,
          61,
          52,
          62,
          54,
          64,
          55,
          65,
          56,
          66,
          57,
          67,
          58,
          68,
          59,
          69,
          60,
          70,
          61,
          71,
          63,
          73,
          64,
          74,
          65,
          75,
          66,
          76,
          67,
          77,
          68,
          78,
          69,
          79,
          70,
          80
         ],
         "intensity": [
          0,
          -0.25,
          -0.5,
          -0.75,
          -1,
          -0.75,
          -0.5,
          -0.25,
          0,
          -0.25,
          0,
          -0.25,
          -0.5,
          -0.75,
          -0.5,
          -0.25,
          0,
          -0.25,
          -0.5,
          -0.25,
          0,
          -0.25,
          -0.5,
          -0.25,
          0,
          -0.25,
          -0.5,
          -0.75,
          -0.5,
          -0.25,
          0,
          -0.25,
          0,
          -0.25,
          -0.5,
          -0.75,
          -1,
          -0.75,
          -0.5,
          -0.25,
          0,
          -0.25,
          -0.5,
          -0.75,
          -1,
          -0.75,
          -0.5,
          -0.25,
          0,
          -0.25,
          0,
          -0.25,
          -0.5,
          -0.75,
          -0.5,
          -0.25,
          0,
          -0.25,
          -0.5,
          -0.25,
          0,
          -0.25,
          -0.5,
          -0.25,
          0,
          -0.25,
          -0.5,
          -0.75,
          -0.5,
          -0.25,
          0,
          -0.25,
          0,
          -0.25,
          -0.5,
          -0.75,
          -1,
          -0.75,
          -0.5,
          -0.25,
          0
         ],
         "j": [
          1,
          9,
          2,
          10,
          3,
          11,
          4,
          12,
          5,
          13,
          6,
          14,
          7,
          15,
          8,
          16,
          10,
          18,
          11,
          19,
          12,
          20,
          13,
          21,
          14,
          22,
          15,
          23,
          16,
          24,
          17,
          25,
          19,
          27,
          20,
          28,
          21,
          29,
          22,
          30,
          23,
          31,
          24,
          32,
          25,
          33,
          26,
          34,
          28,
          36,
          29,
          37,
          30,
          38,
          31,
          39,
          32,
          40,
          33,
          41,
          34,
          42,
          35,
          43,
          37,
          45,
          38,
          46,
          39,
          47,
          40,
          48,
          41,
          49,
          42,
          50,
          43,
          51,
          44,
          52,
          46,
          54,
          47,
          55,
          48,
          56,
          49,
          57,
          50,
          58,
          51,
          59,
          52,
          60,
          53,
          61,
          55,
          63,
          56,
          64,
          57,
          65,
          58,
          66,
          59,
          67,
          60,
          68,
          61,
          69,
          62,
          70,
          64,
          72,
          65,
          73,
          66,
          74,
          67,
          75,
          68,
          76,
          69,
          77,
          70,
          78,
          71,
          79
         ],
         "k": [
          10,
          0,
          11,
          1,
          12,
          2,
          13,
          3,
          14,
          4,
          15,
          5,
          16,
          6,
          17,
          7,
          19,
          9,
          20,
          10,
          21,
          11,
          22,
          12,
          23,
          13,
          24,
          14,
          25,
          15,
          26,
          16,
          28,
          18,
          29,
          19,
          30,
          20,
          31,
          21,
          32,
          22,
          33,
          23,
          34,
          24,
          35,
          25,
          37,
          27,
          38,
          28,
          39,
          29,
          40,
          30,
          41,
          31,
          42,
          32,
          43,
          33,
          44,
          34,
          46,
          36,
          47,
          37,
          48,
          38,
          49,
          39,
          50,
          40,
          51,
          41,
          52,
          42,
          53,
          43,
          55,
          45,
          56,
          46,
          57,
          47,
          58,
          48,
          59,
          49,
          60,
          50,
          61,
          51,
          62,
          52,
          64,
          54,
          65,
          55,
          66,
          56,
          67,
          57,
          68,
          58,
          69,
          59,
          70,
          60,
          71,
          61,
          73,
          63,
          74,
          64,
          75,
          65,
          76,
          66,
          77,
          67,
          78,
          68,
          79,
          69,
          80,
          70
         ],
         "type": "mesh3d",
         "x": [
          0,
          1,
          2,
          3,
          4,
          5,
          6,
          7,
          8,
          0,
          1,
          2,
          3,
          4,
          5,
          6,
          7,
          8,
          0,
          1,
          2,
          3,
          4,
          5,
          6,
          7,
          8,
          0,
          1,
          2,
          3,
          4,
          5,
          6,
          7,
          8,
          0,
          1,
          2,
          3,
          4,
          5,
          6,
          7,
          8,
          0,
          1,
          2,
          3,
          4,
          5,
          6,
          7,
          8,
          0,
          1,
          2,
          3,
          4,
          5,
          6,
          7,
          8,
          0,
          1,
          2,
          3,
          4,
          5,
          6,
          7,
          8,
          0,
          1,
          2,
          3,
          4,
          5,
          6,
          7,
          8
         ],
         "y": [
          0,
          0,
          0,
          0,
          0,
          0,
          0,
          0,
          0,
          1,
          1,
          1,
          1,
          1,
          1,
          1,
          1,
          1,
          2,
          2,
          2,
          2,
          2,
          2,
          2,
          2,
          2,
          3,
          3,
          3,
          3,
          3,
          3,
          3,
          3,
          3,
          4,
          4,
          4,
          4,
          4,
          4,
          4,
          4,
          4,
          5,
          5,
          5,
          5,
          5,
          5,
          5,
          5,
          5,
          6,
          6,
          6,
          6,
          6,
          6,
          6,
          6,
          6,
          7,
          7,
          7,
          7,
          7,
          7,
          7,
          7,
          7,
          8,
          8,
          8,
          8,
          8,
          8,
          8,
          8,
          8
         ],
         "z": [
          0,
          -0.25,
          -0.5,
          -0.75,
          -1,
          -0.75,
          -0.5,
          -0.25,
          0,
          -0.25,
          0,
          -0.25,
          -0.5,
          -0.75,
          -0.5,
          -0.25,
          0,
          -0.25,
          -0.5,
          -0.25,
          0,
          -0.25,
          -0.5,
          -0.25,
          0,
          -0.25,
          -0.5,
          -0.75,
          -0.5,
          -0.25,
          0,
          -0.25,
          0,
          -0.25,
          -0.5,
          -0.75,
          -1,
          -0.75,
          -0.5,
          -0.25,
          0,
          -0.25,
          -0.5,
          -0.75,
          -1,
          -0.75,
          -0.5,
          -0.25,
          0,
          -0.25,
          0,
          -0.25,
          -0.5,
          -0.75,
          -0.5,
          -0.25,
          0,
          -0.25,
          -0.5,
          -0.25,
          0,
          -0.25,
          -0.5,
          -0.25,
          0,
          -0.25,
          -0.5,
          -0.75,
          -0.5,
          -0.25,
          0,
          -0.25,
          0,
          -0.25,
          -0.5,
          -0.75,
          -1,
          -0.75,
          -0.5,
          -0.25,
          0
         ]
        }
       ],
       "layout": {
        "height": 800,
        "scene": {
         "aspectratio": {
          "x": 1,
          "y": 1,
          "z": 0.1
         },
         "camera": {}
        },
        "template": {
         "data": {
          "bar": [
           {
            "error_x": {
             "color": "#2a3f5f"
            },
            "error_y": {
             "color": "#2a3f5f"
            },
            "marker": {
             "line": {
              "color": "#E5ECF6",
              "width": 0.5
             }
            },
            "type": "bar"
           }
          ],
          "barpolar": [
           {
            "marker": {
             "line": {
              "color": "#E5ECF6",
              "width": 0.5
             }
            },
            "type": "barpolar"
           }
          ],
          "carpet": [
           {
            "aaxis": {
             "endlinecolor": "#2a3f5f",
             "gridcolor": "white",
             "linecolor": "white",
             "minorgridcolor": "white",
             "startlinecolor": "#2a3f5f"
            },
            "baxis": {
             "endlinecolor": "#2a3f5f",
             "gridcolor": "white",
             "linecolor": "white",
             "minorgridcolor": "white",
             "startlinecolor": "#2a3f5f"
            },
            "type": "carpet"
           }
          ],
          "choropleth": [
           {
            "colorbar": {
             "outlinewidth": 0,
             "ticks": ""
            },
            "type": "choropleth"
           }
          ],
          "contour": [
           {
            "colorbar": {
             "outlinewidth": 0,
             "ticks": ""
            },
            "colorscale": [
             [
              0,
              "#0d0887"
             ],
             [
              0.1111111111111111,
              "#46039f"
             ],
             [
              0.2222222222222222,
              "#7201a8"
             ],
             [
              0.3333333333333333,
              "#9c179e"
             ],
             [
              0.4444444444444444,
              "#bd3786"
             ],
             [
              0.5555555555555556,
              "#d8576b"
             ],
             [
              0.6666666666666666,
              "#ed7953"
             ],
             [
              0.7777777777777778,
              "#fb9f3a"
             ],
             [
              0.8888888888888888,
              "#fdca26"
             ],
             [
              1,
              "#f0f921"
             ]
            ],
            "type": "contour"
           }
          ],
          "contourcarpet": [
           {
            "colorbar": {
             "outlinewidth": 0,
             "ticks": ""
            },
            "type": "contourcarpet"
           }
          ],
          "heatmap": [
           {
            "colorbar": {
             "outlinewidth": 0,
             "ticks": ""
            },
            "colorscale": [
             [
              0,
              "#0d0887"
             ],
             [
              0.1111111111111111,
              "#46039f"
             ],
             [
              0.2222222222222222,
              "#7201a8"
             ],
             [
              0.3333333333333333,
              "#9c179e"
             ],
             [
              0.4444444444444444,
              "#bd3786"
             ],
             [
              0.5555555555555556,
              "#d8576b"
             ],
             [
              0.6666666666666666,
              "#ed7953"
             ],
             [
              0.7777777777777778,
              "#fb9f3a"
             ],
             [
              0.8888888888888888,
              "#fdca26"
             ],
             [
              1,
              "#f0f921"
             ]
            ],
            "type": "heatmap"
           }
          ],
          "heatmapgl": [
           {
            "colorbar": {
             "outlinewidth": 0,
             "ticks": ""
            },
            "colorscale": [
             [
              0,
              "#0d0887"
             ],
             [
              0.1111111111111111,
              "#46039f"
             ],
             [
              0.2222222222222222,
              "#7201a8"
             ],
             [
              0.3333333333333333,
              "#9c179e"
             ],
             [
              0.4444444444444444,
              "#bd3786"
             ],
             [
              0.5555555555555556,
              "#d8576b"
             ],
             [
              0.6666666666666666,
              "#ed7953"
             ],
             [
              0.7777777777777778,
              "#fb9f3a"
             ],
             [
              0.8888888888888888,
              "#fdca26"
             ],
             [
              1,
              "#f0f921"
             ]
            ],
            "type": "heatmapgl"
           }
          ],
          "histogram": [
           {
            "marker": {
             "colorbar": {
              "outlinewidth": 0,
              "ticks": ""
             }
            },
            "type": "histogram"
           }
          ],
          "histogram2d": [
           {
            "colorbar": {
             "outlinewidth": 0,
             "ticks": ""
            },
            "colorscale": [
             [
              0,
              "#0d0887"
             ],
             [
              0.1111111111111111,
              "#46039f"
             ],
             [
              0.2222222222222222,
              "#7201a8"
             ],
             [
              0.3333333333333333,
              "#9c179e"
             ],
             [
              0.4444444444444444,
              "#bd3786"
             ],
             [
              0.5555555555555556,
              "#d8576b"
             ],
             [
              0.6666666666666666,
              "#ed7953"
             ],
             [
              0.7777777777777778,
              "#fb9f3a"
             ],
             [
              0.8888888888888888,
              "#fdca26"
             ],
             [
              1,
              "#f0f921"
             ]
            ],
            "type": "histogram2d"
           }
          ],
          "histogram2dcontour": [
           {
            "colorbar": {
             "outlinewidth": 0,
             "ticks": ""
            },
            "colorscale": [
             [
              0,
              "#0d0887"
             ],
             [
              0.1111111111111111,
              "#46039f"
             ],
             [
              0.2222222222222222,
              "#7201a8"
             ],
             [
              0.3333333333333333,
              "#9c179e"
             ],
             [
              0.4444444444444444,
              "#bd3786"
             ],
             [
              0.5555555555555556,
              "#d8576b"
             ],
             [
              0.6666666666666666,
              "#ed7953"
             ],
             [
              0.7777777777777778,
              "#fb9f3a"
             ],
             [
              0.8888888888888888,
              "#fdca26"
             ],
             [
              1,
              "#f0f921"
             ]
            ],
            "type": "histogram2dcontour"
           }
          ],
          "mesh3d": [
           {
            "colorbar": {
             "outlinewidth": 0,
             "ticks": ""
            },
            "type": "mesh3d"
           }
          ],
          "parcoords": [
           {
            "line": {
             "colorbar": {
              "outlinewidth": 0,
              "ticks": ""
             }
            },
            "type": "parcoords"
           }
          ],
          "scatter": [
           {
            "marker": {
             "colorbar": {
              "outlinewidth": 0,
              "ticks": ""
             }
            },
            "type": "scatter"
           }
          ],
          "scatter3d": [
           {
            "line": {
             "colorbar": {
              "outlinewidth": 0,
              "ticks": ""
             }
            },
            "marker": {
             "colorbar": {
              "outlinewidth": 0,
              "ticks": ""
             }
            },
            "type": "scatter3d"
           }
          ],
          "scattercarpet": [
           {
            "marker": {
             "colorbar": {
              "outlinewidth": 0,
              "ticks": ""
             }
            },
            "type": "scattercarpet"
           }
          ],
          "scattergeo": [
           {
            "marker": {
             "colorbar": {
              "outlinewidth": 0,
              "ticks": ""
             }
            },
            "type": "scattergeo"
           }
          ],
          "scattergl": [
           {
            "marker": {
             "colorbar": {
              "outlinewidth": 0,
              "ticks": ""
             }
            },
            "type": "scattergl"
           }
          ],
          "scattermapbox": [
           {
            "marker": {
             "colorbar": {
              "outlinewidth": 0,
              "ticks": ""
             }
            },
            "type": "scattermapbox"
           }
          ],
          "scatterpolar": [
           {
            "marker": {
             "colorbar": {
              "outlinewidth": 0,
              "ticks": ""
             }
            },
            "type": "scatterpolar"
           }
          ],
          "scatterpolargl": [
           {
            "marker": {
             "colorbar": {
              "outlinewidth": 0,
              "ticks": ""
             }
            },
            "type": "scatterpolargl"
           }
          ],
          "scatterternary": [
           {
            "marker": {
             "colorbar": {
              "outlinewidth": 0,
              "ticks": ""
             }
            },
            "type": "scatterternary"
           }
          ],
          "surface": [
           {
            "colorbar": {
             "outlinewidth": 0,
             "ticks": ""
            },
            "colorscale": [
             [
              0,
              "#0d0887"
             ],
             [
              0.1111111111111111,
              "#46039f"
             ],
             [
              0.2222222222222222,
              "#7201a8"
             ],
             [
              0.3333333333333333,
              "#9c179e"
             ],
             [
              0.4444444444444444,
              "#bd3786"
             ],
             [
              0.5555555555555556,
              "#d8576b"
             ],
             [
              0.6666666666666666,
              "#ed7953"
             ],
             [
              0.7777777777777778,
              "#fb9f3a"
             ],
             [
              0.8888888888888888,
              "#fdca26"
             ],
             [
              1,
              "#f0f921"
             ]
            ],
            "type": "surface"
           }
          ],
          "table": [
           {
            "cells": {
             "fill": {
              "color": "#EBF0F8"
             },
             "line": {
              "color": "white"
             }
            },
            "header": {
             "fill": {
              "color": "#C8D4E3"
             },
             "line": {
              "color": "white"
             }
            },
            "type": "table"
           }
          ]
         },
         "layout": {
          "annotationdefaults": {
           "arrowcolor": "#2a3f5f",
           "arrowhead": 0,
           "arrowwidth": 1
          },
          "colorscale": {
           "diverging": [
            [
             0,
             "#8e0152"
            ],
            [
             0.1,
             "#c51b7d"
            ],
            [
             0.2,
             "#de77ae"
            ],
            [
             0.3,
             "#f1b6da"
            ],
            [
             0.4,
             "#fde0ef"
            ],
            [
             0.5,
             "#f7f7f7"
            ],
            [
             0.6,
             "#e6f5d0"
            ],
            [
             0.7,
             "#b8e186"
            ],
            [
             0.8,
             "#7fbc41"
            ],
            [
             0.9,
             "#4d9221"
            ],
            [
             1,
             "#276419"
            ]
           ],
           "sequential": [
            [
             0,
             "#0d0887"
            ],
            [
             0.1111111111111111,
             "#46039f"
            ],
            [
             0.2222222222222222,
             "#7201a8"
            ],
            [
             0.3333333333333333,
             "#9c179e"
            ],
            [
             0.4444444444444444,
             "#bd3786"
            ],
            [
             0.5555555555555556,
             "#d8576b"
            ],
            [
             0.6666666666666666,
             "#ed7953"
            ],
            [
             0.7777777777777778,
             "#fb9f3a"
            ],
            [
             0.8888888888888888,
             "#fdca26"
            ],
            [
             1,
             "#f0f921"
            ]
           ],
           "sequentialminus": [
            [
             0,
             "#0d0887"
            ],
            [
             0.1111111111111111,
             "#46039f"
            ],
            [
             0.2222222222222222,
             "#7201a8"
            ],
            [
             0.3333333333333333,
             "#9c179e"
            ],
            [
             0.4444444444444444,
             "#bd3786"
            ],
            [
             0.5555555555555556,
             "#d8576b"
            ],
            [
             0.6666666666666666,
             "#ed7953"
            ],
            [
             0.7777777777777778,
             "#fb9f3a"
            ],
            [
             0.8888888888888888,
             "#fdca26"
            ],
            [
             1,
             "#f0f921"
            ]
           ]
          },
          "colorway": [
           "#636efa",
           "#EF553B",
           "#00cc96",
           "#ab63fa",
           "#FFA15A",
           "#19d3f3",
           "#FF6692",
           "#B6E880",
           "#FF97FF",
           "#FECB52"
          ],
          "font": {
           "color": "#2a3f5f"
          },
          "geo": {
           "bgcolor": "white",
           "lakecolor": "white",
           "landcolor": "#E5ECF6",
           "showlakes": true,
           "showland": true,
           "subunitcolor": "white"
          },
          "hoverlabel": {
           "align": "left"
          },
          "hovermode": "closest",
          "mapbox": {
           "style": "light"
          },
          "paper_bgcolor": "white",
          "plot_bgcolor": "#E5ECF6",
          "polar": {
           "angularaxis": {
            "gridcolor": "white",
            "linecolor": "white",
            "ticks": ""
           },
           "bgcolor": "#E5ECF6",
           "radialaxis": {
            "gridcolor": "white",
            "linecolor": "white",
            "ticks": ""
           }
          },
          "scene": {
           "xaxis": {
            "backgroundcolor": "#E5ECF6",
            "gridcolor": "white",
            "gridwidth": 2,
            "linecolor": "white",
            "showbackground": true,
            "ticks": "",
            "zerolinecolor": "white"
           },
           "yaxis": {
            "backgroundcolor": "#E5ECF6",
            "gridcolor": "white",
            "gridwidth": 2,
            "linecolor": "white",
            "showbackground": true,
            "ticks": "",
            "zerolinecolor": "white"
           },
           "zaxis": {
            "backgroundcolor": "#E5ECF6",
            "gridcolor": "white",
            "gridwidth": 2,
            "linecolor": "white",
            "showbackground": true,
            "ticks": "",
            "zerolinecolor": "white"
           }
          },
          "shapedefaults": {
           "line": {
            "color": "#2a3f5f"
           }
          },
          "ternary": {
           "aaxis": {
            "gridcolor": "white",
            "linecolor": "white",
            "ticks": ""
           },
           "baxis": {
            "gridcolor": "white",
            "linecolor": "white",
            "ticks": ""
           },
           "bgcolor": "#E5ECF6",
           "caxis": {
            "gridcolor": "white",
            "linecolor": "white",
            "ticks": ""
           }
          },
          "title": {
           "x": 0.05
          },
          "xaxis": {
           "automargin": true,
           "gridcolor": "white",
           "linecolor": "white",
           "ticks": "",
           "zerolinecolor": "white",
           "zerolinewidth": 2
          },
          "yaxis": {
           "automargin": true,
           "gridcolor": "white",
           "linecolor": "white",
           "ticks": "",
           "zerolinecolor": "white",
           "zerolinewidth": 2
          }
         }
        },
        "title": {
         "text": "ul_lr triangulation of ridge function (Mesh3D)"
        },
        "width": 800
       }
      },
      "text/html": [
       "<div>\n",
       "        \n",
       "        \n",
       "            <div id=\"c543831f-42b1-43f4-b188-e6caff79be3b\" class=\"plotly-graph-div\" style=\"height:800px; width:800px;\"></div>\n",
       "            <script type=\"text/javascript\">\n",
       "                require([\"plotly\"], function(Plotly) {\n",
       "                    window.PLOTLYENV=window.PLOTLYENV || {};\n",
       "                    \n",
       "                if (document.getElementById(\"c543831f-42b1-43f4-b188-e6caff79be3b\")) {\n",
       "                    Plotly.newPlot(\n",
       "                        'c543831f-42b1-43f4-b188-e6caff79be3b',\n",
       "                        [{\"colorscale\": [[0.0, \"rgb(5,10,172)\"], [0.1, \"rgb(34,46,193)\"], [0.2, \"rgb(63,83,215)\"], [0.3, \"rgb(92,119,236)\"], [0.4, \"rgb(134,155,228)\"], [0.5, \"rgb(190,190,190)\"], [0.6, \"rgb(220,170,132)\"], [0.7, \"rgb(230,145,90)\"], [0.8, \"rgb(213,100,69)\"], [0.9, \"rgb(195,55,49)\"], [1.0, \"rgb(178,10,28)\"]], \"i\": [0, 10, 1, 11, 2, 12, 3, 13, 4, 14, 5, 15, 6, 16, 7, 17, 9, 19, 10, 20, 11, 21, 12, 22, 13, 23, 14, 24, 15, 25, 16, 26, 18, 28, 19, 29, 20, 30, 21, 31, 22, 32, 23, 33, 24, 34, 25, 35, 27, 37, 28, 38, 29, 39, 30, 40, 31, 41, 32, 42, 33, 43, 34, 44, 36, 46, 37, 47, 38, 48, 39, 49, 40, 50, 41, 51, 42, 52, 43, 53, 45, 55, 46, 56, 47, 57, 48, 58, 49, 59, 50, 60, 51, 61, 52, 62, 54, 64, 55, 65, 56, 66, 57, 67, 58, 68, 59, 69, 60, 70, 61, 71, 63, 73, 64, 74, 65, 75, 66, 76, 67, 77, 68, 78, 69, 79, 70, 80], \"intensity\": [0.0, -0.25, -0.5, -0.75, -1.0, -0.75, -0.5, -0.25, 0.0, -0.25, 0.0, -0.25, -0.5, -0.75, -0.5, -0.25, 0.0, -0.25, -0.5, -0.25, 0.0, -0.25, -0.5, -0.25, 0.0, -0.25, -0.5, -0.75, -0.5, -0.25, 0.0, -0.25, 0.0, -0.25, -0.5, -0.75, -1.0, -0.75, -0.5, -0.25, -0.0, -0.25, -0.5, -0.75, -1.0, -0.75, -0.5, -0.25, 0.0, -0.25, 0.0, -0.25, -0.5, -0.75, -0.5, -0.25, 0.0, -0.25, -0.5, -0.25, 0.0, -0.25, -0.5, -0.25, 0.0, -0.25, -0.5, -0.75, -0.5, -0.25, 0.0, -0.25, 0.0, -0.25, -0.5, -0.75, -1.0, -0.75, -0.5, -0.25, 0.0], \"j\": [1, 9, 2, 10, 3, 11, 4, 12, 5, 13, 6, 14, 7, 15, 8, 16, 10, 18, 11, 19, 12, 20, 13, 21, 14, 22, 15, 23, 16, 24, 17, 25, 19, 27, 20, 28, 21, 29, 22, 30, 23, 31, 24, 32, 25, 33, 26, 34, 28, 36, 29, 37, 30, 38, 31, 39, 32, 40, 33, 41, 34, 42, 35, 43, 37, 45, 38, 46, 39, 47, 40, 48, 41, 49, 42, 50, 43, 51, 44, 52, 46, 54, 47, 55, 48, 56, 49, 57, 50, 58, 51, 59, 52, 60, 53, 61, 55, 63, 56, 64, 57, 65, 58, 66, 59, 67, 60, 68, 61, 69, 62, 70, 64, 72, 65, 73, 66, 74, 67, 75, 68, 76, 69, 77, 70, 78, 71, 79], \"k\": [10, 0, 11, 1, 12, 2, 13, 3, 14, 4, 15, 5, 16, 6, 17, 7, 19, 9, 20, 10, 21, 11, 22, 12, 23, 13, 24, 14, 25, 15, 26, 16, 28, 18, 29, 19, 30, 20, 31, 21, 32, 22, 33, 23, 34, 24, 35, 25, 37, 27, 38, 28, 39, 29, 40, 30, 41, 31, 42, 32, 43, 33, 44, 34, 46, 36, 47, 37, 48, 38, 49, 39, 50, 40, 51, 41, 52, 42, 53, 43, 55, 45, 56, 46, 57, 47, 58, 48, 59, 49, 60, 50, 61, 51, 62, 52, 64, 54, 65, 55, 66, 56, 67, 57, 68, 58, 69, 59, 70, 60, 71, 61, 73, 63, 74, 64, 75, 65, 76, 66, 77, 67, 78, 68, 79, 69, 80, 70], \"type\": \"mesh3d\", \"x\": [0.0, 1.0, 2.0, 3.0, 4.0, 5.0, 6.0, 7.0, 8.0, 0.0, 1.0, 2.0, 3.0, 4.0, 5.0, 6.0, 7.0, 8.0, 0.0, 1.0, 2.0, 3.0, 4.0, 5.0, 6.0, 7.0, 8.0, 0.0, 1.0, 2.0, 3.0, 4.0, 5.0, 6.0, 7.0, 8.0, 0.0, 1.0, 2.0, 3.0, 4.0, 5.0, 6.0, 7.0, 8.0, 0.0, 1.0, 2.0, 3.0, 4.0, 5.0, 6.0, 7.0, 8.0, 0.0, 1.0, 2.0, 3.0, 4.0, 5.0, 6.0, 7.0, 8.0, 0.0, 1.0, 2.0, 3.0, 4.0, 5.0, 6.0, 7.0, 8.0, 0.0, 1.0, 2.0, 3.0, 4.0, 5.0, 6.0, 7.0, 8.0], \"y\": [0.0, 0.0, 0.0, 0.0, 0.0, 0.0, 0.0, 0.0, 0.0, 1.0, 1.0, 1.0, 1.0, 1.0, 1.0, 1.0, 1.0, 1.0, 2.0, 2.0, 2.0, 2.0, 2.0, 2.0, 2.0, 2.0, 2.0, 3.0, 3.0, 3.0, 3.0, 3.0, 3.0, 3.0, 3.0, 3.0, 4.0, 4.0, 4.0, 4.0, 4.0, 4.0, 4.0, 4.0, 4.0, 5.0, 5.0, 5.0, 5.0, 5.0, 5.0, 5.0, 5.0, 5.0, 6.0, 6.0, 6.0, 6.0, 6.0, 6.0, 6.0, 6.0, 6.0, 7.0, 7.0, 7.0, 7.0, 7.0, 7.0, 7.0, 7.0, 7.0, 8.0, 8.0, 8.0, 8.0, 8.0, 8.0, 8.0, 8.0, 8.0], \"z\": [0.0, -0.25, -0.5, -0.75, -1.0, -0.75, -0.5, -0.25, 0.0, -0.25, 0.0, -0.25, -0.5, -0.75, -0.5, -0.25, 0.0, -0.25, -0.5, -0.25, 0.0, -0.25, -0.5, -0.25, 0.0, -0.25, -0.5, -0.75, -0.5, -0.25, 0.0, -0.25, 0.0, -0.25, -0.5, -0.75, -1.0, -0.75, -0.5, -0.25, -0.0, -0.25, -0.5, -0.75, -1.0, -0.75, -0.5, -0.25, 0.0, -0.25, 0.0, -0.25, -0.5, -0.75, -0.5, -0.25, 0.0, -0.25, -0.5, -0.25, 0.0, -0.25, -0.5, -0.25, 0.0, -0.25, -0.5, -0.75, -0.5, -0.25, 0.0, -0.25, 0.0, -0.25, -0.5, -0.75, -1.0, -0.75, -0.5, -0.25, 0.0]}],\n",
       "                        {\"height\": 800, \"scene\": {\"aspectratio\": {\"x\": 1.0, \"y\": 1.0, \"z\": 0.1}, \"camera\": {}}, \"template\": {\"data\": {\"bar\": [{\"error_x\": {\"color\": \"#2a3f5f\"}, \"error_y\": {\"color\": \"#2a3f5f\"}, \"marker\": {\"line\": {\"color\": \"#E5ECF6\", \"width\": 0.5}}, \"type\": \"bar\"}], \"barpolar\": [{\"marker\": {\"line\": {\"color\": \"#E5ECF6\", \"width\": 0.5}}, \"type\": \"barpolar\"}], \"carpet\": [{\"aaxis\": {\"endlinecolor\": \"#2a3f5f\", \"gridcolor\": \"white\", \"linecolor\": \"white\", \"minorgridcolor\": \"white\", \"startlinecolor\": \"#2a3f5f\"}, \"baxis\": {\"endlinecolor\": \"#2a3f5f\", \"gridcolor\": \"white\", \"linecolor\": \"white\", \"minorgridcolor\": \"white\", \"startlinecolor\": \"#2a3f5f\"}, \"type\": \"carpet\"}], \"choropleth\": [{\"colorbar\": {\"outlinewidth\": 0, \"ticks\": \"\"}, \"type\": \"choropleth\"}], \"contour\": [{\"colorbar\": {\"outlinewidth\": 0, \"ticks\": \"\"}, \"colorscale\": [[0.0, \"#0d0887\"], [0.1111111111111111, \"#46039f\"], [0.2222222222222222, \"#7201a8\"], [0.3333333333333333, \"#9c179e\"], [0.4444444444444444, \"#bd3786\"], [0.5555555555555556, \"#d8576b\"], [0.6666666666666666, \"#ed7953\"], [0.7777777777777778, \"#fb9f3a\"], [0.8888888888888888, \"#fdca26\"], [1.0, \"#f0f921\"]], \"type\": \"contour\"}], \"contourcarpet\": [{\"colorbar\": {\"outlinewidth\": 0, \"ticks\": \"\"}, \"type\": \"contourcarpet\"}], \"heatmap\": [{\"colorbar\": {\"outlinewidth\": 0, \"ticks\": \"\"}, \"colorscale\": [[0.0, \"#0d0887\"], [0.1111111111111111, \"#46039f\"], [0.2222222222222222, \"#7201a8\"], [0.3333333333333333, \"#9c179e\"], [0.4444444444444444, \"#bd3786\"], [0.5555555555555556, \"#d8576b\"], [0.6666666666666666, \"#ed7953\"], [0.7777777777777778, \"#fb9f3a\"], [0.8888888888888888, \"#fdca26\"], [1.0, \"#f0f921\"]], \"type\": \"heatmap\"}], \"heatmapgl\": [{\"colorbar\": {\"outlinewidth\": 0, \"ticks\": \"\"}, \"colorscale\": [[0.0, \"#0d0887\"], [0.1111111111111111, \"#46039f\"], [0.2222222222222222, \"#7201a8\"], [0.3333333333333333, \"#9c179e\"], [0.4444444444444444, \"#bd3786\"], [0.5555555555555556, \"#d8576b\"], [0.6666666666666666, \"#ed7953\"], [0.7777777777777778, \"#fb9f3a\"], [0.8888888888888888, \"#fdca26\"], [1.0, \"#f0f921\"]], \"type\": \"heatmapgl\"}], \"histogram\": [{\"marker\": {\"colorbar\": {\"outlinewidth\": 0, \"ticks\": \"\"}}, \"type\": \"histogram\"}], \"histogram2d\": [{\"colorbar\": {\"outlinewidth\": 0, \"ticks\": \"\"}, \"colorscale\": [[0.0, \"#0d0887\"], [0.1111111111111111, \"#46039f\"], [0.2222222222222222, \"#7201a8\"], [0.3333333333333333, \"#9c179e\"], [0.4444444444444444, \"#bd3786\"], [0.5555555555555556, \"#d8576b\"], [0.6666666666666666, \"#ed7953\"], [0.7777777777777778, \"#fb9f3a\"], [0.8888888888888888, \"#fdca26\"], [1.0, \"#f0f921\"]], \"type\": \"histogram2d\"}], \"histogram2dcontour\": [{\"colorbar\": {\"outlinewidth\": 0, \"ticks\": \"\"}, \"colorscale\": [[0.0, \"#0d0887\"], [0.1111111111111111, \"#46039f\"], [0.2222222222222222, \"#7201a8\"], [0.3333333333333333, \"#9c179e\"], [0.4444444444444444, \"#bd3786\"], [0.5555555555555556, \"#d8576b\"], [0.6666666666666666, \"#ed7953\"], [0.7777777777777778, \"#fb9f3a\"], [0.8888888888888888, \"#fdca26\"], [1.0, \"#f0f921\"]], \"type\": \"histogram2dcontour\"}], \"mesh3d\": [{\"colorbar\": {\"outlinewidth\": 0, \"ticks\": \"\"}, \"type\": \"mesh3d\"}], \"parcoords\": [{\"line\": {\"colorbar\": {\"outlinewidth\": 0, \"ticks\": \"\"}}, \"type\": \"parcoords\"}], \"scatter\": [{\"marker\": {\"colorbar\": {\"outlinewidth\": 0, \"ticks\": \"\"}}, \"type\": \"scatter\"}], \"scatter3d\": [{\"line\": {\"colorbar\": {\"outlinewidth\": 0, \"ticks\": \"\"}}, \"marker\": {\"colorbar\": {\"outlinewidth\": 0, \"ticks\": \"\"}}, \"type\": \"scatter3d\"}], \"scattercarpet\": [{\"marker\": {\"colorbar\": {\"outlinewidth\": 0, \"ticks\": \"\"}}, \"type\": \"scattercarpet\"}], \"scattergeo\": [{\"marker\": {\"colorbar\": {\"outlinewidth\": 0, \"ticks\": \"\"}}, \"type\": \"scattergeo\"}], \"scattergl\": [{\"marker\": {\"colorbar\": {\"outlinewidth\": 0, \"ticks\": \"\"}}, \"type\": \"scattergl\"}], \"scattermapbox\": [{\"marker\": {\"colorbar\": {\"outlinewidth\": 0, \"ticks\": \"\"}}, \"type\": \"scattermapbox\"}], \"scatterpolar\": [{\"marker\": {\"colorbar\": {\"outlinewidth\": 0, \"ticks\": \"\"}}, \"type\": \"scatterpolar\"}], \"scatterpolargl\": [{\"marker\": {\"colorbar\": {\"outlinewidth\": 0, \"ticks\": \"\"}}, \"type\": \"scatterpolargl\"}], \"scatterternary\": [{\"marker\": {\"colorbar\": {\"outlinewidth\": 0, \"ticks\": \"\"}}, \"type\": \"scatterternary\"}], \"surface\": [{\"colorbar\": {\"outlinewidth\": 0, \"ticks\": \"\"}, \"colorscale\": [[0.0, \"#0d0887\"], [0.1111111111111111, \"#46039f\"], [0.2222222222222222, \"#7201a8\"], [0.3333333333333333, \"#9c179e\"], [0.4444444444444444, \"#bd3786\"], [0.5555555555555556, \"#d8576b\"], [0.6666666666666666, \"#ed7953\"], [0.7777777777777778, \"#fb9f3a\"], [0.8888888888888888, \"#fdca26\"], [1.0, \"#f0f921\"]], \"type\": \"surface\"}], \"table\": [{\"cells\": {\"fill\": {\"color\": \"#EBF0F8\"}, \"line\": {\"color\": \"white\"}}, \"header\": {\"fill\": {\"color\": \"#C8D4E3\"}, \"line\": {\"color\": \"white\"}}, \"type\": \"table\"}]}, \"layout\": {\"annotationdefaults\": {\"arrowcolor\": \"#2a3f5f\", \"arrowhead\": 0, \"arrowwidth\": 1}, \"colorscale\": {\"diverging\": [[0, \"#8e0152\"], [0.1, \"#c51b7d\"], [0.2, \"#de77ae\"], [0.3, \"#f1b6da\"], [0.4, \"#fde0ef\"], [0.5, \"#f7f7f7\"], [0.6, \"#e6f5d0\"], [0.7, \"#b8e186\"], [0.8, \"#7fbc41\"], [0.9, \"#4d9221\"], [1, \"#276419\"]], \"sequential\": [[0.0, \"#0d0887\"], [0.1111111111111111, \"#46039f\"], [0.2222222222222222, \"#7201a8\"], [0.3333333333333333, \"#9c179e\"], [0.4444444444444444, \"#bd3786\"], [0.5555555555555556, \"#d8576b\"], [0.6666666666666666, \"#ed7953\"], [0.7777777777777778, \"#fb9f3a\"], [0.8888888888888888, \"#fdca26\"], [1.0, \"#f0f921\"]], \"sequentialminus\": [[0.0, \"#0d0887\"], [0.1111111111111111, \"#46039f\"], [0.2222222222222222, \"#7201a8\"], [0.3333333333333333, \"#9c179e\"], [0.4444444444444444, \"#bd3786\"], [0.5555555555555556, \"#d8576b\"], [0.6666666666666666, \"#ed7953\"], [0.7777777777777778, \"#fb9f3a\"], [0.8888888888888888, \"#fdca26\"], [1.0, \"#f0f921\"]]}, \"colorway\": [\"#636efa\", \"#EF553B\", \"#00cc96\", \"#ab63fa\", \"#FFA15A\", \"#19d3f3\", \"#FF6692\", \"#B6E880\", \"#FF97FF\", \"#FECB52\"], \"font\": {\"color\": \"#2a3f5f\"}, \"geo\": {\"bgcolor\": \"white\", \"lakecolor\": \"white\", \"landcolor\": \"#E5ECF6\", \"showlakes\": true, \"showland\": true, \"subunitcolor\": \"white\"}, \"hoverlabel\": {\"align\": \"left\"}, \"hovermode\": \"closest\", \"mapbox\": {\"style\": \"light\"}, \"paper_bgcolor\": \"white\", \"plot_bgcolor\": \"#E5ECF6\", \"polar\": {\"angularaxis\": {\"gridcolor\": \"white\", \"linecolor\": \"white\", \"ticks\": \"\"}, \"bgcolor\": \"#E5ECF6\", \"radialaxis\": {\"gridcolor\": \"white\", \"linecolor\": \"white\", \"ticks\": \"\"}}, \"scene\": {\"xaxis\": {\"backgroundcolor\": \"#E5ECF6\", \"gridcolor\": \"white\", \"gridwidth\": 2, \"linecolor\": \"white\", \"showbackground\": true, \"ticks\": \"\", \"zerolinecolor\": \"white\"}, \"yaxis\": {\"backgroundcolor\": \"#E5ECF6\", \"gridcolor\": \"white\", \"gridwidth\": 2, \"linecolor\": \"white\", \"showbackground\": true, \"ticks\": \"\", \"zerolinecolor\": \"white\"}, \"zaxis\": {\"backgroundcolor\": \"#E5ECF6\", \"gridcolor\": \"white\", \"gridwidth\": 2, \"linecolor\": \"white\", \"showbackground\": true, \"ticks\": \"\", \"zerolinecolor\": \"white\"}}, \"shapedefaults\": {\"line\": {\"color\": \"#2a3f5f\"}}, \"ternary\": {\"aaxis\": {\"gridcolor\": \"white\", \"linecolor\": \"white\", \"ticks\": \"\"}, \"baxis\": {\"gridcolor\": \"white\", \"linecolor\": \"white\", \"ticks\": \"\"}, \"bgcolor\": \"#E5ECF6\", \"caxis\": {\"gridcolor\": \"white\", \"linecolor\": \"white\", \"ticks\": \"\"}}, \"title\": {\"x\": 0.05}, \"xaxis\": {\"automargin\": true, \"gridcolor\": \"white\", \"linecolor\": \"white\", \"ticks\": \"\", \"zerolinecolor\": \"white\", \"zerolinewidth\": 2}, \"yaxis\": {\"automargin\": true, \"gridcolor\": \"white\", \"linecolor\": \"white\", \"ticks\": \"\", \"zerolinecolor\": \"white\", \"zerolinewidth\": 2}}}, \"title\": {\"text\": \"ul_lr triangulation of ridge function (Mesh3D)\"}, \"width\": 800},\n",
       "                        {\"responsive\": true}\n",
       "                    ).then(function(){\n",
       "                            \n",
       "var gd = document.getElementById('c543831f-42b1-43f4-b188-e6caff79be3b');\n",
       "var x = new MutationObserver(function (mutations, observer) {{\n",
       "        var display = window.getComputedStyle(gd).display;\n",
       "        if (!display || display === 'none') {{\n",
       "            console.log([gd, 'removed!']);\n",
       "            Plotly.purge(gd);\n",
       "            observer.disconnect();\n",
       "        }}\n",
       "}});\n",
       "\n",
       "// Listen for the removal of the full notebook cells\n",
       "var notebookContainer = gd.closest('#notebook-container');\n",
       "if (notebookContainer) {{\n",
       "    x.observe(notebookContainer, {childList: true});\n",
       "}}\n",
       "\n",
       "// Listen for the clearing of the current output cell\n",
       "var outputEl = gd.closest('.output');\n",
       "if (outputEl) {{\n",
       "    x.observe(outputEl, {childList: true});\n",
       "}}\n",
       "\n",
       "                        })\n",
       "                };\n",
       "                });\n",
       "            </script>\n",
       "        </div>"
      ]
     },
     "metadata": {},
     "output_type": "display_data"
    },
    {
     "data": {
      "application/vnd.plotly.v1+json": {
       "config": {
        "plotlyServerURL": "https://plot.ly"
       },
       "data": [
        {
         "colorscale": [
          [
           0,
           "rgb(5,10,172)"
          ],
          [
           0.1,
           "rgb(34,46,193)"
          ],
          [
           0.2,
           "rgb(63,83,215)"
          ],
          [
           0.3,
           "rgb(92,119,236)"
          ],
          [
           0.4,
           "rgb(134,155,228)"
          ],
          [
           0.5,
           "rgb(190,190,190)"
          ],
          [
           0.6,
           "rgb(220,170,132)"
          ],
          [
           0.7,
           "rgb(230,145,90)"
          ],
          [
           0.8,
           "rgb(213,100,69)"
          ],
          [
           0.9,
           "rgb(195,55,49)"
          ],
          [
           1,
           "rgb(178,10,28)"
          ]
         ],
         "i": [
          9,
          1,
          10,
          2,
          11,
          3,
          12,
          4,
          13,
          5,
          14,
          6,
          15,
          7,
          16,
          8,
          18,
          10,
          19,
          11,
          20,
          12,
          21,
          13,
          22,
          14,
          23,
          15,
          24,
          16,
          25,
          17,
          27,
          19,
          28,
          20,
          29,
          21,
          30,
          22,
          31,
          23,
          32,
          24,
          33,
          25,
          34,
          26,
          36,
          28,
          37,
          29,
          38,
          30,
          39,
          31,
          40,
          32,
          41,
          33,
          42,
          34,
          43,
          35,
          45,
          37,
          46,
          38,
          47,
          39,
          48,
          40,
          49,
          41,
          50,
          42,
          51,
          43,
          52,
          44,
          54,
          46,
          55,
          47,
          56,
          48,
          57,
          49,
          58,
          50,
          59,
          51,
          60,
          52,
          61,
          53,
          63,
          55,
          64,
          56,
          65,
          57,
          66,
          58,
          67,
          59,
          68,
          60,
          69,
          61,
          70,
          62,
          72,
          64,
          73,
          65,
          74,
          66,
          75,
          67,
          76,
          68,
          77,
          69,
          78,
          70,
          79,
          71
         ],
         "intensity": [
          0,
          -0.25,
          -0.5,
          -0.75,
          -1,
          -0.75,
          -0.5,
          -0.25,
          0,
          -0.25,
          0,
          -0.25,
          -0.5,
          -0.75,
          -0.5,
          -0.25,
          0,
          -0.25,
          -0.5,
          -0.25,
          0,
          -0.25,
          -0.5,
          -0.25,
          0,
          -0.25,
          -0.5,
          -0.75,
          -0.5,
          -0.25,
          0,
          -0.25,
          0,
          -0.25,
          -0.5,
          -0.75,
          -1,
          -0.75,
          -0.5,
          -0.25,
          0,
          -0.25,
          -0.5,
          -0.75,
          -1,
          -0.75,
          -0.5,
          -0.25,
          0,
          -0.25,
          0,
          -0.25,
          -0.5,
          -0.75,
          -0.5,
          -0.25,
          0,
          -0.25,
          -0.5,
          -0.25,
          0,
          -0.25,
          -0.5,
          -0.25,
          0,
          -0.25,
          -0.5,
          -0.75,
          -0.5,
          -0.25,
          0,
          -0.25,
          0,
          -0.25,
          -0.5,
          -0.75,
          -1,
          -0.75,
          -0.5,
          -0.25,
          0
         ],
         "j": [
          0,
          10,
          1,
          11,
          2,
          12,
          3,
          13,
          4,
          14,
          5,
          15,
          6,
          16,
          7,
          17,
          9,
          19,
          10,
          20,
          11,
          21,
          12,
          22,
          13,
          23,
          14,
          24,
          15,
          25,
          16,
          26,
          18,
          28,
          19,
          29,
          20,
          30,
          21,
          31,
          22,
          32,
          23,
          33,
          24,
          34,
          25,
          35,
          27,
          37,
          28,
          38,
          29,
          39,
          30,
          40,
          31,
          41,
          32,
          42,
          33,
          43,
          34,
          44,
          36,
          46,
          37,
          47,
          38,
          48,
          39,
          49,
          40,
          50,
          41,
          51,
          42,
          52,
          43,
          53,
          45,
          55,
          46,
          56,
          47,
          57,
          48,
          58,
          49,
          59,
          50,
          60,
          51,
          61,
          52,
          62,
          54,
          64,
          55,
          65,
          56,
          66,
          57,
          67,
          58,
          68,
          59,
          69,
          60,
          70,
          61,
          71,
          63,
          73,
          64,
          74,
          65,
          75,
          66,
          76,
          67,
          77,
          68,
          78,
          69,
          79,
          70,
          80
         ],
         "k": [
          1,
          9,
          2,
          10,
          3,
          11,
          4,
          12,
          5,
          13,
          6,
          14,
          7,
          15,
          8,
          16,
          10,
          18,
          11,
          19,
          12,
          20,
          13,
          21,
          14,
          22,
          15,
          23,
          16,
          24,
          17,
          25,
          19,
          27,
          20,
          28,
          21,
          29,
          22,
          30,
          23,
          31,
          24,
          32,
          25,
          33,
          26,
          34,
          28,
          36,
          29,
          37,
          30,
          38,
          31,
          39,
          32,
          40,
          33,
          41,
          34,
          42,
          35,
          43,
          37,
          45,
          38,
          46,
          39,
          47,
          40,
          48,
          41,
          49,
          42,
          50,
          43,
          51,
          44,
          52,
          46,
          54,
          47,
          55,
          48,
          56,
          49,
          57,
          50,
          58,
          51,
          59,
          52,
          60,
          53,
          61,
          55,
          63,
          56,
          64,
          57,
          65,
          58,
          66,
          59,
          67,
          60,
          68,
          61,
          69,
          62,
          70,
          64,
          72,
          65,
          73,
          66,
          74,
          67,
          75,
          68,
          76,
          69,
          77,
          70,
          78,
          71,
          79
         ],
         "type": "mesh3d",
         "x": [
          0,
          1,
          2,
          3,
          4,
          5,
          6,
          7,
          8,
          0,
          1,
          2,
          3,
          4,
          5,
          6,
          7,
          8,
          0,
          1,
          2,
          3,
          4,
          5,
          6,
          7,
          8,
          0,
          1,
          2,
          3,
          4,
          5,
          6,
          7,
          8,
          0,
          1,
          2,
          3,
          4,
          5,
          6,
          7,
          8,
          0,
          1,
          2,
          3,
          4,
          5,
          6,
          7,
          8,
          0,
          1,
          2,
          3,
          4,
          5,
          6,
          7,
          8,
          0,
          1,
          2,
          3,
          4,
          5,
          6,
          7,
          8,
          0,
          1,
          2,
          3,
          4,
          5,
          6,
          7,
          8
         ],
         "y": [
          0,
          0,
          0,
          0,
          0,
          0,
          0,
          0,
          0,
          1,
          1,
          1,
          1,
          1,
          1,
          1,
          1,
          1,
          2,
          2,
          2,
          2,
          2,
          2,
          2,
          2,
          2,
          3,
          3,
          3,
          3,
          3,
          3,
          3,
          3,
          3,
          4,
          4,
          4,
          4,
          4,
          4,
          4,
          4,
          4,
          5,
          5,
          5,
          5,
          5,
          5,
          5,
          5,
          5,
          6,
          6,
          6,
          6,
          6,
          6,
          6,
          6,
          6,
          7,
          7,
          7,
          7,
          7,
          7,
          7,
          7,
          7,
          8,
          8,
          8,
          8,
          8,
          8,
          8,
          8,
          8
         ],
         "z": [
          0,
          -0.25,
          -0.5,
          -0.75,
          -1,
          -0.75,
          -0.5,
          -0.25,
          0,
          -0.25,
          0,
          -0.25,
          -0.5,
          -0.75,
          -0.5,
          -0.25,
          0,
          -0.25,
          -0.5,
          -0.25,
          0,
          -0.25,
          -0.5,
          -0.25,
          0,
          -0.25,
          -0.5,
          -0.75,
          -0.5,
          -0.25,
          0,
          -0.25,
          0,
          -0.25,
          -0.5,
          -0.75,
          -1,
          -0.75,
          -0.5,
          -0.25,
          0,
          -0.25,
          -0.5,
          -0.75,
          -1,
          -0.75,
          -0.5,
          -0.25,
          0,
          -0.25,
          0,
          -0.25,
          -0.5,
          -0.75,
          -0.5,
          -0.25,
          0,
          -0.25,
          -0.5,
          -0.25,
          0,
          -0.25,
          -0.5,
          -0.25,
          0,
          -0.25,
          -0.5,
          -0.75,
          -0.5,
          -0.25,
          0,
          -0.25,
          0,
          -0.25,
          -0.5,
          -0.75,
          -1,
          -0.75,
          -0.5,
          -0.25,
          0
         ]
        }
       ],
       "layout": {
        "height": 800,
        "scene": {
         "aspectratio": {
          "x": 1,
          "y": 1,
          "z": 0.1
         },
         "camera": {}
        },
        "template": {
         "data": {
          "bar": [
           {
            "error_x": {
             "color": "#2a3f5f"
            },
            "error_y": {
             "color": "#2a3f5f"
            },
            "marker": {
             "line": {
              "color": "#E5ECF6",
              "width": 0.5
             }
            },
            "type": "bar"
           }
          ],
          "barpolar": [
           {
            "marker": {
             "line": {
              "color": "#E5ECF6",
              "width": 0.5
             }
            },
            "type": "barpolar"
           }
          ],
          "carpet": [
           {
            "aaxis": {
             "endlinecolor": "#2a3f5f",
             "gridcolor": "white",
             "linecolor": "white",
             "minorgridcolor": "white",
             "startlinecolor": "#2a3f5f"
            },
            "baxis": {
             "endlinecolor": "#2a3f5f",
             "gridcolor": "white",
             "linecolor": "white",
             "minorgridcolor": "white",
             "startlinecolor": "#2a3f5f"
            },
            "type": "carpet"
           }
          ],
          "choropleth": [
           {
            "colorbar": {
             "outlinewidth": 0,
             "ticks": ""
            },
            "type": "choropleth"
           }
          ],
          "contour": [
           {
            "colorbar": {
             "outlinewidth": 0,
             "ticks": ""
            },
            "colorscale": [
             [
              0,
              "#0d0887"
             ],
             [
              0.1111111111111111,
              "#46039f"
             ],
             [
              0.2222222222222222,
              "#7201a8"
             ],
             [
              0.3333333333333333,
              "#9c179e"
             ],
             [
              0.4444444444444444,
              "#bd3786"
             ],
             [
              0.5555555555555556,
              "#d8576b"
             ],
             [
              0.6666666666666666,
              "#ed7953"
             ],
             [
              0.7777777777777778,
              "#fb9f3a"
             ],
             [
              0.8888888888888888,
              "#fdca26"
             ],
             [
              1,
              "#f0f921"
             ]
            ],
            "type": "contour"
           }
          ],
          "contourcarpet": [
           {
            "colorbar": {
             "outlinewidth": 0,
             "ticks": ""
            },
            "type": "contourcarpet"
           }
          ],
          "heatmap": [
           {
            "colorbar": {
             "outlinewidth": 0,
             "ticks": ""
            },
            "colorscale": [
             [
              0,
              "#0d0887"
             ],
             [
              0.1111111111111111,
              "#46039f"
             ],
             [
              0.2222222222222222,
              "#7201a8"
             ],
             [
              0.3333333333333333,
              "#9c179e"
             ],
             [
              0.4444444444444444,
              "#bd3786"
             ],
             [
              0.5555555555555556,
              "#d8576b"
             ],
             [
              0.6666666666666666,
              "#ed7953"
             ],
             [
              0.7777777777777778,
              "#fb9f3a"
             ],
             [
              0.8888888888888888,
              "#fdca26"
             ],
             [
              1,
              "#f0f921"
             ]
            ],
            "type": "heatmap"
           }
          ],
          "heatmapgl": [
           {
            "colorbar": {
             "outlinewidth": 0,
             "ticks": ""
            },
            "colorscale": [
             [
              0,
              "#0d0887"
             ],
             [
              0.1111111111111111,
              "#46039f"
             ],
             [
              0.2222222222222222,
              "#7201a8"
             ],
             [
              0.3333333333333333,
              "#9c179e"
             ],
             [
              0.4444444444444444,
              "#bd3786"
             ],
             [
              0.5555555555555556,
              "#d8576b"
             ],
             [
              0.6666666666666666,
              "#ed7953"
             ],
             [
              0.7777777777777778,
              "#fb9f3a"
             ],
             [
              0.8888888888888888,
              "#fdca26"
             ],
             [
              1,
              "#f0f921"
             ]
            ],
            "type": "heatmapgl"
           }
          ],
          "histogram": [
           {
            "marker": {
             "colorbar": {
              "outlinewidth": 0,
              "ticks": ""
             }
            },
            "type": "histogram"
           }
          ],
          "histogram2d": [
           {
            "colorbar": {
             "outlinewidth": 0,
             "ticks": ""
            },
            "colorscale": [
             [
              0,
              "#0d0887"
             ],
             [
              0.1111111111111111,
              "#46039f"
             ],
             [
              0.2222222222222222,
              "#7201a8"
             ],
             [
              0.3333333333333333,
              "#9c179e"
             ],
             [
              0.4444444444444444,
              "#bd3786"
             ],
             [
              0.5555555555555556,
              "#d8576b"
             ],
             [
              0.6666666666666666,
              "#ed7953"
             ],
             [
              0.7777777777777778,
              "#fb9f3a"
             ],
             [
              0.8888888888888888,
              "#fdca26"
             ],
             [
              1,
              "#f0f921"
             ]
            ],
            "type": "histogram2d"
           }
          ],
          "histogram2dcontour": [
           {
            "colorbar": {
             "outlinewidth": 0,
             "ticks": ""
            },
            "colorscale": [
             [
              0,
              "#0d0887"
             ],
             [
              0.1111111111111111,
              "#46039f"
             ],
             [
              0.2222222222222222,
              "#7201a8"
             ],
             [
              0.3333333333333333,
              "#9c179e"
             ],
             [
              0.4444444444444444,
              "#bd3786"
             ],
             [
              0.5555555555555556,
              "#d8576b"
             ],
             [
              0.6666666666666666,
              "#ed7953"
             ],
             [
              0.7777777777777778,
              "#fb9f3a"
             ],
             [
              0.8888888888888888,
              "#fdca26"
             ],
             [
              1,
              "#f0f921"
             ]
            ],
            "type": "histogram2dcontour"
           }
          ],
          "mesh3d": [
           {
            "colorbar": {
             "outlinewidth": 0,
             "ticks": ""
            },
            "type": "mesh3d"
           }
          ],
          "parcoords": [
           {
            "line": {
             "colorbar": {
              "outlinewidth": 0,
              "ticks": ""
             }
            },
            "type": "parcoords"
           }
          ],
          "scatter": [
           {
            "marker": {
             "colorbar": {
              "outlinewidth": 0,
              "ticks": ""
             }
            },
            "type": "scatter"
           }
          ],
          "scatter3d": [
           {
            "line": {
             "colorbar": {
              "outlinewidth": 0,
              "ticks": ""
             }
            },
            "marker": {
             "colorbar": {
              "outlinewidth": 0,
              "ticks": ""
             }
            },
            "type": "scatter3d"
           }
          ],
          "scattercarpet": [
           {
            "marker": {
             "colorbar": {
              "outlinewidth": 0,
              "ticks": ""
             }
            },
            "type": "scattercarpet"
           }
          ],
          "scattergeo": [
           {
            "marker": {
             "colorbar": {
              "outlinewidth": 0,
              "ticks": ""
             }
            },
            "type": "scattergeo"
           }
          ],
          "scattergl": [
           {
            "marker": {
             "colorbar": {
              "outlinewidth": 0,
              "ticks": ""
             }
            },
            "type": "scattergl"
           }
          ],
          "scattermapbox": [
           {
            "marker": {
             "colorbar": {
              "outlinewidth": 0,
              "ticks": ""
             }
            },
            "type": "scattermapbox"
           }
          ],
          "scatterpolar": [
           {
            "marker": {
             "colorbar": {
              "outlinewidth": 0,
              "ticks": ""
             }
            },
            "type": "scatterpolar"
           }
          ],
          "scatterpolargl": [
           {
            "marker": {
             "colorbar": {
              "outlinewidth": 0,
              "ticks": ""
             }
            },
            "type": "scatterpolargl"
           }
          ],
          "scatterternary": [
           {
            "marker": {
             "colorbar": {
              "outlinewidth": 0,
              "ticks": ""
             }
            },
            "type": "scatterternary"
           }
          ],
          "surface": [
           {
            "colorbar": {
             "outlinewidth": 0,
             "ticks": ""
            },
            "colorscale": [
             [
              0,
              "#0d0887"
             ],
             [
              0.1111111111111111,
              "#46039f"
             ],
             [
              0.2222222222222222,
              "#7201a8"
             ],
             [
              0.3333333333333333,
              "#9c179e"
             ],
             [
              0.4444444444444444,
              "#bd3786"
             ],
             [
              0.5555555555555556,
              "#d8576b"
             ],
             [
              0.6666666666666666,
              "#ed7953"
             ],
             [
              0.7777777777777778,
              "#fb9f3a"
             ],
             [
              0.8888888888888888,
              "#fdca26"
             ],
             [
              1,
              "#f0f921"
             ]
            ],
            "type": "surface"
           }
          ],
          "table": [
           {
            "cells": {
             "fill": {
              "color": "#EBF0F8"
             },
             "line": {
              "color": "white"
             }
            },
            "header": {
             "fill": {
              "color": "#C8D4E3"
             },
             "line": {
              "color": "white"
             }
            },
            "type": "table"
           }
          ]
         },
         "layout": {
          "annotationdefaults": {
           "arrowcolor": "#2a3f5f",
           "arrowhead": 0,
           "arrowwidth": 1
          },
          "colorscale": {
           "diverging": [
            [
             0,
             "#8e0152"
            ],
            [
             0.1,
             "#c51b7d"
            ],
            [
             0.2,
             "#de77ae"
            ],
            [
             0.3,
             "#f1b6da"
            ],
            [
             0.4,
             "#fde0ef"
            ],
            [
             0.5,
             "#f7f7f7"
            ],
            [
             0.6,
             "#e6f5d0"
            ],
            [
             0.7,
             "#b8e186"
            ],
            [
             0.8,
             "#7fbc41"
            ],
            [
             0.9,
             "#4d9221"
            ],
            [
             1,
             "#276419"
            ]
           ],
           "sequential": [
            [
             0,
             "#0d0887"
            ],
            [
             0.1111111111111111,
             "#46039f"
            ],
            [
             0.2222222222222222,
             "#7201a8"
            ],
            [
             0.3333333333333333,
             "#9c179e"
            ],
            [
             0.4444444444444444,
             "#bd3786"
            ],
            [
             0.5555555555555556,
             "#d8576b"
            ],
            [
             0.6666666666666666,
             "#ed7953"
            ],
            [
             0.7777777777777778,
             "#fb9f3a"
            ],
            [
             0.8888888888888888,
             "#fdca26"
            ],
            [
             1,
             "#f0f921"
            ]
           ],
           "sequentialminus": [
            [
             0,
             "#0d0887"
            ],
            [
             0.1111111111111111,
             "#46039f"
            ],
            [
             0.2222222222222222,
             "#7201a8"
            ],
            [
             0.3333333333333333,
             "#9c179e"
            ],
            [
             0.4444444444444444,
             "#bd3786"
            ],
            [
             0.5555555555555556,
             "#d8576b"
            ],
            [
             0.6666666666666666,
             "#ed7953"
            ],
            [
             0.7777777777777778,
             "#fb9f3a"
            ],
            [
             0.8888888888888888,
             "#fdca26"
            ],
            [
             1,
             "#f0f921"
            ]
           ]
          },
          "colorway": [
           "#636efa",
           "#EF553B",
           "#00cc96",
           "#ab63fa",
           "#FFA15A",
           "#19d3f3",
           "#FF6692",
           "#B6E880",
           "#FF97FF",
           "#FECB52"
          ],
          "font": {
           "color": "#2a3f5f"
          },
          "geo": {
           "bgcolor": "white",
           "lakecolor": "white",
           "landcolor": "#E5ECF6",
           "showlakes": true,
           "showland": true,
           "subunitcolor": "white"
          },
          "hoverlabel": {
           "align": "left"
          },
          "hovermode": "closest",
          "mapbox": {
           "style": "light"
          },
          "paper_bgcolor": "white",
          "plot_bgcolor": "#E5ECF6",
          "polar": {
           "angularaxis": {
            "gridcolor": "white",
            "linecolor": "white",
            "ticks": ""
           },
           "bgcolor": "#E5ECF6",
           "radialaxis": {
            "gridcolor": "white",
            "linecolor": "white",
            "ticks": ""
           }
          },
          "scene": {
           "xaxis": {
            "backgroundcolor": "#E5ECF6",
            "gridcolor": "white",
            "gridwidth": 2,
            "linecolor": "white",
            "showbackground": true,
            "ticks": "",
            "zerolinecolor": "white"
           },
           "yaxis": {
            "backgroundcolor": "#E5ECF6",
            "gridcolor": "white",
            "gridwidth": 2,
            "linecolor": "white",
            "showbackground": true,
            "ticks": "",
            "zerolinecolor": "white"
           },
           "zaxis": {
            "backgroundcolor": "#E5ECF6",
            "gridcolor": "white",
            "gridwidth": 2,
            "linecolor": "white",
            "showbackground": true,
            "ticks": "",
            "zerolinecolor": "white"
           }
          },
          "shapedefaults": {
           "line": {
            "color": "#2a3f5f"
           }
          },
          "ternary": {
           "aaxis": {
            "gridcolor": "white",
            "linecolor": "white",
            "ticks": ""
           },
           "baxis": {
            "gridcolor": "white",
            "linecolor": "white",
            "ticks": ""
           },
           "bgcolor": "#E5ECF6",
           "caxis": {
            "gridcolor": "white",
            "linecolor": "white",
            "ticks": ""
           }
          },
          "title": {
           "x": 0.05
          },
          "xaxis": {
           "automargin": true,
           "gridcolor": "white",
           "linecolor": "white",
           "ticks": "",
           "zerolinecolor": "white",
           "zerolinewidth": 2
          },
          "yaxis": {
           "automargin": true,
           "gridcolor": "white",
           "linecolor": "white",
           "ticks": "",
           "zerolinecolor": "white",
           "zerolinewidth": 2
          }
         }
        },
        "title": {
         "text": "ll_ur triangulation of ridge function (Mesh3D)"
        },
        "width": 800
       }
      },
      "text/html": [
       "<div>\n",
       "        \n",
       "        \n",
       "            <div id=\"2098094e-0052-4960-a4e5-cf5eb5136064\" class=\"plotly-graph-div\" style=\"height:800px; width:800px;\"></div>\n",
       "            <script type=\"text/javascript\">\n",
       "                require([\"plotly\"], function(Plotly) {\n",
       "                    window.PLOTLYENV=window.PLOTLYENV || {};\n",
       "                    \n",
       "                if (document.getElementById(\"2098094e-0052-4960-a4e5-cf5eb5136064\")) {\n",
       "                    Plotly.newPlot(\n",
       "                        '2098094e-0052-4960-a4e5-cf5eb5136064',\n",
       "                        [{\"colorscale\": [[0.0, \"rgb(5,10,172)\"], [0.1, \"rgb(34,46,193)\"], [0.2, \"rgb(63,83,215)\"], [0.3, \"rgb(92,119,236)\"], [0.4, \"rgb(134,155,228)\"], [0.5, \"rgb(190,190,190)\"], [0.6, \"rgb(220,170,132)\"], [0.7, \"rgb(230,145,90)\"], [0.8, \"rgb(213,100,69)\"], [0.9, \"rgb(195,55,49)\"], [1.0, \"rgb(178,10,28)\"]], \"i\": [9, 1, 10, 2, 11, 3, 12, 4, 13, 5, 14, 6, 15, 7, 16, 8, 18, 10, 19, 11, 20, 12, 21, 13, 22, 14, 23, 15, 24, 16, 25, 17, 27, 19, 28, 20, 29, 21, 30, 22, 31, 23, 32, 24, 33, 25, 34, 26, 36, 28, 37, 29, 38, 30, 39, 31, 40, 32, 41, 33, 42, 34, 43, 35, 45, 37, 46, 38, 47, 39, 48, 40, 49, 41, 50, 42, 51, 43, 52, 44, 54, 46, 55, 47, 56, 48, 57, 49, 58, 50, 59, 51, 60, 52, 61, 53, 63, 55, 64, 56, 65, 57, 66, 58, 67, 59, 68, 60, 69, 61, 70, 62, 72, 64, 73, 65, 74, 66, 75, 67, 76, 68, 77, 69, 78, 70, 79, 71], \"intensity\": [0.0, -0.25, -0.5, -0.75, -1.0, -0.75, -0.5, -0.25, 0.0, -0.25, 0.0, -0.25, -0.5, -0.75, -0.5, -0.25, 0.0, -0.25, -0.5, -0.25, 0.0, -0.25, -0.5, -0.25, 0.0, -0.25, -0.5, -0.75, -0.5, -0.25, 0.0, -0.25, 0.0, -0.25, -0.5, -0.75, -1.0, -0.75, -0.5, -0.25, -0.0, -0.25, -0.5, -0.75, -1.0, -0.75, -0.5, -0.25, 0.0, -0.25, 0.0, -0.25, -0.5, -0.75, -0.5, -0.25, 0.0, -0.25, -0.5, -0.25, 0.0, -0.25, -0.5, -0.25, 0.0, -0.25, -0.5, -0.75, -0.5, -0.25, 0.0, -0.25, 0.0, -0.25, -0.5, -0.75, -1.0, -0.75, -0.5, -0.25, 0.0], \"j\": [0, 10, 1, 11, 2, 12, 3, 13, 4, 14, 5, 15, 6, 16, 7, 17, 9, 19, 10, 20, 11, 21, 12, 22, 13, 23, 14, 24, 15, 25, 16, 26, 18, 28, 19, 29, 20, 30, 21, 31, 22, 32, 23, 33, 24, 34, 25, 35, 27, 37, 28, 38, 29, 39, 30, 40, 31, 41, 32, 42, 33, 43, 34, 44, 36, 46, 37, 47, 38, 48, 39, 49, 40, 50, 41, 51, 42, 52, 43, 53, 45, 55, 46, 56, 47, 57, 48, 58, 49, 59, 50, 60, 51, 61, 52, 62, 54, 64, 55, 65, 56, 66, 57, 67, 58, 68, 59, 69, 60, 70, 61, 71, 63, 73, 64, 74, 65, 75, 66, 76, 67, 77, 68, 78, 69, 79, 70, 80], \"k\": [1, 9, 2, 10, 3, 11, 4, 12, 5, 13, 6, 14, 7, 15, 8, 16, 10, 18, 11, 19, 12, 20, 13, 21, 14, 22, 15, 23, 16, 24, 17, 25, 19, 27, 20, 28, 21, 29, 22, 30, 23, 31, 24, 32, 25, 33, 26, 34, 28, 36, 29, 37, 30, 38, 31, 39, 32, 40, 33, 41, 34, 42, 35, 43, 37, 45, 38, 46, 39, 47, 40, 48, 41, 49, 42, 50, 43, 51, 44, 52, 46, 54, 47, 55, 48, 56, 49, 57, 50, 58, 51, 59, 52, 60, 53, 61, 55, 63, 56, 64, 57, 65, 58, 66, 59, 67, 60, 68, 61, 69, 62, 70, 64, 72, 65, 73, 66, 74, 67, 75, 68, 76, 69, 77, 70, 78, 71, 79], \"type\": \"mesh3d\", \"x\": [0.0, 1.0, 2.0, 3.0, 4.0, 5.0, 6.0, 7.0, 8.0, 0.0, 1.0, 2.0, 3.0, 4.0, 5.0, 6.0, 7.0, 8.0, 0.0, 1.0, 2.0, 3.0, 4.0, 5.0, 6.0, 7.0, 8.0, 0.0, 1.0, 2.0, 3.0, 4.0, 5.0, 6.0, 7.0, 8.0, 0.0, 1.0, 2.0, 3.0, 4.0, 5.0, 6.0, 7.0, 8.0, 0.0, 1.0, 2.0, 3.0, 4.0, 5.0, 6.0, 7.0, 8.0, 0.0, 1.0, 2.0, 3.0, 4.0, 5.0, 6.0, 7.0, 8.0, 0.0, 1.0, 2.0, 3.0, 4.0, 5.0, 6.0, 7.0, 8.0, 0.0, 1.0, 2.0, 3.0, 4.0, 5.0, 6.0, 7.0, 8.0], \"y\": [0.0, 0.0, 0.0, 0.0, 0.0, 0.0, 0.0, 0.0, 0.0, 1.0, 1.0, 1.0, 1.0, 1.0, 1.0, 1.0, 1.0, 1.0, 2.0, 2.0, 2.0, 2.0, 2.0, 2.0, 2.0, 2.0, 2.0, 3.0, 3.0, 3.0, 3.0, 3.0, 3.0, 3.0, 3.0, 3.0, 4.0, 4.0, 4.0, 4.0, 4.0, 4.0, 4.0, 4.0, 4.0, 5.0, 5.0, 5.0, 5.0, 5.0, 5.0, 5.0, 5.0, 5.0, 6.0, 6.0, 6.0, 6.0, 6.0, 6.0, 6.0, 6.0, 6.0, 7.0, 7.0, 7.0, 7.0, 7.0, 7.0, 7.0, 7.0, 7.0, 8.0, 8.0, 8.0, 8.0, 8.0, 8.0, 8.0, 8.0, 8.0], \"z\": [0.0, -0.25, -0.5, -0.75, -1.0, -0.75, -0.5, -0.25, 0.0, -0.25, 0.0, -0.25, -0.5, -0.75, -0.5, -0.25, 0.0, -0.25, -0.5, -0.25, 0.0, -0.25, -0.5, -0.25, 0.0, -0.25, -0.5, -0.75, -0.5, -0.25, 0.0, -0.25, 0.0, -0.25, -0.5, -0.75, -1.0, -0.75, -0.5, -0.25, -0.0, -0.25, -0.5, -0.75, -1.0, -0.75, -0.5, -0.25, 0.0, -0.25, 0.0, -0.25, -0.5, -0.75, -0.5, -0.25, 0.0, -0.25, -0.5, -0.25, 0.0, -0.25, -0.5, -0.25, 0.0, -0.25, -0.5, -0.75, -0.5, -0.25, 0.0, -0.25, 0.0, -0.25, -0.5, -0.75, -1.0, -0.75, -0.5, -0.25, 0.0]}],\n",
       "                        {\"height\": 800, \"scene\": {\"aspectratio\": {\"x\": 1.0, \"y\": 1.0, \"z\": 0.1}, \"camera\": {}}, \"template\": {\"data\": {\"bar\": [{\"error_x\": {\"color\": \"#2a3f5f\"}, \"error_y\": {\"color\": \"#2a3f5f\"}, \"marker\": {\"line\": {\"color\": \"#E5ECF6\", \"width\": 0.5}}, \"type\": \"bar\"}], \"barpolar\": [{\"marker\": {\"line\": {\"color\": \"#E5ECF6\", \"width\": 0.5}}, \"type\": \"barpolar\"}], \"carpet\": [{\"aaxis\": {\"endlinecolor\": \"#2a3f5f\", \"gridcolor\": \"white\", \"linecolor\": \"white\", \"minorgridcolor\": \"white\", \"startlinecolor\": \"#2a3f5f\"}, \"baxis\": {\"endlinecolor\": \"#2a3f5f\", \"gridcolor\": \"white\", \"linecolor\": \"white\", \"minorgridcolor\": \"white\", \"startlinecolor\": \"#2a3f5f\"}, \"type\": \"carpet\"}], \"choropleth\": [{\"colorbar\": {\"outlinewidth\": 0, \"ticks\": \"\"}, \"type\": \"choropleth\"}], \"contour\": [{\"colorbar\": {\"outlinewidth\": 0, \"ticks\": \"\"}, \"colorscale\": [[0.0, \"#0d0887\"], [0.1111111111111111, \"#46039f\"], [0.2222222222222222, \"#7201a8\"], [0.3333333333333333, \"#9c179e\"], [0.4444444444444444, \"#bd3786\"], [0.5555555555555556, \"#d8576b\"], [0.6666666666666666, \"#ed7953\"], [0.7777777777777778, \"#fb9f3a\"], [0.8888888888888888, \"#fdca26\"], [1.0, \"#f0f921\"]], \"type\": \"contour\"}], \"contourcarpet\": [{\"colorbar\": {\"outlinewidth\": 0, \"ticks\": \"\"}, \"type\": \"contourcarpet\"}], \"heatmap\": [{\"colorbar\": {\"outlinewidth\": 0, \"ticks\": \"\"}, \"colorscale\": [[0.0, \"#0d0887\"], [0.1111111111111111, \"#46039f\"], [0.2222222222222222, \"#7201a8\"], [0.3333333333333333, \"#9c179e\"], [0.4444444444444444, \"#bd3786\"], [0.5555555555555556, \"#d8576b\"], [0.6666666666666666, \"#ed7953\"], [0.7777777777777778, \"#fb9f3a\"], [0.8888888888888888, \"#fdca26\"], [1.0, \"#f0f921\"]], \"type\": \"heatmap\"}], \"heatmapgl\": [{\"colorbar\": {\"outlinewidth\": 0, \"ticks\": \"\"}, \"colorscale\": [[0.0, \"#0d0887\"], [0.1111111111111111, \"#46039f\"], [0.2222222222222222, \"#7201a8\"], [0.3333333333333333, \"#9c179e\"], [0.4444444444444444, \"#bd3786\"], [0.5555555555555556, \"#d8576b\"], [0.6666666666666666, \"#ed7953\"], [0.7777777777777778, \"#fb9f3a\"], [0.8888888888888888, \"#fdca26\"], [1.0, \"#f0f921\"]], \"type\": \"heatmapgl\"}], \"histogram\": [{\"marker\": {\"colorbar\": {\"outlinewidth\": 0, \"ticks\": \"\"}}, \"type\": \"histogram\"}], \"histogram2d\": [{\"colorbar\": {\"outlinewidth\": 0, \"ticks\": \"\"}, \"colorscale\": [[0.0, \"#0d0887\"], [0.1111111111111111, \"#46039f\"], [0.2222222222222222, \"#7201a8\"], [0.3333333333333333, \"#9c179e\"], [0.4444444444444444, \"#bd3786\"], [0.5555555555555556, \"#d8576b\"], [0.6666666666666666, \"#ed7953\"], [0.7777777777777778, \"#fb9f3a\"], [0.8888888888888888, \"#fdca26\"], [1.0, \"#f0f921\"]], \"type\": \"histogram2d\"}], \"histogram2dcontour\": [{\"colorbar\": {\"outlinewidth\": 0, \"ticks\": \"\"}, \"colorscale\": [[0.0, \"#0d0887\"], [0.1111111111111111, \"#46039f\"], [0.2222222222222222, \"#7201a8\"], [0.3333333333333333, \"#9c179e\"], [0.4444444444444444, \"#bd3786\"], [0.5555555555555556, \"#d8576b\"], [0.6666666666666666, \"#ed7953\"], [0.7777777777777778, \"#fb9f3a\"], [0.8888888888888888, \"#fdca26\"], [1.0, \"#f0f921\"]], \"type\": \"histogram2dcontour\"}], \"mesh3d\": [{\"colorbar\": {\"outlinewidth\": 0, \"ticks\": \"\"}, \"type\": \"mesh3d\"}], \"parcoords\": [{\"line\": {\"colorbar\": {\"outlinewidth\": 0, \"ticks\": \"\"}}, \"type\": \"parcoords\"}], \"scatter\": [{\"marker\": {\"colorbar\": {\"outlinewidth\": 0, \"ticks\": \"\"}}, \"type\": \"scatter\"}], \"scatter3d\": [{\"line\": {\"colorbar\": {\"outlinewidth\": 0, \"ticks\": \"\"}}, \"marker\": {\"colorbar\": {\"outlinewidth\": 0, \"ticks\": \"\"}}, \"type\": \"scatter3d\"}], \"scattercarpet\": [{\"marker\": {\"colorbar\": {\"outlinewidth\": 0, \"ticks\": \"\"}}, \"type\": \"scattercarpet\"}], \"scattergeo\": [{\"marker\": {\"colorbar\": {\"outlinewidth\": 0, \"ticks\": \"\"}}, \"type\": \"scattergeo\"}], \"scattergl\": [{\"marker\": {\"colorbar\": {\"outlinewidth\": 0, \"ticks\": \"\"}}, \"type\": \"scattergl\"}], \"scattermapbox\": [{\"marker\": {\"colorbar\": {\"outlinewidth\": 0, \"ticks\": \"\"}}, \"type\": \"scattermapbox\"}], \"scatterpolar\": [{\"marker\": {\"colorbar\": {\"outlinewidth\": 0, \"ticks\": \"\"}}, \"type\": \"scatterpolar\"}], \"scatterpolargl\": [{\"marker\": {\"colorbar\": {\"outlinewidth\": 0, \"ticks\": \"\"}}, \"type\": \"scatterpolargl\"}], \"scatterternary\": [{\"marker\": {\"colorbar\": {\"outlinewidth\": 0, \"ticks\": \"\"}}, \"type\": \"scatterternary\"}], \"surface\": [{\"colorbar\": {\"outlinewidth\": 0, \"ticks\": \"\"}, \"colorscale\": [[0.0, \"#0d0887\"], [0.1111111111111111, \"#46039f\"], [0.2222222222222222, \"#7201a8\"], [0.3333333333333333, \"#9c179e\"], [0.4444444444444444, \"#bd3786\"], [0.5555555555555556, \"#d8576b\"], [0.6666666666666666, \"#ed7953\"], [0.7777777777777778, \"#fb9f3a\"], [0.8888888888888888, \"#fdca26\"], [1.0, \"#f0f921\"]], \"type\": \"surface\"}], \"table\": [{\"cells\": {\"fill\": {\"color\": \"#EBF0F8\"}, \"line\": {\"color\": \"white\"}}, \"header\": {\"fill\": {\"color\": \"#C8D4E3\"}, \"line\": {\"color\": \"white\"}}, \"type\": \"table\"}]}, \"layout\": {\"annotationdefaults\": {\"arrowcolor\": \"#2a3f5f\", \"arrowhead\": 0, \"arrowwidth\": 1}, \"colorscale\": {\"diverging\": [[0, \"#8e0152\"], [0.1, \"#c51b7d\"], [0.2, \"#de77ae\"], [0.3, \"#f1b6da\"], [0.4, \"#fde0ef\"], [0.5, \"#f7f7f7\"], [0.6, \"#e6f5d0\"], [0.7, \"#b8e186\"], [0.8, \"#7fbc41\"], [0.9, \"#4d9221\"], [1, \"#276419\"]], \"sequential\": [[0.0, \"#0d0887\"], [0.1111111111111111, \"#46039f\"], [0.2222222222222222, \"#7201a8\"], [0.3333333333333333, \"#9c179e\"], [0.4444444444444444, \"#bd3786\"], [0.5555555555555556, \"#d8576b\"], [0.6666666666666666, \"#ed7953\"], [0.7777777777777778, \"#fb9f3a\"], [0.8888888888888888, \"#fdca26\"], [1.0, \"#f0f921\"]], \"sequentialminus\": [[0.0, \"#0d0887\"], [0.1111111111111111, \"#46039f\"], [0.2222222222222222, \"#7201a8\"], [0.3333333333333333, \"#9c179e\"], [0.4444444444444444, \"#bd3786\"], [0.5555555555555556, \"#d8576b\"], [0.6666666666666666, \"#ed7953\"], [0.7777777777777778, \"#fb9f3a\"], [0.8888888888888888, \"#fdca26\"], [1.0, \"#f0f921\"]]}, \"colorway\": [\"#636efa\", \"#EF553B\", \"#00cc96\", \"#ab63fa\", \"#FFA15A\", \"#19d3f3\", \"#FF6692\", \"#B6E880\", \"#FF97FF\", \"#FECB52\"], \"font\": {\"color\": \"#2a3f5f\"}, \"geo\": {\"bgcolor\": \"white\", \"lakecolor\": \"white\", \"landcolor\": \"#E5ECF6\", \"showlakes\": true, \"showland\": true, \"subunitcolor\": \"white\"}, \"hoverlabel\": {\"align\": \"left\"}, \"hovermode\": \"closest\", \"mapbox\": {\"style\": \"light\"}, \"paper_bgcolor\": \"white\", \"plot_bgcolor\": \"#E5ECF6\", \"polar\": {\"angularaxis\": {\"gridcolor\": \"white\", \"linecolor\": \"white\", \"ticks\": \"\"}, \"bgcolor\": \"#E5ECF6\", \"radialaxis\": {\"gridcolor\": \"white\", \"linecolor\": \"white\", \"ticks\": \"\"}}, \"scene\": {\"xaxis\": {\"backgroundcolor\": \"#E5ECF6\", \"gridcolor\": \"white\", \"gridwidth\": 2, \"linecolor\": \"white\", \"showbackground\": true, \"ticks\": \"\", \"zerolinecolor\": \"white\"}, \"yaxis\": {\"backgroundcolor\": \"#E5ECF6\", \"gridcolor\": \"white\", \"gridwidth\": 2, \"linecolor\": \"white\", \"showbackground\": true, \"ticks\": \"\", \"zerolinecolor\": \"white\"}, \"zaxis\": {\"backgroundcolor\": \"#E5ECF6\", \"gridcolor\": \"white\", \"gridwidth\": 2, \"linecolor\": \"white\", \"showbackground\": true, \"ticks\": \"\", \"zerolinecolor\": \"white\"}}, \"shapedefaults\": {\"line\": {\"color\": \"#2a3f5f\"}}, \"ternary\": {\"aaxis\": {\"gridcolor\": \"white\", \"linecolor\": \"white\", \"ticks\": \"\"}, \"baxis\": {\"gridcolor\": \"white\", \"linecolor\": \"white\", \"ticks\": \"\"}, \"bgcolor\": \"#E5ECF6\", \"caxis\": {\"gridcolor\": \"white\", \"linecolor\": \"white\", \"ticks\": \"\"}}, \"title\": {\"x\": 0.05}, \"xaxis\": {\"automargin\": true, \"gridcolor\": \"white\", \"linecolor\": \"white\", \"ticks\": \"\", \"zerolinecolor\": \"white\", \"zerolinewidth\": 2}, \"yaxis\": {\"automargin\": true, \"gridcolor\": \"white\", \"linecolor\": \"white\", \"ticks\": \"\", \"zerolinecolor\": \"white\", \"zerolinewidth\": 2}}}, \"title\": {\"text\": \"ll_ur triangulation of ridge function (Mesh3D)\"}, \"width\": 800},\n",
       "                        {\"responsive\": true}\n",
       "                    ).then(function(){\n",
       "                            \n",
       "var gd = document.getElementById('2098094e-0052-4960-a4e5-cf5eb5136064');\n",
       "var x = new MutationObserver(function (mutations, observer) {{\n",
       "        var display = window.getComputedStyle(gd).display;\n",
       "        if (!display || display === 'none') {{\n",
       "            console.log([gd, 'removed!']);\n",
       "            Plotly.purge(gd);\n",
       "            observer.disconnect();\n",
       "        }}\n",
       "}});\n",
       "\n",
       "// Listen for the removal of the full notebook cells\n",
       "var notebookContainer = gd.closest('#notebook-container');\n",
       "if (notebookContainer) {{\n",
       "    x.observe(notebookContainer, {childList: true});\n",
       "}}\n",
       "\n",
       "// Listen for the clearing of the current output cell\n",
       "var outputEl = gd.closest('.output');\n",
       "if (outputEl) {{\n",
       "    x.observe(outputEl, {childList: true});\n",
       "}}\n",
       "\n",
       "                        })\n",
       "                };\n",
       "                });\n",
       "            </script>\n",
       "        </div>"
      ]
     },
     "metadata": {},
     "output_type": "display_data"
    },
    {
     "data": {
      "application/vnd.plotly.v1+json": {
       "config": {
        "plotlyServerURL": "https://plot.ly"
       },
       "data": [
        {
         "colorscale": [
          [
           0,
           "rgb(5,10,172)"
          ],
          [
           0.1,
           "rgb(34,46,193)"
          ],
          [
           0.2,
           "rgb(63,83,215)"
          ],
          [
           0.3,
           "rgb(92,119,236)"
          ],
          [
           0.4,
           "rgb(134,155,228)"
          ],
          [
           0.5,
           "rgb(190,190,190)"
          ],
          [
           0.6,
           "rgb(220,170,132)"
          ],
          [
           0.7,
           "rgb(230,145,90)"
          ],
          [
           0.8,
           "rgb(213,100,69)"
          ],
          [
           0.9,
           "rgb(195,55,49)"
          ],
          [
           1,
           "rgb(178,10,28)"
          ]
         ],
         "i": [
          0,
          8,
          8,
          2,
          9,
          3,
          10,
          4,
          4,
          12,
          12,
          6,
          14,
          8,
          8,
          16,
          16,
          10,
          10,
          18,
          18,
          12,
          12,
          20,
          21,
          15,
          22,
          16,
          16,
          24,
          24,
          18,
          18,
          26,
          26,
          20,
          28,
          22,
          22,
          30,
          30,
          24,
          24,
          32,
          32,
          26,
          33,
          27,
          28,
          36,
          36,
          30,
          30,
          38,
          38,
          32,
          32,
          40,
          40,
          34,
          42,
          36,
          36,
          44,
          44,
          38,
          45,
          39,
          46,
          40,
          40,
          48
         ],
         "intensity": [
          0,
          -0.25,
          -0.5,
          -0.75,
          -0.5,
          -0.25,
          0,
          -0.25,
          0,
          -0.25,
          -0.5,
          -0.25,
          0,
          -0.25,
          -0.5,
          -0.25,
          0,
          -0.25,
          0,
          -0.25,
          -0.5,
          -0.75,
          -0.5,
          -0.25,
          0,
          -0.25,
          -0.5,
          -0.75,
          -0.5,
          -0.25,
          0,
          -0.25,
          0,
          -0.25,
          -0.5,
          -0.25,
          0,
          -0.25,
          -0.5,
          -0.25,
          0,
          -0.25,
          0,
          -0.25,
          -0.5,
          -0.75,
          -0.5,
          -0.25,
          0
         ],
         "j": [
          1,
          7,
          1,
          9,
          2,
          10,
          3,
          11,
          5,
          11,
          5,
          13,
          7,
          15,
          9,
          15,
          9,
          17,
          11,
          17,
          11,
          19,
          13,
          19,
          14,
          22,
          15,
          23,
          17,
          23,
          17,
          25,
          19,
          25,
          19,
          27,
          21,
          29,
          23,
          29,
          23,
          31,
          25,
          31,
          25,
          33,
          26,
          34,
          29,
          35,
          29,
          37,
          31,
          37,
          31,
          39,
          33,
          39,
          33,
          41,
          35,
          43,
          37,
          43,
          37,
          45,
          38,
          46,
          39,
          47,
          41,
          47
         ],
         "k": [
          8,
          0,
          2,
          8,
          3,
          9,
          4,
          10,
          12,
          4,
          6,
          12,
          8,
          14,
          16,
          8,
          10,
          16,
          18,
          10,
          12,
          18,
          20,
          12,
          15,
          21,
          16,
          22,
          24,
          16,
          18,
          24,
          26,
          18,
          20,
          26,
          22,
          28,
          30,
          22,
          24,
          30,
          32,
          24,
          26,
          32,
          27,
          33,
          36,
          28,
          30,
          36,
          38,
          30,
          32,
          38,
          40,
          32,
          34,
          40,
          36,
          42,
          44,
          36,
          38,
          44,
          39,
          45,
          40,
          46,
          48,
          40
         ],
         "type": "mesh3d",
         "x": [
          0,
          1,
          2,
          3,
          4,
          5,
          6,
          0,
          1,
          2,
          3,
          4,
          5,
          6,
          0,
          1,
          2,
          3,
          4,
          5,
          6,
          0,
          1,
          2,
          3,
          4,
          5,
          6,
          0,
          1,
          2,
          3,
          4,
          5,
          6,
          0,
          1,
          2,
          3,
          4,
          5,
          6,
          0,
          1,
          2,
          3,
          4,
          5,
          6
         ],
         "y": [
          0,
          0,
          0,
          0,
          0,
          0,
          0,
          1,
          1,
          1,
          1,
          1,
          1,
          1,
          2,
          2,
          2,
          2,
          2,
          2,
          2,
          3,
          3,
          3,
          3,
          3,
          3,
          3,
          4,
          4,
          4,
          4,
          4,
          4,
          4,
          5,
          5,
          5,
          5,
          5,
          5,
          5,
          6,
          6,
          6,
          6,
          6,
          6,
          6
         ],
         "z": [
          0,
          -0.25,
          -0.5,
          -0.75,
          -0.5,
          -0.25,
          0,
          -0.25,
          0,
          -0.25,
          -0.5,
          -0.25,
          0,
          -0.25,
          -0.5,
          -0.25,
          0,
          -0.25,
          0,
          -0.25,
          -0.5,
          -0.75,
          -0.5,
          -0.25,
          0,
          -0.25,
          -0.5,
          -0.75,
          -0.5,
          -0.25,
          0,
          -0.25,
          0,
          -0.25,
          -0.5,
          -0.25,
          0,
          -0.25,
          -0.5,
          -0.25,
          0,
          -0.25,
          0,
          -0.25,
          -0.5,
          -0.75,
          -0.5,
          -0.25,
          0
         ]
        }
       ],
       "layout": {
        "height": 800,
        "scene": {
         "aspectratio": {
          "x": 1,
          "y": 1,
          "z": 0.1
         },
         "camera": {}
        },
        "template": {
         "data": {
          "bar": [
           {
            "error_x": {
             "color": "#2a3f5f"
            },
            "error_y": {
             "color": "#2a3f5f"
            },
            "marker": {
             "line": {
              "color": "#E5ECF6",
              "width": 0.5
             }
            },
            "type": "bar"
           }
          ],
          "barpolar": [
           {
            "marker": {
             "line": {
              "color": "#E5ECF6",
              "width": 0.5
             }
            },
            "type": "barpolar"
           }
          ],
          "carpet": [
           {
            "aaxis": {
             "endlinecolor": "#2a3f5f",
             "gridcolor": "white",
             "linecolor": "white",
             "minorgridcolor": "white",
             "startlinecolor": "#2a3f5f"
            },
            "baxis": {
             "endlinecolor": "#2a3f5f",
             "gridcolor": "white",
             "linecolor": "white",
             "minorgridcolor": "white",
             "startlinecolor": "#2a3f5f"
            },
            "type": "carpet"
           }
          ],
          "choropleth": [
           {
            "colorbar": {
             "outlinewidth": 0,
             "ticks": ""
            },
            "type": "choropleth"
           }
          ],
          "contour": [
           {
            "colorbar": {
             "outlinewidth": 0,
             "ticks": ""
            },
            "colorscale": [
             [
              0,
              "#0d0887"
             ],
             [
              0.1111111111111111,
              "#46039f"
             ],
             [
              0.2222222222222222,
              "#7201a8"
             ],
             [
              0.3333333333333333,
              "#9c179e"
             ],
             [
              0.4444444444444444,
              "#bd3786"
             ],
             [
              0.5555555555555556,
              "#d8576b"
             ],
             [
              0.6666666666666666,
              "#ed7953"
             ],
             [
              0.7777777777777778,
              "#fb9f3a"
             ],
             [
              0.8888888888888888,
              "#fdca26"
             ],
             [
              1,
              "#f0f921"
             ]
            ],
            "type": "contour"
           }
          ],
          "contourcarpet": [
           {
            "colorbar": {
             "outlinewidth": 0,
             "ticks": ""
            },
            "type": "contourcarpet"
           }
          ],
          "heatmap": [
           {
            "colorbar": {
             "outlinewidth": 0,
             "ticks": ""
            },
            "colorscale": [
             [
              0,
              "#0d0887"
             ],
             [
              0.1111111111111111,
              "#46039f"
             ],
             [
              0.2222222222222222,
              "#7201a8"
             ],
             [
              0.3333333333333333,
              "#9c179e"
             ],
             [
              0.4444444444444444,
              "#bd3786"
             ],
             [
              0.5555555555555556,
              "#d8576b"
             ],
             [
              0.6666666666666666,
              "#ed7953"
             ],
             [
              0.7777777777777778,
              "#fb9f3a"
             ],
             [
              0.8888888888888888,
              "#fdca26"
             ],
             [
              1,
              "#f0f921"
             ]
            ],
            "type": "heatmap"
           }
          ],
          "heatmapgl": [
           {
            "colorbar": {
             "outlinewidth": 0,
             "ticks": ""
            },
            "colorscale": [
             [
              0,
              "#0d0887"
             ],
             [
              0.1111111111111111,
              "#46039f"
             ],
             [
              0.2222222222222222,
              "#7201a8"
             ],
             [
              0.3333333333333333,
              "#9c179e"
             ],
             [
              0.4444444444444444,
              "#bd3786"
             ],
             [
              0.5555555555555556,
              "#d8576b"
             ],
             [
              0.6666666666666666,
              "#ed7953"
             ],
             [
              0.7777777777777778,
              "#fb9f3a"
             ],
             [
              0.8888888888888888,
              "#fdca26"
             ],
             [
              1,
              "#f0f921"
             ]
            ],
            "type": "heatmapgl"
           }
          ],
          "histogram": [
           {
            "marker": {
             "colorbar": {
              "outlinewidth": 0,
              "ticks": ""
             }
            },
            "type": "histogram"
           }
          ],
          "histogram2d": [
           {
            "colorbar": {
             "outlinewidth": 0,
             "ticks": ""
            },
            "colorscale": [
             [
              0,
              "#0d0887"
             ],
             [
              0.1111111111111111,
              "#46039f"
             ],
             [
              0.2222222222222222,
              "#7201a8"
             ],
             [
              0.3333333333333333,
              "#9c179e"
             ],
             [
              0.4444444444444444,
              "#bd3786"
             ],
             [
              0.5555555555555556,
              "#d8576b"
             ],
             [
              0.6666666666666666,
              "#ed7953"
             ],
             [
              0.7777777777777778,
              "#fb9f3a"
             ],
             [
              0.8888888888888888,
              "#fdca26"
             ],
             [
              1,
              "#f0f921"
             ]
            ],
            "type": "histogram2d"
           }
          ],
          "histogram2dcontour": [
           {
            "colorbar": {
             "outlinewidth": 0,
             "ticks": ""
            },
            "colorscale": [
             [
              0,
              "#0d0887"
             ],
             [
              0.1111111111111111,
              "#46039f"
             ],
             [
              0.2222222222222222,
              "#7201a8"
             ],
             [
              0.3333333333333333,
              "#9c179e"
             ],
             [
              0.4444444444444444,
              "#bd3786"
             ],
             [
              0.5555555555555556,
              "#d8576b"
             ],
             [
              0.6666666666666666,
              "#ed7953"
             ],
             [
              0.7777777777777778,
              "#fb9f3a"
             ],
             [
              0.8888888888888888,
              "#fdca26"
             ],
             [
              1,
              "#f0f921"
             ]
            ],
            "type": "histogram2dcontour"
           }
          ],
          "mesh3d": [
           {
            "colorbar": {
             "outlinewidth": 0,
             "ticks": ""
            },
            "type": "mesh3d"
           }
          ],
          "parcoords": [
           {
            "line": {
             "colorbar": {
              "outlinewidth": 0,
              "ticks": ""
             }
            },
            "type": "parcoords"
           }
          ],
          "scatter": [
           {
            "marker": {
             "colorbar": {
              "outlinewidth": 0,
              "ticks": ""
             }
            },
            "type": "scatter"
           }
          ],
          "scatter3d": [
           {
            "line": {
             "colorbar": {
              "outlinewidth": 0,
              "ticks": ""
             }
            },
            "marker": {
             "colorbar": {
              "outlinewidth": 0,
              "ticks": ""
             }
            },
            "type": "scatter3d"
           }
          ],
          "scattercarpet": [
           {
            "marker": {
             "colorbar": {
              "outlinewidth": 0,
              "ticks": ""
             }
            },
            "type": "scattercarpet"
           }
          ],
          "scattergeo": [
           {
            "marker": {
             "colorbar": {
              "outlinewidth": 0,
              "ticks": ""
             }
            },
            "type": "scattergeo"
           }
          ],
          "scattergl": [
           {
            "marker": {
             "colorbar": {
              "outlinewidth": 0,
              "ticks": ""
             }
            },
            "type": "scattergl"
           }
          ],
          "scattermapbox": [
           {
            "marker": {
             "colorbar": {
              "outlinewidth": 0,
              "ticks": ""
             }
            },
            "type": "scattermapbox"
           }
          ],
          "scatterpolar": [
           {
            "marker": {
             "colorbar": {
              "outlinewidth": 0,
              "ticks": ""
             }
            },
            "type": "scatterpolar"
           }
          ],
          "scatterpolargl": [
           {
            "marker": {
             "colorbar": {
              "outlinewidth": 0,
              "ticks": ""
             }
            },
            "type": "scatterpolargl"
           }
          ],
          "scatterternary": [
           {
            "marker": {
             "colorbar": {
              "outlinewidth": 0,
              "ticks": ""
             }
            },
            "type": "scatterternary"
           }
          ],
          "surface": [
           {
            "colorbar": {
             "outlinewidth": 0,
             "ticks": ""
            },
            "colorscale": [
             [
              0,
              "#0d0887"
             ],
             [
              0.1111111111111111,
              "#46039f"
             ],
             [
              0.2222222222222222,
              "#7201a8"
             ],
             [
              0.3333333333333333,
              "#9c179e"
             ],
             [
              0.4444444444444444,
              "#bd3786"
             ],
             [
              0.5555555555555556,
              "#d8576b"
             ],
             [
              0.6666666666666666,
              "#ed7953"
             ],
             [
              0.7777777777777778,
              "#fb9f3a"
             ],
             [
              0.8888888888888888,
              "#fdca26"
             ],
             [
              1,
              "#f0f921"
             ]
            ],
            "type": "surface"
           }
          ],
          "table": [
           {
            "cells": {
             "fill": {
              "color": "#EBF0F8"
             },
             "line": {
              "color": "white"
             }
            },
            "header": {
             "fill": {
              "color": "#C8D4E3"
             },
             "line": {
              "color": "white"
             }
            },
            "type": "table"
           }
          ]
         },
         "layout": {
          "annotationdefaults": {
           "arrowcolor": "#2a3f5f",
           "arrowhead": 0,
           "arrowwidth": 1
          },
          "colorscale": {
           "diverging": [
            [
             0,
             "#8e0152"
            ],
            [
             0.1,
             "#c51b7d"
            ],
            [
             0.2,
             "#de77ae"
            ],
            [
             0.3,
             "#f1b6da"
            ],
            [
             0.4,
             "#fde0ef"
            ],
            [
             0.5,
             "#f7f7f7"
            ],
            [
             0.6,
             "#e6f5d0"
            ],
            [
             0.7,
             "#b8e186"
            ],
            [
             0.8,
             "#7fbc41"
            ],
            [
             0.9,
             "#4d9221"
            ],
            [
             1,
             "#276419"
            ]
           ],
           "sequential": [
            [
             0,
             "#0d0887"
            ],
            [
             0.1111111111111111,
             "#46039f"
            ],
            [
             0.2222222222222222,
             "#7201a8"
            ],
            [
             0.3333333333333333,
             "#9c179e"
            ],
            [
             0.4444444444444444,
             "#bd3786"
            ],
            [
             0.5555555555555556,
             "#d8576b"
            ],
            [
             0.6666666666666666,
             "#ed7953"
            ],
            [
             0.7777777777777778,
             "#fb9f3a"
            ],
            [
             0.8888888888888888,
             "#fdca26"
            ],
            [
             1,
             "#f0f921"
            ]
           ],
           "sequentialminus": [
            [
             0,
             "#0d0887"
            ],
            [
             0.1111111111111111,
             "#46039f"
            ],
            [
             0.2222222222222222,
             "#7201a8"
            ],
            [
             0.3333333333333333,
             "#9c179e"
            ],
            [
             0.4444444444444444,
             "#bd3786"
            ],
            [
             0.5555555555555556,
             "#d8576b"
            ],
            [
             0.6666666666666666,
             "#ed7953"
            ],
            [
             0.7777777777777778,
             "#fb9f3a"
            ],
            [
             0.8888888888888888,
             "#fdca26"
            ],
            [
             1,
             "#f0f921"
            ]
           ]
          },
          "colorway": [
           "#636efa",
           "#EF553B",
           "#00cc96",
           "#ab63fa",
           "#FFA15A",
           "#19d3f3",
           "#FF6692",
           "#B6E880",
           "#FF97FF",
           "#FECB52"
          ],
          "font": {
           "color": "#2a3f5f"
          },
          "geo": {
           "bgcolor": "white",
           "lakecolor": "white",
           "landcolor": "#E5ECF6",
           "showlakes": true,
           "showland": true,
           "subunitcolor": "white"
          },
          "hoverlabel": {
           "align": "left"
          },
          "hovermode": "closest",
          "mapbox": {
           "style": "light"
          },
          "paper_bgcolor": "white",
          "plot_bgcolor": "#E5ECF6",
          "polar": {
           "angularaxis": {
            "gridcolor": "white",
            "linecolor": "white",
            "ticks": ""
           },
           "bgcolor": "#E5ECF6",
           "radialaxis": {
            "gridcolor": "white",
            "linecolor": "white",
            "ticks": ""
           }
          },
          "scene": {
           "xaxis": {
            "backgroundcolor": "#E5ECF6",
            "gridcolor": "white",
            "gridwidth": 2,
            "linecolor": "white",
            "showbackground": true,
            "ticks": "",
            "zerolinecolor": "white"
           },
           "yaxis": {
            "backgroundcolor": "#E5ECF6",
            "gridcolor": "white",
            "gridwidth": 2,
            "linecolor": "white",
            "showbackground": true,
            "ticks": "",
            "zerolinecolor": "white"
           },
           "zaxis": {
            "backgroundcolor": "#E5ECF6",
            "gridcolor": "white",
            "gridwidth": 2,
            "linecolor": "white",
            "showbackground": true,
            "ticks": "",
            "zerolinecolor": "white"
           }
          },
          "shapedefaults": {
           "line": {
            "color": "#2a3f5f"
           }
          },
          "ternary": {
           "aaxis": {
            "gridcolor": "white",
            "linecolor": "white",
            "ticks": ""
           },
           "baxis": {
            "gridcolor": "white",
            "linecolor": "white",
            "ticks": ""
           },
           "bgcolor": "#E5ECF6",
           "caxis": {
            "gridcolor": "white",
            "linecolor": "white",
            "ticks": ""
           }
          },
          "title": {
           "x": 0.05
          },
          "xaxis": {
           "automargin": true,
           "gridcolor": "white",
           "linecolor": "white",
           "ticks": "",
           "zerolinecolor": "white",
           "zerolinewidth": 2
          },
          "yaxis": {
           "automargin": true,
           "gridcolor": "white",
           "linecolor": "white",
           "ticks": "",
           "zerolinecolor": "white",
           "zerolinewidth": 2
          }
         }
        },
        "title": {
         "text": "Feature-based triangulation of ridge function (Mesh3D)"
        },
        "width": 800
       }
      },
      "text/html": [
       "<div>\n",
       "        \n",
       "        \n",
       "            <div id=\"34311415-3b0c-4a67-b4f8-a9f25e0828ff\" class=\"plotly-graph-div\" style=\"height:800px; width:800px;\"></div>\n",
       "            <script type=\"text/javascript\">\n",
       "                require([\"plotly\"], function(Plotly) {\n",
       "                    window.PLOTLYENV=window.PLOTLYENV || {};\n",
       "                    \n",
       "                if (document.getElementById(\"34311415-3b0c-4a67-b4f8-a9f25e0828ff\")) {\n",
       "                    Plotly.newPlot(\n",
       "                        '34311415-3b0c-4a67-b4f8-a9f25e0828ff',\n",
       "                        [{\"colorscale\": [[0.0, \"rgb(5,10,172)\"], [0.1, \"rgb(34,46,193)\"], [0.2, \"rgb(63,83,215)\"], [0.3, \"rgb(92,119,236)\"], [0.4, \"rgb(134,155,228)\"], [0.5, \"rgb(190,190,190)\"], [0.6, \"rgb(220,170,132)\"], [0.7, \"rgb(230,145,90)\"], [0.8, \"rgb(213,100,69)\"], [0.9, \"rgb(195,55,49)\"], [1.0, \"rgb(178,10,28)\"]], \"i\": [0, 8, 8, 2, 9, 3, 10, 4, 4, 12, 12, 6, 14, 8, 8, 16, 16, 10, 10, 18, 18, 12, 12, 20, 21, 15, 22, 16, 16, 24, 24, 18, 18, 26, 26, 20, 28, 22, 22, 30, 30, 24, 24, 32, 32, 26, 33, 27, 28, 36, 36, 30, 30, 38, 38, 32, 32, 40, 40, 34, 42, 36, 36, 44, 44, 38, 45, 39, 46, 40, 40, 48], \"intensity\": [0.0, -0.25, -0.5, -0.75, -0.5, -0.25, 0.0, -0.25, 0.0, -0.25, -0.5, -0.25, 0.0, -0.25, -0.5, -0.25, 0.0, -0.25, 0.0, -0.25, -0.5, -0.75, -0.5, -0.25, -0.0, -0.25, -0.5, -0.75, -0.5, -0.25, 0.0, -0.25, 0.0, -0.25, -0.5, -0.25, 0.0, -0.25, -0.5, -0.25, 0.0, -0.25, 0.0, -0.25, -0.5, -0.75, -0.5, -0.25, 0.0], \"j\": [1, 7, 1, 9, 2, 10, 3, 11, 5, 11, 5, 13, 7, 15, 9, 15, 9, 17, 11, 17, 11, 19, 13, 19, 14, 22, 15, 23, 17, 23, 17, 25, 19, 25, 19, 27, 21, 29, 23, 29, 23, 31, 25, 31, 25, 33, 26, 34, 29, 35, 29, 37, 31, 37, 31, 39, 33, 39, 33, 41, 35, 43, 37, 43, 37, 45, 38, 46, 39, 47, 41, 47], \"k\": [8, 0, 2, 8, 3, 9, 4, 10, 12, 4, 6, 12, 8, 14, 16, 8, 10, 16, 18, 10, 12, 18, 20, 12, 15, 21, 16, 22, 24, 16, 18, 24, 26, 18, 20, 26, 22, 28, 30, 22, 24, 30, 32, 24, 26, 32, 27, 33, 36, 28, 30, 36, 38, 30, 32, 38, 40, 32, 34, 40, 36, 42, 44, 36, 38, 44, 39, 45, 40, 46, 48, 40], \"type\": \"mesh3d\", \"x\": [0.0, 1.0, 2.0, 3.0, 4.0, 5.0, 6.0, 0.0, 1.0, 2.0, 3.0, 4.0, 5.0, 6.0, 0.0, 1.0, 2.0, 3.0, 4.0, 5.0, 6.0, 0.0, 1.0, 2.0, 3.0, 4.0, 5.0, 6.0, 0.0, 1.0, 2.0, 3.0, 4.0, 5.0, 6.0, 0.0, 1.0, 2.0, 3.0, 4.0, 5.0, 6.0, 0.0, 1.0, 2.0, 3.0, 4.0, 5.0, 6.0], \"y\": [0.0, 0.0, 0.0, 0.0, 0.0, 0.0, 0.0, 1.0, 1.0, 1.0, 1.0, 1.0, 1.0, 1.0, 2.0, 2.0, 2.0, 2.0, 2.0, 2.0, 2.0, 3.0, 3.0, 3.0, 3.0, 3.0, 3.0, 3.0, 4.0, 4.0, 4.0, 4.0, 4.0, 4.0, 4.0, 5.0, 5.0, 5.0, 5.0, 5.0, 5.0, 5.0, 6.0, 6.0, 6.0, 6.0, 6.0, 6.0, 6.0], \"z\": [0.0, -0.25, -0.5, -0.75, -0.5, -0.25, 0.0, -0.25, 0.0, -0.25, -0.5, -0.25, 0.0, -0.25, -0.5, -0.25, 0.0, -0.25, 0.0, -0.25, -0.5, -0.75, -0.5, -0.25, -0.0, -0.25, -0.5, -0.75, -0.5, -0.25, 0.0, -0.25, 0.0, -0.25, -0.5, -0.25, 0.0, -0.25, -0.5, -0.25, 0.0, -0.25, 0.0, -0.25, -0.5, -0.75, -0.5, -0.25, 0.0]}],\n",
       "                        {\"height\": 800, \"scene\": {\"aspectratio\": {\"x\": 1.0, \"y\": 1.0, \"z\": 0.1}, \"camera\": {}}, \"template\": {\"data\": {\"bar\": [{\"error_x\": {\"color\": \"#2a3f5f\"}, \"error_y\": {\"color\": \"#2a3f5f\"}, \"marker\": {\"line\": {\"color\": \"#E5ECF6\", \"width\": 0.5}}, \"type\": \"bar\"}], \"barpolar\": [{\"marker\": {\"line\": {\"color\": \"#E5ECF6\", \"width\": 0.5}}, \"type\": \"barpolar\"}], \"carpet\": [{\"aaxis\": {\"endlinecolor\": \"#2a3f5f\", \"gridcolor\": \"white\", \"linecolor\": \"white\", \"minorgridcolor\": \"white\", \"startlinecolor\": \"#2a3f5f\"}, \"baxis\": {\"endlinecolor\": \"#2a3f5f\", \"gridcolor\": \"white\", \"linecolor\": \"white\", \"minorgridcolor\": \"white\", \"startlinecolor\": \"#2a3f5f\"}, \"type\": \"carpet\"}], \"choropleth\": [{\"colorbar\": {\"outlinewidth\": 0, \"ticks\": \"\"}, \"type\": \"choropleth\"}], \"contour\": [{\"colorbar\": {\"outlinewidth\": 0, \"ticks\": \"\"}, \"colorscale\": [[0.0, \"#0d0887\"], [0.1111111111111111, \"#46039f\"], [0.2222222222222222, \"#7201a8\"], [0.3333333333333333, \"#9c179e\"], [0.4444444444444444, \"#bd3786\"], [0.5555555555555556, \"#d8576b\"], [0.6666666666666666, \"#ed7953\"], [0.7777777777777778, \"#fb9f3a\"], [0.8888888888888888, \"#fdca26\"], [1.0, \"#f0f921\"]], \"type\": \"contour\"}], \"contourcarpet\": [{\"colorbar\": {\"outlinewidth\": 0, \"ticks\": \"\"}, \"type\": \"contourcarpet\"}], \"heatmap\": [{\"colorbar\": {\"outlinewidth\": 0, \"ticks\": \"\"}, \"colorscale\": [[0.0, \"#0d0887\"], [0.1111111111111111, \"#46039f\"], [0.2222222222222222, \"#7201a8\"], [0.3333333333333333, \"#9c179e\"], [0.4444444444444444, \"#bd3786\"], [0.5555555555555556, \"#d8576b\"], [0.6666666666666666, \"#ed7953\"], [0.7777777777777778, \"#fb9f3a\"], [0.8888888888888888, \"#fdca26\"], [1.0, \"#f0f921\"]], \"type\": \"heatmap\"}], \"heatmapgl\": [{\"colorbar\": {\"outlinewidth\": 0, \"ticks\": \"\"}, \"colorscale\": [[0.0, \"#0d0887\"], [0.1111111111111111, \"#46039f\"], [0.2222222222222222, \"#7201a8\"], [0.3333333333333333, \"#9c179e\"], [0.4444444444444444, \"#bd3786\"], [0.5555555555555556, \"#d8576b\"], [0.6666666666666666, \"#ed7953\"], [0.7777777777777778, \"#fb9f3a\"], [0.8888888888888888, \"#fdca26\"], [1.0, \"#f0f921\"]], \"type\": \"heatmapgl\"}], \"histogram\": [{\"marker\": {\"colorbar\": {\"outlinewidth\": 0, \"ticks\": \"\"}}, \"type\": \"histogram\"}], \"histogram2d\": [{\"colorbar\": {\"outlinewidth\": 0, \"ticks\": \"\"}, \"colorscale\": [[0.0, \"#0d0887\"], [0.1111111111111111, \"#46039f\"], [0.2222222222222222, \"#7201a8\"], [0.3333333333333333, \"#9c179e\"], [0.4444444444444444, \"#bd3786\"], [0.5555555555555556, \"#d8576b\"], [0.6666666666666666, \"#ed7953\"], [0.7777777777777778, \"#fb9f3a\"], [0.8888888888888888, \"#fdca26\"], [1.0, \"#f0f921\"]], \"type\": \"histogram2d\"}], \"histogram2dcontour\": [{\"colorbar\": {\"outlinewidth\": 0, \"ticks\": \"\"}, \"colorscale\": [[0.0, \"#0d0887\"], [0.1111111111111111, \"#46039f\"], [0.2222222222222222, \"#7201a8\"], [0.3333333333333333, \"#9c179e\"], [0.4444444444444444, \"#bd3786\"], [0.5555555555555556, \"#d8576b\"], [0.6666666666666666, \"#ed7953\"], [0.7777777777777778, \"#fb9f3a\"], [0.8888888888888888, \"#fdca26\"], [1.0, \"#f0f921\"]], \"type\": \"histogram2dcontour\"}], \"mesh3d\": [{\"colorbar\": {\"outlinewidth\": 0, \"ticks\": \"\"}, \"type\": \"mesh3d\"}], \"parcoords\": [{\"line\": {\"colorbar\": {\"outlinewidth\": 0, \"ticks\": \"\"}}, \"type\": \"parcoords\"}], \"scatter\": [{\"marker\": {\"colorbar\": {\"outlinewidth\": 0, \"ticks\": \"\"}}, \"type\": \"scatter\"}], \"scatter3d\": [{\"line\": {\"colorbar\": {\"outlinewidth\": 0, \"ticks\": \"\"}}, \"marker\": {\"colorbar\": {\"outlinewidth\": 0, \"ticks\": \"\"}}, \"type\": \"scatter3d\"}], \"scattercarpet\": [{\"marker\": {\"colorbar\": {\"outlinewidth\": 0, \"ticks\": \"\"}}, \"type\": \"scattercarpet\"}], \"scattergeo\": [{\"marker\": {\"colorbar\": {\"outlinewidth\": 0, \"ticks\": \"\"}}, \"type\": \"scattergeo\"}], \"scattergl\": [{\"marker\": {\"colorbar\": {\"outlinewidth\": 0, \"ticks\": \"\"}}, \"type\": \"scattergl\"}], \"scattermapbox\": [{\"marker\": {\"colorbar\": {\"outlinewidth\": 0, \"ticks\": \"\"}}, \"type\": \"scattermapbox\"}], \"scatterpolar\": [{\"marker\": {\"colorbar\": {\"outlinewidth\": 0, \"ticks\": \"\"}}, \"type\": \"scatterpolar\"}], \"scatterpolargl\": [{\"marker\": {\"colorbar\": {\"outlinewidth\": 0, \"ticks\": \"\"}}, \"type\": \"scatterpolargl\"}], \"scatterternary\": [{\"marker\": {\"colorbar\": {\"outlinewidth\": 0, \"ticks\": \"\"}}, \"type\": \"scatterternary\"}], \"surface\": [{\"colorbar\": {\"outlinewidth\": 0, \"ticks\": \"\"}, \"colorscale\": [[0.0, \"#0d0887\"], [0.1111111111111111, \"#46039f\"], [0.2222222222222222, \"#7201a8\"], [0.3333333333333333, \"#9c179e\"], [0.4444444444444444, \"#bd3786\"], [0.5555555555555556, \"#d8576b\"], [0.6666666666666666, \"#ed7953\"], [0.7777777777777778, \"#fb9f3a\"], [0.8888888888888888, \"#fdca26\"], [1.0, \"#f0f921\"]], \"type\": \"surface\"}], \"table\": [{\"cells\": {\"fill\": {\"color\": \"#EBF0F8\"}, \"line\": {\"color\": \"white\"}}, \"header\": {\"fill\": {\"color\": \"#C8D4E3\"}, \"line\": {\"color\": \"white\"}}, \"type\": \"table\"}]}, \"layout\": {\"annotationdefaults\": {\"arrowcolor\": \"#2a3f5f\", \"arrowhead\": 0, \"arrowwidth\": 1}, \"colorscale\": {\"diverging\": [[0, \"#8e0152\"], [0.1, \"#c51b7d\"], [0.2, \"#de77ae\"], [0.3, \"#f1b6da\"], [0.4, \"#fde0ef\"], [0.5, \"#f7f7f7\"], [0.6, \"#e6f5d0\"], [0.7, \"#b8e186\"], [0.8, \"#7fbc41\"], [0.9, \"#4d9221\"], [1, \"#276419\"]], \"sequential\": [[0.0, \"#0d0887\"], [0.1111111111111111, \"#46039f\"], [0.2222222222222222, \"#7201a8\"], [0.3333333333333333, \"#9c179e\"], [0.4444444444444444, \"#bd3786\"], [0.5555555555555556, \"#d8576b\"], [0.6666666666666666, \"#ed7953\"], [0.7777777777777778, \"#fb9f3a\"], [0.8888888888888888, \"#fdca26\"], [1.0, \"#f0f921\"]], \"sequentialminus\": [[0.0, \"#0d0887\"], [0.1111111111111111, \"#46039f\"], [0.2222222222222222, \"#7201a8\"], [0.3333333333333333, \"#9c179e\"], [0.4444444444444444, \"#bd3786\"], [0.5555555555555556, \"#d8576b\"], [0.6666666666666666, \"#ed7953\"], [0.7777777777777778, \"#fb9f3a\"], [0.8888888888888888, \"#fdca26\"], [1.0, \"#f0f921\"]]}, \"colorway\": [\"#636efa\", \"#EF553B\", \"#00cc96\", \"#ab63fa\", \"#FFA15A\", \"#19d3f3\", \"#FF6692\", \"#B6E880\", \"#FF97FF\", \"#FECB52\"], \"font\": {\"color\": \"#2a3f5f\"}, \"geo\": {\"bgcolor\": \"white\", \"lakecolor\": \"white\", \"landcolor\": \"#E5ECF6\", \"showlakes\": true, \"showland\": true, \"subunitcolor\": \"white\"}, \"hoverlabel\": {\"align\": \"left\"}, \"hovermode\": \"closest\", \"mapbox\": {\"style\": \"light\"}, \"paper_bgcolor\": \"white\", \"plot_bgcolor\": \"#E5ECF6\", \"polar\": {\"angularaxis\": {\"gridcolor\": \"white\", \"linecolor\": \"white\", \"ticks\": \"\"}, \"bgcolor\": \"#E5ECF6\", \"radialaxis\": {\"gridcolor\": \"white\", \"linecolor\": \"white\", \"ticks\": \"\"}}, \"scene\": {\"xaxis\": {\"backgroundcolor\": \"#E5ECF6\", \"gridcolor\": \"white\", \"gridwidth\": 2, \"linecolor\": \"white\", \"showbackground\": true, \"ticks\": \"\", \"zerolinecolor\": \"white\"}, \"yaxis\": {\"backgroundcolor\": \"#E5ECF6\", \"gridcolor\": \"white\", \"gridwidth\": 2, \"linecolor\": \"white\", \"showbackground\": true, \"ticks\": \"\", \"zerolinecolor\": \"white\"}, \"zaxis\": {\"backgroundcolor\": \"#E5ECF6\", \"gridcolor\": \"white\", \"gridwidth\": 2, \"linecolor\": \"white\", \"showbackground\": true, \"ticks\": \"\", \"zerolinecolor\": \"white\"}}, \"shapedefaults\": {\"line\": {\"color\": \"#2a3f5f\"}}, \"ternary\": {\"aaxis\": {\"gridcolor\": \"white\", \"linecolor\": \"white\", \"ticks\": \"\"}, \"baxis\": {\"gridcolor\": \"white\", \"linecolor\": \"white\", \"ticks\": \"\"}, \"bgcolor\": \"#E5ECF6\", \"caxis\": {\"gridcolor\": \"white\", \"linecolor\": \"white\", \"ticks\": \"\"}}, \"title\": {\"x\": 0.05}, \"xaxis\": {\"automargin\": true, \"gridcolor\": \"white\", \"linecolor\": \"white\", \"ticks\": \"\", \"zerolinecolor\": \"white\", \"zerolinewidth\": 2}, \"yaxis\": {\"automargin\": true, \"gridcolor\": \"white\", \"linecolor\": \"white\", \"ticks\": \"\", \"zerolinecolor\": \"white\", \"zerolinewidth\": 2}}}, \"title\": {\"text\": \"Feature-based triangulation of ridge function (Mesh3D)\"}, \"width\": 800},\n",
       "                        {\"responsive\": true}\n",
       "                    ).then(function(){\n",
       "                            \n",
       "var gd = document.getElementById('34311415-3b0c-4a67-b4f8-a9f25e0828ff');\n",
       "var x = new MutationObserver(function (mutations, observer) {{\n",
       "        var display = window.getComputedStyle(gd).display;\n",
       "        if (!display || display === 'none') {{\n",
       "            console.log([gd, 'removed!']);\n",
       "            Plotly.purge(gd);\n",
       "            observer.disconnect();\n",
       "        }}\n",
       "}});\n",
       "\n",
       "// Listen for the removal of the full notebook cells\n",
       "var notebookContainer = gd.closest('#notebook-container');\n",
       "if (notebookContainer) {{\n",
       "    x.observe(notebookContainer, {childList: true});\n",
       "}}\n",
       "\n",
       "// Listen for the clearing of the current output cell\n",
       "var outputEl = gd.closest('.output');\n",
       "if (outputEl) {{\n",
       "    x.observe(outputEl, {childList: true});\n",
       "}}\n",
       "\n",
       "                        })\n",
       "                };\n",
       "                });\n",
       "            </script>\n",
       "        </div>"
      ]
     },
     "metadata": {},
     "output_type": "display_data"
    }
   ],
   "source": [
    "def test_plot_mesh3d():\n",
    "    \"\"\" Test plot_mesh3d() \"\"\"\n",
    "    \n",
    "    # Feature-based plots of test function\n",
    "    verts, tris = make_trimesh_fixed(DEMS[\"ridge\"], diagonal=\"ul_lr\")\n",
    "    title = \"ul_lr triangulation of ridge function (Mesh3D)\"\n",
    "    fig = plot_mesh3d(verts, tris, title)\n",
    "    fig.show()\n",
    "    \n",
    "    verts, tris = make_trimesh_fixed(DEMS[\"ridge\"], diagonal=\"ll_ur\")\n",
    "    title = \"ll_ur triangulation of ridge function (Mesh3D)\"\n",
    "    fig = plot_mesh3d(verts, tris, title)\n",
    "    fig.show()\n",
    "    \n",
    "    verts, tris = make_trimesh_feature(DEMS[\"ridge\"])\n",
    "    title = \"Feature-based triangulation of ridge function (Mesh3D)\"\n",
    "    fig = plot_mesh3d(verts, tris, title)\n",
    "    fig.show()\n",
    "    \n",
    "test_plot_mesh3d()"
   ]
  },
  {
   "cell_type": "code",
   "execution_count": 94,
   "metadata": {
    "collapsed": true
   },
   "outputs": [],
   "source": [
    "def plot_trisurf(verts, tris, title=\"3D plot of a triangular mesh\", camera=None):\n",
    "    \"\"\"\n",
    "    Input: 2D numpy array verts of 3D vertex positions, list tris of tuples of vertex indices,\n",
    "    optional string title, optional dictionary camera\n",
    "    \n",
    "    Output: plotly figure corresponding to a triangular mesh create via create_trisurf() \n",
    "    using the colormap ELEV and the specified camera position. \n",
    "    The aspectio of the 3D plots should be similar that use in plot_elevation().\n",
    "    \"\"\"\n",
    "    \n",
    "    fig = ff.create_trisurf(x=verts[:, 0], y=verts[:, 1],\n",
    "                            z=verts[:, 2], simplices=tris, colormap=ELEV)\n",
    "    \n",
    "    x_axis = len(verts[:, 0])\n",
    "    y_axis = len(verts[:, 1])\n",
    "    \n",
    "    #compare x and y \n",
    "    min_axis = min(x_axis, y_axis)\n",
    "    x_ratio = x_axis / min_axis\n",
    "    y_ratio = y_axis / min_axis\n",
    "    \n",
    "    fig.update_layout(width=800, height=800, title=title,\n",
    "                      scene={\"aspectratio\": {\"x\": x_ratio, \"y\": y_ratio, \"z\": 0.1}},\n",
    "                      scene_camera=camera)\n",
    "\n",
    "    return fig"
   ]
  },
  {
   "cell_type": "code",
   "execution_count": 95,
   "metadata": {
    "scrolled": true,
    "tags": [
     "notebook_only"
    ]
   },
   "outputs": [
    {
     "data": {
      "application/vnd.plotly.v1+json": {
       "config": {
        "plotlyServerURL": "https://plot.ly"
       },
       "data": [
        {
         "facecolor": [
          "rgb(178, 10, 28)",
          "rgb(178, 10, 28)",
          "rgb(227, 153, 104)",
          "rgb(197, 60, 51)",
          "rgb(106, 131, 233)",
          "rgb(207, 179, 158)",
          "rgb(5, 10, 172)",
          "rgb(69, 91, 220)",
          "rgb(37, 50, 195)",
          "rgb(37, 50, 195)",
          "rgb(159, 171, 211)",
          "rgb(159, 171, 211)",
          "rgb(217, 110, 74)",
          "rgb(217, 110, 74)",
          "rgb(197, 60, 51)",
          "rgb(197, 60, 51)",
          "rgb(197, 60, 51)",
          "rgb(227, 153, 104)",
          "rgb(178, 10, 28)",
          "rgb(178, 10, 28)",
          "rgb(227, 153, 104)",
          "rgb(197, 60, 51)",
          "rgb(106, 131, 233)",
          "rgb(207, 179, 158)",
          "rgb(159, 171, 211)",
          "rgb(159, 171, 211)",
          "rgb(217, 110, 74)",
          "rgb(217, 110, 74)",
          "rgb(197, 60, 51)",
          "rgb(197, 60, 51)",
          "rgb(217, 110, 74)",
          "rgb(217, 110, 74)",
          "rgb(207, 179, 158)",
          "rgb(106, 131, 233)",
          "rgb(197, 60, 51)",
          "rgb(227, 153, 104)",
          "rgb(178, 10, 28)",
          "rgb(178, 10, 28)",
          "rgb(227, 153, 104)",
          "rgb(197, 60, 51)",
          "rgb(217, 110, 74)",
          "rgb(217, 110, 74)",
          "rgb(197, 60, 51)",
          "rgb(197, 60, 51)",
          "rgb(217, 110, 74)",
          "rgb(217, 110, 74)",
          "rgb(159, 171, 211)",
          "rgb(159, 171, 211)",
          "rgb(69, 91, 220)",
          "rgb(5, 10, 172)",
          "rgb(207, 179, 158)",
          "rgb(106, 131, 233)",
          "rgb(197, 60, 51)",
          "rgb(227, 153, 104)",
          "rgb(178, 10, 28)",
          "rgb(178, 10, 28)",
          "rgb(197, 60, 51)",
          "rgb(197, 60, 51)",
          "rgb(217, 110, 74)",
          "rgb(217, 110, 74)",
          "rgb(159, 171, 211)",
          "rgb(159, 171, 211)",
          "rgb(37, 50, 195)",
          "rgb(37, 50, 195)",
          "rgb(37, 50, 195)",
          "rgb(37, 50, 195)",
          "rgb(159, 171, 211)",
          "rgb(159, 171, 211)",
          "rgb(217, 110, 74)",
          "rgb(217, 110, 74)",
          "rgb(197, 60, 51)",
          "rgb(197, 60, 51)",
          "rgb(178, 10, 28)",
          "rgb(178, 10, 28)",
          "rgb(227, 153, 104)",
          "rgb(197, 60, 51)",
          "rgb(106, 131, 233)",
          "rgb(207, 179, 158)",
          "rgb(5, 10, 172)",
          "rgb(69, 91, 220)",
          "rgb(159, 171, 211)",
          "rgb(159, 171, 211)",
          "rgb(217, 110, 74)",
          "rgb(217, 110, 74)",
          "rgb(197, 60, 51)",
          "rgb(197, 60, 51)",
          "rgb(217, 110, 74)",
          "rgb(217, 110, 74)",
          "rgb(197, 60, 51)",
          "rgb(227, 153, 104)",
          "rgb(178, 10, 28)",
          "rgb(178, 10, 28)",
          "rgb(227, 153, 104)",
          "rgb(197, 60, 51)",
          "rgb(106, 131, 233)",
          "rgb(207, 179, 158)",
          "rgb(217, 110, 74)",
          "rgb(217, 110, 74)",
          "rgb(197, 60, 51)",
          "rgb(197, 60, 51)",
          "rgb(217, 110, 74)",
          "rgb(217, 110, 74)",
          "rgb(159, 171, 211)",
          "rgb(159, 171, 211)",
          "rgb(207, 179, 158)",
          "rgb(106, 131, 233)",
          "rgb(197, 60, 51)",
          "rgb(227, 153, 104)",
          "rgb(178, 10, 28)",
          "rgb(178, 10, 28)",
          "rgb(227, 153, 104)",
          "rgb(197, 60, 51)",
          "rgb(197, 60, 51)",
          "rgb(197, 60, 51)",
          "rgb(217, 110, 74)",
          "rgb(217, 110, 74)",
          "rgb(159, 171, 211)",
          "rgb(159, 171, 211)",
          "rgb(37, 50, 195)",
          "rgb(37, 50, 195)",
          "rgb(69, 91, 220)",
          "rgb(5, 10, 172)",
          "rgb(207, 179, 158)",
          "rgb(106, 131, 233)",
          "rgb(197, 60, 51)",
          "rgb(227, 153, 104)",
          "rgb(178, 10, 28)",
          "rgb(178, 10, 28)"
         ],
         "i": [
          0,
          10,
          1,
          11,
          2,
          12,
          3,
          13,
          4,
          14,
          5,
          15,
          6,
          16,
          7,
          17,
          9,
          19,
          10,
          20,
          11,
          21,
          12,
          22,
          13,
          23,
          14,
          24,
          15,
          25,
          16,
          26,
          18,
          28,
          19,
          29,
          20,
          30,
          21,
          31,
          22,
          32,
          23,
          33,
          24,
          34,
          25,
          35,
          27,
          37,
          28,
          38,
          29,
          39,
          30,
          40,
          31,
          41,
          32,
          42,
          33,
          43,
          34,
          44,
          36,
          46,
          37,
          47,
          38,
          48,
          39,
          49,
          40,
          50,
          41,
          51,
          42,
          52,
          43,
          53,
          45,
          55,
          46,
          56,
          47,
          57,
          48,
          58,
          49,
          59,
          50,
          60,
          51,
          61,
          52,
          62,
          54,
          64,
          55,
          65,
          56,
          66,
          57,
          67,
          58,
          68,
          59,
          69,
          60,
          70,
          61,
          71,
          63,
          73,
          64,
          74,
          65,
          75,
          66,
          76,
          67,
          77,
          68,
          78,
          69,
          79,
          70,
          80
         ],
         "j": [
          1,
          9,
          2,
          10,
          3,
          11,
          4,
          12,
          5,
          13,
          6,
          14,
          7,
          15,
          8,
          16,
          10,
          18,
          11,
          19,
          12,
          20,
          13,
          21,
          14,
          22,
          15,
          23,
          16,
          24,
          17,
          25,
          19,
          27,
          20,
          28,
          21,
          29,
          22,
          30,
          23,
          31,
          24,
          32,
          25,
          33,
          26,
          34,
          28,
          36,
          29,
          37,
          30,
          38,
          31,
          39,
          32,
          40,
          33,
          41,
          34,
          42,
          35,
          43,
          37,
          45,
          38,
          46,
          39,
          47,
          40,
          48,
          41,
          49,
          42,
          50,
          43,
          51,
          44,
          52,
          46,
          54,
          47,
          55,
          48,
          56,
          49,
          57,
          50,
          58,
          51,
          59,
          52,
          60,
          53,
          61,
          55,
          63,
          56,
          64,
          57,
          65,
          58,
          66,
          59,
          67,
          60,
          68,
          61,
          69,
          62,
          70,
          64,
          72,
          65,
          73,
          66,
          74,
          67,
          75,
          68,
          76,
          69,
          77,
          70,
          78,
          71,
          79
         ],
         "k": [
          10,
          0,
          11,
          1,
          12,
          2,
          13,
          3,
          14,
          4,
          15,
          5,
          16,
          6,
          17,
          7,
          19,
          9,
          20,
          10,
          21,
          11,
          22,
          12,
          23,
          13,
          24,
          14,
          25,
          15,
          26,
          16,
          28,
          18,
          29,
          19,
          30,
          20,
          31,
          21,
          32,
          22,
          33,
          23,
          34,
          24,
          35,
          25,
          37,
          27,
          38,
          28,
          39,
          29,
          40,
          30,
          41,
          31,
          42,
          32,
          43,
          33,
          44,
          34,
          46,
          36,
          47,
          37,
          48,
          38,
          49,
          39,
          50,
          40,
          51,
          41,
          52,
          42,
          53,
          43,
          55,
          45,
          56,
          46,
          57,
          47,
          58,
          48,
          59,
          49,
          60,
          50,
          61,
          51,
          62,
          52,
          64,
          54,
          65,
          55,
          66,
          56,
          67,
          57,
          68,
          58,
          69,
          59,
          70,
          60,
          71,
          61,
          73,
          63,
          74,
          64,
          75,
          65,
          76,
          66,
          77,
          67,
          78,
          68,
          79,
          69,
          80,
          70
         ],
         "name": "",
         "type": "mesh3d",
         "x": [
          0,
          1,
          2,
          3,
          4,
          5,
          6,
          7,
          8,
          0,
          1,
          2,
          3,
          4,
          5,
          6,
          7,
          8,
          0,
          1,
          2,
          3,
          4,
          5,
          6,
          7,
          8,
          0,
          1,
          2,
          3,
          4,
          5,
          6,
          7,
          8,
          0,
          1,
          2,
          3,
          4,
          5,
          6,
          7,
          8,
          0,
          1,
          2,
          3,
          4,
          5,
          6,
          7,
          8,
          0,
          1,
          2,
          3,
          4,
          5,
          6,
          7,
          8,
          0,
          1,
          2,
          3,
          4,
          5,
          6,
          7,
          8,
          0,
          1,
          2,
          3,
          4,
          5,
          6,
          7,
          8
         ],
         "y": [
          0,
          0,
          0,
          0,
          0,
          0,
          0,
          0,
          0,
          1,
          1,
          1,
          1,
          1,
          1,
          1,
          1,
          1,
          2,
          2,
          2,
          2,
          2,
          2,
          2,
          2,
          2,
          3,
          3,
          3,
          3,
          3,
          3,
          3,
          3,
          3,
          4,
          4,
          4,
          4,
          4,
          4,
          4,
          4,
          4,
          5,
          5,
          5,
          5,
          5,
          5,
          5,
          5,
          5,
          6,
          6,
          6,
          6,
          6,
          6,
          6,
          6,
          6,
          7,
          7,
          7,
          7,
          7,
          7,
          7,
          7,
          7,
          8,
          8,
          8,
          8,
          8,
          8,
          8,
          8,
          8
         ],
         "z": [
          0,
          -0.25,
          -0.5,
          -0.75,
          -1,
          -0.75,
          -0.5,
          -0.25,
          0,
          -0.25,
          0,
          -0.25,
          -0.5,
          -0.75,
          -0.5,
          -0.25,
          0,
          -0.25,
          -0.5,
          -0.25,
          0,
          -0.25,
          -0.5,
          -0.25,
          0,
          -0.25,
          -0.5,
          -0.75,
          -0.5,
          -0.25,
          0,
          -0.25,
          0,
          -0.25,
          -0.5,
          -0.75,
          -1,
          -0.75,
          -0.5,
          -0.25,
          0,
          -0.25,
          -0.5,
          -0.75,
          -1,
          -0.75,
          -0.5,
          -0.25,
          0,
          -0.25,
          0,
          -0.25,
          -0.5,
          -0.75,
          -0.5,
          -0.25,
          0,
          -0.25,
          -0.5,
          -0.25,
          0,
          -0.25,
          -0.5,
          -0.25,
          0,
          -0.25,
          -0.5,
          -0.75,
          -0.5,
          -0.25,
          0,
          -0.25,
          0,
          -0.25,
          -0.5,
          -0.75,
          -1,
          -0.75,
          -0.5,
          -0.25,
          0
         ]
        },
        {
         "line": {
          "color": "rgb(50, 50, 50)",
          "width": 1.5
         },
         "mode": "lines",
         "showlegend": false,
         "type": "scatter3d",
         "x": [
          0,
          1,
          1,
          0,
          null,
          1,
          0,
          0,
          1,
          null,
          1,
          2,
          2,
          1,
          null,
          2,
          1,
          1,
          2,
          null,
          2,
          3,
          3,
          2,
          null,
          3,
          2,
          2,
          3,
          null,
          3,
          4,
          4,
          3,
          null,
          4,
          3,
          3,
          4,
          null,
          4,
          5,
          5,
          4,
          null,
          5,
          4,
          4,
          5,
          null,
          5,
          6,
          6,
          5,
          null,
          6,
          5,
          5,
          6,
          null,
          6,
          7,
          7,
          6,
          null,
          7,
          6,
          6,
          7,
          null,
          7,
          8,
          8,
          7,
          null,
          8,
          7,
          7,
          8,
          null,
          0,
          1,
          1,
          0,
          null,
          1,
          0,
          0,
          1,
          null,
          1,
          2,
          2,
          1,
          null,
          2,
          1,
          1,
          2,
          null,
          2,
          3,
          3,
          2,
          null,
          3,
          2,
          2,
          3,
          null,
          3,
          4,
          4,
          3,
          null,
          4,
          3,
          3,
          4,
          null,
          4,
          5,
          5,
          4,
          null,
          5,
          4,
          4,
          5,
          null,
          5,
          6,
          6,
          5,
          null,
          6,
          5,
          5,
          6,
          null,
          6,
          7,
          7,
          6,
          null,
          7,
          6,
          6,
          7,
          null,
          7,
          8,
          8,
          7,
          null,
          8,
          7,
          7,
          8,
          null,
          0,
          1,
          1,
          0,
          null,
          1,
          0,
          0,
          1,
          null,
          1,
          2,
          2,
          1,
          null,
          2,
          1,
          1,
          2,
          null,
          2,
          3,
          3,
          2,
          null,
          3,
          2,
          2,
          3,
          null,
          3,
          4,
          4,
          3,
          null,
          4,
          3,
          3,
          4,
          null,
          4,
          5,
          5,
          4,
          null,
          5,
          4,
          4,
          5,
          null,
          5,
          6,
          6,
          5,
          null,
          6,
          5,
          5,
          6,
          null,
          6,
          7,
          7,
          6,
          null,
          7,
          6,
          6,
          7,
          null,
          7,
          8,
          8,
          7,
          null,
          8,
          7,
          7,
          8,
          null,
          0,
          1,
          1,
          0,
          null,
          1,
          0,
          0,
          1,
          null,
          1,
          2,
          2,
          1,
          null,
          2,
          1,
          1,
          2,
          null,
          2,
          3,
          3,
          2,
          null,
          3,
          2,
          2,
          3,
          null,
          3,
          4,
          4,
          3,
          null,
          4,
          3,
          3,
          4,
          null,
          4,
          5,
          5,
          4,
          null,
          5,
          4,
          4,
          5,
          null,
          5,
          6,
          6,
          5,
          null,
          6,
          5,
          5,
          6,
          null,
          6,
          7,
          7,
          6,
          null,
          7,
          6,
          6,
          7,
          null,
          7,
          8,
          8,
          7,
          null,
          8,
          7,
          7,
          8,
          null,
          0,
          1,
          1,
          0,
          null,
          1,
          0,
          0,
          1,
          null,
          1,
          2,
          2,
          1,
          null,
          2,
          1,
          1,
          2,
          null,
          2,
          3,
          3,
          2,
          null,
          3,
          2,
          2,
          3,
          null,
          3,
          4,
          4,
          3,
          null,
          4,
          3,
          3,
          4,
          null,
          4,
          5,
          5,
          4,
          null,
          5,
          4,
          4,
          5,
          null,
          5,
          6,
          6,
          5,
          null,
          6,
          5,
          5,
          6,
          null,
          6,
          7,
          7,
          6,
          null,
          7,
          6,
          6,
          7,
          null,
          7,
          8,
          8,
          7,
          null,
          8,
          7,
          7,
          8,
          null,
          0,
          1,
          1,
          0,
          null,
          1,
          0,
          0,
          1,
          null,
          1,
          2,
          2,
          1,
          null,
          2,
          1,
          1,
          2,
          null,
          2,
          3,
          3,
          2,
          null,
          3,
          2,
          2,
          3,
          null,
          3,
          4,
          4,
          3,
          null,
          4,
          3,
          3,
          4,
          null,
          4,
          5,
          5,
          4,
          null,
          5,
          4,
          4,
          5,
          null,
          5,
          6,
          6,
          5,
          null,
          6,
          5,
          5,
          6,
          null,
          6,
          7,
          7,
          6,
          null,
          7,
          6,
          6,
          7,
          null,
          7,
          8,
          8,
          7,
          null,
          8,
          7,
          7,
          8,
          null,
          0,
          1,
          1,
          0,
          null,
          1,
          0,
          0,
          1,
          null,
          1,
          2,
          2,
          1,
          null,
          2,
          1,
          1,
          2,
          null,
          2,
          3,
          3,
          2,
          null,
          3,
          2,
          2,
          3,
          null,
          3,
          4,
          4,
          3,
          null,
          4,
          3,
          3,
          4,
          null,
          4,
          5,
          5,
          4,
          null,
          5,
          4,
          4,
          5,
          null,
          5,
          6,
          6,
          5,
          null,
          6,
          5,
          5,
          6,
          null,
          6,
          7,
          7,
          6,
          null,
          7,
          6,
          6,
          7,
          null,
          7,
          8,
          8,
          7,
          null,
          8,
          7,
          7,
          8,
          null,
          0,
          1,
          1,
          0,
          null,
          1,
          0,
          0,
          1,
          null,
          1,
          2,
          2,
          1,
          null,
          2,
          1,
          1,
          2,
          null,
          2,
          3,
          3,
          2,
          null,
          3,
          2,
          2,
          3,
          null,
          3,
          4,
          4,
          3,
          null,
          4,
          3,
          3,
          4,
          null,
          4,
          5,
          5,
          4,
          null,
          5,
          4,
          4,
          5,
          null,
          5,
          6,
          6,
          5,
          null,
          6,
          5,
          5,
          6,
          null,
          6,
          7,
          7,
          6,
          null,
          7,
          6,
          6,
          7,
          null,
          7,
          8,
          8,
          7,
          null,
          8,
          7,
          7,
          8,
          null
         ],
         "y": [
          0,
          0,
          1,
          0,
          null,
          1,
          1,
          0,
          1,
          null,
          0,
          0,
          1,
          0,
          null,
          1,
          1,
          0,
          1,
          null,
          0,
          0,
          1,
          0,
          null,
          1,
          1,
          0,
          1,
          null,
          0,
          0,
          1,
          0,
          null,
          1,
          1,
          0,
          1,
          null,
          0,
          0,
          1,
          0,
          null,
          1,
          1,
          0,
          1,
          null,
          0,
          0,
          1,
          0,
          null,
          1,
          1,
          0,
          1,
          null,
          0,
          0,
          1,
          0,
          null,
          1,
          1,
          0,
          1,
          null,
          0,
          0,
          1,
          0,
          null,
          1,
          1,
          0,
          1,
          null,
          1,
          1,
          2,
          1,
          null,
          2,
          2,
          1,
          2,
          null,
          1,
          1,
          2,
          1,
          null,
          2,
          2,
          1,
          2,
          null,
          1,
          1,
          2,
          1,
          null,
          2,
          2,
          1,
          2,
          null,
          1,
          1,
          2,
          1,
          null,
          2,
          2,
          1,
          2,
          null,
          1,
          1,
          2,
          1,
          null,
          2,
          2,
          1,
          2,
          null,
          1,
          1,
          2,
          1,
          null,
          2,
          2,
          1,
          2,
          null,
          1,
          1,
          2,
          1,
          null,
          2,
          2,
          1,
          2,
          null,
          1,
          1,
          2,
          1,
          null,
          2,
          2,
          1,
          2,
          null,
          2,
          2,
          3,
          2,
          null,
          3,
          3,
          2,
          3,
          null,
          2,
          2,
          3,
          2,
          null,
          3,
          3,
          2,
          3,
          null,
          2,
          2,
          3,
          2,
          null,
          3,
          3,
          2,
          3,
          null,
          2,
          2,
          3,
          2,
          null,
          3,
          3,
          2,
          3,
          null,
          2,
          2,
          3,
          2,
          null,
          3,
          3,
          2,
          3,
          null,
          2,
          2,
          3,
          2,
          null,
          3,
          3,
          2,
          3,
          null,
          2,
          2,
          3,
          2,
          null,
          3,
          3,
          2,
          3,
          null,
          2,
          2,
          3,
          2,
          null,
          3,
          3,
          2,
          3,
          null,
          3,
          3,
          4,
          3,
          null,
          4,
          4,
          3,
          4,
          null,
          3,
          3,
          4,
          3,
          null,
          4,
          4,
          3,
          4,
          null,
          3,
          3,
          4,
          3,
          null,
          4,
          4,
          3,
          4,
          null,
          3,
          3,
          4,
          3,
          null,
          4,
          4,
          3,
          4,
          null,
          3,
          3,
          4,
          3,
          null,
          4,
          4,
          3,
          4,
          null,
          3,
          3,
          4,
          3,
          null,
          4,
          4,
          3,
          4,
          null,
          3,
          3,
          4,
          3,
          null,
          4,
          4,
          3,
          4,
          null,
          3,
          3,
          4,
          3,
          null,
          4,
          4,
          3,
          4,
          null,
          4,
          4,
          5,
          4,
          null,
          5,
          5,
          4,
          5,
          null,
          4,
          4,
          5,
          4,
          null,
          5,
          5,
          4,
          5,
          null,
          4,
          4,
          5,
          4,
          null,
          5,
          5,
          4,
          5,
          null,
          4,
          4,
          5,
          4,
          null,
          5,
          5,
          4,
          5,
          null,
          4,
          4,
          5,
          4,
          null,
          5,
          5,
          4,
          5,
          null,
          4,
          4,
          5,
          4,
          null,
          5,
          5,
          4,
          5,
          null,
          4,
          4,
          5,
          4,
          null,
          5,
          5,
          4,
          5,
          null,
          4,
          4,
          5,
          4,
          null,
          5,
          5,
          4,
          5,
          null,
          5,
          5,
          6,
          5,
          null,
          6,
          6,
          5,
          6,
          null,
          5,
          5,
          6,
          5,
          null,
          6,
          6,
          5,
          6,
          null,
          5,
          5,
          6,
          5,
          null,
          6,
          6,
          5,
          6,
          null,
          5,
          5,
          6,
          5,
          null,
          6,
          6,
          5,
          6,
          null,
          5,
          5,
          6,
          5,
          null,
          6,
          6,
          5,
          6,
          null,
          5,
          5,
          6,
          5,
          null,
          6,
          6,
          5,
          6,
          null,
          5,
          5,
          6,
          5,
          null,
          6,
          6,
          5,
          6,
          null,
          5,
          5,
          6,
          5,
          null,
          6,
          6,
          5,
          6,
          null,
          6,
          6,
          7,
          6,
          null,
          7,
          7,
          6,
          7,
          null,
          6,
          6,
          7,
          6,
          null,
          7,
          7,
          6,
          7,
          null,
          6,
          6,
          7,
          6,
          null,
          7,
          7,
          6,
          7,
          null,
          6,
          6,
          7,
          6,
          null,
          7,
          7,
          6,
          7,
          null,
          6,
          6,
          7,
          6,
          null,
          7,
          7,
          6,
          7,
          null,
          6,
          6,
          7,
          6,
          null,
          7,
          7,
          6,
          7,
          null,
          6,
          6,
          7,
          6,
          null,
          7,
          7,
          6,
          7,
          null,
          6,
          6,
          7,
          6,
          null,
          7,
          7,
          6,
          7,
          null,
          7,
          7,
          8,
          7,
          null,
          8,
          8,
          7,
          8,
          null,
          7,
          7,
          8,
          7,
          null,
          8,
          8,
          7,
          8,
          null,
          7,
          7,
          8,
          7,
          null,
          8,
          8,
          7,
          8,
          null,
          7,
          7,
          8,
          7,
          null,
          8,
          8,
          7,
          8,
          null,
          7,
          7,
          8,
          7,
          null,
          8,
          8,
          7,
          8,
          null,
          7,
          7,
          8,
          7,
          null,
          8,
          8,
          7,
          8,
          null,
          7,
          7,
          8,
          7,
          null,
          8,
          8,
          7,
          8,
          null,
          7,
          7,
          8,
          7,
          null,
          8,
          8,
          7,
          8,
          null
         ],
         "z": [
          0,
          -0.25,
          0,
          0,
          null,
          0,
          -0.25,
          0,
          0,
          null,
          -0.25,
          -0.5,
          -0.25,
          -0.25,
          null,
          -0.25,
          0,
          -0.25,
          -0.25,
          null,
          -0.5,
          -0.75,
          -0.5,
          -0.5,
          null,
          -0.5,
          -0.25,
          -0.5,
          -0.5,
          null,
          -0.75,
          -1,
          -0.75,
          -0.75,
          null,
          -0.75,
          -0.5,
          -0.75,
          -0.75,
          null,
          -1,
          -0.75,
          -0.5,
          -1,
          null,
          -0.5,
          -0.75,
          -1,
          -0.5,
          null,
          -0.75,
          -0.5,
          -0.25,
          -0.75,
          null,
          -0.25,
          -0.5,
          -0.75,
          -0.25,
          null,
          -0.5,
          -0.25,
          0,
          -0.5,
          null,
          0,
          -0.25,
          -0.5,
          0,
          null,
          -0.25,
          0,
          -0.25,
          -0.25,
          null,
          -0.25,
          0,
          -0.25,
          -0.25,
          null,
          -0.25,
          0,
          -0.25,
          -0.25,
          null,
          -0.25,
          -0.5,
          -0.25,
          -0.25,
          null,
          0,
          -0.25,
          0,
          0,
          null,
          0,
          -0.25,
          0,
          0,
          null,
          -0.25,
          -0.5,
          -0.25,
          -0.25,
          null,
          -0.25,
          0,
          -0.25,
          -0.25,
          null,
          -0.5,
          -0.75,
          -0.5,
          -0.5,
          null,
          -0.5,
          -0.25,
          -0.5,
          -0.5,
          null,
          -0.75,
          -0.5,
          -0.25,
          -0.75,
          null,
          -0.25,
          -0.5,
          -0.75,
          -0.25,
          null,
          -0.5,
          -0.25,
          0,
          -0.5,
          null,
          0,
          -0.25,
          -0.5,
          0,
          null,
          -0.25,
          0,
          -0.25,
          -0.25,
          null,
          -0.25,
          0,
          -0.25,
          -0.25,
          null,
          0,
          -0.25,
          -0.5,
          0,
          null,
          -0.5,
          -0.25,
          0,
          -0.5,
          null,
          -0.5,
          -0.25,
          -0.5,
          -0.5,
          null,
          -0.5,
          -0.75,
          -0.5,
          -0.5,
          null,
          -0.25,
          0,
          -0.25,
          -0.25,
          null,
          -0.25,
          -0.5,
          -0.25,
          -0.25,
          null,
          0,
          -0.25,
          0,
          0,
          null,
          0,
          -0.25,
          0,
          0,
          null,
          -0.25,
          -0.5,
          -0.25,
          -0.25,
          null,
          -0.25,
          0,
          -0.25,
          -0.25,
          null,
          -0.5,
          -0.25,
          0,
          -0.5,
          null,
          0,
          -0.25,
          -0.5,
          0,
          null,
          -0.25,
          0,
          -0.25,
          -0.25,
          null,
          -0.25,
          0,
          -0.25,
          -0.25,
          null,
          0,
          -0.25,
          -0.5,
          0,
          null,
          -0.5,
          -0.25,
          0,
          -0.5,
          null,
          -0.25,
          -0.5,
          -0.75,
          -0.25,
          null,
          -0.75,
          -0.5,
          -0.25,
          -0.75,
          null,
          -0.75,
          -0.5,
          -0.75,
          -0.75,
          null,
          -0.75,
          -1,
          -0.75,
          -0.75,
          null,
          -0.5,
          -0.25,
          -0.5,
          -0.5,
          null,
          -0.5,
          -0.75,
          -0.5,
          -0.5,
          null,
          -0.25,
          0,
          -0.25,
          -0.25,
          null,
          -0.25,
          -0.5,
          -0.25,
          -0.25,
          null,
          0,
          -0.25,
          0,
          0,
          null,
          0,
          -0.25,
          0,
          0,
          null,
          -0.25,
          0,
          -0.25,
          -0.25,
          null,
          -0.25,
          0,
          -0.25,
          -0.25,
          null,
          0,
          -0.25,
          -0.5,
          0,
          null,
          -0.5,
          -0.25,
          0,
          -0.5,
          null,
          -0.25,
          -0.5,
          -0.75,
          -0.25,
          null,
          -0.75,
          -0.5,
          -0.25,
          -0.75,
          null,
          -0.5,
          -0.75,
          -1,
          -0.5,
          null,
          -1,
          -0.75,
          -0.5,
          -1,
          null,
          -1,
          -0.75,
          -0.5,
          -1,
          null,
          -0.5,
          -0.75,
          -1,
          -0.5,
          null,
          -0.75,
          -0.5,
          -0.25,
          -0.75,
          null,
          -0.25,
          -0.5,
          -0.75,
          -0.25,
          null,
          -0.5,
          -0.25,
          0,
          -0.5,
          null,
          0,
          -0.25,
          -0.5,
          0,
          null,
          -0.25,
          0,
          -0.25,
          -0.25,
          null,
          -0.25,
          0,
          -0.25,
          -0.25,
          null,
          0,
          -0.25,
          0,
          0,
          null,
          0,
          -0.25,
          0,
          0,
          null,
          -0.25,
          -0.5,
          -0.25,
          -0.25,
          null,
          -0.25,
          0,
          -0.25,
          -0.25,
          null,
          -0.5,
          -0.75,
          -0.5,
          -0.5,
          null,
          -0.5,
          -0.25,
          -0.5,
          -0.5,
          null,
          -0.75,
          -1,
          -0.75,
          -0.75,
          null,
          -0.75,
          -0.5,
          -0.75,
          -0.75,
          null,
          -0.75,
          -0.5,
          -0.25,
          -0.75,
          null,
          -0.25,
          -0.5,
          -0.75,
          -0.25,
          null,
          -0.5,
          -0.25,
          0,
          -0.5,
          null,
          0,
          -0.25,
          -0.5,
          0,
          null,
          -0.25,
          0,
          -0.25,
          -0.25,
          null,
          -0.25,
          0,
          -0.25,
          -0.25,
          null,
          0,
          -0.25,
          -0.5,
          0,
          null,
          -0.5,
          -0.25,
          0,
          -0.5,
          null,
          -0.25,
          0,
          -0.25,
          -0.25,
          null,
          -0.25,
          -0.5,
          -0.25,
          -0.25,
          null,
          0,
          -0.25,
          0,
          0,
          null,
          0,
          -0.25,
          0,
          0,
          null,
          -0.25,
          -0.5,
          -0.25,
          -0.25,
          null,
          -0.25,
          0,
          -0.25,
          -0.25,
          null,
          -0.5,
          -0.75,
          -0.5,
          -0.5,
          null,
          -0.5,
          -0.25,
          -0.5,
          -0.5,
          null,
          -0.5,
          -0.25,
          0,
          -0.5,
          null,
          0,
          -0.25,
          -0.5,
          0,
          null,
          -0.25,
          0,
          -0.25,
          -0.25,
          null,
          -0.25,
          0,
          -0.25,
          -0.25,
          null,
          0,
          -0.25,
          -0.5,
          0,
          null,
          -0.5,
          -0.25,
          0,
          -0.5,
          null,
          -0.25,
          -0.5,
          -0.75,
          -0.25,
          null,
          -0.75,
          -0.5,
          -0.25,
          -0.75,
          null,
          -0.5,
          -0.25,
          -0.5,
          -0.5,
          null,
          -0.5,
          -0.75,
          -0.5,
          -0.5,
          null,
          -0.25,
          0,
          -0.25,
          -0.25,
          null,
          -0.25,
          -0.5,
          -0.25,
          -0.25,
          null,
          0,
          -0.25,
          0,
          0,
          null,
          0,
          -0.25,
          0,
          0,
          null,
          -0.25,
          -0.5,
          -0.25,
          -0.25,
          null,
          -0.25,
          0,
          -0.25,
          -0.25,
          null,
          -0.25,
          0,
          -0.25,
          -0.25,
          null,
          -0.25,
          0,
          -0.25,
          -0.25,
          null,
          0,
          -0.25,
          -0.5,
          0,
          null,
          -0.5,
          -0.25,
          0,
          -0.5,
          null,
          -0.25,
          -0.5,
          -0.75,
          -0.25,
          null,
          -0.75,
          -0.5,
          -0.25,
          -0.75,
          null,
          -0.5,
          -0.75,
          -1,
          -0.5,
          null,
          -1,
          -0.75,
          -0.5,
          -1,
          null,
          -0.75,
          -0.5,
          -0.75,
          -0.75,
          null,
          -0.75,
          -1,
          -0.75,
          -0.75,
          null,
          -0.5,
          -0.25,
          -0.5,
          -0.5,
          null,
          -0.5,
          -0.75,
          -0.5,
          -0.5,
          null,
          -0.25,
          0,
          -0.25,
          -0.25,
          null,
          -0.25,
          -0.5,
          -0.25,
          -0.25,
          null,
          0,
          -0.25,
          0,
          0,
          null,
          0,
          -0.25,
          0,
          0,
          null
         ]
        },
        {
         "hoverinfo": "none",
         "marker": {
          "color": [
           -0.8333333333333334,
           -0.08333333333333333
          ],
          "colorscale": [
           [
            0,
            "rgb(5, 10, 172)"
           ],
           [
            0.1,
            "rgb(34, 46, 193)"
           ],
           [
            0.2,
            "rgb(63, 83, 215)"
           ],
           [
            0.30000000000000004,
            "rgb(92, 119, 236)"
           ],
           [
            0.4,
            "rgb(134, 155, 228)"
           ],
           [
            0.5,
            "rgb(190, 190, 190)"
           ],
           [
            0.6000000000000001,
            "rgb(220, 170, 132)"
           ],
           [
            0.7000000000000001,
            "rgb(230, 145, 90)"
           ],
           [
            0.8,
            "rgb(213, 100, 69)"
           ],
           [
            0.9,
            "rgb(195, 55, 49)"
           ],
           [
            1,
            "rgb(178, 10, 28)"
           ]
          ],
          "showscale": true,
          "size": 0.1
         },
         "mode": "markers",
         "showlegend": false,
         "type": "scatter3d",
         "x": [
          0
         ],
         "y": [
          0
         ],
         "z": [
          0
         ]
        }
       ],
       "layout": {
        "height": 800,
        "scene": {
         "aspectratio": {
          "x": 1,
          "y": 1,
          "z": 0.1
         },
         "camera": {},
         "xaxis": {
          "backgroundcolor": "rgb(230, 230, 230)",
          "gridcolor": "rgb(255, 255, 255)",
          "showbackground": true,
          "zerolinecolor": "rgb(255, 255, 255)"
         },
         "yaxis": {
          "backgroundcolor": "rgb(230, 230, 230)",
          "gridcolor": "rgb(255, 255, 255)",
          "showbackground": true,
          "zerolinecolor": "rgb(255, 255, 255)"
         },
         "zaxis": {
          "backgroundcolor": "rgb(230, 230, 230)",
          "gridcolor": "rgb(255, 255, 255)",
          "showbackground": true,
          "zerolinecolor": "rgb(255, 255, 255)"
         }
        },
        "template": {
         "data": {
          "bar": [
           {
            "error_x": {
             "color": "#2a3f5f"
            },
            "error_y": {
             "color": "#2a3f5f"
            },
            "marker": {
             "line": {
              "color": "#E5ECF6",
              "width": 0.5
             }
            },
            "type": "bar"
           }
          ],
          "barpolar": [
           {
            "marker": {
             "line": {
              "color": "#E5ECF6",
              "width": 0.5
             }
            },
            "type": "barpolar"
           }
          ],
          "carpet": [
           {
            "aaxis": {
             "endlinecolor": "#2a3f5f",
             "gridcolor": "white",
             "linecolor": "white",
             "minorgridcolor": "white",
             "startlinecolor": "#2a3f5f"
            },
            "baxis": {
             "endlinecolor": "#2a3f5f",
             "gridcolor": "white",
             "linecolor": "white",
             "minorgridcolor": "white",
             "startlinecolor": "#2a3f5f"
            },
            "type": "carpet"
           }
          ],
          "choropleth": [
           {
            "colorbar": {
             "outlinewidth": 0,
             "ticks": ""
            },
            "type": "choropleth"
           }
          ],
          "contour": [
           {
            "colorbar": {
             "outlinewidth": 0,
             "ticks": ""
            },
            "colorscale": [
             [
              0,
              "#0d0887"
             ],
             [
              0.1111111111111111,
              "#46039f"
             ],
             [
              0.2222222222222222,
              "#7201a8"
             ],
             [
              0.3333333333333333,
              "#9c179e"
             ],
             [
              0.4444444444444444,
              "#bd3786"
             ],
             [
              0.5555555555555556,
              "#d8576b"
             ],
             [
              0.6666666666666666,
              "#ed7953"
             ],
             [
              0.7777777777777778,
              "#fb9f3a"
             ],
             [
              0.8888888888888888,
              "#fdca26"
             ],
             [
              1,
              "#f0f921"
             ]
            ],
            "type": "contour"
           }
          ],
          "contourcarpet": [
           {
            "colorbar": {
             "outlinewidth": 0,
             "ticks": ""
            },
            "type": "contourcarpet"
           }
          ],
          "heatmap": [
           {
            "colorbar": {
             "outlinewidth": 0,
             "ticks": ""
            },
            "colorscale": [
             [
              0,
              "#0d0887"
             ],
             [
              0.1111111111111111,
              "#46039f"
             ],
             [
              0.2222222222222222,
              "#7201a8"
             ],
             [
              0.3333333333333333,
              "#9c179e"
             ],
             [
              0.4444444444444444,
              "#bd3786"
             ],
             [
              0.5555555555555556,
              "#d8576b"
             ],
             [
              0.6666666666666666,
              "#ed7953"
             ],
             [
              0.7777777777777778,
              "#fb9f3a"
             ],
             [
              0.8888888888888888,
              "#fdca26"
             ],
             [
              1,
              "#f0f921"
             ]
            ],
            "type": "heatmap"
           }
          ],
          "heatmapgl": [
           {
            "colorbar": {
             "outlinewidth": 0,
             "ticks": ""
            },
            "colorscale": [
             [
              0,
              "#0d0887"
             ],
             [
              0.1111111111111111,
              "#46039f"
             ],
             [
              0.2222222222222222,
              "#7201a8"
             ],
             [
              0.3333333333333333,
              "#9c179e"
             ],
             [
              0.4444444444444444,
              "#bd3786"
             ],
             [
              0.5555555555555556,
              "#d8576b"
             ],
             [
              0.6666666666666666,
              "#ed7953"
             ],
             [
              0.7777777777777778,
              "#fb9f3a"
             ],
             [
              0.8888888888888888,
              "#fdca26"
             ],
             [
              1,
              "#f0f921"
             ]
            ],
            "type": "heatmapgl"
           }
          ],
          "histogram": [
           {
            "marker": {
             "colorbar": {
              "outlinewidth": 0,
              "ticks": ""
             }
            },
            "type": "histogram"
           }
          ],
          "histogram2d": [
           {
            "colorbar": {
             "outlinewidth": 0,
             "ticks": ""
            },
            "colorscale": [
             [
              0,
              "#0d0887"
             ],
             [
              0.1111111111111111,
              "#46039f"
             ],
             [
              0.2222222222222222,
              "#7201a8"
             ],
             [
              0.3333333333333333,
              "#9c179e"
             ],
             [
              0.4444444444444444,
              "#bd3786"
             ],
             [
              0.5555555555555556,
              "#d8576b"
             ],
             [
              0.6666666666666666,
              "#ed7953"
             ],
             [
              0.7777777777777778,
              "#fb9f3a"
             ],
             [
              0.8888888888888888,
              "#fdca26"
             ],
             [
              1,
              "#f0f921"
             ]
            ],
            "type": "histogram2d"
           }
          ],
          "histogram2dcontour": [
           {
            "colorbar": {
             "outlinewidth": 0,
             "ticks": ""
            },
            "colorscale": [
             [
              0,
              "#0d0887"
             ],
             [
              0.1111111111111111,
              "#46039f"
             ],
             [
              0.2222222222222222,
              "#7201a8"
             ],
             [
              0.3333333333333333,
              "#9c179e"
             ],
             [
              0.4444444444444444,
              "#bd3786"
             ],
             [
              0.5555555555555556,
              "#d8576b"
             ],
             [
              0.6666666666666666,
              "#ed7953"
             ],
             [
              0.7777777777777778,
              "#fb9f3a"
             ],
             [
              0.8888888888888888,
              "#fdca26"
             ],
             [
              1,
              "#f0f921"
             ]
            ],
            "type": "histogram2dcontour"
           }
          ],
          "mesh3d": [
           {
            "colorbar": {
             "outlinewidth": 0,
             "ticks": ""
            },
            "type": "mesh3d"
           }
          ],
          "parcoords": [
           {
            "line": {
             "colorbar": {
              "outlinewidth": 0,
              "ticks": ""
             }
            },
            "type": "parcoords"
           }
          ],
          "scatter": [
           {
            "marker": {
             "colorbar": {
              "outlinewidth": 0,
              "ticks": ""
             }
            },
            "type": "scatter"
           }
          ],
          "scatter3d": [
           {
            "line": {
             "colorbar": {
              "outlinewidth": 0,
              "ticks": ""
             }
            },
            "marker": {
             "colorbar": {
              "outlinewidth": 0,
              "ticks": ""
             }
            },
            "type": "scatter3d"
           }
          ],
          "scattercarpet": [
           {
            "marker": {
             "colorbar": {
              "outlinewidth": 0,
              "ticks": ""
             }
            },
            "type": "scattercarpet"
           }
          ],
          "scattergeo": [
           {
            "marker": {
             "colorbar": {
              "outlinewidth": 0,
              "ticks": ""
             }
            },
            "type": "scattergeo"
           }
          ],
          "scattergl": [
           {
            "marker": {
             "colorbar": {
              "outlinewidth": 0,
              "ticks": ""
             }
            },
            "type": "scattergl"
           }
          ],
          "scattermapbox": [
           {
            "marker": {
             "colorbar": {
              "outlinewidth": 0,
              "ticks": ""
             }
            },
            "type": "scattermapbox"
           }
          ],
          "scatterpolar": [
           {
            "marker": {
             "colorbar": {
              "outlinewidth": 0,
              "ticks": ""
             }
            },
            "type": "scatterpolar"
           }
          ],
          "scatterpolargl": [
           {
            "marker": {
             "colorbar": {
              "outlinewidth": 0,
              "ticks": ""
             }
            },
            "type": "scatterpolargl"
           }
          ],
          "scatterternary": [
           {
            "marker": {
             "colorbar": {
              "outlinewidth": 0,
              "ticks": ""
             }
            },
            "type": "scatterternary"
           }
          ],
          "surface": [
           {
            "colorbar": {
             "outlinewidth": 0,
             "ticks": ""
            },
            "colorscale": [
             [
              0,
              "#0d0887"
             ],
             [
              0.1111111111111111,
              "#46039f"
             ],
             [
              0.2222222222222222,
              "#7201a8"
             ],
             [
              0.3333333333333333,
              "#9c179e"
             ],
             [
              0.4444444444444444,
              "#bd3786"
             ],
             [
              0.5555555555555556,
              "#d8576b"
             ],
             [
              0.6666666666666666,
              "#ed7953"
             ],
             [
              0.7777777777777778,
              "#fb9f3a"
             ],
             [
              0.8888888888888888,
              "#fdca26"
             ],
             [
              1,
              "#f0f921"
             ]
            ],
            "type": "surface"
           }
          ],
          "table": [
           {
            "cells": {
             "fill": {
              "color": "#EBF0F8"
             },
             "line": {
              "color": "white"
             }
            },
            "header": {
             "fill": {
              "color": "#C8D4E3"
             },
             "line": {
              "color": "white"
             }
            },
            "type": "table"
           }
          ]
         },
         "layout": {
          "annotationdefaults": {
           "arrowcolor": "#2a3f5f",
           "arrowhead": 0,
           "arrowwidth": 1
          },
          "colorscale": {
           "diverging": [
            [
             0,
             "#8e0152"
            ],
            [
             0.1,
             "#c51b7d"
            ],
            [
             0.2,
             "#de77ae"
            ],
            [
             0.3,
             "#f1b6da"
            ],
            [
             0.4,
             "#fde0ef"
            ],
            [
             0.5,
             "#f7f7f7"
            ],
            [
             0.6,
             "#e6f5d0"
            ],
            [
             0.7,
             "#b8e186"
            ],
            [
             0.8,
             "#7fbc41"
            ],
            [
             0.9,
             "#4d9221"
            ],
            [
             1,
             "#276419"
            ]
           ],
           "sequential": [
            [
             0,
             "#0d0887"
            ],
            [
             0.1111111111111111,
             "#46039f"
            ],
            [
             0.2222222222222222,
             "#7201a8"
            ],
            [
             0.3333333333333333,
             "#9c179e"
            ],
            [
             0.4444444444444444,
             "#bd3786"
            ],
            [
             0.5555555555555556,
             "#d8576b"
            ],
            [
             0.6666666666666666,
             "#ed7953"
            ],
            [
             0.7777777777777778,
             "#fb9f3a"
            ],
            [
             0.8888888888888888,
             "#fdca26"
            ],
            [
             1,
             "#f0f921"
            ]
           ],
           "sequentialminus": [
            [
             0,
             "#0d0887"
            ],
            [
             0.1111111111111111,
             "#46039f"
            ],
            [
             0.2222222222222222,
             "#7201a8"
            ],
            [
             0.3333333333333333,
             "#9c179e"
            ],
            [
             0.4444444444444444,
             "#bd3786"
            ],
            [
             0.5555555555555556,
             "#d8576b"
            ],
            [
             0.6666666666666666,
             "#ed7953"
            ],
            [
             0.7777777777777778,
             "#fb9f3a"
            ],
            [
             0.8888888888888888,
             "#fdca26"
            ],
            [
             1,
             "#f0f921"
            ]
           ]
          },
          "colorway": [
           "#636efa",
           "#EF553B",
           "#00cc96",
           "#ab63fa",
           "#FFA15A",
           "#19d3f3",
           "#FF6692",
           "#B6E880",
           "#FF97FF",
           "#FECB52"
          ],
          "font": {
           "color": "#2a3f5f"
          },
          "geo": {
           "bgcolor": "white",
           "lakecolor": "white",
           "landcolor": "#E5ECF6",
           "showlakes": true,
           "showland": true,
           "subunitcolor": "white"
          },
          "hoverlabel": {
           "align": "left"
          },
          "hovermode": "closest",
          "mapbox": {
           "style": "light"
          },
          "paper_bgcolor": "white",
          "plot_bgcolor": "#E5ECF6",
          "polar": {
           "angularaxis": {
            "gridcolor": "white",
            "linecolor": "white",
            "ticks": ""
           },
           "bgcolor": "#E5ECF6",
           "radialaxis": {
            "gridcolor": "white",
            "linecolor": "white",
            "ticks": ""
           }
          },
          "scene": {
           "xaxis": {
            "backgroundcolor": "#E5ECF6",
            "gridcolor": "white",
            "gridwidth": 2,
            "linecolor": "white",
            "showbackground": true,
            "ticks": "",
            "zerolinecolor": "white"
           },
           "yaxis": {
            "backgroundcolor": "#E5ECF6",
            "gridcolor": "white",
            "gridwidth": 2,
            "linecolor": "white",
            "showbackground": true,
            "ticks": "",
            "zerolinecolor": "white"
           },
           "zaxis": {
            "backgroundcolor": "#E5ECF6",
            "gridcolor": "white",
            "gridwidth": 2,
            "linecolor": "white",
            "showbackground": true,
            "ticks": "",
            "zerolinecolor": "white"
           }
          },
          "shapedefaults": {
           "line": {
            "color": "#2a3f5f"
           }
          },
          "ternary": {
           "aaxis": {
            "gridcolor": "white",
            "linecolor": "white",
            "ticks": ""
           },
           "baxis": {
            "gridcolor": "white",
            "linecolor": "white",
            "ticks": ""
           },
           "bgcolor": "#E5ECF6",
           "caxis": {
            "gridcolor": "white",
            "linecolor": "white",
            "ticks": ""
           }
          },
          "title": {
           "x": 0.05
          },
          "xaxis": {
           "automargin": true,
           "gridcolor": "white",
           "linecolor": "white",
           "ticks": "",
           "zerolinecolor": "white",
           "zerolinewidth": 2
          },
          "yaxis": {
           "automargin": true,
           "gridcolor": "white",
           "linecolor": "white",
           "ticks": "",
           "zerolinecolor": "white",
           "zerolinewidth": 2
          }
         }
        },
        "title": {
         "text": "ul_lr triangulation of ridge function (trisurf)"
        },
        "width": 800
       }
      },
      "text/html": [
       "<div>\n",
       "        \n",
       "        \n",
       "            <div id=\"c1b4d142-736e-4721-8748-72fb41b85478\" class=\"plotly-graph-div\" style=\"height:800px; width:800px;\"></div>\n",
       "            <script type=\"text/javascript\">\n",
       "                require([\"plotly\"], function(Plotly) {\n",
       "                    window.PLOTLYENV=window.PLOTLYENV || {};\n",
       "                    \n",
       "                if (document.getElementById(\"c1b4d142-736e-4721-8748-72fb41b85478\")) {\n",
       "                    Plotly.newPlot(\n",
       "                        'c1b4d142-736e-4721-8748-72fb41b85478',\n",
       "                        [{\"facecolor\": [\"rgb(178, 10, 28)\", \"rgb(178, 10, 28)\", \"rgb(227, 153, 104)\", \"rgb(197, 60, 51)\", \"rgb(106, 131, 233)\", \"rgb(207, 179, 158)\", \"rgb(5, 10, 172)\", \"rgb(69, 91, 220)\", \"rgb(37, 50, 195)\", \"rgb(37, 50, 195)\", \"rgb(159, 171, 211)\", \"rgb(159, 171, 211)\", \"rgb(217, 110, 74)\", \"rgb(217, 110, 74)\", \"rgb(197, 60, 51)\", \"rgb(197, 60, 51)\", \"rgb(197, 60, 51)\", \"rgb(227, 153, 104)\", \"rgb(178, 10, 28)\", \"rgb(178, 10, 28)\", \"rgb(227, 153, 104)\", \"rgb(197, 60, 51)\", \"rgb(106, 131, 233)\", \"rgb(207, 179, 158)\", \"rgb(159, 171, 211)\", \"rgb(159, 171, 211)\", \"rgb(217, 110, 74)\", \"rgb(217, 110, 74)\", \"rgb(197, 60, 51)\", \"rgb(197, 60, 51)\", \"rgb(217, 110, 74)\", \"rgb(217, 110, 74)\", \"rgb(207, 179, 158)\", \"rgb(106, 131, 233)\", \"rgb(197, 60, 51)\", \"rgb(227, 153, 104)\", \"rgb(178, 10, 28)\", \"rgb(178, 10, 28)\", \"rgb(227, 153, 104)\", \"rgb(197, 60, 51)\", \"rgb(217, 110, 74)\", \"rgb(217, 110, 74)\", \"rgb(197, 60, 51)\", \"rgb(197, 60, 51)\", \"rgb(217, 110, 74)\", \"rgb(217, 110, 74)\", \"rgb(159, 171, 211)\", \"rgb(159, 171, 211)\", \"rgb(69, 91, 220)\", \"rgb(5, 10, 172)\", \"rgb(207, 179, 158)\", \"rgb(106, 131, 233)\", \"rgb(197, 60, 51)\", \"rgb(227, 153, 104)\", \"rgb(178, 10, 28)\", \"rgb(178, 10, 28)\", \"rgb(197, 60, 51)\", \"rgb(197, 60, 51)\", \"rgb(217, 110, 74)\", \"rgb(217, 110, 74)\", \"rgb(159, 171, 211)\", \"rgb(159, 171, 211)\", \"rgb(37, 50, 195)\", \"rgb(37, 50, 195)\", \"rgb(37, 50, 195)\", \"rgb(37, 50, 195)\", \"rgb(159, 171, 211)\", \"rgb(159, 171, 211)\", \"rgb(217, 110, 74)\", \"rgb(217, 110, 74)\", \"rgb(197, 60, 51)\", \"rgb(197, 60, 51)\", \"rgb(178, 10, 28)\", \"rgb(178, 10, 28)\", \"rgb(227, 153, 104)\", \"rgb(197, 60, 51)\", \"rgb(106, 131, 233)\", \"rgb(207, 179, 158)\", \"rgb(5, 10, 172)\", \"rgb(69, 91, 220)\", \"rgb(159, 171, 211)\", \"rgb(159, 171, 211)\", \"rgb(217, 110, 74)\", \"rgb(217, 110, 74)\", \"rgb(197, 60, 51)\", \"rgb(197, 60, 51)\", \"rgb(217, 110, 74)\", \"rgb(217, 110, 74)\", \"rgb(197, 60, 51)\", \"rgb(227, 153, 104)\", \"rgb(178, 10, 28)\", \"rgb(178, 10, 28)\", \"rgb(227, 153, 104)\", \"rgb(197, 60, 51)\", \"rgb(106, 131, 233)\", \"rgb(207, 179, 158)\", \"rgb(217, 110, 74)\", \"rgb(217, 110, 74)\", \"rgb(197, 60, 51)\", \"rgb(197, 60, 51)\", \"rgb(217, 110, 74)\", \"rgb(217, 110, 74)\", \"rgb(159, 171, 211)\", \"rgb(159, 171, 211)\", \"rgb(207, 179, 158)\", \"rgb(106, 131, 233)\", \"rgb(197, 60, 51)\", \"rgb(227, 153, 104)\", \"rgb(178, 10, 28)\", \"rgb(178, 10, 28)\", \"rgb(227, 153, 104)\", \"rgb(197, 60, 51)\", \"rgb(197, 60, 51)\", \"rgb(197, 60, 51)\", \"rgb(217, 110, 74)\", \"rgb(217, 110, 74)\", \"rgb(159, 171, 211)\", \"rgb(159, 171, 211)\", \"rgb(37, 50, 195)\", \"rgb(37, 50, 195)\", \"rgb(69, 91, 220)\", \"rgb(5, 10, 172)\", \"rgb(207, 179, 158)\", \"rgb(106, 131, 233)\", \"rgb(197, 60, 51)\", \"rgb(227, 153, 104)\", \"rgb(178, 10, 28)\", \"rgb(178, 10, 28)\"], \"i\": [0, 10, 1, 11, 2, 12, 3, 13, 4, 14, 5, 15, 6, 16, 7, 17, 9, 19, 10, 20, 11, 21, 12, 22, 13, 23, 14, 24, 15, 25, 16, 26, 18, 28, 19, 29, 20, 30, 21, 31, 22, 32, 23, 33, 24, 34, 25, 35, 27, 37, 28, 38, 29, 39, 30, 40, 31, 41, 32, 42, 33, 43, 34, 44, 36, 46, 37, 47, 38, 48, 39, 49, 40, 50, 41, 51, 42, 52, 43, 53, 45, 55, 46, 56, 47, 57, 48, 58, 49, 59, 50, 60, 51, 61, 52, 62, 54, 64, 55, 65, 56, 66, 57, 67, 58, 68, 59, 69, 60, 70, 61, 71, 63, 73, 64, 74, 65, 75, 66, 76, 67, 77, 68, 78, 69, 79, 70, 80], \"j\": [1, 9, 2, 10, 3, 11, 4, 12, 5, 13, 6, 14, 7, 15, 8, 16, 10, 18, 11, 19, 12, 20, 13, 21, 14, 22, 15, 23, 16, 24, 17, 25, 19, 27, 20, 28, 21, 29, 22, 30, 23, 31, 24, 32, 25, 33, 26, 34, 28, 36, 29, 37, 30, 38, 31, 39, 32, 40, 33, 41, 34, 42, 35, 43, 37, 45, 38, 46, 39, 47, 40, 48, 41, 49, 42, 50, 43, 51, 44, 52, 46, 54, 47, 55, 48, 56, 49, 57, 50, 58, 51, 59, 52, 60, 53, 61, 55, 63, 56, 64, 57, 65, 58, 66, 59, 67, 60, 68, 61, 69, 62, 70, 64, 72, 65, 73, 66, 74, 67, 75, 68, 76, 69, 77, 70, 78, 71, 79], \"k\": [10, 0, 11, 1, 12, 2, 13, 3, 14, 4, 15, 5, 16, 6, 17, 7, 19, 9, 20, 10, 21, 11, 22, 12, 23, 13, 24, 14, 25, 15, 26, 16, 28, 18, 29, 19, 30, 20, 31, 21, 32, 22, 33, 23, 34, 24, 35, 25, 37, 27, 38, 28, 39, 29, 40, 30, 41, 31, 42, 32, 43, 33, 44, 34, 46, 36, 47, 37, 48, 38, 49, 39, 50, 40, 51, 41, 52, 42, 53, 43, 55, 45, 56, 46, 57, 47, 58, 48, 59, 49, 60, 50, 61, 51, 62, 52, 64, 54, 65, 55, 66, 56, 67, 57, 68, 58, 69, 59, 70, 60, 71, 61, 73, 63, 74, 64, 75, 65, 76, 66, 77, 67, 78, 68, 79, 69, 80, 70], \"name\": \"\", \"type\": \"mesh3d\", \"x\": [0.0, 1.0, 2.0, 3.0, 4.0, 5.0, 6.0, 7.0, 8.0, 0.0, 1.0, 2.0, 3.0, 4.0, 5.0, 6.0, 7.0, 8.0, 0.0, 1.0, 2.0, 3.0, 4.0, 5.0, 6.0, 7.0, 8.0, 0.0, 1.0, 2.0, 3.0, 4.0, 5.0, 6.0, 7.0, 8.0, 0.0, 1.0, 2.0, 3.0, 4.0, 5.0, 6.0, 7.0, 8.0, 0.0, 1.0, 2.0, 3.0, 4.0, 5.0, 6.0, 7.0, 8.0, 0.0, 1.0, 2.0, 3.0, 4.0, 5.0, 6.0, 7.0, 8.0, 0.0, 1.0, 2.0, 3.0, 4.0, 5.0, 6.0, 7.0, 8.0, 0.0, 1.0, 2.0, 3.0, 4.0, 5.0, 6.0, 7.0, 8.0], \"y\": [0.0, 0.0, 0.0, 0.0, 0.0, 0.0, 0.0, 0.0, 0.0, 1.0, 1.0, 1.0, 1.0, 1.0, 1.0, 1.0, 1.0, 1.0, 2.0, 2.0, 2.0, 2.0, 2.0, 2.0, 2.0, 2.0, 2.0, 3.0, 3.0, 3.0, 3.0, 3.0, 3.0, 3.0, 3.0, 3.0, 4.0, 4.0, 4.0, 4.0, 4.0, 4.0, 4.0, 4.0, 4.0, 5.0, 5.0, 5.0, 5.0, 5.0, 5.0, 5.0, 5.0, 5.0, 6.0, 6.0, 6.0, 6.0, 6.0, 6.0, 6.0, 6.0, 6.0, 7.0, 7.0, 7.0, 7.0, 7.0, 7.0, 7.0, 7.0, 7.0, 8.0, 8.0, 8.0, 8.0, 8.0, 8.0, 8.0, 8.0, 8.0], \"z\": [0.0, -0.25, -0.5, -0.75, -1.0, -0.75, -0.5, -0.25, 0.0, -0.25, 0.0, -0.25, -0.5, -0.75, -0.5, -0.25, 0.0, -0.25, -0.5, -0.25, 0.0, -0.25, -0.5, -0.25, 0.0, -0.25, -0.5, -0.75, -0.5, -0.25, 0.0, -0.25, 0.0, -0.25, -0.5, -0.75, -1.0, -0.75, -0.5, -0.25, -0.0, -0.25, -0.5, -0.75, -1.0, -0.75, -0.5, -0.25, 0.0, -0.25, 0.0, -0.25, -0.5, -0.75, -0.5, -0.25, 0.0, -0.25, -0.5, -0.25, 0.0, -0.25, -0.5, -0.25, 0.0, -0.25, -0.5, -0.75, -0.5, -0.25, 0.0, -0.25, 0.0, -0.25, -0.5, -0.75, -1.0, -0.75, -0.5, -0.25, 0.0]}, {\"line\": {\"color\": \"rgb(50, 50, 50)\", \"width\": 1.5}, \"mode\": \"lines\", \"showlegend\": false, \"type\": \"scatter3d\", \"x\": [0.0, 1.0, 1.0, 0.0, null, 1.0, 0.0, 0.0, 1.0, null, 1.0, 2.0, 2.0, 1.0, null, 2.0, 1.0, 1.0, 2.0, null, 2.0, 3.0, 3.0, 2.0, null, 3.0, 2.0, 2.0, 3.0, null, 3.0, 4.0, 4.0, 3.0, null, 4.0, 3.0, 3.0, 4.0, null, 4.0, 5.0, 5.0, 4.0, null, 5.0, 4.0, 4.0, 5.0, null, 5.0, 6.0, 6.0, 5.0, null, 6.0, 5.0, 5.0, 6.0, null, 6.0, 7.0, 7.0, 6.0, null, 7.0, 6.0, 6.0, 7.0, null, 7.0, 8.0, 8.0, 7.0, null, 8.0, 7.0, 7.0, 8.0, null, 0.0, 1.0, 1.0, 0.0, null, 1.0, 0.0, 0.0, 1.0, null, 1.0, 2.0, 2.0, 1.0, null, 2.0, 1.0, 1.0, 2.0, null, 2.0, 3.0, 3.0, 2.0, null, 3.0, 2.0, 2.0, 3.0, null, 3.0, 4.0, 4.0, 3.0, null, 4.0, 3.0, 3.0, 4.0, null, 4.0, 5.0, 5.0, 4.0, null, 5.0, 4.0, 4.0, 5.0, null, 5.0, 6.0, 6.0, 5.0, null, 6.0, 5.0, 5.0, 6.0, null, 6.0, 7.0, 7.0, 6.0, null, 7.0, 6.0, 6.0, 7.0, null, 7.0, 8.0, 8.0, 7.0, null, 8.0, 7.0, 7.0, 8.0, null, 0.0, 1.0, 1.0, 0.0, null, 1.0, 0.0, 0.0, 1.0, null, 1.0, 2.0, 2.0, 1.0, null, 2.0, 1.0, 1.0, 2.0, null, 2.0, 3.0, 3.0, 2.0, null, 3.0, 2.0, 2.0, 3.0, null, 3.0, 4.0, 4.0, 3.0, null, 4.0, 3.0, 3.0, 4.0, null, 4.0, 5.0, 5.0, 4.0, null, 5.0, 4.0, 4.0, 5.0, null, 5.0, 6.0, 6.0, 5.0, null, 6.0, 5.0, 5.0, 6.0, null, 6.0, 7.0, 7.0, 6.0, null, 7.0, 6.0, 6.0, 7.0, null, 7.0, 8.0, 8.0, 7.0, null, 8.0, 7.0, 7.0, 8.0, null, 0.0, 1.0, 1.0, 0.0, null, 1.0, 0.0, 0.0, 1.0, null, 1.0, 2.0, 2.0, 1.0, null, 2.0, 1.0, 1.0, 2.0, null, 2.0, 3.0, 3.0, 2.0, null, 3.0, 2.0, 2.0, 3.0, null, 3.0, 4.0, 4.0, 3.0, null, 4.0, 3.0, 3.0, 4.0, null, 4.0, 5.0, 5.0, 4.0, null, 5.0, 4.0, 4.0, 5.0, null, 5.0, 6.0, 6.0, 5.0, null, 6.0, 5.0, 5.0, 6.0, null, 6.0, 7.0, 7.0, 6.0, null, 7.0, 6.0, 6.0, 7.0, null, 7.0, 8.0, 8.0, 7.0, null, 8.0, 7.0, 7.0, 8.0, null, 0.0, 1.0, 1.0, 0.0, null, 1.0, 0.0, 0.0, 1.0, null, 1.0, 2.0, 2.0, 1.0, null, 2.0, 1.0, 1.0, 2.0, null, 2.0, 3.0, 3.0, 2.0, null, 3.0, 2.0, 2.0, 3.0, null, 3.0, 4.0, 4.0, 3.0, null, 4.0, 3.0, 3.0, 4.0, null, 4.0, 5.0, 5.0, 4.0, null, 5.0, 4.0, 4.0, 5.0, null, 5.0, 6.0, 6.0, 5.0, null, 6.0, 5.0, 5.0, 6.0, null, 6.0, 7.0, 7.0, 6.0, null, 7.0, 6.0, 6.0, 7.0, null, 7.0, 8.0, 8.0, 7.0, null, 8.0, 7.0, 7.0, 8.0, null, 0.0, 1.0, 1.0, 0.0, null, 1.0, 0.0, 0.0, 1.0, null, 1.0, 2.0, 2.0, 1.0, null, 2.0, 1.0, 1.0, 2.0, null, 2.0, 3.0, 3.0, 2.0, null, 3.0, 2.0, 2.0, 3.0, null, 3.0, 4.0, 4.0, 3.0, null, 4.0, 3.0, 3.0, 4.0, null, 4.0, 5.0, 5.0, 4.0, null, 5.0, 4.0, 4.0, 5.0, null, 5.0, 6.0, 6.0, 5.0, null, 6.0, 5.0, 5.0, 6.0, null, 6.0, 7.0, 7.0, 6.0, null, 7.0, 6.0, 6.0, 7.0, null, 7.0, 8.0, 8.0, 7.0, null, 8.0, 7.0, 7.0, 8.0, null, 0.0, 1.0, 1.0, 0.0, null, 1.0, 0.0, 0.0, 1.0, null, 1.0, 2.0, 2.0, 1.0, null, 2.0, 1.0, 1.0, 2.0, null, 2.0, 3.0, 3.0, 2.0, null, 3.0, 2.0, 2.0, 3.0, null, 3.0, 4.0, 4.0, 3.0, null, 4.0, 3.0, 3.0, 4.0, null, 4.0, 5.0, 5.0, 4.0, null, 5.0, 4.0, 4.0, 5.0, null, 5.0, 6.0, 6.0, 5.0, null, 6.0, 5.0, 5.0, 6.0, null, 6.0, 7.0, 7.0, 6.0, null, 7.0, 6.0, 6.0, 7.0, null, 7.0, 8.0, 8.0, 7.0, null, 8.0, 7.0, 7.0, 8.0, null, 0.0, 1.0, 1.0, 0.0, null, 1.0, 0.0, 0.0, 1.0, null, 1.0, 2.0, 2.0, 1.0, null, 2.0, 1.0, 1.0, 2.0, null, 2.0, 3.0, 3.0, 2.0, null, 3.0, 2.0, 2.0, 3.0, null, 3.0, 4.0, 4.0, 3.0, null, 4.0, 3.0, 3.0, 4.0, null, 4.0, 5.0, 5.0, 4.0, null, 5.0, 4.0, 4.0, 5.0, null, 5.0, 6.0, 6.0, 5.0, null, 6.0, 5.0, 5.0, 6.0, null, 6.0, 7.0, 7.0, 6.0, null, 7.0, 6.0, 6.0, 7.0, null, 7.0, 8.0, 8.0, 7.0, null, 8.0, 7.0, 7.0, 8.0, null], \"y\": [0.0, 0.0, 1.0, 0.0, null, 1.0, 1.0, 0.0, 1.0, null, 0.0, 0.0, 1.0, 0.0, null, 1.0, 1.0, 0.0, 1.0, null, 0.0, 0.0, 1.0, 0.0, null, 1.0, 1.0, 0.0, 1.0, null, 0.0, 0.0, 1.0, 0.0, null, 1.0, 1.0, 0.0, 1.0, null, 0.0, 0.0, 1.0, 0.0, null, 1.0, 1.0, 0.0, 1.0, null, 0.0, 0.0, 1.0, 0.0, null, 1.0, 1.0, 0.0, 1.0, null, 0.0, 0.0, 1.0, 0.0, null, 1.0, 1.0, 0.0, 1.0, null, 0.0, 0.0, 1.0, 0.0, null, 1.0, 1.0, 0.0, 1.0, null, 1.0, 1.0, 2.0, 1.0, null, 2.0, 2.0, 1.0, 2.0, null, 1.0, 1.0, 2.0, 1.0, null, 2.0, 2.0, 1.0, 2.0, null, 1.0, 1.0, 2.0, 1.0, null, 2.0, 2.0, 1.0, 2.0, null, 1.0, 1.0, 2.0, 1.0, null, 2.0, 2.0, 1.0, 2.0, null, 1.0, 1.0, 2.0, 1.0, null, 2.0, 2.0, 1.0, 2.0, null, 1.0, 1.0, 2.0, 1.0, null, 2.0, 2.0, 1.0, 2.0, null, 1.0, 1.0, 2.0, 1.0, null, 2.0, 2.0, 1.0, 2.0, null, 1.0, 1.0, 2.0, 1.0, null, 2.0, 2.0, 1.0, 2.0, null, 2.0, 2.0, 3.0, 2.0, null, 3.0, 3.0, 2.0, 3.0, null, 2.0, 2.0, 3.0, 2.0, null, 3.0, 3.0, 2.0, 3.0, null, 2.0, 2.0, 3.0, 2.0, null, 3.0, 3.0, 2.0, 3.0, null, 2.0, 2.0, 3.0, 2.0, null, 3.0, 3.0, 2.0, 3.0, null, 2.0, 2.0, 3.0, 2.0, null, 3.0, 3.0, 2.0, 3.0, null, 2.0, 2.0, 3.0, 2.0, null, 3.0, 3.0, 2.0, 3.0, null, 2.0, 2.0, 3.0, 2.0, null, 3.0, 3.0, 2.0, 3.0, null, 2.0, 2.0, 3.0, 2.0, null, 3.0, 3.0, 2.0, 3.0, null, 3.0, 3.0, 4.0, 3.0, null, 4.0, 4.0, 3.0, 4.0, null, 3.0, 3.0, 4.0, 3.0, null, 4.0, 4.0, 3.0, 4.0, null, 3.0, 3.0, 4.0, 3.0, null, 4.0, 4.0, 3.0, 4.0, null, 3.0, 3.0, 4.0, 3.0, null, 4.0, 4.0, 3.0, 4.0, null, 3.0, 3.0, 4.0, 3.0, null, 4.0, 4.0, 3.0, 4.0, null, 3.0, 3.0, 4.0, 3.0, null, 4.0, 4.0, 3.0, 4.0, null, 3.0, 3.0, 4.0, 3.0, null, 4.0, 4.0, 3.0, 4.0, null, 3.0, 3.0, 4.0, 3.0, null, 4.0, 4.0, 3.0, 4.0, null, 4.0, 4.0, 5.0, 4.0, null, 5.0, 5.0, 4.0, 5.0, null, 4.0, 4.0, 5.0, 4.0, null, 5.0, 5.0, 4.0, 5.0, null, 4.0, 4.0, 5.0, 4.0, null, 5.0, 5.0, 4.0, 5.0, null, 4.0, 4.0, 5.0, 4.0, null, 5.0, 5.0, 4.0, 5.0, null, 4.0, 4.0, 5.0, 4.0, null, 5.0, 5.0, 4.0, 5.0, null, 4.0, 4.0, 5.0, 4.0, null, 5.0, 5.0, 4.0, 5.0, null, 4.0, 4.0, 5.0, 4.0, null, 5.0, 5.0, 4.0, 5.0, null, 4.0, 4.0, 5.0, 4.0, null, 5.0, 5.0, 4.0, 5.0, null, 5.0, 5.0, 6.0, 5.0, null, 6.0, 6.0, 5.0, 6.0, null, 5.0, 5.0, 6.0, 5.0, null, 6.0, 6.0, 5.0, 6.0, null, 5.0, 5.0, 6.0, 5.0, null, 6.0, 6.0, 5.0, 6.0, null, 5.0, 5.0, 6.0, 5.0, null, 6.0, 6.0, 5.0, 6.0, null, 5.0, 5.0, 6.0, 5.0, null, 6.0, 6.0, 5.0, 6.0, null, 5.0, 5.0, 6.0, 5.0, null, 6.0, 6.0, 5.0, 6.0, null, 5.0, 5.0, 6.0, 5.0, null, 6.0, 6.0, 5.0, 6.0, null, 5.0, 5.0, 6.0, 5.0, null, 6.0, 6.0, 5.0, 6.0, null, 6.0, 6.0, 7.0, 6.0, null, 7.0, 7.0, 6.0, 7.0, null, 6.0, 6.0, 7.0, 6.0, null, 7.0, 7.0, 6.0, 7.0, null, 6.0, 6.0, 7.0, 6.0, null, 7.0, 7.0, 6.0, 7.0, null, 6.0, 6.0, 7.0, 6.0, null, 7.0, 7.0, 6.0, 7.0, null, 6.0, 6.0, 7.0, 6.0, null, 7.0, 7.0, 6.0, 7.0, null, 6.0, 6.0, 7.0, 6.0, null, 7.0, 7.0, 6.0, 7.0, null, 6.0, 6.0, 7.0, 6.0, null, 7.0, 7.0, 6.0, 7.0, null, 6.0, 6.0, 7.0, 6.0, null, 7.0, 7.0, 6.0, 7.0, null, 7.0, 7.0, 8.0, 7.0, null, 8.0, 8.0, 7.0, 8.0, null, 7.0, 7.0, 8.0, 7.0, null, 8.0, 8.0, 7.0, 8.0, null, 7.0, 7.0, 8.0, 7.0, null, 8.0, 8.0, 7.0, 8.0, null, 7.0, 7.0, 8.0, 7.0, null, 8.0, 8.0, 7.0, 8.0, null, 7.0, 7.0, 8.0, 7.0, null, 8.0, 8.0, 7.0, 8.0, null, 7.0, 7.0, 8.0, 7.0, null, 8.0, 8.0, 7.0, 8.0, null, 7.0, 7.0, 8.0, 7.0, null, 8.0, 8.0, 7.0, 8.0, null, 7.0, 7.0, 8.0, 7.0, null, 8.0, 8.0, 7.0, 8.0, null], \"z\": [0.0, -0.25, 0.0, 0.0, null, 0.0, -0.25, 0.0, 0.0, null, -0.25, -0.5, -0.25, -0.25, null, -0.25, 0.0, -0.25, -0.25, null, -0.5, -0.75, -0.5, -0.5, null, -0.5, -0.25, -0.5, -0.5, null, -0.75, -1.0, -0.75, -0.75, null, -0.75, -0.5, -0.75, -0.75, null, -1.0, -0.75, -0.5, -1.0, null, -0.5, -0.75, -1.0, -0.5, null, -0.75, -0.5, -0.25, -0.75, null, -0.25, -0.5, -0.75, -0.25, null, -0.5, -0.25, 0.0, -0.5, null, 0.0, -0.25, -0.5, 0.0, null, -0.25, 0.0, -0.25, -0.25, null, -0.25, 0.0, -0.25, -0.25, null, -0.25, 0.0, -0.25, -0.25, null, -0.25, -0.5, -0.25, -0.25, null, 0.0, -0.25, 0.0, 0.0, null, 0.0, -0.25, 0.0, 0.0, null, -0.25, -0.5, -0.25, -0.25, null, -0.25, 0.0, -0.25, -0.25, null, -0.5, -0.75, -0.5, -0.5, null, -0.5, -0.25, -0.5, -0.5, null, -0.75, -0.5, -0.25, -0.75, null, -0.25, -0.5, -0.75, -0.25, null, -0.5, -0.25, 0.0, -0.5, null, 0.0, -0.25, -0.5, 0.0, null, -0.25, 0.0, -0.25, -0.25, null, -0.25, 0.0, -0.25, -0.25, null, 0.0, -0.25, -0.5, 0.0, null, -0.5, -0.25, 0.0, -0.5, null, -0.5, -0.25, -0.5, -0.5, null, -0.5, -0.75, -0.5, -0.5, null, -0.25, 0.0, -0.25, -0.25, null, -0.25, -0.5, -0.25, -0.25, null, 0.0, -0.25, 0.0, 0.0, null, 0.0, -0.25, 0.0, 0.0, null, -0.25, -0.5, -0.25, -0.25, null, -0.25, 0.0, -0.25, -0.25, null, -0.5, -0.25, 0.0, -0.5, null, 0.0, -0.25, -0.5, 0.0, null, -0.25, 0.0, -0.25, -0.25, null, -0.25, 0.0, -0.25, -0.25, null, 0.0, -0.25, -0.5, 0.0, null, -0.5, -0.25, 0.0, -0.5, null, -0.25, -0.5, -0.75, -0.25, null, -0.75, -0.5, -0.25, -0.75, null, -0.75, -0.5, -0.75, -0.75, null, -0.75, -1.0, -0.75, -0.75, null, -0.5, -0.25, -0.5, -0.5, null, -0.5, -0.75, -0.5, -0.5, null, -0.25, 0.0, -0.25, -0.25, null, -0.25, -0.5, -0.25, -0.25, null, 0.0, -0.25, -0.0, 0.0, null, -0.0, -0.25, 0.0, -0.0, null, -0.25, 0.0, -0.25, -0.25, null, -0.25, -0.0, -0.25, -0.25, null, 0.0, -0.25, -0.5, 0.0, null, -0.5, -0.25, 0.0, -0.5, null, -0.25, -0.5, -0.75, -0.25, null, -0.75, -0.5, -0.25, -0.75, null, -0.5, -0.75, -1.0, -0.5, null, -1.0, -0.75, -0.5, -1.0, null, -1.0, -0.75, -0.5, -1.0, null, -0.5, -0.75, -1.0, -0.5, null, -0.75, -0.5, -0.25, -0.75, null, -0.25, -0.5, -0.75, -0.25, null, -0.5, -0.25, 0.0, -0.5, null, 0.0, -0.25, -0.5, 0.0, null, -0.25, -0.0, -0.25, -0.25, null, -0.25, 0.0, -0.25, -0.25, null, -0.0, -0.25, 0.0, -0.0, null, 0.0, -0.25, -0.0, 0.0, null, -0.25, -0.5, -0.25, -0.25, null, -0.25, 0.0, -0.25, -0.25, null, -0.5, -0.75, -0.5, -0.5, null, -0.5, -0.25, -0.5, -0.5, null, -0.75, -1.0, -0.75, -0.75, null, -0.75, -0.5, -0.75, -0.75, null, -0.75, -0.5, -0.25, -0.75, null, -0.25, -0.5, -0.75, -0.25, null, -0.5, -0.25, 0.0, -0.5, null, 0.0, -0.25, -0.5, 0.0, null, -0.25, 0.0, -0.25, -0.25, null, -0.25, 0.0, -0.25, -0.25, null, 0.0, -0.25, -0.5, 0.0, null, -0.5, -0.25, 0.0, -0.5, null, -0.25, 0.0, -0.25, -0.25, null, -0.25, -0.5, -0.25, -0.25, null, 0.0, -0.25, 0.0, 0.0, null, 0.0, -0.25, 0.0, 0.0, null, -0.25, -0.5, -0.25, -0.25, null, -0.25, 0.0, -0.25, -0.25, null, -0.5, -0.75, -0.5, -0.5, null, -0.5, -0.25, -0.5, -0.5, null, -0.5, -0.25, 0.0, -0.5, null, 0.0, -0.25, -0.5, 0.0, null, -0.25, 0.0, -0.25, -0.25, null, -0.25, 0.0, -0.25, -0.25, null, 0.0, -0.25, -0.5, 0.0, null, -0.5, -0.25, 0.0, -0.5, null, -0.25, -0.5, -0.75, -0.25, null, -0.75, -0.5, -0.25, -0.75, null, -0.5, -0.25, -0.5, -0.5, null, -0.5, -0.75, -0.5, -0.5, null, -0.25, 0.0, -0.25, -0.25, null, -0.25, -0.5, -0.25, -0.25, null, 0.0, -0.25, 0.0, 0.0, null, 0.0, -0.25, 0.0, 0.0, null, -0.25, -0.5, -0.25, -0.25, null, -0.25, 0.0, -0.25, -0.25, null, -0.25, 0.0, -0.25, -0.25, null, -0.25, 0.0, -0.25, -0.25, null, 0.0, -0.25, -0.5, 0.0, null, -0.5, -0.25, 0.0, -0.5, null, -0.25, -0.5, -0.75, -0.25, null, -0.75, -0.5, -0.25, -0.75, null, -0.5, -0.75, -1.0, -0.5, null, -1.0, -0.75, -0.5, -1.0, null, -0.75, -0.5, -0.75, -0.75, null, -0.75, -1.0, -0.75, -0.75, null, -0.5, -0.25, -0.5, -0.5, null, -0.5, -0.75, -0.5, -0.5, null, -0.25, 0.0, -0.25, -0.25, null, -0.25, -0.5, -0.25, -0.25, null, 0.0, -0.25, 0.0, 0.0, null, 0.0, -0.25, 0.0, 0.0, null]}, {\"hoverinfo\": \"none\", \"marker\": {\"color\": [-0.8333333333333334, -0.08333333333333333], \"colorscale\": [[0.0, \"rgb(5, 10, 172)\"], [0.1, \"rgb(34, 46, 193)\"], [0.2, \"rgb(63, 83, 215)\"], [0.30000000000000004, \"rgb(92, 119, 236)\"], [0.4, \"rgb(134, 155, 228)\"], [0.5, \"rgb(190, 190, 190)\"], [0.6000000000000001, \"rgb(220, 170, 132)\"], [0.7000000000000001, \"rgb(230, 145, 90)\"], [0.8, \"rgb(213, 100, 69)\"], [0.9, \"rgb(195, 55, 49)\"], [1.0, \"rgb(178, 10, 28)\"]], \"showscale\": true, \"size\": 0.1}, \"mode\": \"markers\", \"showlegend\": false, \"type\": \"scatter3d\", \"x\": [0.0], \"y\": [0.0], \"z\": [0.0]}],\n",
       "                        {\"height\": 800, \"scene\": {\"aspectratio\": {\"x\": 1, \"y\": 1, \"z\": 0.1}, \"camera\": {}, \"xaxis\": {\"backgroundcolor\": \"rgb(230, 230, 230)\", \"gridcolor\": \"rgb(255, 255, 255)\", \"showbackground\": true, \"zerolinecolor\": \"rgb(255, 255, 255)\"}, \"yaxis\": {\"backgroundcolor\": \"rgb(230, 230, 230)\", \"gridcolor\": \"rgb(255, 255, 255)\", \"showbackground\": true, \"zerolinecolor\": \"rgb(255, 255, 255)\"}, \"zaxis\": {\"backgroundcolor\": \"rgb(230, 230, 230)\", \"gridcolor\": \"rgb(255, 255, 255)\", \"showbackground\": true, \"zerolinecolor\": \"rgb(255, 255, 255)\"}}, \"template\": {\"data\": {\"bar\": [{\"error_x\": {\"color\": \"#2a3f5f\"}, \"error_y\": {\"color\": \"#2a3f5f\"}, \"marker\": {\"line\": {\"color\": \"#E5ECF6\", \"width\": 0.5}}, \"type\": \"bar\"}], \"barpolar\": [{\"marker\": {\"line\": {\"color\": \"#E5ECF6\", \"width\": 0.5}}, \"type\": \"barpolar\"}], \"carpet\": [{\"aaxis\": {\"endlinecolor\": \"#2a3f5f\", \"gridcolor\": \"white\", \"linecolor\": \"white\", \"minorgridcolor\": \"white\", \"startlinecolor\": \"#2a3f5f\"}, \"baxis\": {\"endlinecolor\": \"#2a3f5f\", \"gridcolor\": \"white\", \"linecolor\": \"white\", \"minorgridcolor\": \"white\", \"startlinecolor\": \"#2a3f5f\"}, \"type\": \"carpet\"}], \"choropleth\": [{\"colorbar\": {\"outlinewidth\": 0, \"ticks\": \"\"}, \"type\": \"choropleth\"}], \"contour\": [{\"colorbar\": {\"outlinewidth\": 0, \"ticks\": \"\"}, \"colorscale\": [[0.0, \"#0d0887\"], [0.1111111111111111, \"#46039f\"], [0.2222222222222222, \"#7201a8\"], [0.3333333333333333, \"#9c179e\"], [0.4444444444444444, \"#bd3786\"], [0.5555555555555556, \"#d8576b\"], [0.6666666666666666, \"#ed7953\"], [0.7777777777777778, \"#fb9f3a\"], [0.8888888888888888, \"#fdca26\"], [1.0, \"#f0f921\"]], \"type\": \"contour\"}], \"contourcarpet\": [{\"colorbar\": {\"outlinewidth\": 0, \"ticks\": \"\"}, \"type\": \"contourcarpet\"}], \"heatmap\": [{\"colorbar\": {\"outlinewidth\": 0, \"ticks\": \"\"}, \"colorscale\": [[0.0, \"#0d0887\"], [0.1111111111111111, \"#46039f\"], [0.2222222222222222, \"#7201a8\"], [0.3333333333333333, \"#9c179e\"], [0.4444444444444444, \"#bd3786\"], [0.5555555555555556, \"#d8576b\"], [0.6666666666666666, \"#ed7953\"], [0.7777777777777778, \"#fb9f3a\"], [0.8888888888888888, \"#fdca26\"], [1.0, \"#f0f921\"]], \"type\": \"heatmap\"}], \"heatmapgl\": [{\"colorbar\": {\"outlinewidth\": 0, \"ticks\": \"\"}, \"colorscale\": [[0.0, \"#0d0887\"], [0.1111111111111111, \"#46039f\"], [0.2222222222222222, \"#7201a8\"], [0.3333333333333333, \"#9c179e\"], [0.4444444444444444, \"#bd3786\"], [0.5555555555555556, \"#d8576b\"], [0.6666666666666666, \"#ed7953\"], [0.7777777777777778, \"#fb9f3a\"], [0.8888888888888888, \"#fdca26\"], [1.0, \"#f0f921\"]], \"type\": \"heatmapgl\"}], \"histogram\": [{\"marker\": {\"colorbar\": {\"outlinewidth\": 0, \"ticks\": \"\"}}, \"type\": \"histogram\"}], \"histogram2d\": [{\"colorbar\": {\"outlinewidth\": 0, \"ticks\": \"\"}, \"colorscale\": [[0.0, \"#0d0887\"], [0.1111111111111111, \"#46039f\"], [0.2222222222222222, \"#7201a8\"], [0.3333333333333333, \"#9c179e\"], [0.4444444444444444, \"#bd3786\"], [0.5555555555555556, \"#d8576b\"], [0.6666666666666666, \"#ed7953\"], [0.7777777777777778, \"#fb9f3a\"], [0.8888888888888888, \"#fdca26\"], [1.0, \"#f0f921\"]], \"type\": \"histogram2d\"}], \"histogram2dcontour\": [{\"colorbar\": {\"outlinewidth\": 0, \"ticks\": \"\"}, \"colorscale\": [[0.0, \"#0d0887\"], [0.1111111111111111, \"#46039f\"], [0.2222222222222222, \"#7201a8\"], [0.3333333333333333, \"#9c179e\"], [0.4444444444444444, \"#bd3786\"], [0.5555555555555556, \"#d8576b\"], [0.6666666666666666, \"#ed7953\"], [0.7777777777777778, \"#fb9f3a\"], [0.8888888888888888, \"#fdca26\"], [1.0, \"#f0f921\"]], \"type\": \"histogram2dcontour\"}], \"mesh3d\": [{\"colorbar\": {\"outlinewidth\": 0, \"ticks\": \"\"}, \"type\": \"mesh3d\"}], \"parcoords\": [{\"line\": {\"colorbar\": {\"outlinewidth\": 0, \"ticks\": \"\"}}, \"type\": \"parcoords\"}], \"scatter\": [{\"marker\": {\"colorbar\": {\"outlinewidth\": 0, \"ticks\": \"\"}}, \"type\": \"scatter\"}], \"scatter3d\": [{\"line\": {\"colorbar\": {\"outlinewidth\": 0, \"ticks\": \"\"}}, \"marker\": {\"colorbar\": {\"outlinewidth\": 0, \"ticks\": \"\"}}, \"type\": \"scatter3d\"}], \"scattercarpet\": [{\"marker\": {\"colorbar\": {\"outlinewidth\": 0, \"ticks\": \"\"}}, \"type\": \"scattercarpet\"}], \"scattergeo\": [{\"marker\": {\"colorbar\": {\"outlinewidth\": 0, \"ticks\": \"\"}}, \"type\": \"scattergeo\"}], \"scattergl\": [{\"marker\": {\"colorbar\": {\"outlinewidth\": 0, \"ticks\": \"\"}}, \"type\": \"scattergl\"}], \"scattermapbox\": [{\"marker\": {\"colorbar\": {\"outlinewidth\": 0, \"ticks\": \"\"}}, \"type\": \"scattermapbox\"}], \"scatterpolar\": [{\"marker\": {\"colorbar\": {\"outlinewidth\": 0, \"ticks\": \"\"}}, \"type\": \"scatterpolar\"}], \"scatterpolargl\": [{\"marker\": {\"colorbar\": {\"outlinewidth\": 0, \"ticks\": \"\"}}, \"type\": \"scatterpolargl\"}], \"scatterternary\": [{\"marker\": {\"colorbar\": {\"outlinewidth\": 0, \"ticks\": \"\"}}, \"type\": \"scatterternary\"}], \"surface\": [{\"colorbar\": {\"outlinewidth\": 0, \"ticks\": \"\"}, \"colorscale\": [[0.0, \"#0d0887\"], [0.1111111111111111, \"#46039f\"], [0.2222222222222222, \"#7201a8\"], [0.3333333333333333, \"#9c179e\"], [0.4444444444444444, \"#bd3786\"], [0.5555555555555556, \"#d8576b\"], [0.6666666666666666, \"#ed7953\"], [0.7777777777777778, \"#fb9f3a\"], [0.8888888888888888, \"#fdca26\"], [1.0, \"#f0f921\"]], \"type\": \"surface\"}], \"table\": [{\"cells\": {\"fill\": {\"color\": \"#EBF0F8\"}, \"line\": {\"color\": \"white\"}}, \"header\": {\"fill\": {\"color\": \"#C8D4E3\"}, \"line\": {\"color\": \"white\"}}, \"type\": \"table\"}]}, \"layout\": {\"annotationdefaults\": {\"arrowcolor\": \"#2a3f5f\", \"arrowhead\": 0, \"arrowwidth\": 1}, \"colorscale\": {\"diverging\": [[0, \"#8e0152\"], [0.1, \"#c51b7d\"], [0.2, \"#de77ae\"], [0.3, \"#f1b6da\"], [0.4, \"#fde0ef\"], [0.5, \"#f7f7f7\"], [0.6, \"#e6f5d0\"], [0.7, \"#b8e186\"], [0.8, \"#7fbc41\"], [0.9, \"#4d9221\"], [1, \"#276419\"]], \"sequential\": [[0.0, \"#0d0887\"], [0.1111111111111111, \"#46039f\"], [0.2222222222222222, \"#7201a8\"], [0.3333333333333333, \"#9c179e\"], [0.4444444444444444, \"#bd3786\"], [0.5555555555555556, \"#d8576b\"], [0.6666666666666666, \"#ed7953\"], [0.7777777777777778, \"#fb9f3a\"], [0.8888888888888888, \"#fdca26\"], [1.0, \"#f0f921\"]], \"sequentialminus\": [[0.0, \"#0d0887\"], [0.1111111111111111, \"#46039f\"], [0.2222222222222222, \"#7201a8\"], [0.3333333333333333, \"#9c179e\"], [0.4444444444444444, \"#bd3786\"], [0.5555555555555556, \"#d8576b\"], [0.6666666666666666, \"#ed7953\"], [0.7777777777777778, \"#fb9f3a\"], [0.8888888888888888, \"#fdca26\"], [1.0, \"#f0f921\"]]}, \"colorway\": [\"#636efa\", \"#EF553B\", \"#00cc96\", \"#ab63fa\", \"#FFA15A\", \"#19d3f3\", \"#FF6692\", \"#B6E880\", \"#FF97FF\", \"#FECB52\"], \"font\": {\"color\": \"#2a3f5f\"}, \"geo\": {\"bgcolor\": \"white\", \"lakecolor\": \"white\", \"landcolor\": \"#E5ECF6\", \"showlakes\": true, \"showland\": true, \"subunitcolor\": \"white\"}, \"hoverlabel\": {\"align\": \"left\"}, \"hovermode\": \"closest\", \"mapbox\": {\"style\": \"light\"}, \"paper_bgcolor\": \"white\", \"plot_bgcolor\": \"#E5ECF6\", \"polar\": {\"angularaxis\": {\"gridcolor\": \"white\", \"linecolor\": \"white\", \"ticks\": \"\"}, \"bgcolor\": \"#E5ECF6\", \"radialaxis\": {\"gridcolor\": \"white\", \"linecolor\": \"white\", \"ticks\": \"\"}}, \"scene\": {\"xaxis\": {\"backgroundcolor\": \"#E5ECF6\", \"gridcolor\": \"white\", \"gridwidth\": 2, \"linecolor\": \"white\", \"showbackground\": true, \"ticks\": \"\", \"zerolinecolor\": \"white\"}, \"yaxis\": {\"backgroundcolor\": \"#E5ECF6\", \"gridcolor\": \"white\", \"gridwidth\": 2, \"linecolor\": \"white\", \"showbackground\": true, \"ticks\": \"\", \"zerolinecolor\": \"white\"}, \"zaxis\": {\"backgroundcolor\": \"#E5ECF6\", \"gridcolor\": \"white\", \"gridwidth\": 2, \"linecolor\": \"white\", \"showbackground\": true, \"ticks\": \"\", \"zerolinecolor\": \"white\"}}, \"shapedefaults\": {\"line\": {\"color\": \"#2a3f5f\"}}, \"ternary\": {\"aaxis\": {\"gridcolor\": \"white\", \"linecolor\": \"white\", \"ticks\": \"\"}, \"baxis\": {\"gridcolor\": \"white\", \"linecolor\": \"white\", \"ticks\": \"\"}, \"bgcolor\": \"#E5ECF6\", \"caxis\": {\"gridcolor\": \"white\", \"linecolor\": \"white\", \"ticks\": \"\"}}, \"title\": {\"x\": 0.05}, \"xaxis\": {\"automargin\": true, \"gridcolor\": \"white\", \"linecolor\": \"white\", \"ticks\": \"\", \"zerolinecolor\": \"white\", \"zerolinewidth\": 2}, \"yaxis\": {\"automargin\": true, \"gridcolor\": \"white\", \"linecolor\": \"white\", \"ticks\": \"\", \"zerolinecolor\": \"white\", \"zerolinewidth\": 2}}}, \"title\": {\"text\": \"ul_lr triangulation of ridge function (trisurf)\"}, \"width\": 800},\n",
       "                        {\"responsive\": true}\n",
       "                    ).then(function(){\n",
       "                            \n",
       "var gd = document.getElementById('c1b4d142-736e-4721-8748-72fb41b85478');\n",
       "var x = new MutationObserver(function (mutations, observer) {{\n",
       "        var display = window.getComputedStyle(gd).display;\n",
       "        if (!display || display === 'none') {{\n",
       "            console.log([gd, 'removed!']);\n",
       "            Plotly.purge(gd);\n",
       "            observer.disconnect();\n",
       "        }}\n",
       "}});\n",
       "\n",
       "// Listen for the removal of the full notebook cells\n",
       "var notebookContainer = gd.closest('#notebook-container');\n",
       "if (notebookContainer) {{\n",
       "    x.observe(notebookContainer, {childList: true});\n",
       "}}\n",
       "\n",
       "// Listen for the clearing of the current output cell\n",
       "var outputEl = gd.closest('.output');\n",
       "if (outputEl) {{\n",
       "    x.observe(outputEl, {childList: true});\n",
       "}}\n",
       "\n",
       "                        })\n",
       "                };\n",
       "                });\n",
       "            </script>\n",
       "        </div>"
      ]
     },
     "metadata": {},
     "output_type": "display_data"
    },
    {
     "data": {
      "application/vnd.plotly.v1+json": {
       "config": {
        "plotlyServerURL": "https://plot.ly"
       },
       "data": [
        {
         "facecolor": [
          "rgb(197, 60, 51)",
          "rgb(197, 60, 51)",
          "rgb(217, 110, 74)",
          "rgb(217, 110, 74)",
          "rgb(159, 171, 211)",
          "rgb(159, 171, 211)",
          "rgb(37, 50, 195)",
          "rgb(37, 50, 195)",
          "rgb(5, 10, 172)",
          "rgb(69, 91, 220)",
          "rgb(106, 131, 233)",
          "rgb(207, 179, 158)",
          "rgb(227, 153, 104)",
          "rgb(197, 60, 51)",
          "rgb(178, 10, 28)",
          "rgb(178, 10, 28)",
          "rgb(217, 110, 74)",
          "rgb(217, 110, 74)",
          "rgb(197, 60, 51)",
          "rgb(197, 60, 51)",
          "rgb(217, 110, 74)",
          "rgb(217, 110, 74)",
          "rgb(159, 171, 211)",
          "rgb(159, 171, 211)",
          "rgb(106, 131, 233)",
          "rgb(207, 179, 158)",
          "rgb(227, 153, 104)",
          "rgb(197, 60, 51)",
          "rgb(178, 10, 28)",
          "rgb(178, 10, 28)",
          "rgb(197, 60, 51)",
          "rgb(227, 153, 104)",
          "rgb(159, 171, 211)",
          "rgb(159, 171, 211)",
          "rgb(217, 110, 74)",
          "rgb(217, 110, 74)",
          "rgb(197, 60, 51)",
          "rgb(197, 60, 51)",
          "rgb(217, 110, 74)",
          "rgb(217, 110, 74)",
          "rgb(227, 153, 104)",
          "rgb(197, 60, 51)",
          "rgb(178, 10, 28)",
          "rgb(178, 10, 28)",
          "rgb(197, 60, 51)",
          "rgb(227, 153, 104)",
          "rgb(207, 179, 158)",
          "rgb(106, 131, 233)",
          "rgb(37, 50, 195)",
          "rgb(37, 50, 195)",
          "rgb(159, 171, 211)",
          "rgb(159, 171, 211)",
          "rgb(217, 110, 74)",
          "rgb(217, 110, 74)",
          "rgb(197, 60, 51)",
          "rgb(197, 60, 51)",
          "rgb(178, 10, 28)",
          "rgb(178, 10, 28)",
          "rgb(197, 60, 51)",
          "rgb(227, 153, 104)",
          "rgb(207, 179, 158)",
          "rgb(106, 131, 233)",
          "rgb(69, 91, 220)",
          "rgb(5, 10, 172)",
          "rgb(5, 10, 172)",
          "rgb(69, 91, 220)",
          "rgb(106, 131, 233)",
          "rgb(207, 179, 158)",
          "rgb(227, 153, 104)",
          "rgb(197, 60, 51)",
          "rgb(178, 10, 28)",
          "rgb(178, 10, 28)",
          "rgb(197, 60, 51)",
          "rgb(197, 60, 51)",
          "rgb(217, 110, 74)",
          "rgb(217, 110, 74)",
          "rgb(159, 171, 211)",
          "rgb(159, 171, 211)",
          "rgb(37, 50, 195)",
          "rgb(37, 50, 195)",
          "rgb(106, 131, 233)",
          "rgb(207, 179, 158)",
          "rgb(227, 153, 104)",
          "rgb(197, 60, 51)",
          "rgb(178, 10, 28)",
          "rgb(178, 10, 28)",
          "rgb(197, 60, 51)",
          "rgb(227, 153, 104)",
          "rgb(217, 110, 74)",
          "rgb(217, 110, 74)",
          "rgb(197, 60, 51)",
          "rgb(197, 60, 51)",
          "rgb(217, 110, 74)",
          "rgb(217, 110, 74)",
          "rgb(159, 171, 211)",
          "rgb(159, 171, 211)",
          "rgb(227, 153, 104)",
          "rgb(197, 60, 51)",
          "rgb(178, 10, 28)",
          "rgb(178, 10, 28)",
          "rgb(197, 60, 51)",
          "rgb(227, 153, 104)",
          "rgb(207, 179, 158)",
          "rgb(106, 131, 233)",
          "rgb(159, 171, 211)",
          "rgb(159, 171, 211)",
          "rgb(217, 110, 74)",
          "rgb(217, 110, 74)",
          "rgb(197, 60, 51)",
          "rgb(197, 60, 51)",
          "rgb(217, 110, 74)",
          "rgb(217, 110, 74)",
          "rgb(178, 10, 28)",
          "rgb(178, 10, 28)",
          "rgb(197, 60, 51)",
          "rgb(227, 153, 104)",
          "rgb(207, 179, 158)",
          "rgb(106, 131, 233)",
          "rgb(69, 91, 220)",
          "rgb(5, 10, 172)",
          "rgb(37, 50, 195)",
          "rgb(37, 50, 195)",
          "rgb(159, 171, 211)",
          "rgb(159, 171, 211)",
          "rgb(217, 110, 74)",
          "rgb(217, 110, 74)",
          "rgb(197, 60, 51)",
          "rgb(197, 60, 51)"
         ],
         "i": [
          9,
          1,
          10,
          2,
          11,
          3,
          12,
          4,
          13,
          5,
          14,
          6,
          15,
          7,
          16,
          8,
          18,
          10,
          19,
          11,
          20,
          12,
          21,
          13,
          22,
          14,
          23,
          15,
          24,
          16,
          25,
          17,
          27,
          19,
          28,
          20,
          29,
          21,
          30,
          22,
          31,
          23,
          32,
          24,
          33,
          25,
          34,
          26,
          36,
          28,
          37,
          29,
          38,
          30,
          39,
          31,
          40,
          32,
          41,
          33,
          42,
          34,
          43,
          35,
          45,
          37,
          46,
          38,
          47,
          39,
          48,
          40,
          49,
          41,
          50,
          42,
          51,
          43,
          52,
          44,
          54,
          46,
          55,
          47,
          56,
          48,
          57,
          49,
          58,
          50,
          59,
          51,
          60,
          52,
          61,
          53,
          63,
          55,
          64,
          56,
          65,
          57,
          66,
          58,
          67,
          59,
          68,
          60,
          69,
          61,
          70,
          62,
          72,
          64,
          73,
          65,
          74,
          66,
          75,
          67,
          76,
          68,
          77,
          69,
          78,
          70,
          79,
          71
         ],
         "j": [
          0,
          10,
          1,
          11,
          2,
          12,
          3,
          13,
          4,
          14,
          5,
          15,
          6,
          16,
          7,
          17,
          9,
          19,
          10,
          20,
          11,
          21,
          12,
          22,
          13,
          23,
          14,
          24,
          15,
          25,
          16,
          26,
          18,
          28,
          19,
          29,
          20,
          30,
          21,
          31,
          22,
          32,
          23,
          33,
          24,
          34,
          25,
          35,
          27,
          37,
          28,
          38,
          29,
          39,
          30,
          40,
          31,
          41,
          32,
          42,
          33,
          43,
          34,
          44,
          36,
          46,
          37,
          47,
          38,
          48,
          39,
          49,
          40,
          50,
          41,
          51,
          42,
          52,
          43,
          53,
          45,
          55,
          46,
          56,
          47,
          57,
          48,
          58,
          49,
          59,
          50,
          60,
          51,
          61,
          52,
          62,
          54,
          64,
          55,
          65,
          56,
          66,
          57,
          67,
          58,
          68,
          59,
          69,
          60,
          70,
          61,
          71,
          63,
          73,
          64,
          74,
          65,
          75,
          66,
          76,
          67,
          77,
          68,
          78,
          69,
          79,
          70,
          80
         ],
         "k": [
          1,
          9,
          2,
          10,
          3,
          11,
          4,
          12,
          5,
          13,
          6,
          14,
          7,
          15,
          8,
          16,
          10,
          18,
          11,
          19,
          12,
          20,
          13,
          21,
          14,
          22,
          15,
          23,
          16,
          24,
          17,
          25,
          19,
          27,
          20,
          28,
          21,
          29,
          22,
          30,
          23,
          31,
          24,
          32,
          25,
          33,
          26,
          34,
          28,
          36,
          29,
          37,
          30,
          38,
          31,
          39,
          32,
          40,
          33,
          41,
          34,
          42,
          35,
          43,
          37,
          45,
          38,
          46,
          39,
          47,
          40,
          48,
          41,
          49,
          42,
          50,
          43,
          51,
          44,
          52,
          46,
          54,
          47,
          55,
          48,
          56,
          49,
          57,
          50,
          58,
          51,
          59,
          52,
          60,
          53,
          61,
          55,
          63,
          56,
          64,
          57,
          65,
          58,
          66,
          59,
          67,
          60,
          68,
          61,
          69,
          62,
          70,
          64,
          72,
          65,
          73,
          66,
          74,
          67,
          75,
          68,
          76,
          69,
          77,
          70,
          78,
          71,
          79
         ],
         "name": "",
         "type": "mesh3d",
         "x": [
          0,
          1,
          2,
          3,
          4,
          5,
          6,
          7,
          8,
          0,
          1,
          2,
          3,
          4,
          5,
          6,
          7,
          8,
          0,
          1,
          2,
          3,
          4,
          5,
          6,
          7,
          8,
          0,
          1,
          2,
          3,
          4,
          5,
          6,
          7,
          8,
          0,
          1,
          2,
          3,
          4,
          5,
          6,
          7,
          8,
          0,
          1,
          2,
          3,
          4,
          5,
          6,
          7,
          8,
          0,
          1,
          2,
          3,
          4,
          5,
          6,
          7,
          8,
          0,
          1,
          2,
          3,
          4,
          5,
          6,
          7,
          8,
          0,
          1,
          2,
          3,
          4,
          5,
          6,
          7,
          8
         ],
         "y": [
          0,
          0,
          0,
          0,
          0,
          0,
          0,
          0,
          0,
          1,
          1,
          1,
          1,
          1,
          1,
          1,
          1,
          1,
          2,
          2,
          2,
          2,
          2,
          2,
          2,
          2,
          2,
          3,
          3,
          3,
          3,
          3,
          3,
          3,
          3,
          3,
          4,
          4,
          4,
          4,
          4,
          4,
          4,
          4,
          4,
          5,
          5,
          5,
          5,
          5,
          5,
          5,
          5,
          5,
          6,
          6,
          6,
          6,
          6,
          6,
          6,
          6,
          6,
          7,
          7,
          7,
          7,
          7,
          7,
          7,
          7,
          7,
          8,
          8,
          8,
          8,
          8,
          8,
          8,
          8,
          8
         ],
         "z": [
          0,
          -0.25,
          -0.5,
          -0.75,
          -1,
          -0.75,
          -0.5,
          -0.25,
          0,
          -0.25,
          0,
          -0.25,
          -0.5,
          -0.75,
          -0.5,
          -0.25,
          0,
          -0.25,
          -0.5,
          -0.25,
          0,
          -0.25,
          -0.5,
          -0.25,
          0,
          -0.25,
          -0.5,
          -0.75,
          -0.5,
          -0.25,
          0,
          -0.25,
          0,
          -0.25,
          -0.5,
          -0.75,
          -1,
          -0.75,
          -0.5,
          -0.25,
          0,
          -0.25,
          -0.5,
          -0.75,
          -1,
          -0.75,
          -0.5,
          -0.25,
          0,
          -0.25,
          0,
          -0.25,
          -0.5,
          -0.75,
          -0.5,
          -0.25,
          0,
          -0.25,
          -0.5,
          -0.25,
          0,
          -0.25,
          -0.5,
          -0.25,
          0,
          -0.25,
          -0.5,
          -0.75,
          -0.5,
          -0.25,
          0,
          -0.25,
          0,
          -0.25,
          -0.5,
          -0.75,
          -1,
          -0.75,
          -0.5,
          -0.25,
          0
         ]
        },
        {
         "line": {
          "color": "rgb(50, 50, 50)",
          "width": 1.5
         },
         "mode": "lines",
         "showlegend": false,
         "type": "scatter3d",
         "x": [
          0,
          0,
          1,
          0,
          null,
          1,
          1,
          0,
          1,
          null,
          1,
          1,
          2,
          1,
          null,
          2,
          2,
          1,
          2,
          null,
          2,
          2,
          3,
          2,
          null,
          3,
          3,
          2,
          3,
          null,
          3,
          3,
          4,
          3,
          null,
          4,
          4,
          3,
          4,
          null,
          4,
          4,
          5,
          4,
          null,
          5,
          5,
          4,
          5,
          null,
          5,
          5,
          6,
          5,
          null,
          6,
          6,
          5,
          6,
          null,
          6,
          6,
          7,
          6,
          null,
          7,
          7,
          6,
          7,
          null,
          7,
          7,
          8,
          7,
          null,
          8,
          8,
          7,
          8,
          null,
          0,
          0,
          1,
          0,
          null,
          1,
          1,
          0,
          1,
          null,
          1,
          1,
          2,
          1,
          null,
          2,
          2,
          1,
          2,
          null,
          2,
          2,
          3,
          2,
          null,
          3,
          3,
          2,
          3,
          null,
          3,
          3,
          4,
          3,
          null,
          4,
          4,
          3,
          4,
          null,
          4,
          4,
          5,
          4,
          null,
          5,
          5,
          4,
          5,
          null,
          5,
          5,
          6,
          5,
          null,
          6,
          6,
          5,
          6,
          null,
          6,
          6,
          7,
          6,
          null,
          7,
          7,
          6,
          7,
          null,
          7,
          7,
          8,
          7,
          null,
          8,
          8,
          7,
          8,
          null,
          0,
          0,
          1,
          0,
          null,
          1,
          1,
          0,
          1,
          null,
          1,
          1,
          2,
          1,
          null,
          2,
          2,
          1,
          2,
          null,
          2,
          2,
          3,
          2,
          null,
          3,
          3,
          2,
          3,
          null,
          3,
          3,
          4,
          3,
          null,
          4,
          4,
          3,
          4,
          null,
          4,
          4,
          5,
          4,
          null,
          5,
          5,
          4,
          5,
          null,
          5,
          5,
          6,
          5,
          null,
          6,
          6,
          5,
          6,
          null,
          6,
          6,
          7,
          6,
          null,
          7,
          7,
          6,
          7,
          null,
          7,
          7,
          8,
          7,
          null,
          8,
          8,
          7,
          8,
          null,
          0,
          0,
          1,
          0,
          null,
          1,
          1,
          0,
          1,
          null,
          1,
          1,
          2,
          1,
          null,
          2,
          2,
          1,
          2,
          null,
          2,
          2,
          3,
          2,
          null,
          3,
          3,
          2,
          3,
          null,
          3,
          3,
          4,
          3,
          null,
          4,
          4,
          3,
          4,
          null,
          4,
          4,
          5,
          4,
          null,
          5,
          5,
          4,
          5,
          null,
          5,
          5,
          6,
          5,
          null,
          6,
          6,
          5,
          6,
          null,
          6,
          6,
          7,
          6,
          null,
          7,
          7,
          6,
          7,
          null,
          7,
          7,
          8,
          7,
          null,
          8,
          8,
          7,
          8,
          null,
          0,
          0,
          1,
          0,
          null,
          1,
          1,
          0,
          1,
          null,
          1,
          1,
          2,
          1,
          null,
          2,
          2,
          1,
          2,
          null,
          2,
          2,
          3,
          2,
          null,
          3,
          3,
          2,
          3,
          null,
          3,
          3,
          4,
          3,
          null,
          4,
          4,
          3,
          4,
          null,
          4,
          4,
          5,
          4,
          null,
          5,
          5,
          4,
          5,
          null,
          5,
          5,
          6,
          5,
          null,
          6,
          6,
          5,
          6,
          null,
          6,
          6,
          7,
          6,
          null,
          7,
          7,
          6,
          7,
          null,
          7,
          7,
          8,
          7,
          null,
          8,
          8,
          7,
          8,
          null,
          0,
          0,
          1,
          0,
          null,
          1,
          1,
          0,
          1,
          null,
          1,
          1,
          2,
          1,
          null,
          2,
          2,
          1,
          2,
          null,
          2,
          2,
          3,
          2,
          null,
          3,
          3,
          2,
          3,
          null,
          3,
          3,
          4,
          3,
          null,
          4,
          4,
          3,
          4,
          null,
          4,
          4,
          5,
          4,
          null,
          5,
          5,
          4,
          5,
          null,
          5,
          5,
          6,
          5,
          null,
          6,
          6,
          5,
          6,
          null,
          6,
          6,
          7,
          6,
          null,
          7,
          7,
          6,
          7,
          null,
          7,
          7,
          8,
          7,
          null,
          8,
          8,
          7,
          8,
          null,
          0,
          0,
          1,
          0,
          null,
          1,
          1,
          0,
          1,
          null,
          1,
          1,
          2,
          1,
          null,
          2,
          2,
          1,
          2,
          null,
          2,
          2,
          3,
          2,
          null,
          3,
          3,
          2,
          3,
          null,
          3,
          3,
          4,
          3,
          null,
          4,
          4,
          3,
          4,
          null,
          4,
          4,
          5,
          4,
          null,
          5,
          5,
          4,
          5,
          null,
          5,
          5,
          6,
          5,
          null,
          6,
          6,
          5,
          6,
          null,
          6,
          6,
          7,
          6,
          null,
          7,
          7,
          6,
          7,
          null,
          7,
          7,
          8,
          7,
          null,
          8,
          8,
          7,
          8,
          null,
          0,
          0,
          1,
          0,
          null,
          1,
          1,
          0,
          1,
          null,
          1,
          1,
          2,
          1,
          null,
          2,
          2,
          1,
          2,
          null,
          2,
          2,
          3,
          2,
          null,
          3,
          3,
          2,
          3,
          null,
          3,
          3,
          4,
          3,
          null,
          4,
          4,
          3,
          4,
          null,
          4,
          4,
          5,
          4,
          null,
          5,
          5,
          4,
          5,
          null,
          5,
          5,
          6,
          5,
          null,
          6,
          6,
          5,
          6,
          null,
          6,
          6,
          7,
          6,
          null,
          7,
          7,
          6,
          7,
          null,
          7,
          7,
          8,
          7,
          null,
          8,
          8,
          7,
          8,
          null
         ],
         "y": [
          1,
          0,
          0,
          1,
          null,
          0,
          1,
          1,
          0,
          null,
          1,
          0,
          0,
          1,
          null,
          0,
          1,
          1,
          0,
          null,
          1,
          0,
          0,
          1,
          null,
          0,
          1,
          1,
          0,
          null,
          1,
          0,
          0,
          1,
          null,
          0,
          1,
          1,
          0,
          null,
          1,
          0,
          0,
          1,
          null,
          0,
          1,
          1,
          0,
          null,
          1,
          0,
          0,
          1,
          null,
          0,
          1,
          1,
          0,
          null,
          1,
          0,
          0,
          1,
          null,
          0,
          1,
          1,
          0,
          null,
          1,
          0,
          0,
          1,
          null,
          0,
          1,
          1,
          0,
          null,
          2,
          1,
          1,
          2,
          null,
          1,
          2,
          2,
          1,
          null,
          2,
          1,
          1,
          2,
          null,
          1,
          2,
          2,
          1,
          null,
          2,
          1,
          1,
          2,
          null,
          1,
          2,
          2,
          1,
          null,
          2,
          1,
          1,
          2,
          null,
          1,
          2,
          2,
          1,
          null,
          2,
          1,
          1,
          2,
          null,
          1,
          2,
          2,
          1,
          null,
          2,
          1,
          1,
          2,
          null,
          1,
          2,
          2,
          1,
          null,
          2,
          1,
          1,
          2,
          null,
          1,
          2,
          2,
          1,
          null,
          2,
          1,
          1,
          2,
          null,
          1,
          2,
          2,
          1,
          null,
          3,
          2,
          2,
          3,
          null,
          2,
          3,
          3,
          2,
          null,
          3,
          2,
          2,
          3,
          null,
          2,
          3,
          3,
          2,
          null,
          3,
          2,
          2,
          3,
          null,
          2,
          3,
          3,
          2,
          null,
          3,
          2,
          2,
          3,
          null,
          2,
          3,
          3,
          2,
          null,
          3,
          2,
          2,
          3,
          null,
          2,
          3,
          3,
          2,
          null,
          3,
          2,
          2,
          3,
          null,
          2,
          3,
          3,
          2,
          null,
          3,
          2,
          2,
          3,
          null,
          2,
          3,
          3,
          2,
          null,
          3,
          2,
          2,
          3,
          null,
          2,
          3,
          3,
          2,
          null,
          4,
          3,
          3,
          4,
          null,
          3,
          4,
          4,
          3,
          null,
          4,
          3,
          3,
          4,
          null,
          3,
          4,
          4,
          3,
          null,
          4,
          3,
          3,
          4,
          null,
          3,
          4,
          4,
          3,
          null,
          4,
          3,
          3,
          4,
          null,
          3,
          4,
          4,
          3,
          null,
          4,
          3,
          3,
          4,
          null,
          3,
          4,
          4,
          3,
          null,
          4,
          3,
          3,
          4,
          null,
          3,
          4,
          4,
          3,
          null,
          4,
          3,
          3,
          4,
          null,
          3,
          4,
          4,
          3,
          null,
          4,
          3,
          3,
          4,
          null,
          3,
          4,
          4,
          3,
          null,
          5,
          4,
          4,
          5,
          null,
          4,
          5,
          5,
          4,
          null,
          5,
          4,
          4,
          5,
          null,
          4,
          5,
          5,
          4,
          null,
          5,
          4,
          4,
          5,
          null,
          4,
          5,
          5,
          4,
          null,
          5,
          4,
          4,
          5,
          null,
          4,
          5,
          5,
          4,
          null,
          5,
          4,
          4,
          5,
          null,
          4,
          5,
          5,
          4,
          null,
          5,
          4,
          4,
          5,
          null,
          4,
          5,
          5,
          4,
          null,
          5,
          4,
          4,
          5,
          null,
          4,
          5,
          5,
          4,
          null,
          5,
          4,
          4,
          5,
          null,
          4,
          5,
          5,
          4,
          null,
          6,
          5,
          5,
          6,
          null,
          5,
          6,
          6,
          5,
          null,
          6,
          5,
          5,
          6,
          null,
          5,
          6,
          6,
          5,
          null,
          6,
          5,
          5,
          6,
          null,
          5,
          6,
          6,
          5,
          null,
          6,
          5,
          5,
          6,
          null,
          5,
          6,
          6,
          5,
          null,
          6,
          5,
          5,
          6,
          null,
          5,
          6,
          6,
          5,
          null,
          6,
          5,
          5,
          6,
          null,
          5,
          6,
          6,
          5,
          null,
          6,
          5,
          5,
          6,
          null,
          5,
          6,
          6,
          5,
          null,
          6,
          5,
          5,
          6,
          null,
          5,
          6,
          6,
          5,
          null,
          7,
          6,
          6,
          7,
          null,
          6,
          7,
          7,
          6,
          null,
          7,
          6,
          6,
          7,
          null,
          6,
          7,
          7,
          6,
          null,
          7,
          6,
          6,
          7,
          null,
          6,
          7,
          7,
          6,
          null,
          7,
          6,
          6,
          7,
          null,
          6,
          7,
          7,
          6,
          null,
          7,
          6,
          6,
          7,
          null,
          6,
          7,
          7,
          6,
          null,
          7,
          6,
          6,
          7,
          null,
          6,
          7,
          7,
          6,
          null,
          7,
          6,
          6,
          7,
          null,
          6,
          7,
          7,
          6,
          null,
          7,
          6,
          6,
          7,
          null,
          6,
          7,
          7,
          6,
          null,
          8,
          7,
          7,
          8,
          null,
          7,
          8,
          8,
          7,
          null,
          8,
          7,
          7,
          8,
          null,
          7,
          8,
          8,
          7,
          null,
          8,
          7,
          7,
          8,
          null,
          7,
          8,
          8,
          7,
          null,
          8,
          7,
          7,
          8,
          null,
          7,
          8,
          8,
          7,
          null,
          8,
          7,
          7,
          8,
          null,
          7,
          8,
          8,
          7,
          null,
          8,
          7,
          7,
          8,
          null,
          7,
          8,
          8,
          7,
          null,
          8,
          7,
          7,
          8,
          null,
          7,
          8,
          8,
          7,
          null,
          8,
          7,
          7,
          8,
          null,
          7,
          8,
          8,
          7,
          null
         ],
         "z": [
          -0.25,
          0,
          -0.25,
          -0.25,
          null,
          -0.25,
          0,
          -0.25,
          -0.25,
          null,
          0,
          -0.25,
          -0.5,
          0,
          null,
          -0.5,
          -0.25,
          0,
          -0.5,
          null,
          -0.25,
          -0.5,
          -0.75,
          -0.25,
          null,
          -0.75,
          -0.5,
          -0.25,
          -0.75,
          null,
          -0.5,
          -0.75,
          -1,
          -0.5,
          null,
          -1,
          -0.75,
          -0.5,
          -1,
          null,
          -0.75,
          -1,
          -0.75,
          -0.75,
          null,
          -0.75,
          -0.5,
          -0.75,
          -0.75,
          null,
          -0.5,
          -0.75,
          -0.5,
          -0.5,
          null,
          -0.5,
          -0.25,
          -0.5,
          -0.5,
          null,
          -0.25,
          -0.5,
          -0.25,
          -0.25,
          null,
          -0.25,
          0,
          -0.25,
          -0.25,
          null,
          0,
          -0.25,
          0,
          0,
          null,
          0,
          -0.25,
          0,
          0,
          null,
          -0.5,
          -0.25,
          0,
          -0.5,
          null,
          0,
          -0.25,
          -0.5,
          0,
          null,
          -0.25,
          0,
          -0.25,
          -0.25,
          null,
          -0.25,
          0,
          -0.25,
          -0.25,
          null,
          0,
          -0.25,
          -0.5,
          0,
          null,
          -0.5,
          -0.25,
          0,
          -0.5,
          null,
          -0.25,
          -0.5,
          -0.75,
          -0.25,
          null,
          -0.75,
          -0.5,
          -0.25,
          -0.75,
          null,
          -0.5,
          -0.75,
          -0.5,
          -0.5,
          null,
          -0.5,
          -0.25,
          -0.5,
          -0.5,
          null,
          -0.25,
          -0.5,
          -0.25,
          -0.25,
          null,
          -0.25,
          0,
          -0.25,
          -0.25,
          null,
          0,
          -0.25,
          0,
          0,
          null,
          0,
          -0.25,
          0,
          0,
          null,
          -0.25,
          0,
          -0.25,
          -0.25,
          null,
          -0.25,
          -0.5,
          -0.25,
          -0.25,
          null,
          -0.75,
          -0.5,
          -0.25,
          -0.75,
          null,
          -0.25,
          -0.5,
          -0.75,
          -0.25,
          null,
          -0.5,
          -0.25,
          0,
          -0.5,
          null,
          0,
          -0.25,
          -0.5,
          0,
          null,
          -0.25,
          0,
          -0.25,
          -0.25,
          null,
          -0.25,
          0,
          -0.25,
          -0.25,
          null,
          0,
          -0.25,
          -0.5,
          0,
          null,
          -0.5,
          -0.25,
          0,
          -0.5,
          null,
          -0.25,
          -0.5,
          -0.25,
          -0.25,
          null,
          -0.25,
          0,
          -0.25,
          -0.25,
          null,
          0,
          -0.25,
          0,
          0,
          null,
          0,
          -0.25,
          0,
          0,
          null,
          -0.25,
          0,
          -0.25,
          -0.25,
          null,
          -0.25,
          -0.5,
          -0.25,
          -0.25,
          null,
          -0.5,
          -0.25,
          -0.5,
          -0.5,
          null,
          -0.5,
          -0.75,
          -0.5,
          -0.5,
          null,
          -1,
          -0.75,
          -0.5,
          -1,
          null,
          -0.5,
          -0.75,
          -1,
          -0.5,
          null,
          -0.75,
          -0.5,
          -0.25,
          -0.75,
          null,
          -0.25,
          -0.5,
          -0.75,
          -0.25,
          null,
          -0.5,
          -0.25,
          0,
          -0.5,
          null,
          0,
          -0.25,
          -0.5,
          0,
          null,
          -0.25,
          0,
          -0.25,
          -0.25,
          null,
          -0.25,
          0,
          -0.25,
          -0.25,
          null,
          0,
          -0.25,
          0,
          0,
          null,
          0,
          -0.25,
          0,
          0,
          null,
          -0.25,
          0,
          -0.25,
          -0.25,
          null,
          -0.25,
          -0.5,
          -0.25,
          -0.25,
          null,
          -0.5,
          -0.25,
          -0.5,
          -0.5,
          null,
          -0.5,
          -0.75,
          -0.5,
          -0.5,
          null,
          -0.75,
          -0.5,
          -0.75,
          -0.75,
          null,
          -0.75,
          -1,
          -0.75,
          -0.75,
          null,
          -0.75,
          -1,
          -0.75,
          -0.75,
          null,
          -0.75,
          -0.5,
          -0.75,
          -0.75,
          null,
          -0.5,
          -0.75,
          -0.5,
          -0.5,
          null,
          -0.5,
          -0.25,
          -0.5,
          -0.5,
          null,
          -0.25,
          -0.5,
          -0.25,
          -0.25,
          null,
          -0.25,
          0,
          -0.25,
          -0.25,
          null,
          0,
          -0.25,
          0,
          0,
          null,
          0,
          -0.25,
          0,
          0,
          null,
          -0.25,
          0,
          -0.25,
          -0.25,
          null,
          -0.25,
          0,
          -0.25,
          -0.25,
          null,
          0,
          -0.25,
          -0.5,
          0,
          null,
          -0.5,
          -0.25,
          0,
          -0.5,
          null,
          -0.25,
          -0.5,
          -0.75,
          -0.25,
          null,
          -0.75,
          -0.5,
          -0.25,
          -0.75,
          null,
          -0.5,
          -0.75,
          -1,
          -0.5,
          null,
          -1,
          -0.75,
          -0.5,
          -1,
          null,
          -0.5,
          -0.75,
          -0.5,
          -0.5,
          null,
          -0.5,
          -0.25,
          -0.5,
          -0.5,
          null,
          -0.25,
          -0.5,
          -0.25,
          -0.25,
          null,
          -0.25,
          0,
          -0.25,
          -0.25,
          null,
          0,
          -0.25,
          0,
          0,
          null,
          0,
          -0.25,
          0,
          0,
          null,
          -0.25,
          0,
          -0.25,
          -0.25,
          null,
          -0.25,
          -0.5,
          -0.25,
          -0.25,
          null,
          -0.5,
          -0.25,
          0,
          -0.5,
          null,
          0,
          -0.25,
          -0.5,
          0,
          null,
          -0.25,
          0,
          -0.25,
          -0.25,
          null,
          -0.25,
          0,
          -0.25,
          -0.25,
          null,
          0,
          -0.25,
          -0.5,
          0,
          null,
          -0.5,
          -0.25,
          0,
          -0.5,
          null,
          -0.25,
          -0.5,
          -0.75,
          -0.25,
          null,
          -0.75,
          -0.5,
          -0.25,
          -0.75,
          null,
          -0.25,
          -0.5,
          -0.25,
          -0.25,
          null,
          -0.25,
          0,
          -0.25,
          -0.25,
          null,
          0,
          -0.25,
          0,
          0,
          null,
          0,
          -0.25,
          0,
          0,
          null,
          -0.25,
          0,
          -0.25,
          -0.25,
          null,
          -0.25,
          -0.5,
          -0.25,
          -0.25,
          null,
          -0.5,
          -0.25,
          -0.5,
          -0.5,
          null,
          -0.5,
          -0.75,
          -0.5,
          -0.5,
          null,
          -0.75,
          -0.5,
          -0.25,
          -0.75,
          null,
          -0.25,
          -0.5,
          -0.75,
          -0.25,
          null,
          -0.5,
          -0.25,
          0,
          -0.5,
          null,
          0,
          -0.25,
          -0.5,
          0,
          null,
          -0.25,
          0,
          -0.25,
          -0.25,
          null,
          -0.25,
          0,
          -0.25,
          -0.25,
          null,
          0,
          -0.25,
          -0.5,
          0,
          null,
          -0.5,
          -0.25,
          0,
          -0.5,
          null,
          0,
          -0.25,
          0,
          0,
          null,
          0,
          -0.25,
          0,
          0,
          null,
          -0.25,
          0,
          -0.25,
          -0.25,
          null,
          -0.25,
          -0.5,
          -0.25,
          -0.25,
          null,
          -0.5,
          -0.25,
          -0.5,
          -0.5,
          null,
          -0.5,
          -0.75,
          -0.5,
          -0.5,
          null,
          -0.75,
          -0.5,
          -0.75,
          -0.75,
          null,
          -0.75,
          -1,
          -0.75,
          -0.75,
          null,
          -1,
          -0.75,
          -0.5,
          -1,
          null,
          -0.5,
          -0.75,
          -1,
          -0.5,
          null,
          -0.75,
          -0.5,
          -0.25,
          -0.75,
          null,
          -0.25,
          -0.5,
          -0.75,
          -0.25,
          null,
          -0.5,
          -0.25,
          0,
          -0.5,
          null,
          0,
          -0.25,
          -0.5,
          0,
          null,
          -0.25,
          0,
          -0.25,
          -0.25,
          null,
          -0.25,
          0,
          -0.25,
          -0.25,
          null
         ]
        },
        {
         "hoverinfo": "none",
         "marker": {
          "color": [
           -0.8333333333333334,
           -0.08333333333333333
          ],
          "colorscale": [
           [
            0,
            "rgb(5, 10, 172)"
           ],
           [
            0.1,
            "rgb(34, 46, 193)"
           ],
           [
            0.2,
            "rgb(63, 83, 215)"
           ],
           [
            0.30000000000000004,
            "rgb(92, 119, 236)"
           ],
           [
            0.4,
            "rgb(134, 155, 228)"
           ],
           [
            0.5,
            "rgb(190, 190, 190)"
           ],
           [
            0.6000000000000001,
            "rgb(220, 170, 132)"
           ],
           [
            0.7000000000000001,
            "rgb(230, 145, 90)"
           ],
           [
            0.8,
            "rgb(213, 100, 69)"
           ],
           [
            0.9,
            "rgb(195, 55, 49)"
           ],
           [
            1,
            "rgb(178, 10, 28)"
           ]
          ],
          "showscale": true,
          "size": 0.1
         },
         "mode": "markers",
         "showlegend": false,
         "type": "scatter3d",
         "x": [
          0
         ],
         "y": [
          0
         ],
         "z": [
          0
         ]
        }
       ],
       "layout": {
        "height": 800,
        "scene": {
         "aspectratio": {
          "x": 1,
          "y": 1,
          "z": 0.1
         },
         "camera": {},
         "xaxis": {
          "backgroundcolor": "rgb(230, 230, 230)",
          "gridcolor": "rgb(255, 255, 255)",
          "showbackground": true,
          "zerolinecolor": "rgb(255, 255, 255)"
         },
         "yaxis": {
          "backgroundcolor": "rgb(230, 230, 230)",
          "gridcolor": "rgb(255, 255, 255)",
          "showbackground": true,
          "zerolinecolor": "rgb(255, 255, 255)"
         },
         "zaxis": {
          "backgroundcolor": "rgb(230, 230, 230)",
          "gridcolor": "rgb(255, 255, 255)",
          "showbackground": true,
          "zerolinecolor": "rgb(255, 255, 255)"
         }
        },
        "template": {
         "data": {
          "bar": [
           {
            "error_x": {
             "color": "#2a3f5f"
            },
            "error_y": {
             "color": "#2a3f5f"
            },
            "marker": {
             "line": {
              "color": "#E5ECF6",
              "width": 0.5
             }
            },
            "type": "bar"
           }
          ],
          "barpolar": [
           {
            "marker": {
             "line": {
              "color": "#E5ECF6",
              "width": 0.5
             }
            },
            "type": "barpolar"
           }
          ],
          "carpet": [
           {
            "aaxis": {
             "endlinecolor": "#2a3f5f",
             "gridcolor": "white",
             "linecolor": "white",
             "minorgridcolor": "white",
             "startlinecolor": "#2a3f5f"
            },
            "baxis": {
             "endlinecolor": "#2a3f5f",
             "gridcolor": "white",
             "linecolor": "white",
             "minorgridcolor": "white",
             "startlinecolor": "#2a3f5f"
            },
            "type": "carpet"
           }
          ],
          "choropleth": [
           {
            "colorbar": {
             "outlinewidth": 0,
             "ticks": ""
            },
            "type": "choropleth"
           }
          ],
          "contour": [
           {
            "colorbar": {
             "outlinewidth": 0,
             "ticks": ""
            },
            "colorscale": [
             [
              0,
              "#0d0887"
             ],
             [
              0.1111111111111111,
              "#46039f"
             ],
             [
              0.2222222222222222,
              "#7201a8"
             ],
             [
              0.3333333333333333,
              "#9c179e"
             ],
             [
              0.4444444444444444,
              "#bd3786"
             ],
             [
              0.5555555555555556,
              "#d8576b"
             ],
             [
              0.6666666666666666,
              "#ed7953"
             ],
             [
              0.7777777777777778,
              "#fb9f3a"
             ],
             [
              0.8888888888888888,
              "#fdca26"
             ],
             [
              1,
              "#f0f921"
             ]
            ],
            "type": "contour"
           }
          ],
          "contourcarpet": [
           {
            "colorbar": {
             "outlinewidth": 0,
             "ticks": ""
            },
            "type": "contourcarpet"
           }
          ],
          "heatmap": [
           {
            "colorbar": {
             "outlinewidth": 0,
             "ticks": ""
            },
            "colorscale": [
             [
              0,
              "#0d0887"
             ],
             [
              0.1111111111111111,
              "#46039f"
             ],
             [
              0.2222222222222222,
              "#7201a8"
             ],
             [
              0.3333333333333333,
              "#9c179e"
             ],
             [
              0.4444444444444444,
              "#bd3786"
             ],
             [
              0.5555555555555556,
              "#d8576b"
             ],
             [
              0.6666666666666666,
              "#ed7953"
             ],
             [
              0.7777777777777778,
              "#fb9f3a"
             ],
             [
              0.8888888888888888,
              "#fdca26"
             ],
             [
              1,
              "#f0f921"
             ]
            ],
            "type": "heatmap"
           }
          ],
          "heatmapgl": [
           {
            "colorbar": {
             "outlinewidth": 0,
             "ticks": ""
            },
            "colorscale": [
             [
              0,
              "#0d0887"
             ],
             [
              0.1111111111111111,
              "#46039f"
             ],
             [
              0.2222222222222222,
              "#7201a8"
             ],
             [
              0.3333333333333333,
              "#9c179e"
             ],
             [
              0.4444444444444444,
              "#bd3786"
             ],
             [
              0.5555555555555556,
              "#d8576b"
             ],
             [
              0.6666666666666666,
              "#ed7953"
             ],
             [
              0.7777777777777778,
              "#fb9f3a"
             ],
             [
              0.8888888888888888,
              "#fdca26"
             ],
             [
              1,
              "#f0f921"
             ]
            ],
            "type": "heatmapgl"
           }
          ],
          "histogram": [
           {
            "marker": {
             "colorbar": {
              "outlinewidth": 0,
              "ticks": ""
             }
            },
            "type": "histogram"
           }
          ],
          "histogram2d": [
           {
            "colorbar": {
             "outlinewidth": 0,
             "ticks": ""
            },
            "colorscale": [
             [
              0,
              "#0d0887"
             ],
             [
              0.1111111111111111,
              "#46039f"
             ],
             [
              0.2222222222222222,
              "#7201a8"
             ],
             [
              0.3333333333333333,
              "#9c179e"
             ],
             [
              0.4444444444444444,
              "#bd3786"
             ],
             [
              0.5555555555555556,
              "#d8576b"
             ],
             [
              0.6666666666666666,
              "#ed7953"
             ],
             [
              0.7777777777777778,
              "#fb9f3a"
             ],
             [
              0.8888888888888888,
              "#fdca26"
             ],
             [
              1,
              "#f0f921"
             ]
            ],
            "type": "histogram2d"
           }
          ],
          "histogram2dcontour": [
           {
            "colorbar": {
             "outlinewidth": 0,
             "ticks": ""
            },
            "colorscale": [
             [
              0,
              "#0d0887"
             ],
             [
              0.1111111111111111,
              "#46039f"
             ],
             [
              0.2222222222222222,
              "#7201a8"
             ],
             [
              0.3333333333333333,
              "#9c179e"
             ],
             [
              0.4444444444444444,
              "#bd3786"
             ],
             [
              0.5555555555555556,
              "#d8576b"
             ],
             [
              0.6666666666666666,
              "#ed7953"
             ],
             [
              0.7777777777777778,
              "#fb9f3a"
             ],
             [
              0.8888888888888888,
              "#fdca26"
             ],
             [
              1,
              "#f0f921"
             ]
            ],
            "type": "histogram2dcontour"
           }
          ],
          "mesh3d": [
           {
            "colorbar": {
             "outlinewidth": 0,
             "ticks": ""
            },
            "type": "mesh3d"
           }
          ],
          "parcoords": [
           {
            "line": {
             "colorbar": {
              "outlinewidth": 0,
              "ticks": ""
             }
            },
            "type": "parcoords"
           }
          ],
          "scatter": [
           {
            "marker": {
             "colorbar": {
              "outlinewidth": 0,
              "ticks": ""
             }
            },
            "type": "scatter"
           }
          ],
          "scatter3d": [
           {
            "line": {
             "colorbar": {
              "outlinewidth": 0,
              "ticks": ""
             }
            },
            "marker": {
             "colorbar": {
              "outlinewidth": 0,
              "ticks": ""
             }
            },
            "type": "scatter3d"
           }
          ],
          "scattercarpet": [
           {
            "marker": {
             "colorbar": {
              "outlinewidth": 0,
              "ticks": ""
             }
            },
            "type": "scattercarpet"
           }
          ],
          "scattergeo": [
           {
            "marker": {
             "colorbar": {
              "outlinewidth": 0,
              "ticks": ""
             }
            },
            "type": "scattergeo"
           }
          ],
          "scattergl": [
           {
            "marker": {
             "colorbar": {
              "outlinewidth": 0,
              "ticks": ""
             }
            },
            "type": "scattergl"
           }
          ],
          "scattermapbox": [
           {
            "marker": {
             "colorbar": {
              "outlinewidth": 0,
              "ticks": ""
             }
            },
            "type": "scattermapbox"
           }
          ],
          "scatterpolar": [
           {
            "marker": {
             "colorbar": {
              "outlinewidth": 0,
              "ticks": ""
             }
            },
            "type": "scatterpolar"
           }
          ],
          "scatterpolargl": [
           {
            "marker": {
             "colorbar": {
              "outlinewidth": 0,
              "ticks": ""
             }
            },
            "type": "scatterpolargl"
           }
          ],
          "scatterternary": [
           {
            "marker": {
             "colorbar": {
              "outlinewidth": 0,
              "ticks": ""
             }
            },
            "type": "scatterternary"
           }
          ],
          "surface": [
           {
            "colorbar": {
             "outlinewidth": 0,
             "ticks": ""
            },
            "colorscale": [
             [
              0,
              "#0d0887"
             ],
             [
              0.1111111111111111,
              "#46039f"
             ],
             [
              0.2222222222222222,
              "#7201a8"
             ],
             [
              0.3333333333333333,
              "#9c179e"
             ],
             [
              0.4444444444444444,
              "#bd3786"
             ],
             [
              0.5555555555555556,
              "#d8576b"
             ],
             [
              0.6666666666666666,
              "#ed7953"
             ],
             [
              0.7777777777777778,
              "#fb9f3a"
             ],
             [
              0.8888888888888888,
              "#fdca26"
             ],
             [
              1,
              "#f0f921"
             ]
            ],
            "type": "surface"
           }
          ],
          "table": [
           {
            "cells": {
             "fill": {
              "color": "#EBF0F8"
             },
             "line": {
              "color": "white"
             }
            },
            "header": {
             "fill": {
              "color": "#C8D4E3"
             },
             "line": {
              "color": "white"
             }
            },
            "type": "table"
           }
          ]
         },
         "layout": {
          "annotationdefaults": {
           "arrowcolor": "#2a3f5f",
           "arrowhead": 0,
           "arrowwidth": 1
          },
          "colorscale": {
           "diverging": [
            [
             0,
             "#8e0152"
            ],
            [
             0.1,
             "#c51b7d"
            ],
            [
             0.2,
             "#de77ae"
            ],
            [
             0.3,
             "#f1b6da"
            ],
            [
             0.4,
             "#fde0ef"
            ],
            [
             0.5,
             "#f7f7f7"
            ],
            [
             0.6,
             "#e6f5d0"
            ],
            [
             0.7,
             "#b8e186"
            ],
            [
             0.8,
             "#7fbc41"
            ],
            [
             0.9,
             "#4d9221"
            ],
            [
             1,
             "#276419"
            ]
           ],
           "sequential": [
            [
             0,
             "#0d0887"
            ],
            [
             0.1111111111111111,
             "#46039f"
            ],
            [
             0.2222222222222222,
             "#7201a8"
            ],
            [
             0.3333333333333333,
             "#9c179e"
            ],
            [
             0.4444444444444444,
             "#bd3786"
            ],
            [
             0.5555555555555556,
             "#d8576b"
            ],
            [
             0.6666666666666666,
             "#ed7953"
            ],
            [
             0.7777777777777778,
             "#fb9f3a"
            ],
            [
             0.8888888888888888,
             "#fdca26"
            ],
            [
             1,
             "#f0f921"
            ]
           ],
           "sequentialminus": [
            [
             0,
             "#0d0887"
            ],
            [
             0.1111111111111111,
             "#46039f"
            ],
            [
             0.2222222222222222,
             "#7201a8"
            ],
            [
             0.3333333333333333,
             "#9c179e"
            ],
            [
             0.4444444444444444,
             "#bd3786"
            ],
            [
             0.5555555555555556,
             "#d8576b"
            ],
            [
             0.6666666666666666,
             "#ed7953"
            ],
            [
             0.7777777777777778,
             "#fb9f3a"
            ],
            [
             0.8888888888888888,
             "#fdca26"
            ],
            [
             1,
             "#f0f921"
            ]
           ]
          },
          "colorway": [
           "#636efa",
           "#EF553B",
           "#00cc96",
           "#ab63fa",
           "#FFA15A",
           "#19d3f3",
           "#FF6692",
           "#B6E880",
           "#FF97FF",
           "#FECB52"
          ],
          "font": {
           "color": "#2a3f5f"
          },
          "geo": {
           "bgcolor": "white",
           "lakecolor": "white",
           "landcolor": "#E5ECF6",
           "showlakes": true,
           "showland": true,
           "subunitcolor": "white"
          },
          "hoverlabel": {
           "align": "left"
          },
          "hovermode": "closest",
          "mapbox": {
           "style": "light"
          },
          "paper_bgcolor": "white",
          "plot_bgcolor": "#E5ECF6",
          "polar": {
           "angularaxis": {
            "gridcolor": "white",
            "linecolor": "white",
            "ticks": ""
           },
           "bgcolor": "#E5ECF6",
           "radialaxis": {
            "gridcolor": "white",
            "linecolor": "white",
            "ticks": ""
           }
          },
          "scene": {
           "xaxis": {
            "backgroundcolor": "#E5ECF6",
            "gridcolor": "white",
            "gridwidth": 2,
            "linecolor": "white",
            "showbackground": true,
            "ticks": "",
            "zerolinecolor": "white"
           },
           "yaxis": {
            "backgroundcolor": "#E5ECF6",
            "gridcolor": "white",
            "gridwidth": 2,
            "linecolor": "white",
            "showbackground": true,
            "ticks": "",
            "zerolinecolor": "white"
           },
           "zaxis": {
            "backgroundcolor": "#E5ECF6",
            "gridcolor": "white",
            "gridwidth": 2,
            "linecolor": "white",
            "showbackground": true,
            "ticks": "",
            "zerolinecolor": "white"
           }
          },
          "shapedefaults": {
           "line": {
            "color": "#2a3f5f"
           }
          },
          "ternary": {
           "aaxis": {
            "gridcolor": "white",
            "linecolor": "white",
            "ticks": ""
           },
           "baxis": {
            "gridcolor": "white",
            "linecolor": "white",
            "ticks": ""
           },
           "bgcolor": "#E5ECF6",
           "caxis": {
            "gridcolor": "white",
            "linecolor": "white",
            "ticks": ""
           }
          },
          "title": {
           "x": 0.05
          },
          "xaxis": {
           "automargin": true,
           "gridcolor": "white",
           "linecolor": "white",
           "ticks": "",
           "zerolinecolor": "white",
           "zerolinewidth": 2
          },
          "yaxis": {
           "automargin": true,
           "gridcolor": "white",
           "linecolor": "white",
           "ticks": "",
           "zerolinecolor": "white",
           "zerolinewidth": 2
          }
         }
        },
        "title": {
         "text": "ll_ur triangulation of ridge function (trisurf)"
        },
        "width": 800
       }
      },
      "text/html": [
       "<div>\n",
       "        \n",
       "        \n",
       "            <div id=\"6ac7a0e7-9d54-4bcf-814f-7d0440d5381d\" class=\"plotly-graph-div\" style=\"height:800px; width:800px;\"></div>\n",
       "            <script type=\"text/javascript\">\n",
       "                require([\"plotly\"], function(Plotly) {\n",
       "                    window.PLOTLYENV=window.PLOTLYENV || {};\n",
       "                    \n",
       "                if (document.getElementById(\"6ac7a0e7-9d54-4bcf-814f-7d0440d5381d\")) {\n",
       "                    Plotly.newPlot(\n",
       "                        '6ac7a0e7-9d54-4bcf-814f-7d0440d5381d',\n",
       "                        [{\"facecolor\": [\"rgb(197, 60, 51)\", \"rgb(197, 60, 51)\", \"rgb(217, 110, 74)\", \"rgb(217, 110, 74)\", \"rgb(159, 171, 211)\", \"rgb(159, 171, 211)\", \"rgb(37, 50, 195)\", \"rgb(37, 50, 195)\", \"rgb(5, 10, 172)\", \"rgb(69, 91, 220)\", \"rgb(106, 131, 233)\", \"rgb(207, 179, 158)\", \"rgb(227, 153, 104)\", \"rgb(197, 60, 51)\", \"rgb(178, 10, 28)\", \"rgb(178, 10, 28)\", \"rgb(217, 110, 74)\", \"rgb(217, 110, 74)\", \"rgb(197, 60, 51)\", \"rgb(197, 60, 51)\", \"rgb(217, 110, 74)\", \"rgb(217, 110, 74)\", \"rgb(159, 171, 211)\", \"rgb(159, 171, 211)\", \"rgb(106, 131, 233)\", \"rgb(207, 179, 158)\", \"rgb(227, 153, 104)\", \"rgb(197, 60, 51)\", \"rgb(178, 10, 28)\", \"rgb(178, 10, 28)\", \"rgb(197, 60, 51)\", \"rgb(227, 153, 104)\", \"rgb(159, 171, 211)\", \"rgb(159, 171, 211)\", \"rgb(217, 110, 74)\", \"rgb(217, 110, 74)\", \"rgb(197, 60, 51)\", \"rgb(197, 60, 51)\", \"rgb(217, 110, 74)\", \"rgb(217, 110, 74)\", \"rgb(227, 153, 104)\", \"rgb(197, 60, 51)\", \"rgb(178, 10, 28)\", \"rgb(178, 10, 28)\", \"rgb(197, 60, 51)\", \"rgb(227, 153, 104)\", \"rgb(207, 179, 158)\", \"rgb(106, 131, 233)\", \"rgb(37, 50, 195)\", \"rgb(37, 50, 195)\", \"rgb(159, 171, 211)\", \"rgb(159, 171, 211)\", \"rgb(217, 110, 74)\", \"rgb(217, 110, 74)\", \"rgb(197, 60, 51)\", \"rgb(197, 60, 51)\", \"rgb(178, 10, 28)\", \"rgb(178, 10, 28)\", \"rgb(197, 60, 51)\", \"rgb(227, 153, 104)\", \"rgb(207, 179, 158)\", \"rgb(106, 131, 233)\", \"rgb(69, 91, 220)\", \"rgb(5, 10, 172)\", \"rgb(5, 10, 172)\", \"rgb(69, 91, 220)\", \"rgb(106, 131, 233)\", \"rgb(207, 179, 158)\", \"rgb(227, 153, 104)\", \"rgb(197, 60, 51)\", \"rgb(178, 10, 28)\", \"rgb(178, 10, 28)\", \"rgb(197, 60, 51)\", \"rgb(197, 60, 51)\", \"rgb(217, 110, 74)\", \"rgb(217, 110, 74)\", \"rgb(159, 171, 211)\", \"rgb(159, 171, 211)\", \"rgb(37, 50, 195)\", \"rgb(37, 50, 195)\", \"rgb(106, 131, 233)\", \"rgb(207, 179, 158)\", \"rgb(227, 153, 104)\", \"rgb(197, 60, 51)\", \"rgb(178, 10, 28)\", \"rgb(178, 10, 28)\", \"rgb(197, 60, 51)\", \"rgb(227, 153, 104)\", \"rgb(217, 110, 74)\", \"rgb(217, 110, 74)\", \"rgb(197, 60, 51)\", \"rgb(197, 60, 51)\", \"rgb(217, 110, 74)\", \"rgb(217, 110, 74)\", \"rgb(159, 171, 211)\", \"rgb(159, 171, 211)\", \"rgb(227, 153, 104)\", \"rgb(197, 60, 51)\", \"rgb(178, 10, 28)\", \"rgb(178, 10, 28)\", \"rgb(197, 60, 51)\", \"rgb(227, 153, 104)\", \"rgb(207, 179, 158)\", \"rgb(106, 131, 233)\", \"rgb(159, 171, 211)\", \"rgb(159, 171, 211)\", \"rgb(217, 110, 74)\", \"rgb(217, 110, 74)\", \"rgb(197, 60, 51)\", \"rgb(197, 60, 51)\", \"rgb(217, 110, 74)\", \"rgb(217, 110, 74)\", \"rgb(178, 10, 28)\", \"rgb(178, 10, 28)\", \"rgb(197, 60, 51)\", \"rgb(227, 153, 104)\", \"rgb(207, 179, 158)\", \"rgb(106, 131, 233)\", \"rgb(69, 91, 220)\", \"rgb(5, 10, 172)\", \"rgb(37, 50, 195)\", \"rgb(37, 50, 195)\", \"rgb(159, 171, 211)\", \"rgb(159, 171, 211)\", \"rgb(217, 110, 74)\", \"rgb(217, 110, 74)\", \"rgb(197, 60, 51)\", \"rgb(197, 60, 51)\"], \"i\": [9, 1, 10, 2, 11, 3, 12, 4, 13, 5, 14, 6, 15, 7, 16, 8, 18, 10, 19, 11, 20, 12, 21, 13, 22, 14, 23, 15, 24, 16, 25, 17, 27, 19, 28, 20, 29, 21, 30, 22, 31, 23, 32, 24, 33, 25, 34, 26, 36, 28, 37, 29, 38, 30, 39, 31, 40, 32, 41, 33, 42, 34, 43, 35, 45, 37, 46, 38, 47, 39, 48, 40, 49, 41, 50, 42, 51, 43, 52, 44, 54, 46, 55, 47, 56, 48, 57, 49, 58, 50, 59, 51, 60, 52, 61, 53, 63, 55, 64, 56, 65, 57, 66, 58, 67, 59, 68, 60, 69, 61, 70, 62, 72, 64, 73, 65, 74, 66, 75, 67, 76, 68, 77, 69, 78, 70, 79, 71], \"j\": [0, 10, 1, 11, 2, 12, 3, 13, 4, 14, 5, 15, 6, 16, 7, 17, 9, 19, 10, 20, 11, 21, 12, 22, 13, 23, 14, 24, 15, 25, 16, 26, 18, 28, 19, 29, 20, 30, 21, 31, 22, 32, 23, 33, 24, 34, 25, 35, 27, 37, 28, 38, 29, 39, 30, 40, 31, 41, 32, 42, 33, 43, 34, 44, 36, 46, 37, 47, 38, 48, 39, 49, 40, 50, 41, 51, 42, 52, 43, 53, 45, 55, 46, 56, 47, 57, 48, 58, 49, 59, 50, 60, 51, 61, 52, 62, 54, 64, 55, 65, 56, 66, 57, 67, 58, 68, 59, 69, 60, 70, 61, 71, 63, 73, 64, 74, 65, 75, 66, 76, 67, 77, 68, 78, 69, 79, 70, 80], \"k\": [1, 9, 2, 10, 3, 11, 4, 12, 5, 13, 6, 14, 7, 15, 8, 16, 10, 18, 11, 19, 12, 20, 13, 21, 14, 22, 15, 23, 16, 24, 17, 25, 19, 27, 20, 28, 21, 29, 22, 30, 23, 31, 24, 32, 25, 33, 26, 34, 28, 36, 29, 37, 30, 38, 31, 39, 32, 40, 33, 41, 34, 42, 35, 43, 37, 45, 38, 46, 39, 47, 40, 48, 41, 49, 42, 50, 43, 51, 44, 52, 46, 54, 47, 55, 48, 56, 49, 57, 50, 58, 51, 59, 52, 60, 53, 61, 55, 63, 56, 64, 57, 65, 58, 66, 59, 67, 60, 68, 61, 69, 62, 70, 64, 72, 65, 73, 66, 74, 67, 75, 68, 76, 69, 77, 70, 78, 71, 79], \"name\": \"\", \"type\": \"mesh3d\", \"x\": [0.0, 1.0, 2.0, 3.0, 4.0, 5.0, 6.0, 7.0, 8.0, 0.0, 1.0, 2.0, 3.0, 4.0, 5.0, 6.0, 7.0, 8.0, 0.0, 1.0, 2.0, 3.0, 4.0, 5.0, 6.0, 7.0, 8.0, 0.0, 1.0, 2.0, 3.0, 4.0, 5.0, 6.0, 7.0, 8.0, 0.0, 1.0, 2.0, 3.0, 4.0, 5.0, 6.0, 7.0, 8.0, 0.0, 1.0, 2.0, 3.0, 4.0, 5.0, 6.0, 7.0, 8.0, 0.0, 1.0, 2.0, 3.0, 4.0, 5.0, 6.0, 7.0, 8.0, 0.0, 1.0, 2.0, 3.0, 4.0, 5.0, 6.0, 7.0, 8.0, 0.0, 1.0, 2.0, 3.0, 4.0, 5.0, 6.0, 7.0, 8.0], \"y\": [0.0, 0.0, 0.0, 0.0, 0.0, 0.0, 0.0, 0.0, 0.0, 1.0, 1.0, 1.0, 1.0, 1.0, 1.0, 1.0, 1.0, 1.0, 2.0, 2.0, 2.0, 2.0, 2.0, 2.0, 2.0, 2.0, 2.0, 3.0, 3.0, 3.0, 3.0, 3.0, 3.0, 3.0, 3.0, 3.0, 4.0, 4.0, 4.0, 4.0, 4.0, 4.0, 4.0, 4.0, 4.0, 5.0, 5.0, 5.0, 5.0, 5.0, 5.0, 5.0, 5.0, 5.0, 6.0, 6.0, 6.0, 6.0, 6.0, 6.0, 6.0, 6.0, 6.0, 7.0, 7.0, 7.0, 7.0, 7.0, 7.0, 7.0, 7.0, 7.0, 8.0, 8.0, 8.0, 8.0, 8.0, 8.0, 8.0, 8.0, 8.0], \"z\": [0.0, -0.25, -0.5, -0.75, -1.0, -0.75, -0.5, -0.25, 0.0, -0.25, 0.0, -0.25, -0.5, -0.75, -0.5, -0.25, 0.0, -0.25, -0.5, -0.25, 0.0, -0.25, -0.5, -0.25, 0.0, -0.25, -0.5, -0.75, -0.5, -0.25, 0.0, -0.25, 0.0, -0.25, -0.5, -0.75, -1.0, -0.75, -0.5, -0.25, -0.0, -0.25, -0.5, -0.75, -1.0, -0.75, -0.5, -0.25, 0.0, -0.25, 0.0, -0.25, -0.5, -0.75, -0.5, -0.25, 0.0, -0.25, -0.5, -0.25, 0.0, -0.25, -0.5, -0.25, 0.0, -0.25, -0.5, -0.75, -0.5, -0.25, 0.0, -0.25, 0.0, -0.25, -0.5, -0.75, -1.0, -0.75, -0.5, -0.25, 0.0]}, {\"line\": {\"color\": \"rgb(50, 50, 50)\", \"width\": 1.5}, \"mode\": \"lines\", \"showlegend\": false, \"type\": \"scatter3d\", \"x\": [0.0, 0.0, 1.0, 0.0, null, 1.0, 1.0, 0.0, 1.0, null, 1.0, 1.0, 2.0, 1.0, null, 2.0, 2.0, 1.0, 2.0, null, 2.0, 2.0, 3.0, 2.0, null, 3.0, 3.0, 2.0, 3.0, null, 3.0, 3.0, 4.0, 3.0, null, 4.0, 4.0, 3.0, 4.0, null, 4.0, 4.0, 5.0, 4.0, null, 5.0, 5.0, 4.0, 5.0, null, 5.0, 5.0, 6.0, 5.0, null, 6.0, 6.0, 5.0, 6.0, null, 6.0, 6.0, 7.0, 6.0, null, 7.0, 7.0, 6.0, 7.0, null, 7.0, 7.0, 8.0, 7.0, null, 8.0, 8.0, 7.0, 8.0, null, 0.0, 0.0, 1.0, 0.0, null, 1.0, 1.0, 0.0, 1.0, null, 1.0, 1.0, 2.0, 1.0, null, 2.0, 2.0, 1.0, 2.0, null, 2.0, 2.0, 3.0, 2.0, null, 3.0, 3.0, 2.0, 3.0, null, 3.0, 3.0, 4.0, 3.0, null, 4.0, 4.0, 3.0, 4.0, null, 4.0, 4.0, 5.0, 4.0, null, 5.0, 5.0, 4.0, 5.0, null, 5.0, 5.0, 6.0, 5.0, null, 6.0, 6.0, 5.0, 6.0, null, 6.0, 6.0, 7.0, 6.0, null, 7.0, 7.0, 6.0, 7.0, null, 7.0, 7.0, 8.0, 7.0, null, 8.0, 8.0, 7.0, 8.0, null, 0.0, 0.0, 1.0, 0.0, null, 1.0, 1.0, 0.0, 1.0, null, 1.0, 1.0, 2.0, 1.0, null, 2.0, 2.0, 1.0, 2.0, null, 2.0, 2.0, 3.0, 2.0, null, 3.0, 3.0, 2.0, 3.0, null, 3.0, 3.0, 4.0, 3.0, null, 4.0, 4.0, 3.0, 4.0, null, 4.0, 4.0, 5.0, 4.0, null, 5.0, 5.0, 4.0, 5.0, null, 5.0, 5.0, 6.0, 5.0, null, 6.0, 6.0, 5.0, 6.0, null, 6.0, 6.0, 7.0, 6.0, null, 7.0, 7.0, 6.0, 7.0, null, 7.0, 7.0, 8.0, 7.0, null, 8.0, 8.0, 7.0, 8.0, null, 0.0, 0.0, 1.0, 0.0, null, 1.0, 1.0, 0.0, 1.0, null, 1.0, 1.0, 2.0, 1.0, null, 2.0, 2.0, 1.0, 2.0, null, 2.0, 2.0, 3.0, 2.0, null, 3.0, 3.0, 2.0, 3.0, null, 3.0, 3.0, 4.0, 3.0, null, 4.0, 4.0, 3.0, 4.0, null, 4.0, 4.0, 5.0, 4.0, null, 5.0, 5.0, 4.0, 5.0, null, 5.0, 5.0, 6.0, 5.0, null, 6.0, 6.0, 5.0, 6.0, null, 6.0, 6.0, 7.0, 6.0, null, 7.0, 7.0, 6.0, 7.0, null, 7.0, 7.0, 8.0, 7.0, null, 8.0, 8.0, 7.0, 8.0, null, 0.0, 0.0, 1.0, 0.0, null, 1.0, 1.0, 0.0, 1.0, null, 1.0, 1.0, 2.0, 1.0, null, 2.0, 2.0, 1.0, 2.0, null, 2.0, 2.0, 3.0, 2.0, null, 3.0, 3.0, 2.0, 3.0, null, 3.0, 3.0, 4.0, 3.0, null, 4.0, 4.0, 3.0, 4.0, null, 4.0, 4.0, 5.0, 4.0, null, 5.0, 5.0, 4.0, 5.0, null, 5.0, 5.0, 6.0, 5.0, null, 6.0, 6.0, 5.0, 6.0, null, 6.0, 6.0, 7.0, 6.0, null, 7.0, 7.0, 6.0, 7.0, null, 7.0, 7.0, 8.0, 7.0, null, 8.0, 8.0, 7.0, 8.0, null, 0.0, 0.0, 1.0, 0.0, null, 1.0, 1.0, 0.0, 1.0, null, 1.0, 1.0, 2.0, 1.0, null, 2.0, 2.0, 1.0, 2.0, null, 2.0, 2.0, 3.0, 2.0, null, 3.0, 3.0, 2.0, 3.0, null, 3.0, 3.0, 4.0, 3.0, null, 4.0, 4.0, 3.0, 4.0, null, 4.0, 4.0, 5.0, 4.0, null, 5.0, 5.0, 4.0, 5.0, null, 5.0, 5.0, 6.0, 5.0, null, 6.0, 6.0, 5.0, 6.0, null, 6.0, 6.0, 7.0, 6.0, null, 7.0, 7.0, 6.0, 7.0, null, 7.0, 7.0, 8.0, 7.0, null, 8.0, 8.0, 7.0, 8.0, null, 0.0, 0.0, 1.0, 0.0, null, 1.0, 1.0, 0.0, 1.0, null, 1.0, 1.0, 2.0, 1.0, null, 2.0, 2.0, 1.0, 2.0, null, 2.0, 2.0, 3.0, 2.0, null, 3.0, 3.0, 2.0, 3.0, null, 3.0, 3.0, 4.0, 3.0, null, 4.0, 4.0, 3.0, 4.0, null, 4.0, 4.0, 5.0, 4.0, null, 5.0, 5.0, 4.0, 5.0, null, 5.0, 5.0, 6.0, 5.0, null, 6.0, 6.0, 5.0, 6.0, null, 6.0, 6.0, 7.0, 6.0, null, 7.0, 7.0, 6.0, 7.0, null, 7.0, 7.0, 8.0, 7.0, null, 8.0, 8.0, 7.0, 8.0, null, 0.0, 0.0, 1.0, 0.0, null, 1.0, 1.0, 0.0, 1.0, null, 1.0, 1.0, 2.0, 1.0, null, 2.0, 2.0, 1.0, 2.0, null, 2.0, 2.0, 3.0, 2.0, null, 3.0, 3.0, 2.0, 3.0, null, 3.0, 3.0, 4.0, 3.0, null, 4.0, 4.0, 3.0, 4.0, null, 4.0, 4.0, 5.0, 4.0, null, 5.0, 5.0, 4.0, 5.0, null, 5.0, 5.0, 6.0, 5.0, null, 6.0, 6.0, 5.0, 6.0, null, 6.0, 6.0, 7.0, 6.0, null, 7.0, 7.0, 6.0, 7.0, null, 7.0, 7.0, 8.0, 7.0, null, 8.0, 8.0, 7.0, 8.0, null], \"y\": [1.0, 0.0, 0.0, 1.0, null, 0.0, 1.0, 1.0, 0.0, null, 1.0, 0.0, 0.0, 1.0, null, 0.0, 1.0, 1.0, 0.0, null, 1.0, 0.0, 0.0, 1.0, null, 0.0, 1.0, 1.0, 0.0, null, 1.0, 0.0, 0.0, 1.0, null, 0.0, 1.0, 1.0, 0.0, null, 1.0, 0.0, 0.0, 1.0, null, 0.0, 1.0, 1.0, 0.0, null, 1.0, 0.0, 0.0, 1.0, null, 0.0, 1.0, 1.0, 0.0, null, 1.0, 0.0, 0.0, 1.0, null, 0.0, 1.0, 1.0, 0.0, null, 1.0, 0.0, 0.0, 1.0, null, 0.0, 1.0, 1.0, 0.0, null, 2.0, 1.0, 1.0, 2.0, null, 1.0, 2.0, 2.0, 1.0, null, 2.0, 1.0, 1.0, 2.0, null, 1.0, 2.0, 2.0, 1.0, null, 2.0, 1.0, 1.0, 2.0, null, 1.0, 2.0, 2.0, 1.0, null, 2.0, 1.0, 1.0, 2.0, null, 1.0, 2.0, 2.0, 1.0, null, 2.0, 1.0, 1.0, 2.0, null, 1.0, 2.0, 2.0, 1.0, null, 2.0, 1.0, 1.0, 2.0, null, 1.0, 2.0, 2.0, 1.0, null, 2.0, 1.0, 1.0, 2.0, null, 1.0, 2.0, 2.0, 1.0, null, 2.0, 1.0, 1.0, 2.0, null, 1.0, 2.0, 2.0, 1.0, null, 3.0, 2.0, 2.0, 3.0, null, 2.0, 3.0, 3.0, 2.0, null, 3.0, 2.0, 2.0, 3.0, null, 2.0, 3.0, 3.0, 2.0, null, 3.0, 2.0, 2.0, 3.0, null, 2.0, 3.0, 3.0, 2.0, null, 3.0, 2.0, 2.0, 3.0, null, 2.0, 3.0, 3.0, 2.0, null, 3.0, 2.0, 2.0, 3.0, null, 2.0, 3.0, 3.0, 2.0, null, 3.0, 2.0, 2.0, 3.0, null, 2.0, 3.0, 3.0, 2.0, null, 3.0, 2.0, 2.0, 3.0, null, 2.0, 3.0, 3.0, 2.0, null, 3.0, 2.0, 2.0, 3.0, null, 2.0, 3.0, 3.0, 2.0, null, 4.0, 3.0, 3.0, 4.0, null, 3.0, 4.0, 4.0, 3.0, null, 4.0, 3.0, 3.0, 4.0, null, 3.0, 4.0, 4.0, 3.0, null, 4.0, 3.0, 3.0, 4.0, null, 3.0, 4.0, 4.0, 3.0, null, 4.0, 3.0, 3.0, 4.0, null, 3.0, 4.0, 4.0, 3.0, null, 4.0, 3.0, 3.0, 4.0, null, 3.0, 4.0, 4.0, 3.0, null, 4.0, 3.0, 3.0, 4.0, null, 3.0, 4.0, 4.0, 3.0, null, 4.0, 3.0, 3.0, 4.0, null, 3.0, 4.0, 4.0, 3.0, null, 4.0, 3.0, 3.0, 4.0, null, 3.0, 4.0, 4.0, 3.0, null, 5.0, 4.0, 4.0, 5.0, null, 4.0, 5.0, 5.0, 4.0, null, 5.0, 4.0, 4.0, 5.0, null, 4.0, 5.0, 5.0, 4.0, null, 5.0, 4.0, 4.0, 5.0, null, 4.0, 5.0, 5.0, 4.0, null, 5.0, 4.0, 4.0, 5.0, null, 4.0, 5.0, 5.0, 4.0, null, 5.0, 4.0, 4.0, 5.0, null, 4.0, 5.0, 5.0, 4.0, null, 5.0, 4.0, 4.0, 5.0, null, 4.0, 5.0, 5.0, 4.0, null, 5.0, 4.0, 4.0, 5.0, null, 4.0, 5.0, 5.0, 4.0, null, 5.0, 4.0, 4.0, 5.0, null, 4.0, 5.0, 5.0, 4.0, null, 6.0, 5.0, 5.0, 6.0, null, 5.0, 6.0, 6.0, 5.0, null, 6.0, 5.0, 5.0, 6.0, null, 5.0, 6.0, 6.0, 5.0, null, 6.0, 5.0, 5.0, 6.0, null, 5.0, 6.0, 6.0, 5.0, null, 6.0, 5.0, 5.0, 6.0, null, 5.0, 6.0, 6.0, 5.0, null, 6.0, 5.0, 5.0, 6.0, null, 5.0, 6.0, 6.0, 5.0, null, 6.0, 5.0, 5.0, 6.0, null, 5.0, 6.0, 6.0, 5.0, null, 6.0, 5.0, 5.0, 6.0, null, 5.0, 6.0, 6.0, 5.0, null, 6.0, 5.0, 5.0, 6.0, null, 5.0, 6.0, 6.0, 5.0, null, 7.0, 6.0, 6.0, 7.0, null, 6.0, 7.0, 7.0, 6.0, null, 7.0, 6.0, 6.0, 7.0, null, 6.0, 7.0, 7.0, 6.0, null, 7.0, 6.0, 6.0, 7.0, null, 6.0, 7.0, 7.0, 6.0, null, 7.0, 6.0, 6.0, 7.0, null, 6.0, 7.0, 7.0, 6.0, null, 7.0, 6.0, 6.0, 7.0, null, 6.0, 7.0, 7.0, 6.0, null, 7.0, 6.0, 6.0, 7.0, null, 6.0, 7.0, 7.0, 6.0, null, 7.0, 6.0, 6.0, 7.0, null, 6.0, 7.0, 7.0, 6.0, null, 7.0, 6.0, 6.0, 7.0, null, 6.0, 7.0, 7.0, 6.0, null, 8.0, 7.0, 7.0, 8.0, null, 7.0, 8.0, 8.0, 7.0, null, 8.0, 7.0, 7.0, 8.0, null, 7.0, 8.0, 8.0, 7.0, null, 8.0, 7.0, 7.0, 8.0, null, 7.0, 8.0, 8.0, 7.0, null, 8.0, 7.0, 7.0, 8.0, null, 7.0, 8.0, 8.0, 7.0, null, 8.0, 7.0, 7.0, 8.0, null, 7.0, 8.0, 8.0, 7.0, null, 8.0, 7.0, 7.0, 8.0, null, 7.0, 8.0, 8.0, 7.0, null, 8.0, 7.0, 7.0, 8.0, null, 7.0, 8.0, 8.0, 7.0, null, 8.0, 7.0, 7.0, 8.0, null, 7.0, 8.0, 8.0, 7.0, null], \"z\": [-0.25, 0.0, -0.25, -0.25, null, -0.25, 0.0, -0.25, -0.25, null, 0.0, -0.25, -0.5, 0.0, null, -0.5, -0.25, 0.0, -0.5, null, -0.25, -0.5, -0.75, -0.25, null, -0.75, -0.5, -0.25, -0.75, null, -0.5, -0.75, -1.0, -0.5, null, -1.0, -0.75, -0.5, -1.0, null, -0.75, -1.0, -0.75, -0.75, null, -0.75, -0.5, -0.75, -0.75, null, -0.5, -0.75, -0.5, -0.5, null, -0.5, -0.25, -0.5, -0.5, null, -0.25, -0.5, -0.25, -0.25, null, -0.25, 0.0, -0.25, -0.25, null, 0.0, -0.25, 0.0, 0.0, null, 0.0, -0.25, 0.0, 0.0, null, -0.5, -0.25, 0.0, -0.5, null, 0.0, -0.25, -0.5, 0.0, null, -0.25, 0.0, -0.25, -0.25, null, -0.25, 0.0, -0.25, -0.25, null, 0.0, -0.25, -0.5, 0.0, null, -0.5, -0.25, 0.0, -0.5, null, -0.25, -0.5, -0.75, -0.25, null, -0.75, -0.5, -0.25, -0.75, null, -0.5, -0.75, -0.5, -0.5, null, -0.5, -0.25, -0.5, -0.5, null, -0.25, -0.5, -0.25, -0.25, null, -0.25, 0.0, -0.25, -0.25, null, 0.0, -0.25, 0.0, 0.0, null, 0.0, -0.25, 0.0, 0.0, null, -0.25, 0.0, -0.25, -0.25, null, -0.25, -0.5, -0.25, -0.25, null, -0.75, -0.5, -0.25, -0.75, null, -0.25, -0.5, -0.75, -0.25, null, -0.5, -0.25, 0.0, -0.5, null, 0.0, -0.25, -0.5, 0.0, null, -0.25, 0.0, -0.25, -0.25, null, -0.25, 0.0, -0.25, -0.25, null, 0.0, -0.25, -0.5, 0.0, null, -0.5, -0.25, 0.0, -0.5, null, -0.25, -0.5, -0.25, -0.25, null, -0.25, 0.0, -0.25, -0.25, null, 0.0, -0.25, 0.0, 0.0, null, 0.0, -0.25, 0.0, 0.0, null, -0.25, 0.0, -0.25, -0.25, null, -0.25, -0.5, -0.25, -0.25, null, -0.5, -0.25, -0.5, -0.5, null, -0.5, -0.75, -0.5, -0.5, null, -1.0, -0.75, -0.5, -1.0, null, -0.5, -0.75, -1.0, -0.5, null, -0.75, -0.5, -0.25, -0.75, null, -0.25, -0.5, -0.75, -0.25, null, -0.5, -0.25, 0.0, -0.5, null, 0.0, -0.25, -0.5, 0.0, null, -0.25, 0.0, -0.25, -0.25, null, -0.25, -0.0, -0.25, -0.25, null, -0.0, -0.25, 0.0, -0.0, null, 0.0, -0.25, -0.0, 0.0, null, -0.25, 0.0, -0.25, -0.25, null, -0.25, -0.5, -0.25, -0.25, null, -0.5, -0.25, -0.5, -0.5, null, -0.5, -0.75, -0.5, -0.5, null, -0.75, -0.5, -0.75, -0.75, null, -0.75, -1.0, -0.75, -0.75, null, -0.75, -1.0, -0.75, -0.75, null, -0.75, -0.5, -0.75, -0.75, null, -0.5, -0.75, -0.5, -0.5, null, -0.5, -0.25, -0.5, -0.5, null, -0.25, -0.5, -0.25, -0.25, null, -0.25, 0.0, -0.25, -0.25, null, 0.0, -0.25, -0.0, 0.0, null, -0.0, -0.25, 0.0, -0.0, null, -0.25, -0.0, -0.25, -0.25, null, -0.25, 0.0, -0.25, -0.25, null, 0.0, -0.25, -0.5, 0.0, null, -0.5, -0.25, 0.0, -0.5, null, -0.25, -0.5, -0.75, -0.25, null, -0.75, -0.5, -0.25, -0.75, null, -0.5, -0.75, -1.0, -0.5, null, -1.0, -0.75, -0.5, -1.0, null, -0.5, -0.75, -0.5, -0.5, null, -0.5, -0.25, -0.5, -0.5, null, -0.25, -0.5, -0.25, -0.25, null, -0.25, 0.0, -0.25, -0.25, null, 0.0, -0.25, 0.0, 0.0, null, 0.0, -0.25, 0.0, 0.0, null, -0.25, 0.0, -0.25, -0.25, null, -0.25, -0.5, -0.25, -0.25, null, -0.5, -0.25, 0.0, -0.5, null, 0.0, -0.25, -0.5, 0.0, null, -0.25, 0.0, -0.25, -0.25, null, -0.25, 0.0, -0.25, -0.25, null, 0.0, -0.25, -0.5, 0.0, null, -0.5, -0.25, 0.0, -0.5, null, -0.25, -0.5, -0.75, -0.25, null, -0.75, -0.5, -0.25, -0.75, null, -0.25, -0.5, -0.25, -0.25, null, -0.25, 0.0, -0.25, -0.25, null, 0.0, -0.25, 0.0, 0.0, null, 0.0, -0.25, 0.0, 0.0, null, -0.25, 0.0, -0.25, -0.25, null, -0.25, -0.5, -0.25, -0.25, null, -0.5, -0.25, -0.5, -0.5, null, -0.5, -0.75, -0.5, -0.5, null, -0.75, -0.5, -0.25, -0.75, null, -0.25, -0.5, -0.75, -0.25, null, -0.5, -0.25, 0.0, -0.5, null, 0.0, -0.25, -0.5, 0.0, null, -0.25, 0.0, -0.25, -0.25, null, -0.25, 0.0, -0.25, -0.25, null, 0.0, -0.25, -0.5, 0.0, null, -0.5, -0.25, 0.0, -0.5, null, 0.0, -0.25, 0.0, 0.0, null, 0.0, -0.25, 0.0, 0.0, null, -0.25, 0.0, -0.25, -0.25, null, -0.25, -0.5, -0.25, -0.25, null, -0.5, -0.25, -0.5, -0.5, null, -0.5, -0.75, -0.5, -0.5, null, -0.75, -0.5, -0.75, -0.75, null, -0.75, -1.0, -0.75, -0.75, null, -1.0, -0.75, -0.5, -1.0, null, -0.5, -0.75, -1.0, -0.5, null, -0.75, -0.5, -0.25, -0.75, null, -0.25, -0.5, -0.75, -0.25, null, -0.5, -0.25, 0.0, -0.5, null, 0.0, -0.25, -0.5, 0.0, null, -0.25, 0.0, -0.25, -0.25, null, -0.25, 0.0, -0.25, -0.25, null]}, {\"hoverinfo\": \"none\", \"marker\": {\"color\": [-0.8333333333333334, -0.08333333333333333], \"colorscale\": [[0.0, \"rgb(5, 10, 172)\"], [0.1, \"rgb(34, 46, 193)\"], [0.2, \"rgb(63, 83, 215)\"], [0.30000000000000004, \"rgb(92, 119, 236)\"], [0.4, \"rgb(134, 155, 228)\"], [0.5, \"rgb(190, 190, 190)\"], [0.6000000000000001, \"rgb(220, 170, 132)\"], [0.7000000000000001, \"rgb(230, 145, 90)\"], [0.8, \"rgb(213, 100, 69)\"], [0.9, \"rgb(195, 55, 49)\"], [1.0, \"rgb(178, 10, 28)\"]], \"showscale\": true, \"size\": 0.1}, \"mode\": \"markers\", \"showlegend\": false, \"type\": \"scatter3d\", \"x\": [0.0], \"y\": [0.0], \"z\": [0.0]}],\n",
       "                        {\"height\": 800, \"scene\": {\"aspectratio\": {\"x\": 1, \"y\": 1, \"z\": 0.1}, \"camera\": {}, \"xaxis\": {\"backgroundcolor\": \"rgb(230, 230, 230)\", \"gridcolor\": \"rgb(255, 255, 255)\", \"showbackground\": true, \"zerolinecolor\": \"rgb(255, 255, 255)\"}, \"yaxis\": {\"backgroundcolor\": \"rgb(230, 230, 230)\", \"gridcolor\": \"rgb(255, 255, 255)\", \"showbackground\": true, \"zerolinecolor\": \"rgb(255, 255, 255)\"}, \"zaxis\": {\"backgroundcolor\": \"rgb(230, 230, 230)\", \"gridcolor\": \"rgb(255, 255, 255)\", \"showbackground\": true, \"zerolinecolor\": \"rgb(255, 255, 255)\"}}, \"template\": {\"data\": {\"bar\": [{\"error_x\": {\"color\": \"#2a3f5f\"}, \"error_y\": {\"color\": \"#2a3f5f\"}, \"marker\": {\"line\": {\"color\": \"#E5ECF6\", \"width\": 0.5}}, \"type\": \"bar\"}], \"barpolar\": [{\"marker\": {\"line\": {\"color\": \"#E5ECF6\", \"width\": 0.5}}, \"type\": \"barpolar\"}], \"carpet\": [{\"aaxis\": {\"endlinecolor\": \"#2a3f5f\", \"gridcolor\": \"white\", \"linecolor\": \"white\", \"minorgridcolor\": \"white\", \"startlinecolor\": \"#2a3f5f\"}, \"baxis\": {\"endlinecolor\": \"#2a3f5f\", \"gridcolor\": \"white\", \"linecolor\": \"white\", \"minorgridcolor\": \"white\", \"startlinecolor\": \"#2a3f5f\"}, \"type\": \"carpet\"}], \"choropleth\": [{\"colorbar\": {\"outlinewidth\": 0, \"ticks\": \"\"}, \"type\": \"choropleth\"}], \"contour\": [{\"colorbar\": {\"outlinewidth\": 0, \"ticks\": \"\"}, \"colorscale\": [[0.0, \"#0d0887\"], [0.1111111111111111, \"#46039f\"], [0.2222222222222222, \"#7201a8\"], [0.3333333333333333, \"#9c179e\"], [0.4444444444444444, \"#bd3786\"], [0.5555555555555556, \"#d8576b\"], [0.6666666666666666, \"#ed7953\"], [0.7777777777777778, \"#fb9f3a\"], [0.8888888888888888, \"#fdca26\"], [1.0, \"#f0f921\"]], \"type\": \"contour\"}], \"contourcarpet\": [{\"colorbar\": {\"outlinewidth\": 0, \"ticks\": \"\"}, \"type\": \"contourcarpet\"}], \"heatmap\": [{\"colorbar\": {\"outlinewidth\": 0, \"ticks\": \"\"}, \"colorscale\": [[0.0, \"#0d0887\"], [0.1111111111111111, \"#46039f\"], [0.2222222222222222, \"#7201a8\"], [0.3333333333333333, \"#9c179e\"], [0.4444444444444444, \"#bd3786\"], [0.5555555555555556, \"#d8576b\"], [0.6666666666666666, \"#ed7953\"], [0.7777777777777778, \"#fb9f3a\"], [0.8888888888888888, \"#fdca26\"], [1.0, \"#f0f921\"]], \"type\": \"heatmap\"}], \"heatmapgl\": [{\"colorbar\": {\"outlinewidth\": 0, \"ticks\": \"\"}, \"colorscale\": [[0.0, \"#0d0887\"], [0.1111111111111111, \"#46039f\"], [0.2222222222222222, \"#7201a8\"], [0.3333333333333333, \"#9c179e\"], [0.4444444444444444, \"#bd3786\"], [0.5555555555555556, \"#d8576b\"], [0.6666666666666666, \"#ed7953\"], [0.7777777777777778, \"#fb9f3a\"], [0.8888888888888888, \"#fdca26\"], [1.0, \"#f0f921\"]], \"type\": \"heatmapgl\"}], \"histogram\": [{\"marker\": {\"colorbar\": {\"outlinewidth\": 0, \"ticks\": \"\"}}, \"type\": \"histogram\"}], \"histogram2d\": [{\"colorbar\": {\"outlinewidth\": 0, \"ticks\": \"\"}, \"colorscale\": [[0.0, \"#0d0887\"], [0.1111111111111111, \"#46039f\"], [0.2222222222222222, \"#7201a8\"], [0.3333333333333333, \"#9c179e\"], [0.4444444444444444, \"#bd3786\"], [0.5555555555555556, \"#d8576b\"], [0.6666666666666666, \"#ed7953\"], [0.7777777777777778, \"#fb9f3a\"], [0.8888888888888888, \"#fdca26\"], [1.0, \"#f0f921\"]], \"type\": \"histogram2d\"}], \"histogram2dcontour\": [{\"colorbar\": {\"outlinewidth\": 0, \"ticks\": \"\"}, \"colorscale\": [[0.0, \"#0d0887\"], [0.1111111111111111, \"#46039f\"], [0.2222222222222222, \"#7201a8\"], [0.3333333333333333, \"#9c179e\"], [0.4444444444444444, \"#bd3786\"], [0.5555555555555556, \"#d8576b\"], [0.6666666666666666, \"#ed7953\"], [0.7777777777777778, \"#fb9f3a\"], [0.8888888888888888, \"#fdca26\"], [1.0, \"#f0f921\"]], \"type\": \"histogram2dcontour\"}], \"mesh3d\": [{\"colorbar\": {\"outlinewidth\": 0, \"ticks\": \"\"}, \"type\": \"mesh3d\"}], \"parcoords\": [{\"line\": {\"colorbar\": {\"outlinewidth\": 0, \"ticks\": \"\"}}, \"type\": \"parcoords\"}], \"scatter\": [{\"marker\": {\"colorbar\": {\"outlinewidth\": 0, \"ticks\": \"\"}}, \"type\": \"scatter\"}], \"scatter3d\": [{\"line\": {\"colorbar\": {\"outlinewidth\": 0, \"ticks\": \"\"}}, \"marker\": {\"colorbar\": {\"outlinewidth\": 0, \"ticks\": \"\"}}, \"type\": \"scatter3d\"}], \"scattercarpet\": [{\"marker\": {\"colorbar\": {\"outlinewidth\": 0, \"ticks\": \"\"}}, \"type\": \"scattercarpet\"}], \"scattergeo\": [{\"marker\": {\"colorbar\": {\"outlinewidth\": 0, \"ticks\": \"\"}}, \"type\": \"scattergeo\"}], \"scattergl\": [{\"marker\": {\"colorbar\": {\"outlinewidth\": 0, \"ticks\": \"\"}}, \"type\": \"scattergl\"}], \"scattermapbox\": [{\"marker\": {\"colorbar\": {\"outlinewidth\": 0, \"ticks\": \"\"}}, \"type\": \"scattermapbox\"}], \"scatterpolar\": [{\"marker\": {\"colorbar\": {\"outlinewidth\": 0, \"ticks\": \"\"}}, \"type\": \"scatterpolar\"}], \"scatterpolargl\": [{\"marker\": {\"colorbar\": {\"outlinewidth\": 0, \"ticks\": \"\"}}, \"type\": \"scatterpolargl\"}], \"scatterternary\": [{\"marker\": {\"colorbar\": {\"outlinewidth\": 0, \"ticks\": \"\"}}, \"type\": \"scatterternary\"}], \"surface\": [{\"colorbar\": {\"outlinewidth\": 0, \"ticks\": \"\"}, \"colorscale\": [[0.0, \"#0d0887\"], [0.1111111111111111, \"#46039f\"], [0.2222222222222222, \"#7201a8\"], [0.3333333333333333, \"#9c179e\"], [0.4444444444444444, \"#bd3786\"], [0.5555555555555556, \"#d8576b\"], [0.6666666666666666, \"#ed7953\"], [0.7777777777777778, \"#fb9f3a\"], [0.8888888888888888, \"#fdca26\"], [1.0, \"#f0f921\"]], \"type\": \"surface\"}], \"table\": [{\"cells\": {\"fill\": {\"color\": \"#EBF0F8\"}, \"line\": {\"color\": \"white\"}}, \"header\": {\"fill\": {\"color\": \"#C8D4E3\"}, \"line\": {\"color\": \"white\"}}, \"type\": \"table\"}]}, \"layout\": {\"annotationdefaults\": {\"arrowcolor\": \"#2a3f5f\", \"arrowhead\": 0, \"arrowwidth\": 1}, \"colorscale\": {\"diverging\": [[0, \"#8e0152\"], [0.1, \"#c51b7d\"], [0.2, \"#de77ae\"], [0.3, \"#f1b6da\"], [0.4, \"#fde0ef\"], [0.5, \"#f7f7f7\"], [0.6, \"#e6f5d0\"], [0.7, \"#b8e186\"], [0.8, \"#7fbc41\"], [0.9, \"#4d9221\"], [1, \"#276419\"]], \"sequential\": [[0.0, \"#0d0887\"], [0.1111111111111111, \"#46039f\"], [0.2222222222222222, \"#7201a8\"], [0.3333333333333333, \"#9c179e\"], [0.4444444444444444, \"#bd3786\"], [0.5555555555555556, \"#d8576b\"], [0.6666666666666666, \"#ed7953\"], [0.7777777777777778, \"#fb9f3a\"], [0.8888888888888888, \"#fdca26\"], [1.0, \"#f0f921\"]], \"sequentialminus\": [[0.0, \"#0d0887\"], [0.1111111111111111, \"#46039f\"], [0.2222222222222222, \"#7201a8\"], [0.3333333333333333, \"#9c179e\"], [0.4444444444444444, \"#bd3786\"], [0.5555555555555556, \"#d8576b\"], [0.6666666666666666, \"#ed7953\"], [0.7777777777777778, \"#fb9f3a\"], [0.8888888888888888, \"#fdca26\"], [1.0, \"#f0f921\"]]}, \"colorway\": [\"#636efa\", \"#EF553B\", \"#00cc96\", \"#ab63fa\", \"#FFA15A\", \"#19d3f3\", \"#FF6692\", \"#B6E880\", \"#FF97FF\", \"#FECB52\"], \"font\": {\"color\": \"#2a3f5f\"}, \"geo\": {\"bgcolor\": \"white\", \"lakecolor\": \"white\", \"landcolor\": \"#E5ECF6\", \"showlakes\": true, \"showland\": true, \"subunitcolor\": \"white\"}, \"hoverlabel\": {\"align\": \"left\"}, \"hovermode\": \"closest\", \"mapbox\": {\"style\": \"light\"}, \"paper_bgcolor\": \"white\", \"plot_bgcolor\": \"#E5ECF6\", \"polar\": {\"angularaxis\": {\"gridcolor\": \"white\", \"linecolor\": \"white\", \"ticks\": \"\"}, \"bgcolor\": \"#E5ECF6\", \"radialaxis\": {\"gridcolor\": \"white\", \"linecolor\": \"white\", \"ticks\": \"\"}}, \"scene\": {\"xaxis\": {\"backgroundcolor\": \"#E5ECF6\", \"gridcolor\": \"white\", \"gridwidth\": 2, \"linecolor\": \"white\", \"showbackground\": true, \"ticks\": \"\", \"zerolinecolor\": \"white\"}, \"yaxis\": {\"backgroundcolor\": \"#E5ECF6\", \"gridcolor\": \"white\", \"gridwidth\": 2, \"linecolor\": \"white\", \"showbackground\": true, \"ticks\": \"\", \"zerolinecolor\": \"white\"}, \"zaxis\": {\"backgroundcolor\": \"#E5ECF6\", \"gridcolor\": \"white\", \"gridwidth\": 2, \"linecolor\": \"white\", \"showbackground\": true, \"ticks\": \"\", \"zerolinecolor\": \"white\"}}, \"shapedefaults\": {\"line\": {\"color\": \"#2a3f5f\"}}, \"ternary\": {\"aaxis\": {\"gridcolor\": \"white\", \"linecolor\": \"white\", \"ticks\": \"\"}, \"baxis\": {\"gridcolor\": \"white\", \"linecolor\": \"white\", \"ticks\": \"\"}, \"bgcolor\": \"#E5ECF6\", \"caxis\": {\"gridcolor\": \"white\", \"linecolor\": \"white\", \"ticks\": \"\"}}, \"title\": {\"x\": 0.05}, \"xaxis\": {\"automargin\": true, \"gridcolor\": \"white\", \"linecolor\": \"white\", \"ticks\": \"\", \"zerolinecolor\": \"white\", \"zerolinewidth\": 2}, \"yaxis\": {\"automargin\": true, \"gridcolor\": \"white\", \"linecolor\": \"white\", \"ticks\": \"\", \"zerolinecolor\": \"white\", \"zerolinewidth\": 2}}}, \"title\": {\"text\": \"ll_ur triangulation of ridge function (trisurf)\"}, \"width\": 800},\n",
       "                        {\"responsive\": true}\n",
       "                    ).then(function(){\n",
       "                            \n",
       "var gd = document.getElementById('6ac7a0e7-9d54-4bcf-814f-7d0440d5381d');\n",
       "var x = new MutationObserver(function (mutations, observer) {{\n",
       "        var display = window.getComputedStyle(gd).display;\n",
       "        if (!display || display === 'none') {{\n",
       "            console.log([gd, 'removed!']);\n",
       "            Plotly.purge(gd);\n",
       "            observer.disconnect();\n",
       "        }}\n",
       "}});\n",
       "\n",
       "// Listen for the removal of the full notebook cells\n",
       "var notebookContainer = gd.closest('#notebook-container');\n",
       "if (notebookContainer) {{\n",
       "    x.observe(notebookContainer, {childList: true});\n",
       "}}\n",
       "\n",
       "// Listen for the clearing of the current output cell\n",
       "var outputEl = gd.closest('.output');\n",
       "if (outputEl) {{\n",
       "    x.observe(outputEl, {childList: true});\n",
       "}}\n",
       "\n",
       "                        })\n",
       "                };\n",
       "                });\n",
       "            </script>\n",
       "        </div>"
      ]
     },
     "metadata": {},
     "output_type": "display_data"
    },
    {
     "data": {
      "application/vnd.plotly.v1+json": {
       "config": {
        "plotlyServerURL": "https://plot.ly"
       },
       "data": [
        {
         "facecolor": [
          "rgb(178, 10, 28)",
          "rgb(178, 10, 28)",
          "rgb(227, 153, 104)",
          "rgb(227, 153, 104)",
          "rgb(53, 71, 208)",
          "rgb(53, 71, 208)",
          "rgb(5, 10, 172)",
          "rgb(106, 131, 233)",
          "rgb(227, 153, 104)",
          "rgb(227, 153, 104)",
          "rgb(178, 10, 28)",
          "rgb(178, 10, 28)",
          "rgb(227, 153, 104)",
          "rgb(227, 153, 104)",
          "rgb(178, 10, 28)",
          "rgb(178, 10, 28)",
          "rgb(227, 153, 104)",
          "rgb(227, 153, 104)",
          "rgb(227, 153, 104)",
          "rgb(227, 153, 104)",
          "rgb(178, 10, 28)",
          "rgb(178, 10, 28)",
          "rgb(227, 153, 104)",
          "rgb(227, 153, 104)",
          "rgb(53, 71, 208)",
          "rgb(53, 71, 208)",
          "rgb(227, 153, 104)",
          "rgb(227, 153, 104)",
          "rgb(178, 10, 28)",
          "rgb(178, 10, 28)",
          "rgb(178, 10, 28)",
          "rgb(178, 10, 28)",
          "rgb(227, 153, 104)",
          "rgb(227, 153, 104)",
          "rgb(106, 131, 233)",
          "rgb(5, 10, 172)",
          "rgb(5, 10, 172)",
          "rgb(106, 131, 233)",
          "rgb(227, 153, 104)",
          "rgb(227, 153, 104)",
          "rgb(178, 10, 28)",
          "rgb(178, 10, 28)",
          "rgb(178, 10, 28)",
          "rgb(178, 10, 28)",
          "rgb(227, 153, 104)",
          "rgb(227, 153, 104)",
          "rgb(53, 71, 208)",
          "rgb(53, 71, 208)",
          "rgb(227, 153, 104)",
          "rgb(227, 153, 104)",
          "rgb(178, 10, 28)",
          "rgb(178, 10, 28)",
          "rgb(227, 153, 104)",
          "rgb(227, 153, 104)",
          "rgb(227, 153, 104)",
          "rgb(227, 153, 104)",
          "rgb(178, 10, 28)",
          "rgb(178, 10, 28)",
          "rgb(227, 153, 104)",
          "rgb(227, 153, 104)",
          "rgb(178, 10, 28)",
          "rgb(178, 10, 28)",
          "rgb(227, 153, 104)",
          "rgb(227, 153, 104)",
          "rgb(106, 131, 233)",
          "rgb(5, 10, 172)",
          "rgb(53, 71, 208)",
          "rgb(53, 71, 208)",
          "rgb(227, 153, 104)",
          "rgb(227, 153, 104)",
          "rgb(178, 10, 28)",
          "rgb(178, 10, 28)"
         ],
         "i": [
          0,
          8,
          8,
          2,
          9,
          3,
          10,
          4,
          4,
          12,
          12,
          6,
          14,
          8,
          8,
          16,
          16,
          10,
          10,
          18,
          18,
          12,
          12,
          20,
          21,
          15,
          22,
          16,
          16,
          24,
          24,
          18,
          18,
          26,
          26,
          20,
          28,
          22,
          22,
          30,
          30,
          24,
          24,
          32,
          32,
          26,
          33,
          27,
          28,
          36,
          36,
          30,
          30,
          38,
          38,
          32,
          32,
          40,
          40,
          34,
          42,
          36,
          36,
          44,
          44,
          38,
          45,
          39,
          46,
          40,
          40,
          48
         ],
         "j": [
          1,
          7,
          1,
          9,
          2,
          10,
          3,
          11,
          5,
          11,
          5,
          13,
          7,
          15,
          9,
          15,
          9,
          17,
          11,
          17,
          11,
          19,
          13,
          19,
          14,
          22,
          15,
          23,
          17,
          23,
          17,
          25,
          19,
          25,
          19,
          27,
          21,
          29,
          23,
          29,
          23,
          31,
          25,
          31,
          25,
          33,
          26,
          34,
          29,
          35,
          29,
          37,
          31,
          37,
          31,
          39,
          33,
          39,
          33,
          41,
          35,
          43,
          37,
          43,
          37,
          45,
          38,
          46,
          39,
          47,
          41,
          47
         ],
         "k": [
          8,
          0,
          2,
          8,
          3,
          9,
          4,
          10,
          12,
          4,
          6,
          12,
          8,
          14,
          16,
          8,
          10,
          16,
          18,
          10,
          12,
          18,
          20,
          12,
          15,
          21,
          16,
          22,
          24,
          16,
          18,
          24,
          26,
          18,
          20,
          26,
          22,
          28,
          30,
          22,
          24,
          30,
          32,
          24,
          26,
          32,
          27,
          33,
          36,
          28,
          30,
          36,
          38,
          30,
          32,
          38,
          40,
          32,
          34,
          40,
          36,
          42,
          44,
          36,
          38,
          44,
          39,
          45,
          40,
          46,
          48,
          40
         ],
         "name": "",
         "type": "mesh3d",
         "x": [
          0,
          1,
          2,
          3,
          4,
          5,
          6,
          0,
          1,
          2,
          3,
          4,
          5,
          6,
          0,
          1,
          2,
          3,
          4,
          5,
          6,
          0,
          1,
          2,
          3,
          4,
          5,
          6,
          0,
          1,
          2,
          3,
          4,
          5,
          6,
          0,
          1,
          2,
          3,
          4,
          5,
          6,
          0,
          1,
          2,
          3,
          4,
          5,
          6
         ],
         "y": [
          0,
          0,
          0,
          0,
          0,
          0,
          0,
          1,
          1,
          1,
          1,
          1,
          1,
          1,
          2,
          2,
          2,
          2,
          2,
          2,
          2,
          3,
          3,
          3,
          3,
          3,
          3,
          3,
          4,
          4,
          4,
          4,
          4,
          4,
          4,
          5,
          5,
          5,
          5,
          5,
          5,
          5,
          6,
          6,
          6,
          6,
          6,
          6,
          6
         ],
         "z": [
          0,
          -0.25,
          -0.5,
          -0.75,
          -0.5,
          -0.25,
          0,
          -0.25,
          0,
          -0.25,
          -0.5,
          -0.25,
          0,
          -0.25,
          -0.5,
          -0.25,
          0,
          -0.25,
          0,
          -0.25,
          -0.5,
          -0.75,
          -0.5,
          -0.25,
          0,
          -0.25,
          -0.5,
          -0.75,
          -0.5,
          -0.25,
          0,
          -0.25,
          0,
          -0.25,
          -0.5,
          -0.25,
          0,
          -0.25,
          -0.5,
          -0.25,
          0,
          -0.25,
          0,
          -0.25,
          -0.5,
          -0.75,
          -0.5,
          -0.25,
          0
         ]
        },
        {
         "line": {
          "color": "rgb(50, 50, 50)",
          "width": 1.5
         },
         "mode": "lines",
         "showlegend": false,
         "type": "scatter3d",
         "x": [
          0,
          1,
          1,
          0,
          null,
          1,
          0,
          0,
          1,
          null,
          1,
          1,
          2,
          1,
          null,
          2,
          2,
          1,
          2,
          null,
          2,
          2,
          3,
          2,
          null,
          3,
          3,
          2,
          3,
          null,
          3,
          3,
          4,
          3,
          null,
          4,
          4,
          3,
          4,
          null,
          4,
          5,
          5,
          4,
          null,
          5,
          4,
          4,
          5,
          null,
          5,
          5,
          6,
          5,
          null,
          6,
          6,
          5,
          6,
          null,
          0,
          0,
          1,
          0,
          null,
          1,
          1,
          0,
          1,
          null,
          1,
          2,
          2,
          1,
          null,
          2,
          1,
          1,
          2,
          null,
          2,
          2,
          3,
          2,
          null,
          3,
          3,
          2,
          3,
          null,
          3,
          4,
          4,
          3,
          null,
          4,
          3,
          3,
          4,
          null,
          4,
          4,
          5,
          4,
          null,
          5,
          5,
          4,
          5,
          null,
          5,
          6,
          6,
          5,
          null,
          6,
          5,
          5,
          6,
          null,
          0,
          0,
          1,
          0,
          null,
          1,
          1,
          0,
          1,
          null,
          1,
          1,
          2,
          1,
          null,
          2,
          2,
          1,
          2,
          null,
          2,
          3,
          3,
          2,
          null,
          3,
          2,
          2,
          3,
          null,
          3,
          3,
          4,
          3,
          null,
          4,
          4,
          3,
          4,
          null,
          4,
          5,
          5,
          4,
          null,
          5,
          4,
          4,
          5,
          null,
          5,
          5,
          6,
          5,
          null,
          6,
          6,
          5,
          6,
          null,
          0,
          0,
          1,
          0,
          null,
          1,
          1,
          0,
          1,
          null,
          1,
          2,
          2,
          1,
          null,
          2,
          1,
          1,
          2,
          null,
          2,
          2,
          3,
          2,
          null,
          3,
          3,
          2,
          3,
          null,
          3,
          4,
          4,
          3,
          null,
          4,
          3,
          3,
          4,
          null,
          4,
          4,
          5,
          4,
          null,
          5,
          5,
          4,
          5,
          null,
          5,
          5,
          6,
          5,
          null,
          6,
          6,
          5,
          6,
          null,
          0,
          1,
          1,
          0,
          null,
          1,
          0,
          0,
          1,
          null,
          1,
          1,
          2,
          1,
          null,
          2,
          2,
          1,
          2,
          null,
          2,
          3,
          3,
          2,
          null,
          3,
          2,
          2,
          3,
          null,
          3,
          3,
          4,
          3,
          null,
          4,
          4,
          3,
          4,
          null,
          4,
          5,
          5,
          4,
          null,
          5,
          4,
          4,
          5,
          null,
          5,
          5,
          6,
          5,
          null,
          6,
          6,
          5,
          6,
          null,
          0,
          0,
          1,
          0,
          null,
          1,
          1,
          0,
          1,
          null,
          1,
          2,
          2,
          1,
          null,
          2,
          1,
          1,
          2,
          null,
          2,
          2,
          3,
          2,
          null,
          3,
          3,
          2,
          3,
          null,
          3,
          3,
          4,
          3,
          null,
          4,
          4,
          3,
          4,
          null,
          4,
          4,
          5,
          4,
          null,
          5,
          5,
          4,
          5,
          null,
          5,
          6,
          6,
          5,
          null,
          6,
          5,
          5,
          6,
          null
         ],
         "y": [
          0,
          0,
          1,
          0,
          null,
          1,
          1,
          0,
          1,
          null,
          1,
          0,
          0,
          1,
          null,
          0,
          1,
          1,
          0,
          null,
          1,
          0,
          0,
          1,
          null,
          0,
          1,
          1,
          0,
          null,
          1,
          0,
          0,
          1,
          null,
          0,
          1,
          1,
          0,
          null,
          0,
          0,
          1,
          0,
          null,
          1,
          1,
          0,
          1,
          null,
          1,
          0,
          0,
          1,
          null,
          0,
          1,
          1,
          0,
          null,
          2,
          1,
          1,
          2,
          null,
          1,
          2,
          2,
          1,
          null,
          1,
          1,
          2,
          1,
          null,
          2,
          2,
          1,
          2,
          null,
          2,
          1,
          1,
          2,
          null,
          1,
          2,
          2,
          1,
          null,
          1,
          1,
          2,
          1,
          null,
          2,
          2,
          1,
          2,
          null,
          2,
          1,
          1,
          2,
          null,
          1,
          2,
          2,
          1,
          null,
          1,
          1,
          2,
          1,
          null,
          2,
          2,
          1,
          2,
          null,
          3,
          2,
          2,
          3,
          null,
          2,
          3,
          3,
          2,
          null,
          3,
          2,
          2,
          3,
          null,
          2,
          3,
          3,
          2,
          null,
          2,
          2,
          3,
          2,
          null,
          3,
          3,
          2,
          3,
          null,
          3,
          2,
          2,
          3,
          null,
          2,
          3,
          3,
          2,
          null,
          2,
          2,
          3,
          2,
          null,
          3,
          3,
          2,
          3,
          null,
          3,
          2,
          2,
          3,
          null,
          2,
          3,
          3,
          2,
          null,
          4,
          3,
          3,
          4,
          null,
          3,
          4,
          4,
          3,
          null,
          3,
          3,
          4,
          3,
          null,
          4,
          4,
          3,
          4,
          null,
          4,
          3,
          3,
          4,
          null,
          3,
          4,
          4,
          3,
          null,
          3,
          3,
          4,
          3,
          null,
          4,
          4,
          3,
          4,
          null,
          4,
          3,
          3,
          4,
          null,
          3,
          4,
          4,
          3,
          null,
          4,
          3,
          3,
          4,
          null,
          3,
          4,
          4,
          3,
          null,
          4,
          4,
          5,
          4,
          null,
          5,
          5,
          4,
          5,
          null,
          5,
          4,
          4,
          5,
          null,
          4,
          5,
          5,
          4,
          null,
          4,
          4,
          5,
          4,
          null,
          5,
          5,
          4,
          5,
          null,
          5,
          4,
          4,
          5,
          null,
          4,
          5,
          5,
          4,
          null,
          4,
          4,
          5,
          4,
          null,
          5,
          5,
          4,
          5,
          null,
          5,
          4,
          4,
          5,
          null,
          4,
          5,
          5,
          4,
          null,
          6,
          5,
          5,
          6,
          null,
          5,
          6,
          6,
          5,
          null,
          5,
          5,
          6,
          5,
          null,
          6,
          6,
          5,
          6,
          null,
          6,
          5,
          5,
          6,
          null,
          5,
          6,
          6,
          5,
          null,
          6,
          5,
          5,
          6,
          null,
          5,
          6,
          6,
          5,
          null,
          6,
          5,
          5,
          6,
          null,
          5,
          6,
          6,
          5,
          null,
          5,
          5,
          6,
          5,
          null,
          6,
          6,
          5,
          6,
          null
         ],
         "z": [
          0,
          -0.25,
          0,
          0,
          null,
          0,
          -0.25,
          0,
          0,
          null,
          0,
          -0.25,
          -0.5,
          0,
          null,
          -0.5,
          -0.25,
          0,
          -0.5,
          null,
          -0.25,
          -0.5,
          -0.75,
          -0.25,
          null,
          -0.75,
          -0.5,
          -0.25,
          -0.75,
          null,
          -0.5,
          -0.75,
          -0.5,
          -0.5,
          null,
          -0.5,
          -0.25,
          -0.5,
          -0.5,
          null,
          -0.5,
          -0.25,
          0,
          -0.5,
          null,
          0,
          -0.25,
          -0.5,
          0,
          null,
          0,
          -0.25,
          0,
          0,
          null,
          0,
          -0.25,
          0,
          0,
          null,
          -0.5,
          -0.25,
          0,
          -0.5,
          null,
          0,
          -0.25,
          -0.5,
          0,
          null,
          0,
          -0.25,
          0,
          0,
          null,
          0,
          -0.25,
          0,
          0,
          null,
          0,
          -0.25,
          -0.5,
          0,
          null,
          -0.5,
          -0.25,
          0,
          -0.5,
          null,
          -0.5,
          -0.25,
          0,
          -0.5,
          null,
          0,
          -0.25,
          -0.5,
          0,
          null,
          0,
          -0.25,
          0,
          0,
          null,
          0,
          -0.25,
          0,
          0,
          null,
          0,
          -0.25,
          -0.5,
          0,
          null,
          -0.5,
          -0.25,
          0,
          -0.5,
          null,
          -0.75,
          -0.5,
          -0.25,
          -0.75,
          null,
          -0.25,
          -0.5,
          -0.75,
          -0.25,
          null,
          -0.5,
          -0.25,
          0,
          -0.5,
          null,
          0,
          -0.25,
          -0.5,
          0,
          null,
          0,
          -0.25,
          0,
          0,
          null,
          0,
          -0.25,
          0,
          0,
          null,
          0,
          -0.25,
          0,
          0,
          null,
          0,
          -0.25,
          0,
          0,
          null,
          0,
          -0.25,
          -0.5,
          0,
          null,
          -0.5,
          -0.25,
          0,
          -0.5,
          null,
          -0.5,
          -0.25,
          -0.5,
          -0.5,
          null,
          -0.5,
          -0.75,
          -0.5,
          -0.5,
          null,
          -0.5,
          -0.75,
          -0.5,
          -0.5,
          null,
          -0.5,
          -0.25,
          -0.5,
          -0.5,
          null,
          -0.5,
          -0.25,
          0,
          -0.5,
          null,
          0,
          -0.25,
          -0.5,
          0,
          null,
          0,
          -0.25,
          0,
          0,
          null,
          0,
          -0.25,
          0,
          0,
          null,
          0,
          -0.25,
          0,
          0,
          null,
          0,
          -0.25,
          0,
          0,
          null,
          0,
          -0.25,
          -0.5,
          0,
          null,
          -0.5,
          -0.25,
          0,
          -0.5,
          null,
          -0.25,
          -0.5,
          -0.75,
          -0.25,
          null,
          -0.75,
          -0.5,
          -0.25,
          -0.75,
          null,
          -0.5,
          -0.25,
          0,
          -0.5,
          null,
          0,
          -0.25,
          -0.5,
          0,
          null,
          0,
          -0.25,
          0,
          0,
          null,
          0,
          -0.25,
          0,
          0,
          null,
          0,
          -0.25,
          -0.5,
          0,
          null,
          -0.5,
          -0.25,
          0,
          -0.5,
          null,
          -0.5,
          -0.25,
          0,
          -0.5,
          null,
          0,
          -0.25,
          -0.5,
          0,
          null,
          0,
          -0.25,
          0,
          0,
          null,
          0,
          -0.25,
          0,
          0,
          null,
          0,
          -0.25,
          -0.5,
          0,
          null,
          -0.5,
          -0.25,
          0,
          -0.5,
          null,
          0,
          -0.25,
          0,
          0,
          null,
          0,
          -0.25,
          0,
          0,
          null,
          0,
          -0.25,
          -0.5,
          0,
          null,
          -0.5,
          -0.25,
          0,
          -0.5,
          null,
          -0.5,
          -0.25,
          -0.5,
          -0.5,
          null,
          -0.5,
          -0.75,
          -0.5,
          -0.5,
          null,
          -0.75,
          -0.5,
          -0.25,
          -0.75,
          null,
          -0.25,
          -0.5,
          -0.75,
          -0.25,
          null,
          -0.5,
          -0.25,
          0,
          -0.5,
          null,
          0,
          -0.25,
          -0.5,
          0,
          null,
          0,
          -0.25,
          0,
          0,
          null,
          0,
          -0.25,
          0,
          0,
          null
         ]
        },
        {
         "hoverinfo": "none",
         "marker": {
          "color": [
           -0.5833333333333334,
           -0.08333333333333333
          ],
          "colorscale": [
           [
            0,
            "rgb(5, 10, 172)"
           ],
           [
            0.1,
            "rgb(34, 46, 193)"
           ],
           [
            0.2,
            "rgb(63, 83, 215)"
           ],
           [
            0.30000000000000004,
            "rgb(92, 119, 236)"
           ],
           [
            0.4,
            "rgb(134, 155, 228)"
           ],
           [
            0.5,
            "rgb(190, 190, 190)"
           ],
           [
            0.6000000000000001,
            "rgb(220, 170, 132)"
           ],
           [
            0.7000000000000001,
            "rgb(230, 145, 90)"
           ],
           [
            0.8,
            "rgb(213, 100, 69)"
           ],
           [
            0.9,
            "rgb(195, 55, 49)"
           ],
           [
            1,
            "rgb(178, 10, 28)"
           ]
          ],
          "showscale": true,
          "size": 0.1
         },
         "mode": "markers",
         "showlegend": false,
         "type": "scatter3d",
         "x": [
          0
         ],
         "y": [
          0
         ],
         "z": [
          0
         ]
        }
       ],
       "layout": {
        "height": 800,
        "scene": {
         "aspectratio": {
          "x": 1,
          "y": 1,
          "z": 0.1
         },
         "camera": {},
         "xaxis": {
          "backgroundcolor": "rgb(230, 230, 230)",
          "gridcolor": "rgb(255, 255, 255)",
          "showbackground": true,
          "zerolinecolor": "rgb(255, 255, 255)"
         },
         "yaxis": {
          "backgroundcolor": "rgb(230, 230, 230)",
          "gridcolor": "rgb(255, 255, 255)",
          "showbackground": true,
          "zerolinecolor": "rgb(255, 255, 255)"
         },
         "zaxis": {
          "backgroundcolor": "rgb(230, 230, 230)",
          "gridcolor": "rgb(255, 255, 255)",
          "showbackground": true,
          "zerolinecolor": "rgb(255, 255, 255)"
         }
        },
        "template": {
         "data": {
          "bar": [
           {
            "error_x": {
             "color": "#2a3f5f"
            },
            "error_y": {
             "color": "#2a3f5f"
            },
            "marker": {
             "line": {
              "color": "#E5ECF6",
              "width": 0.5
             }
            },
            "type": "bar"
           }
          ],
          "barpolar": [
           {
            "marker": {
             "line": {
              "color": "#E5ECF6",
              "width": 0.5
             }
            },
            "type": "barpolar"
           }
          ],
          "carpet": [
           {
            "aaxis": {
             "endlinecolor": "#2a3f5f",
             "gridcolor": "white",
             "linecolor": "white",
             "minorgridcolor": "white",
             "startlinecolor": "#2a3f5f"
            },
            "baxis": {
             "endlinecolor": "#2a3f5f",
             "gridcolor": "white",
             "linecolor": "white",
             "minorgridcolor": "white",
             "startlinecolor": "#2a3f5f"
            },
            "type": "carpet"
           }
          ],
          "choropleth": [
           {
            "colorbar": {
             "outlinewidth": 0,
             "ticks": ""
            },
            "type": "choropleth"
           }
          ],
          "contour": [
           {
            "colorbar": {
             "outlinewidth": 0,
             "ticks": ""
            },
            "colorscale": [
             [
              0,
              "#0d0887"
             ],
             [
              0.1111111111111111,
              "#46039f"
             ],
             [
              0.2222222222222222,
              "#7201a8"
             ],
             [
              0.3333333333333333,
              "#9c179e"
             ],
             [
              0.4444444444444444,
              "#bd3786"
             ],
             [
              0.5555555555555556,
              "#d8576b"
             ],
             [
              0.6666666666666666,
              "#ed7953"
             ],
             [
              0.7777777777777778,
              "#fb9f3a"
             ],
             [
              0.8888888888888888,
              "#fdca26"
             ],
             [
              1,
              "#f0f921"
             ]
            ],
            "type": "contour"
           }
          ],
          "contourcarpet": [
           {
            "colorbar": {
             "outlinewidth": 0,
             "ticks": ""
            },
            "type": "contourcarpet"
           }
          ],
          "heatmap": [
           {
            "colorbar": {
             "outlinewidth": 0,
             "ticks": ""
            },
            "colorscale": [
             [
              0,
              "#0d0887"
             ],
             [
              0.1111111111111111,
              "#46039f"
             ],
             [
              0.2222222222222222,
              "#7201a8"
             ],
             [
              0.3333333333333333,
              "#9c179e"
             ],
             [
              0.4444444444444444,
              "#bd3786"
             ],
             [
              0.5555555555555556,
              "#d8576b"
             ],
             [
              0.6666666666666666,
              "#ed7953"
             ],
             [
              0.7777777777777778,
              "#fb9f3a"
             ],
             [
              0.8888888888888888,
              "#fdca26"
             ],
             [
              1,
              "#f0f921"
             ]
            ],
            "type": "heatmap"
           }
          ],
          "heatmapgl": [
           {
            "colorbar": {
             "outlinewidth": 0,
             "ticks": ""
            },
            "colorscale": [
             [
              0,
              "#0d0887"
             ],
             [
              0.1111111111111111,
              "#46039f"
             ],
             [
              0.2222222222222222,
              "#7201a8"
             ],
             [
              0.3333333333333333,
              "#9c179e"
             ],
             [
              0.4444444444444444,
              "#bd3786"
             ],
             [
              0.5555555555555556,
              "#d8576b"
             ],
             [
              0.6666666666666666,
              "#ed7953"
             ],
             [
              0.7777777777777778,
              "#fb9f3a"
             ],
             [
              0.8888888888888888,
              "#fdca26"
             ],
             [
              1,
              "#f0f921"
             ]
            ],
            "type": "heatmapgl"
           }
          ],
          "histogram": [
           {
            "marker": {
             "colorbar": {
              "outlinewidth": 0,
              "ticks": ""
             }
            },
            "type": "histogram"
           }
          ],
          "histogram2d": [
           {
            "colorbar": {
             "outlinewidth": 0,
             "ticks": ""
            },
            "colorscale": [
             [
              0,
              "#0d0887"
             ],
             [
              0.1111111111111111,
              "#46039f"
             ],
             [
              0.2222222222222222,
              "#7201a8"
             ],
             [
              0.3333333333333333,
              "#9c179e"
             ],
             [
              0.4444444444444444,
              "#bd3786"
             ],
             [
              0.5555555555555556,
              "#d8576b"
             ],
             [
              0.6666666666666666,
              "#ed7953"
             ],
             [
              0.7777777777777778,
              "#fb9f3a"
             ],
             [
              0.8888888888888888,
              "#fdca26"
             ],
             [
              1,
              "#f0f921"
             ]
            ],
            "type": "histogram2d"
           }
          ],
          "histogram2dcontour": [
           {
            "colorbar": {
             "outlinewidth": 0,
             "ticks": ""
            },
            "colorscale": [
             [
              0,
              "#0d0887"
             ],
             [
              0.1111111111111111,
              "#46039f"
             ],
             [
              0.2222222222222222,
              "#7201a8"
             ],
             [
              0.3333333333333333,
              "#9c179e"
             ],
             [
              0.4444444444444444,
              "#bd3786"
             ],
             [
              0.5555555555555556,
              "#d8576b"
             ],
             [
              0.6666666666666666,
              "#ed7953"
             ],
             [
              0.7777777777777778,
              "#fb9f3a"
             ],
             [
              0.8888888888888888,
              "#fdca26"
             ],
             [
              1,
              "#f0f921"
             ]
            ],
            "type": "histogram2dcontour"
           }
          ],
          "mesh3d": [
           {
            "colorbar": {
             "outlinewidth": 0,
             "ticks": ""
            },
            "type": "mesh3d"
           }
          ],
          "parcoords": [
           {
            "line": {
             "colorbar": {
              "outlinewidth": 0,
              "ticks": ""
             }
            },
            "type": "parcoords"
           }
          ],
          "scatter": [
           {
            "marker": {
             "colorbar": {
              "outlinewidth": 0,
              "ticks": ""
             }
            },
            "type": "scatter"
           }
          ],
          "scatter3d": [
           {
            "line": {
             "colorbar": {
              "outlinewidth": 0,
              "ticks": ""
             }
            },
            "marker": {
             "colorbar": {
              "outlinewidth": 0,
              "ticks": ""
             }
            },
            "type": "scatter3d"
           }
          ],
          "scattercarpet": [
           {
            "marker": {
             "colorbar": {
              "outlinewidth": 0,
              "ticks": ""
             }
            },
            "type": "scattercarpet"
           }
          ],
          "scattergeo": [
           {
            "marker": {
             "colorbar": {
              "outlinewidth": 0,
              "ticks": ""
             }
            },
            "type": "scattergeo"
           }
          ],
          "scattergl": [
           {
            "marker": {
             "colorbar": {
              "outlinewidth": 0,
              "ticks": ""
             }
            },
            "type": "scattergl"
           }
          ],
          "scattermapbox": [
           {
            "marker": {
             "colorbar": {
              "outlinewidth": 0,
              "ticks": ""
             }
            },
            "type": "scattermapbox"
           }
          ],
          "scatterpolar": [
           {
            "marker": {
             "colorbar": {
              "outlinewidth": 0,
              "ticks": ""
             }
            },
            "type": "scatterpolar"
           }
          ],
          "scatterpolargl": [
           {
            "marker": {
             "colorbar": {
              "outlinewidth": 0,
              "ticks": ""
             }
            },
            "type": "scatterpolargl"
           }
          ],
          "scatterternary": [
           {
            "marker": {
             "colorbar": {
              "outlinewidth": 0,
              "ticks": ""
             }
            },
            "type": "scatterternary"
           }
          ],
          "surface": [
           {
            "colorbar": {
             "outlinewidth": 0,
             "ticks": ""
            },
            "colorscale": [
             [
              0,
              "#0d0887"
             ],
             [
              0.1111111111111111,
              "#46039f"
             ],
             [
              0.2222222222222222,
              "#7201a8"
             ],
             [
              0.3333333333333333,
              "#9c179e"
             ],
             [
              0.4444444444444444,
              "#bd3786"
             ],
             [
              0.5555555555555556,
              "#d8576b"
             ],
             [
              0.6666666666666666,
              "#ed7953"
             ],
             [
              0.7777777777777778,
              "#fb9f3a"
             ],
             [
              0.8888888888888888,
              "#fdca26"
             ],
             [
              1,
              "#f0f921"
             ]
            ],
            "type": "surface"
           }
          ],
          "table": [
           {
            "cells": {
             "fill": {
              "color": "#EBF0F8"
             },
             "line": {
              "color": "white"
             }
            },
            "header": {
             "fill": {
              "color": "#C8D4E3"
             },
             "line": {
              "color": "white"
             }
            },
            "type": "table"
           }
          ]
         },
         "layout": {
          "annotationdefaults": {
           "arrowcolor": "#2a3f5f",
           "arrowhead": 0,
           "arrowwidth": 1
          },
          "colorscale": {
           "diverging": [
            [
             0,
             "#8e0152"
            ],
            [
             0.1,
             "#c51b7d"
            ],
            [
             0.2,
             "#de77ae"
            ],
            [
             0.3,
             "#f1b6da"
            ],
            [
             0.4,
             "#fde0ef"
            ],
            [
             0.5,
             "#f7f7f7"
            ],
            [
             0.6,
             "#e6f5d0"
            ],
            [
             0.7,
             "#b8e186"
            ],
            [
             0.8,
             "#7fbc41"
            ],
            [
             0.9,
             "#4d9221"
            ],
            [
             1,
             "#276419"
            ]
           ],
           "sequential": [
            [
             0,
             "#0d0887"
            ],
            [
             0.1111111111111111,
             "#46039f"
            ],
            [
             0.2222222222222222,
             "#7201a8"
            ],
            [
             0.3333333333333333,
             "#9c179e"
            ],
            [
             0.4444444444444444,
             "#bd3786"
            ],
            [
             0.5555555555555556,
             "#d8576b"
            ],
            [
             0.6666666666666666,
             "#ed7953"
            ],
            [
             0.7777777777777778,
             "#fb9f3a"
            ],
            [
             0.8888888888888888,
             "#fdca26"
            ],
            [
             1,
             "#f0f921"
            ]
           ],
           "sequentialminus": [
            [
             0,
             "#0d0887"
            ],
            [
             0.1111111111111111,
             "#46039f"
            ],
            [
             0.2222222222222222,
             "#7201a8"
            ],
            [
             0.3333333333333333,
             "#9c179e"
            ],
            [
             0.4444444444444444,
             "#bd3786"
            ],
            [
             0.5555555555555556,
             "#d8576b"
            ],
            [
             0.6666666666666666,
             "#ed7953"
            ],
            [
             0.7777777777777778,
             "#fb9f3a"
            ],
            [
             0.8888888888888888,
             "#fdca26"
            ],
            [
             1,
             "#f0f921"
            ]
           ]
          },
          "colorway": [
           "#636efa",
           "#EF553B",
           "#00cc96",
           "#ab63fa",
           "#FFA15A",
           "#19d3f3",
           "#FF6692",
           "#B6E880",
           "#FF97FF",
           "#FECB52"
          ],
          "font": {
           "color": "#2a3f5f"
          },
          "geo": {
           "bgcolor": "white",
           "lakecolor": "white",
           "landcolor": "#E5ECF6",
           "showlakes": true,
           "showland": true,
           "subunitcolor": "white"
          },
          "hoverlabel": {
           "align": "left"
          },
          "hovermode": "closest",
          "mapbox": {
           "style": "light"
          },
          "paper_bgcolor": "white",
          "plot_bgcolor": "#E5ECF6",
          "polar": {
           "angularaxis": {
            "gridcolor": "white",
            "linecolor": "white",
            "ticks": ""
           },
           "bgcolor": "#E5ECF6",
           "radialaxis": {
            "gridcolor": "white",
            "linecolor": "white",
            "ticks": ""
           }
          },
          "scene": {
           "xaxis": {
            "backgroundcolor": "#E5ECF6",
            "gridcolor": "white",
            "gridwidth": 2,
            "linecolor": "white",
            "showbackground": true,
            "ticks": "",
            "zerolinecolor": "white"
           },
           "yaxis": {
            "backgroundcolor": "#E5ECF6",
            "gridcolor": "white",
            "gridwidth": 2,
            "linecolor": "white",
            "showbackground": true,
            "ticks": "",
            "zerolinecolor": "white"
           },
           "zaxis": {
            "backgroundcolor": "#E5ECF6",
            "gridcolor": "white",
            "gridwidth": 2,
            "linecolor": "white",
            "showbackground": true,
            "ticks": "",
            "zerolinecolor": "white"
           }
          },
          "shapedefaults": {
           "line": {
            "color": "#2a3f5f"
           }
          },
          "ternary": {
           "aaxis": {
            "gridcolor": "white",
            "linecolor": "white",
            "ticks": ""
           },
           "baxis": {
            "gridcolor": "white",
            "linecolor": "white",
            "ticks": ""
           },
           "bgcolor": "#E5ECF6",
           "caxis": {
            "gridcolor": "white",
            "linecolor": "white",
            "ticks": ""
           }
          },
          "title": {
           "x": 0.05
          },
          "xaxis": {
           "automargin": true,
           "gridcolor": "white",
           "linecolor": "white",
           "ticks": "",
           "zerolinecolor": "white",
           "zerolinewidth": 2
          },
          "yaxis": {
           "automargin": true,
           "gridcolor": "white",
           "linecolor": "white",
           "ticks": "",
           "zerolinecolor": "white",
           "zerolinewidth": 2
          }
         }
        },
        "title": {
         "text": "Feature-based triangulation of ridge function (trisurf)"
        },
        "width": 800
       }
      },
      "text/html": [
       "<div>\n",
       "        \n",
       "        \n",
       "            <div id=\"057e2341-269e-4f7a-a237-3df0ed0a26a6\" class=\"plotly-graph-div\" style=\"height:800px; width:800px;\"></div>\n",
       "            <script type=\"text/javascript\">\n",
       "                require([\"plotly\"], function(Plotly) {\n",
       "                    window.PLOTLYENV=window.PLOTLYENV || {};\n",
       "                    \n",
       "                if (document.getElementById(\"057e2341-269e-4f7a-a237-3df0ed0a26a6\")) {\n",
       "                    Plotly.newPlot(\n",
       "                        '057e2341-269e-4f7a-a237-3df0ed0a26a6',\n",
       "                        [{\"facecolor\": [\"rgb(178, 10, 28)\", \"rgb(178, 10, 28)\", \"rgb(227, 153, 104)\", \"rgb(227, 153, 104)\", \"rgb(53, 71, 208)\", \"rgb(53, 71, 208)\", \"rgb(5, 10, 172)\", \"rgb(106, 131, 233)\", \"rgb(227, 153, 104)\", \"rgb(227, 153, 104)\", \"rgb(178, 10, 28)\", \"rgb(178, 10, 28)\", \"rgb(227, 153, 104)\", \"rgb(227, 153, 104)\", \"rgb(178, 10, 28)\", \"rgb(178, 10, 28)\", \"rgb(227, 153, 104)\", \"rgb(227, 153, 104)\", \"rgb(227, 153, 104)\", \"rgb(227, 153, 104)\", \"rgb(178, 10, 28)\", \"rgb(178, 10, 28)\", \"rgb(227, 153, 104)\", \"rgb(227, 153, 104)\", \"rgb(53, 71, 208)\", \"rgb(53, 71, 208)\", \"rgb(227, 153, 104)\", \"rgb(227, 153, 104)\", \"rgb(178, 10, 28)\", \"rgb(178, 10, 28)\", \"rgb(178, 10, 28)\", \"rgb(178, 10, 28)\", \"rgb(227, 153, 104)\", \"rgb(227, 153, 104)\", \"rgb(106, 131, 233)\", \"rgb(5, 10, 172)\", \"rgb(5, 10, 172)\", \"rgb(106, 131, 233)\", \"rgb(227, 153, 104)\", \"rgb(227, 153, 104)\", \"rgb(178, 10, 28)\", \"rgb(178, 10, 28)\", \"rgb(178, 10, 28)\", \"rgb(178, 10, 28)\", \"rgb(227, 153, 104)\", \"rgb(227, 153, 104)\", \"rgb(53, 71, 208)\", \"rgb(53, 71, 208)\", \"rgb(227, 153, 104)\", \"rgb(227, 153, 104)\", \"rgb(178, 10, 28)\", \"rgb(178, 10, 28)\", \"rgb(227, 153, 104)\", \"rgb(227, 153, 104)\", \"rgb(227, 153, 104)\", \"rgb(227, 153, 104)\", \"rgb(178, 10, 28)\", \"rgb(178, 10, 28)\", \"rgb(227, 153, 104)\", \"rgb(227, 153, 104)\", \"rgb(178, 10, 28)\", \"rgb(178, 10, 28)\", \"rgb(227, 153, 104)\", \"rgb(227, 153, 104)\", \"rgb(106, 131, 233)\", \"rgb(5, 10, 172)\", \"rgb(53, 71, 208)\", \"rgb(53, 71, 208)\", \"rgb(227, 153, 104)\", \"rgb(227, 153, 104)\", \"rgb(178, 10, 28)\", \"rgb(178, 10, 28)\"], \"i\": [0, 8, 8, 2, 9, 3, 10, 4, 4, 12, 12, 6, 14, 8, 8, 16, 16, 10, 10, 18, 18, 12, 12, 20, 21, 15, 22, 16, 16, 24, 24, 18, 18, 26, 26, 20, 28, 22, 22, 30, 30, 24, 24, 32, 32, 26, 33, 27, 28, 36, 36, 30, 30, 38, 38, 32, 32, 40, 40, 34, 42, 36, 36, 44, 44, 38, 45, 39, 46, 40, 40, 48], \"j\": [1, 7, 1, 9, 2, 10, 3, 11, 5, 11, 5, 13, 7, 15, 9, 15, 9, 17, 11, 17, 11, 19, 13, 19, 14, 22, 15, 23, 17, 23, 17, 25, 19, 25, 19, 27, 21, 29, 23, 29, 23, 31, 25, 31, 25, 33, 26, 34, 29, 35, 29, 37, 31, 37, 31, 39, 33, 39, 33, 41, 35, 43, 37, 43, 37, 45, 38, 46, 39, 47, 41, 47], \"k\": [8, 0, 2, 8, 3, 9, 4, 10, 12, 4, 6, 12, 8, 14, 16, 8, 10, 16, 18, 10, 12, 18, 20, 12, 15, 21, 16, 22, 24, 16, 18, 24, 26, 18, 20, 26, 22, 28, 30, 22, 24, 30, 32, 24, 26, 32, 27, 33, 36, 28, 30, 36, 38, 30, 32, 38, 40, 32, 34, 40, 36, 42, 44, 36, 38, 44, 39, 45, 40, 46, 48, 40], \"name\": \"\", \"type\": \"mesh3d\", \"x\": [0.0, 1.0, 2.0, 3.0, 4.0, 5.0, 6.0, 0.0, 1.0, 2.0, 3.0, 4.0, 5.0, 6.0, 0.0, 1.0, 2.0, 3.0, 4.0, 5.0, 6.0, 0.0, 1.0, 2.0, 3.0, 4.0, 5.0, 6.0, 0.0, 1.0, 2.0, 3.0, 4.0, 5.0, 6.0, 0.0, 1.0, 2.0, 3.0, 4.0, 5.0, 6.0, 0.0, 1.0, 2.0, 3.0, 4.0, 5.0, 6.0], \"y\": [0.0, 0.0, 0.0, 0.0, 0.0, 0.0, 0.0, 1.0, 1.0, 1.0, 1.0, 1.0, 1.0, 1.0, 2.0, 2.0, 2.0, 2.0, 2.0, 2.0, 2.0, 3.0, 3.0, 3.0, 3.0, 3.0, 3.0, 3.0, 4.0, 4.0, 4.0, 4.0, 4.0, 4.0, 4.0, 5.0, 5.0, 5.0, 5.0, 5.0, 5.0, 5.0, 6.0, 6.0, 6.0, 6.0, 6.0, 6.0, 6.0], \"z\": [0.0, -0.25, -0.5, -0.75, -0.5, -0.25, 0.0, -0.25, 0.0, -0.25, -0.5, -0.25, 0.0, -0.25, -0.5, -0.25, 0.0, -0.25, 0.0, -0.25, -0.5, -0.75, -0.5, -0.25, -0.0, -0.25, -0.5, -0.75, -0.5, -0.25, 0.0, -0.25, 0.0, -0.25, -0.5, -0.25, 0.0, -0.25, -0.5, -0.25, 0.0, -0.25, 0.0, -0.25, -0.5, -0.75, -0.5, -0.25, 0.0]}, {\"line\": {\"color\": \"rgb(50, 50, 50)\", \"width\": 1.5}, \"mode\": \"lines\", \"showlegend\": false, \"type\": \"scatter3d\", \"x\": [0.0, 1.0, 1.0, 0.0, null, 1.0, 0.0, 0.0, 1.0, null, 1.0, 1.0, 2.0, 1.0, null, 2.0, 2.0, 1.0, 2.0, null, 2.0, 2.0, 3.0, 2.0, null, 3.0, 3.0, 2.0, 3.0, null, 3.0, 3.0, 4.0, 3.0, null, 4.0, 4.0, 3.0, 4.0, null, 4.0, 5.0, 5.0, 4.0, null, 5.0, 4.0, 4.0, 5.0, null, 5.0, 5.0, 6.0, 5.0, null, 6.0, 6.0, 5.0, 6.0, null, 0.0, 0.0, 1.0, 0.0, null, 1.0, 1.0, 0.0, 1.0, null, 1.0, 2.0, 2.0, 1.0, null, 2.0, 1.0, 1.0, 2.0, null, 2.0, 2.0, 3.0, 2.0, null, 3.0, 3.0, 2.0, 3.0, null, 3.0, 4.0, 4.0, 3.0, null, 4.0, 3.0, 3.0, 4.0, null, 4.0, 4.0, 5.0, 4.0, null, 5.0, 5.0, 4.0, 5.0, null, 5.0, 6.0, 6.0, 5.0, null, 6.0, 5.0, 5.0, 6.0, null, 0.0, 0.0, 1.0, 0.0, null, 1.0, 1.0, 0.0, 1.0, null, 1.0, 1.0, 2.0, 1.0, null, 2.0, 2.0, 1.0, 2.0, null, 2.0, 3.0, 3.0, 2.0, null, 3.0, 2.0, 2.0, 3.0, null, 3.0, 3.0, 4.0, 3.0, null, 4.0, 4.0, 3.0, 4.0, null, 4.0, 5.0, 5.0, 4.0, null, 5.0, 4.0, 4.0, 5.0, null, 5.0, 5.0, 6.0, 5.0, null, 6.0, 6.0, 5.0, 6.0, null, 0.0, 0.0, 1.0, 0.0, null, 1.0, 1.0, 0.0, 1.0, null, 1.0, 2.0, 2.0, 1.0, null, 2.0, 1.0, 1.0, 2.0, null, 2.0, 2.0, 3.0, 2.0, null, 3.0, 3.0, 2.0, 3.0, null, 3.0, 4.0, 4.0, 3.0, null, 4.0, 3.0, 3.0, 4.0, null, 4.0, 4.0, 5.0, 4.0, null, 5.0, 5.0, 4.0, 5.0, null, 5.0, 5.0, 6.0, 5.0, null, 6.0, 6.0, 5.0, 6.0, null, 0.0, 1.0, 1.0, 0.0, null, 1.0, 0.0, 0.0, 1.0, null, 1.0, 1.0, 2.0, 1.0, null, 2.0, 2.0, 1.0, 2.0, null, 2.0, 3.0, 3.0, 2.0, null, 3.0, 2.0, 2.0, 3.0, null, 3.0, 3.0, 4.0, 3.0, null, 4.0, 4.0, 3.0, 4.0, null, 4.0, 5.0, 5.0, 4.0, null, 5.0, 4.0, 4.0, 5.0, null, 5.0, 5.0, 6.0, 5.0, null, 6.0, 6.0, 5.0, 6.0, null, 0.0, 0.0, 1.0, 0.0, null, 1.0, 1.0, 0.0, 1.0, null, 1.0, 2.0, 2.0, 1.0, null, 2.0, 1.0, 1.0, 2.0, null, 2.0, 2.0, 3.0, 2.0, null, 3.0, 3.0, 2.0, 3.0, null, 3.0, 3.0, 4.0, 3.0, null, 4.0, 4.0, 3.0, 4.0, null, 4.0, 4.0, 5.0, 4.0, null, 5.0, 5.0, 4.0, 5.0, null, 5.0, 6.0, 6.0, 5.0, null, 6.0, 5.0, 5.0, 6.0, null], \"y\": [0.0, 0.0, 1.0, 0.0, null, 1.0, 1.0, 0.0, 1.0, null, 1.0, 0.0, 0.0, 1.0, null, 0.0, 1.0, 1.0, 0.0, null, 1.0, 0.0, 0.0, 1.0, null, 0.0, 1.0, 1.0, 0.0, null, 1.0, 0.0, 0.0, 1.0, null, 0.0, 1.0, 1.0, 0.0, null, 0.0, 0.0, 1.0, 0.0, null, 1.0, 1.0, 0.0, 1.0, null, 1.0, 0.0, 0.0, 1.0, null, 0.0, 1.0, 1.0, 0.0, null, 2.0, 1.0, 1.0, 2.0, null, 1.0, 2.0, 2.0, 1.0, null, 1.0, 1.0, 2.0, 1.0, null, 2.0, 2.0, 1.0, 2.0, null, 2.0, 1.0, 1.0, 2.0, null, 1.0, 2.0, 2.0, 1.0, null, 1.0, 1.0, 2.0, 1.0, null, 2.0, 2.0, 1.0, 2.0, null, 2.0, 1.0, 1.0, 2.0, null, 1.0, 2.0, 2.0, 1.0, null, 1.0, 1.0, 2.0, 1.0, null, 2.0, 2.0, 1.0, 2.0, null, 3.0, 2.0, 2.0, 3.0, null, 2.0, 3.0, 3.0, 2.0, null, 3.0, 2.0, 2.0, 3.0, null, 2.0, 3.0, 3.0, 2.0, null, 2.0, 2.0, 3.0, 2.0, null, 3.0, 3.0, 2.0, 3.0, null, 3.0, 2.0, 2.0, 3.0, null, 2.0, 3.0, 3.0, 2.0, null, 2.0, 2.0, 3.0, 2.0, null, 3.0, 3.0, 2.0, 3.0, null, 3.0, 2.0, 2.0, 3.0, null, 2.0, 3.0, 3.0, 2.0, null, 4.0, 3.0, 3.0, 4.0, null, 3.0, 4.0, 4.0, 3.0, null, 3.0, 3.0, 4.0, 3.0, null, 4.0, 4.0, 3.0, 4.0, null, 4.0, 3.0, 3.0, 4.0, null, 3.0, 4.0, 4.0, 3.0, null, 3.0, 3.0, 4.0, 3.0, null, 4.0, 4.0, 3.0, 4.0, null, 4.0, 3.0, 3.0, 4.0, null, 3.0, 4.0, 4.0, 3.0, null, 4.0, 3.0, 3.0, 4.0, null, 3.0, 4.0, 4.0, 3.0, null, 4.0, 4.0, 5.0, 4.0, null, 5.0, 5.0, 4.0, 5.0, null, 5.0, 4.0, 4.0, 5.0, null, 4.0, 5.0, 5.0, 4.0, null, 4.0, 4.0, 5.0, 4.0, null, 5.0, 5.0, 4.0, 5.0, null, 5.0, 4.0, 4.0, 5.0, null, 4.0, 5.0, 5.0, 4.0, null, 4.0, 4.0, 5.0, 4.0, null, 5.0, 5.0, 4.0, 5.0, null, 5.0, 4.0, 4.0, 5.0, null, 4.0, 5.0, 5.0, 4.0, null, 6.0, 5.0, 5.0, 6.0, null, 5.0, 6.0, 6.0, 5.0, null, 5.0, 5.0, 6.0, 5.0, null, 6.0, 6.0, 5.0, 6.0, null, 6.0, 5.0, 5.0, 6.0, null, 5.0, 6.0, 6.0, 5.0, null, 6.0, 5.0, 5.0, 6.0, null, 5.0, 6.0, 6.0, 5.0, null, 6.0, 5.0, 5.0, 6.0, null, 5.0, 6.0, 6.0, 5.0, null, 5.0, 5.0, 6.0, 5.0, null, 6.0, 6.0, 5.0, 6.0, null], \"z\": [0.0, -0.25, 0.0, 0.0, null, 0.0, -0.25, 0.0, 0.0, null, 0.0, -0.25, -0.5, 0.0, null, -0.5, -0.25, 0.0, -0.5, null, -0.25, -0.5, -0.75, -0.25, null, -0.75, -0.5, -0.25, -0.75, null, -0.5, -0.75, -0.5, -0.5, null, -0.5, -0.25, -0.5, -0.5, null, -0.5, -0.25, 0.0, -0.5, null, 0.0, -0.25, -0.5, 0.0, null, 0.0, -0.25, 0.0, 0.0, null, 0.0, -0.25, 0.0, 0.0, null, -0.5, -0.25, 0.0, -0.5, null, 0.0, -0.25, -0.5, 0.0, null, 0.0, -0.25, 0.0, 0.0, null, 0.0, -0.25, 0.0, 0.0, null, 0.0, -0.25, -0.5, 0.0, null, -0.5, -0.25, 0.0, -0.5, null, -0.5, -0.25, 0.0, -0.5, null, 0.0, -0.25, -0.5, 0.0, null, 0.0, -0.25, 0.0, 0.0, null, 0.0, -0.25, 0.0, 0.0, null, 0.0, -0.25, -0.5, 0.0, null, -0.5, -0.25, 0.0, -0.5, null, -0.75, -0.5, -0.25, -0.75, null, -0.25, -0.5, -0.75, -0.25, null, -0.5, -0.25, 0.0, -0.5, null, 0.0, -0.25, -0.5, 0.0, null, 0.0, -0.25, -0.0, 0.0, null, -0.0, -0.25, 0.0, -0.0, null, -0.0, -0.25, 0.0, -0.0, null, 0.0, -0.25, -0.0, 0.0, null, 0.0, -0.25, -0.5, 0.0, null, -0.5, -0.25, 0.0, -0.5, null, -0.5, -0.25, -0.5, -0.5, null, -0.5, -0.75, -0.5, -0.5, null, -0.5, -0.75, -0.5, -0.5, null, -0.5, -0.25, -0.5, -0.5, null, -0.5, -0.25, 0.0, -0.5, null, 0.0, -0.25, -0.5, 0.0, null, 0.0, -0.25, -0.0, 0.0, null, -0.0, -0.25, 0.0, -0.0, null, -0.0, -0.25, 0.0, -0.0, null, 0.0, -0.25, -0.0, 0.0, null, 0.0, -0.25, -0.5, 0.0, null, -0.5, -0.25, 0.0, -0.5, null, -0.25, -0.5, -0.75, -0.25, null, -0.75, -0.5, -0.25, -0.75, null, -0.5, -0.25, 0.0, -0.5, null, 0.0, -0.25, -0.5, 0.0, null, 0.0, -0.25, 0.0, 0.0, null, 0.0, -0.25, 0.0, 0.0, null, 0.0, -0.25, -0.5, 0.0, null, -0.5, -0.25, 0.0, -0.5, null, -0.5, -0.25, 0.0, -0.5, null, 0.0, -0.25, -0.5, 0.0, null, 0.0, -0.25, 0.0, 0.0, null, 0.0, -0.25, 0.0, 0.0, null, 0.0, -0.25, -0.5, 0.0, null, -0.5, -0.25, 0.0, -0.5, null, 0.0, -0.25, 0.0, 0.0, null, 0.0, -0.25, 0.0, 0.0, null, 0.0, -0.25, -0.5, 0.0, null, -0.5, -0.25, 0.0, -0.5, null, -0.5, -0.25, -0.5, -0.5, null, -0.5, -0.75, -0.5, -0.5, null, -0.75, -0.5, -0.25, -0.75, null, -0.25, -0.5, -0.75, -0.25, null, -0.5, -0.25, 0.0, -0.5, null, 0.0, -0.25, -0.5, 0.0, null, 0.0, -0.25, 0.0, 0.0, null, 0.0, -0.25, 0.0, 0.0, null]}, {\"hoverinfo\": \"none\", \"marker\": {\"color\": [-0.5833333333333334, -0.08333333333333333], \"colorscale\": [[0.0, \"rgb(5, 10, 172)\"], [0.1, \"rgb(34, 46, 193)\"], [0.2, \"rgb(63, 83, 215)\"], [0.30000000000000004, \"rgb(92, 119, 236)\"], [0.4, \"rgb(134, 155, 228)\"], [0.5, \"rgb(190, 190, 190)\"], [0.6000000000000001, \"rgb(220, 170, 132)\"], [0.7000000000000001, \"rgb(230, 145, 90)\"], [0.8, \"rgb(213, 100, 69)\"], [0.9, \"rgb(195, 55, 49)\"], [1.0, \"rgb(178, 10, 28)\"]], \"showscale\": true, \"size\": 0.1}, \"mode\": \"markers\", \"showlegend\": false, \"type\": \"scatter3d\", \"x\": [0.0], \"y\": [0.0], \"z\": [0.0]}],\n",
       "                        {\"height\": 800, \"scene\": {\"aspectratio\": {\"x\": 1, \"y\": 1, \"z\": 0.1}, \"camera\": {}, \"xaxis\": {\"backgroundcolor\": \"rgb(230, 230, 230)\", \"gridcolor\": \"rgb(255, 255, 255)\", \"showbackground\": true, \"zerolinecolor\": \"rgb(255, 255, 255)\"}, \"yaxis\": {\"backgroundcolor\": \"rgb(230, 230, 230)\", \"gridcolor\": \"rgb(255, 255, 255)\", \"showbackground\": true, \"zerolinecolor\": \"rgb(255, 255, 255)\"}, \"zaxis\": {\"backgroundcolor\": \"rgb(230, 230, 230)\", \"gridcolor\": \"rgb(255, 255, 255)\", \"showbackground\": true, \"zerolinecolor\": \"rgb(255, 255, 255)\"}}, \"template\": {\"data\": {\"bar\": [{\"error_x\": {\"color\": \"#2a3f5f\"}, \"error_y\": {\"color\": \"#2a3f5f\"}, \"marker\": {\"line\": {\"color\": \"#E5ECF6\", \"width\": 0.5}}, \"type\": \"bar\"}], \"barpolar\": [{\"marker\": {\"line\": {\"color\": \"#E5ECF6\", \"width\": 0.5}}, \"type\": \"barpolar\"}], \"carpet\": [{\"aaxis\": {\"endlinecolor\": \"#2a3f5f\", \"gridcolor\": \"white\", \"linecolor\": \"white\", \"minorgridcolor\": \"white\", \"startlinecolor\": \"#2a3f5f\"}, \"baxis\": {\"endlinecolor\": \"#2a3f5f\", \"gridcolor\": \"white\", \"linecolor\": \"white\", \"minorgridcolor\": \"white\", \"startlinecolor\": \"#2a3f5f\"}, \"type\": \"carpet\"}], \"choropleth\": [{\"colorbar\": {\"outlinewidth\": 0, \"ticks\": \"\"}, \"type\": \"choropleth\"}], \"contour\": [{\"colorbar\": {\"outlinewidth\": 0, \"ticks\": \"\"}, \"colorscale\": [[0.0, \"#0d0887\"], [0.1111111111111111, \"#46039f\"], [0.2222222222222222, \"#7201a8\"], [0.3333333333333333, \"#9c179e\"], [0.4444444444444444, \"#bd3786\"], [0.5555555555555556, \"#d8576b\"], [0.6666666666666666, \"#ed7953\"], [0.7777777777777778, \"#fb9f3a\"], [0.8888888888888888, \"#fdca26\"], [1.0, \"#f0f921\"]], \"type\": \"contour\"}], \"contourcarpet\": [{\"colorbar\": {\"outlinewidth\": 0, \"ticks\": \"\"}, \"type\": \"contourcarpet\"}], \"heatmap\": [{\"colorbar\": {\"outlinewidth\": 0, \"ticks\": \"\"}, \"colorscale\": [[0.0, \"#0d0887\"], [0.1111111111111111, \"#46039f\"], [0.2222222222222222, \"#7201a8\"], [0.3333333333333333, \"#9c179e\"], [0.4444444444444444, \"#bd3786\"], [0.5555555555555556, \"#d8576b\"], [0.6666666666666666, \"#ed7953\"], [0.7777777777777778, \"#fb9f3a\"], [0.8888888888888888, \"#fdca26\"], [1.0, \"#f0f921\"]], \"type\": \"heatmap\"}], \"heatmapgl\": [{\"colorbar\": {\"outlinewidth\": 0, \"ticks\": \"\"}, \"colorscale\": [[0.0, \"#0d0887\"], [0.1111111111111111, \"#46039f\"], [0.2222222222222222, \"#7201a8\"], [0.3333333333333333, \"#9c179e\"], [0.4444444444444444, \"#bd3786\"], [0.5555555555555556, \"#d8576b\"], [0.6666666666666666, \"#ed7953\"], [0.7777777777777778, \"#fb9f3a\"], [0.8888888888888888, \"#fdca26\"], [1.0, \"#f0f921\"]], \"type\": \"heatmapgl\"}], \"histogram\": [{\"marker\": {\"colorbar\": {\"outlinewidth\": 0, \"ticks\": \"\"}}, \"type\": \"histogram\"}], \"histogram2d\": [{\"colorbar\": {\"outlinewidth\": 0, \"ticks\": \"\"}, \"colorscale\": [[0.0, \"#0d0887\"], [0.1111111111111111, \"#46039f\"], [0.2222222222222222, \"#7201a8\"], [0.3333333333333333, \"#9c179e\"], [0.4444444444444444, \"#bd3786\"], [0.5555555555555556, \"#d8576b\"], [0.6666666666666666, \"#ed7953\"], [0.7777777777777778, \"#fb9f3a\"], [0.8888888888888888, \"#fdca26\"], [1.0, \"#f0f921\"]], \"type\": \"histogram2d\"}], \"histogram2dcontour\": [{\"colorbar\": {\"outlinewidth\": 0, \"ticks\": \"\"}, \"colorscale\": [[0.0, \"#0d0887\"], [0.1111111111111111, \"#46039f\"], [0.2222222222222222, \"#7201a8\"], [0.3333333333333333, \"#9c179e\"], [0.4444444444444444, \"#bd3786\"], [0.5555555555555556, \"#d8576b\"], [0.6666666666666666, \"#ed7953\"], [0.7777777777777778, \"#fb9f3a\"], [0.8888888888888888, \"#fdca26\"], [1.0, \"#f0f921\"]], \"type\": \"histogram2dcontour\"}], \"mesh3d\": [{\"colorbar\": {\"outlinewidth\": 0, \"ticks\": \"\"}, \"type\": \"mesh3d\"}], \"parcoords\": [{\"line\": {\"colorbar\": {\"outlinewidth\": 0, \"ticks\": \"\"}}, \"type\": \"parcoords\"}], \"scatter\": [{\"marker\": {\"colorbar\": {\"outlinewidth\": 0, \"ticks\": \"\"}}, \"type\": \"scatter\"}], \"scatter3d\": [{\"line\": {\"colorbar\": {\"outlinewidth\": 0, \"ticks\": \"\"}}, \"marker\": {\"colorbar\": {\"outlinewidth\": 0, \"ticks\": \"\"}}, \"type\": \"scatter3d\"}], \"scattercarpet\": [{\"marker\": {\"colorbar\": {\"outlinewidth\": 0, \"ticks\": \"\"}}, \"type\": \"scattercarpet\"}], \"scattergeo\": [{\"marker\": {\"colorbar\": {\"outlinewidth\": 0, \"ticks\": \"\"}}, \"type\": \"scattergeo\"}], \"scattergl\": [{\"marker\": {\"colorbar\": {\"outlinewidth\": 0, \"ticks\": \"\"}}, \"type\": \"scattergl\"}], \"scattermapbox\": [{\"marker\": {\"colorbar\": {\"outlinewidth\": 0, \"ticks\": \"\"}}, \"type\": \"scattermapbox\"}], \"scatterpolar\": [{\"marker\": {\"colorbar\": {\"outlinewidth\": 0, \"ticks\": \"\"}}, \"type\": \"scatterpolar\"}], \"scatterpolargl\": [{\"marker\": {\"colorbar\": {\"outlinewidth\": 0, \"ticks\": \"\"}}, \"type\": \"scatterpolargl\"}], \"scatterternary\": [{\"marker\": {\"colorbar\": {\"outlinewidth\": 0, \"ticks\": \"\"}}, \"type\": \"scatterternary\"}], \"surface\": [{\"colorbar\": {\"outlinewidth\": 0, \"ticks\": \"\"}, \"colorscale\": [[0.0, \"#0d0887\"], [0.1111111111111111, \"#46039f\"], [0.2222222222222222, \"#7201a8\"], [0.3333333333333333, \"#9c179e\"], [0.4444444444444444, \"#bd3786\"], [0.5555555555555556, \"#d8576b\"], [0.6666666666666666, \"#ed7953\"], [0.7777777777777778, \"#fb9f3a\"], [0.8888888888888888, \"#fdca26\"], [1.0, \"#f0f921\"]], \"type\": \"surface\"}], \"table\": [{\"cells\": {\"fill\": {\"color\": \"#EBF0F8\"}, \"line\": {\"color\": \"white\"}}, \"header\": {\"fill\": {\"color\": \"#C8D4E3\"}, \"line\": {\"color\": \"white\"}}, \"type\": \"table\"}]}, \"layout\": {\"annotationdefaults\": {\"arrowcolor\": \"#2a3f5f\", \"arrowhead\": 0, \"arrowwidth\": 1}, \"colorscale\": {\"diverging\": [[0, \"#8e0152\"], [0.1, \"#c51b7d\"], [0.2, \"#de77ae\"], [0.3, \"#f1b6da\"], [0.4, \"#fde0ef\"], [0.5, \"#f7f7f7\"], [0.6, \"#e6f5d0\"], [0.7, \"#b8e186\"], [0.8, \"#7fbc41\"], [0.9, \"#4d9221\"], [1, \"#276419\"]], \"sequential\": [[0.0, \"#0d0887\"], [0.1111111111111111, \"#46039f\"], [0.2222222222222222, \"#7201a8\"], [0.3333333333333333, \"#9c179e\"], [0.4444444444444444, \"#bd3786\"], [0.5555555555555556, \"#d8576b\"], [0.6666666666666666, \"#ed7953\"], [0.7777777777777778, \"#fb9f3a\"], [0.8888888888888888, \"#fdca26\"], [1.0, \"#f0f921\"]], \"sequentialminus\": [[0.0, \"#0d0887\"], [0.1111111111111111, \"#46039f\"], [0.2222222222222222, \"#7201a8\"], [0.3333333333333333, \"#9c179e\"], [0.4444444444444444, \"#bd3786\"], [0.5555555555555556, \"#d8576b\"], [0.6666666666666666, \"#ed7953\"], [0.7777777777777778, \"#fb9f3a\"], [0.8888888888888888, \"#fdca26\"], [1.0, \"#f0f921\"]]}, \"colorway\": [\"#636efa\", \"#EF553B\", \"#00cc96\", \"#ab63fa\", \"#FFA15A\", \"#19d3f3\", \"#FF6692\", \"#B6E880\", \"#FF97FF\", \"#FECB52\"], \"font\": {\"color\": \"#2a3f5f\"}, \"geo\": {\"bgcolor\": \"white\", \"lakecolor\": \"white\", \"landcolor\": \"#E5ECF6\", \"showlakes\": true, \"showland\": true, \"subunitcolor\": \"white\"}, \"hoverlabel\": {\"align\": \"left\"}, \"hovermode\": \"closest\", \"mapbox\": {\"style\": \"light\"}, \"paper_bgcolor\": \"white\", \"plot_bgcolor\": \"#E5ECF6\", \"polar\": {\"angularaxis\": {\"gridcolor\": \"white\", \"linecolor\": \"white\", \"ticks\": \"\"}, \"bgcolor\": \"#E5ECF6\", \"radialaxis\": {\"gridcolor\": \"white\", \"linecolor\": \"white\", \"ticks\": \"\"}}, \"scene\": {\"xaxis\": {\"backgroundcolor\": \"#E5ECF6\", \"gridcolor\": \"white\", \"gridwidth\": 2, \"linecolor\": \"white\", \"showbackground\": true, \"ticks\": \"\", \"zerolinecolor\": \"white\"}, \"yaxis\": {\"backgroundcolor\": \"#E5ECF6\", \"gridcolor\": \"white\", \"gridwidth\": 2, \"linecolor\": \"white\", \"showbackground\": true, \"ticks\": \"\", \"zerolinecolor\": \"white\"}, \"zaxis\": {\"backgroundcolor\": \"#E5ECF6\", \"gridcolor\": \"white\", \"gridwidth\": 2, \"linecolor\": \"white\", \"showbackground\": true, \"ticks\": \"\", \"zerolinecolor\": \"white\"}}, \"shapedefaults\": {\"line\": {\"color\": \"#2a3f5f\"}}, \"ternary\": {\"aaxis\": {\"gridcolor\": \"white\", \"linecolor\": \"white\", \"ticks\": \"\"}, \"baxis\": {\"gridcolor\": \"white\", \"linecolor\": \"white\", \"ticks\": \"\"}, \"bgcolor\": \"#E5ECF6\", \"caxis\": {\"gridcolor\": \"white\", \"linecolor\": \"white\", \"ticks\": \"\"}}, \"title\": {\"x\": 0.05}, \"xaxis\": {\"automargin\": true, \"gridcolor\": \"white\", \"linecolor\": \"white\", \"ticks\": \"\", \"zerolinecolor\": \"white\", \"zerolinewidth\": 2}, \"yaxis\": {\"automargin\": true, \"gridcolor\": \"white\", \"linecolor\": \"white\", \"ticks\": \"\", \"zerolinecolor\": \"white\", \"zerolinewidth\": 2}}}, \"title\": {\"text\": \"Feature-based triangulation of ridge function (trisurf)\"}, \"width\": 800},\n",
       "                        {\"responsive\": true}\n",
       "                    ).then(function(){\n",
       "                            \n",
       "var gd = document.getElementById('057e2341-269e-4f7a-a237-3df0ed0a26a6');\n",
       "var x = new MutationObserver(function (mutations, observer) {{\n",
       "        var display = window.getComputedStyle(gd).display;\n",
       "        if (!display || display === 'none') {{\n",
       "            console.log([gd, 'removed!']);\n",
       "            Plotly.purge(gd);\n",
       "            observer.disconnect();\n",
       "        }}\n",
       "}});\n",
       "\n",
       "// Listen for the removal of the full notebook cells\n",
       "var notebookContainer = gd.closest('#notebook-container');\n",
       "if (notebookContainer) {{\n",
       "    x.observe(notebookContainer, {childList: true});\n",
       "}}\n",
       "\n",
       "// Listen for the clearing of the current output cell\n",
       "var outputEl = gd.closest('.output');\n",
       "if (outputEl) {{\n",
       "    x.observe(outputEl, {childList: true});\n",
       "}}\n",
       "\n",
       "                        })\n",
       "                };\n",
       "                });\n",
       "            </script>\n",
       "        </div>"
      ]
     },
     "metadata": {},
     "output_type": "display_data"
    }
   ],
   "source": [
    "def test_plot_trisurf():\n",
    "    \"\"\" Test plot_trimesh() \"\"\"\n",
    "    \n",
    "    # Feature-based plots of test function\n",
    "    verts, tris = make_trimesh_fixed(DEMS[\"ridge\"], diagonal=\"ul_lr\")\n",
    "    title = \"ul_lr triangulation of ridge function (trisurf)\"\n",
    "    fig = plot_trisurf(verts, tris, title)\n",
    "    fig.show()\n",
    "    \n",
    "    verts, tris = make_trimesh_fixed(DEMS[\"ridge\"], diagonal=\"ll_ur\")\n",
    "    title = \"ll_ur triangulation of ridge function (trisurf)\"\n",
    "    fig = plot_trisurf(verts, tris, title)\n",
    "    fig.show()\n",
    "    \n",
    "    verts, tris = make_trimesh_feature(DEMS[\"ridge\"])\n",
    "    title = \"Feature-based triangulation of ridge function (trisurf)\"\n",
    "    fig = plot_trisurf(verts, tris, title)\n",
    "    fig.show()\n",
    "    \n",
    "test_plot_trisurf()"
   ]
  },
  {
   "cell_type": "markdown",
   "metadata": {},
   "source": [
    "## Answer peer-graded question 1 (4 points)\n",
    "\n",
    "**Examine the plots of the three triangulations for ridge function generated in `test_plot_trisurf()`. Does the feature-based triangulation method do a better job of reproducing the function associated with the original data? (2 pts)? Is one of the fixed triangulations better than the other (2 pts)?**\n",
    "\n",
    "Yes, the feature-based triangulation method did a better job. The graph is more complete and smooth by choosing the best diagonal for each quad.  \n",
    "\n",
    "I think the it has no big difference between the two fixed triangulations graphs. The data is simple and the graph are basically the same expect the direction of ridges. \n"
   ]
  },
  {
   "cell_type": "code",
   "execution_count": 96,
   "metadata": {
    "collapsed": true,
    "tags": [
     "notebook_only"
    ]
   },
   "outputs": [],
   "source": [
    "def plot_canyon_meshes():\n",
    "    \"\"\" Plot a close up of the Grand Canyon DEM on a specific ridge \"\"\"\n",
    "    \n",
    "    # Comparision of region in Grand Canyon with specified camera position\n",
    "    camera = dict(up=dict(x=0, y=0, z=1),\n",
    "                  center=dict(x=0, y=0, z=0),\n",
    "                  eye=dict(x=0.5, y=-0.4, z=0.1))\n",
    "\n",
    "    verts, tris = make_trimesh_fixed(DEMS[\"region\"], diagonal=\"ul_lr\")\n",
    "    title = \"Close up of ul_lr triangulation of ridge region (trisurf)\"\n",
    "    fig = plot_trisurf(verts, tris, title, camera=camera)\n",
    "    fig.write_html(PLOTS_PATH + title + \".html\")\n",
    "\n",
    "    verts, tris = make_trimesh_fixed(DEMS[\"region\"], diagonal=\"ll_ur\")\n",
    "    title = \"Close up of ll_ur triangulation of ridge region (trisurf)\"\n",
    "    fig = plot_trisurf(verts, tris, title, camera=camera)\n",
    "    fig.write_html(PLOTS_PATH + title + \".html\")\n",
    "  \n",
    "    verts, tris = make_trimesh_feature(DEMS[\"region\"])\n",
    "    title = \"Close-up of feature-based triangulation of ridge region (trisurf)\"\n",
    "    fig = plot_trisurf(verts, tris, title, camera=camera)\n",
    "    fig.write_html(PLOTS_PATH + title + \".html\")\n",
    "    \n",
    "    title = \"Global view of feature-based triangulation of region (Mesh3D)\"\n",
    "    fig = plot_mesh3d(verts, tris, title)\n",
    "    fig.write_html(PLOTS_PATH + title + \".html\")\n",
    "    \n",
    "plot_canyon_meshes()"
   ]
  },
  {
   "cell_type": "markdown",
   "metadata": {},
   "source": [
    "## Links to the 4 triangular meshes produced by `plot_canyon_meshes()`\n",
    "\n",
    "* [Close up of ul_lr triangulation of ridge region (trisurf)](plots/Close%20up%20of%20ul_lr%20triangulation%20of%20ridge%20region%20%28trisurf%29.html)\n",
    "* [Close up of ll_ur triangulation of ridge region (trisurf)](plots/Close%20up%20of%20ll_ur%20triangulation%20of%20ridge%20region%20%28trisurf%29.html)\n",
    "* [Close-up of feature-based triangulation of ridge region (trisurf)](plots/Close-up%20of%20feature-based%20triangulation%20of%20ridge%20region%20%28trisurf%29.html)\n",
    "* [Global view of feature-based triangulation of region (Mesh3D)](plots/Global%20view%20of%20feature-based%20triangulation%20of%20region%20%28Mesh3D%29.html)"
   ]
  },
  {
   "cell_type": "markdown",
   "metadata": {},
   "source": [
    "## Answer peer-graded question 2 (4 points)\n",
    "\n",
    "**Examine the closeups of the first three triangulations computed in `plot_canyon_meshes()`. Which triangulation does the worst job of reproducing the ridge shown at this camera position (2 pts)? Between the two remaining methods, which method is preferrable? (2 pts)**\n",
    "\n",
    "At this camera position, the ll lr triangulation is the worst. The ridge is the most obvious one from all the graphs.\n",
    "The feature-based triangulation is preferrable, the graph is smoother than another graph.\n"
   ]
  },
  {
   "cell_type": "code",
   "execution_count": 17,
   "metadata": {
    "collapsed": true
   },
   "outputs": [],
   "source": [
    "# #Throws an error in create_trisurf()\n",
    "# print(DEMS[\"error\"])\n",
    "# verts, tris = make_trimesh_fixed(DEMS[\"error\"], diagonal=\"ul_lr\")\n",
    "# plot_trisurf(verts, tris, title=\"Fixed triangulation of error examples\")"
   ]
  }
 ],
 "metadata": {
  "celltoolbar": "Tags",
  "kernelspec": {
   "display_name": "Python 3 [3.6]",
   "language": "python",
   "name": "python3"
  },
  "language_info": {
   "codemirror_mode": {
    "name": "ipython",
    "version": 3
   },
   "file_extension": ".py",
   "mimetype": "text/x-python",
   "name": "python",
   "nbconvert_exporter": "python",
   "pygments_lexer": "ipython3",
   "version": "3.6.4"
  }
 },
 "nbformat": 4,
 "nbformat_minor": 2
}
